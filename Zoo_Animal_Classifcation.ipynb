{
  "nbformat": 4,
  "nbformat_minor": 0,
  "metadata": {
    "colab": {
      "provenance": [],
      "authorship_tag": "ABX9TyPmRz/b3EEs9xqLmh4FfbSo",
      "include_colab_link": true
    },
    "kernelspec": {
      "name": "python3",
      "display_name": "Python 3"
    },
    "language_info": {
      "name": "python"
    }
  },
  "cells": [
    {
      "cell_type": "markdown",
      "metadata": {
        "id": "view-in-github",
        "colab_type": "text"
      },
      "source": [
        "<a href=\"https://colab.research.google.com/github/princeKike27/Zoo-Animal-Classification/blob/main/Zoo_Animal_Classifcation.ipynb\" target=\"_parent\"><img src=\"https://colab.research.google.com/assets/colab-badge.svg\" alt=\"Open In Colab\"/></a>"
      ]
    },
    {
      "cell_type": "markdown",
      "source": [
        "# Zoo Animal Classification\n",
        "\n",
        "- Using NumPy I'm going to build a Neural Network that classifies animals from the Sao Paulo Zoo"
      ],
      "metadata": {
        "id": "d2x-T8JPSUE-"
      }
    },
    {
      "cell_type": "markdown",
      "source": [
        "![green-divider](https://user-images.githubusercontent.com/7065401/52071924-c003ad80-2562-11e9-8297-1c6595f8a7ff.png)"
      ],
      "metadata": {
        "id": "Y3AhR8XtUBQd"
      }
    },
    {
      "cell_type": "markdown",
      "source": [
        "## Zoo Data\n",
        "\n",
        "- The Features that are going to be used in the model are the following:\n",
        "  - *hair* ⟶ 1 if the animal has hair\n",
        "  - *feathers* ⟶ 1 if the animal has feathers\n",
        "  - *eggs* ⟶ 1 if the animal lays eggs\n",
        "  - *milk* ⟶ 1 if the animal feeds milk to its offspring\n",
        "  - *airborne* ⟶ 1 if the animal flies\n",
        "  - *aquatic* ⟶ 1 if the animal lives in water\n",
        "  - *predator* ⟶ 1 if the animal hunts other animals\n",
        "  - *toothed* ⟶ 1 if the animal has teeth\n",
        "  - *backbone* ⟶ 1 if the animal has bones\n",
        "  - *breathes* ⟶ 1 if the animal breathes\n",
        "  - *venomous* ⟶ 1 if the animal is poisonous\n",
        "  - *fins* ⟶ 1 if the animal has fins\n",
        "  - *legs* ⟶ number of legs\n",
        "  - *tail* ⟶ 1 if the animal has a tail\n",
        "  - *domestic* ⟶ 1 if it is a domestic animal\n",
        "  - *catsize* ⟶ 1 if the animal size is bigger than a cat\n",
        "\n"
      ],
      "metadata": {
        "id": "kLPuJ6gKUBm_"
      }
    },
    {
      "cell_type": "code",
      "source": [
        "# import modules\n",
        "import numpy as np\n",
        "import pandas as pd\n",
        "import matplotlib.pyplot as plt\n",
        "import seaborn as sns\n",
        "\n",
        "# set plot style\n",
        "sns.set()"
      ],
      "metadata": {
        "id": "jIdPiXl5UITE"
      },
      "execution_count": 1,
      "outputs": []
    },
    {
      "cell_type": "code",
      "source": [
        "# load dataset\n",
        "zoo_df = pd.read_csv('https://raw.githubusercontent.com/princeKike27/Zoo-Animal-Classification/main/zoo.csv', sep=';')\n",
        "\n",
        "zoo_df"
      ],
      "metadata": {
        "colab": {
          "base_uri": "https://localhost:8080/",
          "height": 485
        },
        "id": "0doX2uAFUDf-",
        "outputId": "2e96e287-6882-4161-cf76-4915ff39533c"
      },
      "execution_count": 2,
      "outputs": [
        {
          "output_type": "execute_result",
          "data": {
            "text/plain": [
              "                   animal_name  hair  feathers  eggs  milk  airborne  aquatic  \\\n",
              "0                     aardvark     1         0     0     1         0        0   \n",
              "1                     antelope     1         0     0     1         0        0   \n",
              "2                         bass     0         0     1     0         0        1   \n",
              "3                         bear     1         0     0     1         0        0   \n",
              "4                         boar     1         0     0     1         0        0   \n",
              "..                         ...   ...       ...   ...   ...       ...      ...   \n",
              "209                      vespa     0         0     1     0         1        0   \n",
              "210                  bicho-pau     0         0     1     0         0        0   \n",
              "211  caracol-da-mata-atlantica     0         0     1     0         0        0   \n",
              "212              caranguejeira     1         0     1     0         0        0   \n",
              "213                sauva-limao     1         0     1     0         0        0   \n",
              "\n",
              "     predator  toothed  backbone  breathes  venomous  fins  legs  tail  \\\n",
              "0           1        1         1         1         0     0     4     0   \n",
              "1           0        1         1         1         0     0     4     1   \n",
              "2           1        1         1         0         0     1     0     1   \n",
              "3           1        1         1         1         0     0     4     0   \n",
              "4           1        1         1         1         0     0     4     1   \n",
              "..        ...      ...       ...       ...       ...   ...   ...   ...   \n",
              "209         1        0         0         1         1     0     6     0   \n",
              "210         0        0         0         1         0     0     6     0   \n",
              "211         0        0         0         1         0     0     0     0   \n",
              "212         1        0         0         1         1     0     8     0   \n",
              "213         1        0         0         1         1     0     6     0   \n",
              "\n",
              "     domestic  catsize  class_type  \n",
              "0           0        1           1  \n",
              "1           0        1           1  \n",
              "2           0        0           4  \n",
              "3           0        1           1  \n",
              "4           0        1           1  \n",
              "..        ...      ...         ...  \n",
              "209         0        0           6  \n",
              "210         0        0           7  \n",
              "211         0        0           7  \n",
              "212         0        0           7  \n",
              "213         0        0           7  \n",
              "\n",
              "[214 rows x 18 columns]"
            ],
            "text/html": [
              "\n",
              "  <div id=\"df-b397a74a-c030-4d9c-9a07-78bd66448816\">\n",
              "    <div class=\"colab-df-container\">\n",
              "      <div>\n",
              "<style scoped>\n",
              "    .dataframe tbody tr th:only-of-type {\n",
              "        vertical-align: middle;\n",
              "    }\n",
              "\n",
              "    .dataframe tbody tr th {\n",
              "        vertical-align: top;\n",
              "    }\n",
              "\n",
              "    .dataframe thead th {\n",
              "        text-align: right;\n",
              "    }\n",
              "</style>\n",
              "<table border=\"1\" class=\"dataframe\">\n",
              "  <thead>\n",
              "    <tr style=\"text-align: right;\">\n",
              "      <th></th>\n",
              "      <th>animal_name</th>\n",
              "      <th>hair</th>\n",
              "      <th>feathers</th>\n",
              "      <th>eggs</th>\n",
              "      <th>milk</th>\n",
              "      <th>airborne</th>\n",
              "      <th>aquatic</th>\n",
              "      <th>predator</th>\n",
              "      <th>toothed</th>\n",
              "      <th>backbone</th>\n",
              "      <th>breathes</th>\n",
              "      <th>venomous</th>\n",
              "      <th>fins</th>\n",
              "      <th>legs</th>\n",
              "      <th>tail</th>\n",
              "      <th>domestic</th>\n",
              "      <th>catsize</th>\n",
              "      <th>class_type</th>\n",
              "    </tr>\n",
              "  </thead>\n",
              "  <tbody>\n",
              "    <tr>\n",
              "      <th>0</th>\n",
              "      <td>aardvark</td>\n",
              "      <td>1</td>\n",
              "      <td>0</td>\n",
              "      <td>0</td>\n",
              "      <td>1</td>\n",
              "      <td>0</td>\n",
              "      <td>0</td>\n",
              "      <td>1</td>\n",
              "      <td>1</td>\n",
              "      <td>1</td>\n",
              "      <td>1</td>\n",
              "      <td>0</td>\n",
              "      <td>0</td>\n",
              "      <td>4</td>\n",
              "      <td>0</td>\n",
              "      <td>0</td>\n",
              "      <td>1</td>\n",
              "      <td>1</td>\n",
              "    </tr>\n",
              "    <tr>\n",
              "      <th>1</th>\n",
              "      <td>antelope</td>\n",
              "      <td>1</td>\n",
              "      <td>0</td>\n",
              "      <td>0</td>\n",
              "      <td>1</td>\n",
              "      <td>0</td>\n",
              "      <td>0</td>\n",
              "      <td>0</td>\n",
              "      <td>1</td>\n",
              "      <td>1</td>\n",
              "      <td>1</td>\n",
              "      <td>0</td>\n",
              "      <td>0</td>\n",
              "      <td>4</td>\n",
              "      <td>1</td>\n",
              "      <td>0</td>\n",
              "      <td>1</td>\n",
              "      <td>1</td>\n",
              "    </tr>\n",
              "    <tr>\n",
              "      <th>2</th>\n",
              "      <td>bass</td>\n",
              "      <td>0</td>\n",
              "      <td>0</td>\n",
              "      <td>1</td>\n",
              "      <td>0</td>\n",
              "      <td>0</td>\n",
              "      <td>1</td>\n",
              "      <td>1</td>\n",
              "      <td>1</td>\n",
              "      <td>1</td>\n",
              "      <td>0</td>\n",
              "      <td>0</td>\n",
              "      <td>1</td>\n",
              "      <td>0</td>\n",
              "      <td>1</td>\n",
              "      <td>0</td>\n",
              "      <td>0</td>\n",
              "      <td>4</td>\n",
              "    </tr>\n",
              "    <tr>\n",
              "      <th>3</th>\n",
              "      <td>bear</td>\n",
              "      <td>1</td>\n",
              "      <td>0</td>\n",
              "      <td>0</td>\n",
              "      <td>1</td>\n",
              "      <td>0</td>\n",
              "      <td>0</td>\n",
              "      <td>1</td>\n",
              "      <td>1</td>\n",
              "      <td>1</td>\n",
              "      <td>1</td>\n",
              "      <td>0</td>\n",
              "      <td>0</td>\n",
              "      <td>4</td>\n",
              "      <td>0</td>\n",
              "      <td>0</td>\n",
              "      <td>1</td>\n",
              "      <td>1</td>\n",
              "    </tr>\n",
              "    <tr>\n",
              "      <th>4</th>\n",
              "      <td>boar</td>\n",
              "      <td>1</td>\n",
              "      <td>0</td>\n",
              "      <td>0</td>\n",
              "      <td>1</td>\n",
              "      <td>0</td>\n",
              "      <td>0</td>\n",
              "      <td>1</td>\n",
              "      <td>1</td>\n",
              "      <td>1</td>\n",
              "      <td>1</td>\n",
              "      <td>0</td>\n",
              "      <td>0</td>\n",
              "      <td>4</td>\n",
              "      <td>1</td>\n",
              "      <td>0</td>\n",
              "      <td>1</td>\n",
              "      <td>1</td>\n",
              "    </tr>\n",
              "    <tr>\n",
              "      <th>...</th>\n",
              "      <td>...</td>\n",
              "      <td>...</td>\n",
              "      <td>...</td>\n",
              "      <td>...</td>\n",
              "      <td>...</td>\n",
              "      <td>...</td>\n",
              "      <td>...</td>\n",
              "      <td>...</td>\n",
              "      <td>...</td>\n",
              "      <td>...</td>\n",
              "      <td>...</td>\n",
              "      <td>...</td>\n",
              "      <td>...</td>\n",
              "      <td>...</td>\n",
              "      <td>...</td>\n",
              "      <td>...</td>\n",
              "      <td>...</td>\n",
              "      <td>...</td>\n",
              "    </tr>\n",
              "    <tr>\n",
              "      <th>209</th>\n",
              "      <td>vespa</td>\n",
              "      <td>0</td>\n",
              "      <td>0</td>\n",
              "      <td>1</td>\n",
              "      <td>0</td>\n",
              "      <td>1</td>\n",
              "      <td>0</td>\n",
              "      <td>1</td>\n",
              "      <td>0</td>\n",
              "      <td>0</td>\n",
              "      <td>1</td>\n",
              "      <td>1</td>\n",
              "      <td>0</td>\n",
              "      <td>6</td>\n",
              "      <td>0</td>\n",
              "      <td>0</td>\n",
              "      <td>0</td>\n",
              "      <td>6</td>\n",
              "    </tr>\n",
              "    <tr>\n",
              "      <th>210</th>\n",
              "      <td>bicho-pau</td>\n",
              "      <td>0</td>\n",
              "      <td>0</td>\n",
              "      <td>1</td>\n",
              "      <td>0</td>\n",
              "      <td>0</td>\n",
              "      <td>0</td>\n",
              "      <td>0</td>\n",
              "      <td>0</td>\n",
              "      <td>0</td>\n",
              "      <td>1</td>\n",
              "      <td>0</td>\n",
              "      <td>0</td>\n",
              "      <td>6</td>\n",
              "      <td>0</td>\n",
              "      <td>0</td>\n",
              "      <td>0</td>\n",
              "      <td>7</td>\n",
              "    </tr>\n",
              "    <tr>\n",
              "      <th>211</th>\n",
              "      <td>caracol-da-mata-atlantica</td>\n",
              "      <td>0</td>\n",
              "      <td>0</td>\n",
              "      <td>1</td>\n",
              "      <td>0</td>\n",
              "      <td>0</td>\n",
              "      <td>0</td>\n",
              "      <td>0</td>\n",
              "      <td>0</td>\n",
              "      <td>0</td>\n",
              "      <td>1</td>\n",
              "      <td>0</td>\n",
              "      <td>0</td>\n",
              "      <td>0</td>\n",
              "      <td>0</td>\n",
              "      <td>0</td>\n",
              "      <td>0</td>\n",
              "      <td>7</td>\n",
              "    </tr>\n",
              "    <tr>\n",
              "      <th>212</th>\n",
              "      <td>caranguejeira</td>\n",
              "      <td>1</td>\n",
              "      <td>0</td>\n",
              "      <td>1</td>\n",
              "      <td>0</td>\n",
              "      <td>0</td>\n",
              "      <td>0</td>\n",
              "      <td>1</td>\n",
              "      <td>0</td>\n",
              "      <td>0</td>\n",
              "      <td>1</td>\n",
              "      <td>1</td>\n",
              "      <td>0</td>\n",
              "      <td>8</td>\n",
              "      <td>0</td>\n",
              "      <td>0</td>\n",
              "      <td>0</td>\n",
              "      <td>7</td>\n",
              "    </tr>\n",
              "    <tr>\n",
              "      <th>213</th>\n",
              "      <td>sauva-limao</td>\n",
              "      <td>1</td>\n",
              "      <td>0</td>\n",
              "      <td>1</td>\n",
              "      <td>0</td>\n",
              "      <td>0</td>\n",
              "      <td>0</td>\n",
              "      <td>1</td>\n",
              "      <td>0</td>\n",
              "      <td>0</td>\n",
              "      <td>1</td>\n",
              "      <td>1</td>\n",
              "      <td>0</td>\n",
              "      <td>6</td>\n",
              "      <td>0</td>\n",
              "      <td>0</td>\n",
              "      <td>0</td>\n",
              "      <td>7</td>\n",
              "    </tr>\n",
              "  </tbody>\n",
              "</table>\n",
              "<p>214 rows × 18 columns</p>\n",
              "</div>\n",
              "      <button class=\"colab-df-convert\" onclick=\"convertToInteractive('df-b397a74a-c030-4d9c-9a07-78bd66448816')\"\n",
              "              title=\"Convert this dataframe to an interactive table.\"\n",
              "              style=\"display:none;\">\n",
              "        \n",
              "  <svg xmlns=\"http://www.w3.org/2000/svg\" height=\"24px\"viewBox=\"0 0 24 24\"\n",
              "       width=\"24px\">\n",
              "    <path d=\"M0 0h24v24H0V0z\" fill=\"none\"/>\n",
              "    <path d=\"M18.56 5.44l.94 2.06.94-2.06 2.06-.94-2.06-.94-.94-2.06-.94 2.06-2.06.94zm-11 1L8.5 8.5l.94-2.06 2.06-.94-2.06-.94L8.5 2.5l-.94 2.06-2.06.94zm10 10l.94 2.06.94-2.06 2.06-.94-2.06-.94-.94-2.06-.94 2.06-2.06.94z\"/><path d=\"M17.41 7.96l-1.37-1.37c-.4-.4-.92-.59-1.43-.59-.52 0-1.04.2-1.43.59L10.3 9.45l-7.72 7.72c-.78.78-.78 2.05 0 2.83L4 21.41c.39.39.9.59 1.41.59.51 0 1.02-.2 1.41-.59l7.78-7.78 2.81-2.81c.8-.78.8-2.07 0-2.86zM5.41 20L4 18.59l7.72-7.72 1.47 1.35L5.41 20z\"/>\n",
              "  </svg>\n",
              "      </button>\n",
              "      \n",
              "  <style>\n",
              "    .colab-df-container {\n",
              "      display:flex;\n",
              "      flex-wrap:wrap;\n",
              "      gap: 12px;\n",
              "    }\n",
              "\n",
              "    .colab-df-convert {\n",
              "      background-color: #E8F0FE;\n",
              "      border: none;\n",
              "      border-radius: 50%;\n",
              "      cursor: pointer;\n",
              "      display: none;\n",
              "      fill: #1967D2;\n",
              "      height: 32px;\n",
              "      padding: 0 0 0 0;\n",
              "      width: 32px;\n",
              "    }\n",
              "\n",
              "    .colab-df-convert:hover {\n",
              "      background-color: #E2EBFA;\n",
              "      box-shadow: 0px 1px 2px rgba(60, 64, 67, 0.3), 0px 1px 3px 1px rgba(60, 64, 67, 0.15);\n",
              "      fill: #174EA6;\n",
              "    }\n",
              "\n",
              "    [theme=dark] .colab-df-convert {\n",
              "      background-color: #3B4455;\n",
              "      fill: #D2E3FC;\n",
              "    }\n",
              "\n",
              "    [theme=dark] .colab-df-convert:hover {\n",
              "      background-color: #434B5C;\n",
              "      box-shadow: 0px 1px 3px 1px rgba(0, 0, 0, 0.15);\n",
              "      filter: drop-shadow(0px 1px 2px rgba(0, 0, 0, 0.3));\n",
              "      fill: #FFFFFF;\n",
              "    }\n",
              "  </style>\n",
              "\n",
              "      <script>\n",
              "        const buttonEl =\n",
              "          document.querySelector('#df-b397a74a-c030-4d9c-9a07-78bd66448816 button.colab-df-convert');\n",
              "        buttonEl.style.display =\n",
              "          google.colab.kernel.accessAllowed ? 'block' : 'none';\n",
              "\n",
              "        async function convertToInteractive(key) {\n",
              "          const element = document.querySelector('#df-b397a74a-c030-4d9c-9a07-78bd66448816');\n",
              "          const dataTable =\n",
              "            await google.colab.kernel.invokeFunction('convertToInteractive',\n",
              "                                                     [key], {});\n",
              "          if (!dataTable) return;\n",
              "\n",
              "          const docLinkHtml = 'Like what you see? Visit the ' +\n",
              "            '<a target=\"_blank\" href=https://colab.research.google.com/notebooks/data_table.ipynb>data table notebook</a>'\n",
              "            + ' to learn more about interactive tables.';\n",
              "          element.innerHTML = '';\n",
              "          dataTable['output_type'] = 'display_data';\n",
              "          await google.colab.output.renderOutput(dataTable, element);\n",
              "          const docLink = document.createElement('div');\n",
              "          docLink.innerHTML = docLinkHtml;\n",
              "          element.appendChild(docLink);\n",
              "        }\n",
              "      </script>\n",
              "    </div>\n",
              "  </div>\n",
              "  "
            ]
          },
          "metadata": {},
          "execution_count": 2
        }
      ]
    },
    {
      "cell_type": "code",
      "source": [
        "# standarize legs >> between 0 and 1\n",
        "zoo_df['legs'] = (zoo_df.legs - np.min(zoo_df.legs)) / (np.max(zoo_df.legs) - np.min(zoo_df.legs))\n",
        "\n",
        "zoo_df.iloc[:, 1:]"
      ],
      "metadata": {
        "colab": {
          "base_uri": "https://localhost:8080/",
          "height": 424
        },
        "id": "oL45ogqj6s6p",
        "outputId": "9b40cb8f-5b0b-4d0a-a00b-2b5810350a4f"
      },
      "execution_count": 3,
      "outputs": [
        {
          "output_type": "execute_result",
          "data": {
            "text/plain": [
              "     hair  feathers  eggs  milk  airborne  aquatic  predator  toothed  \\\n",
              "0       1         0     0     1         0        0         1        1   \n",
              "1       1         0     0     1         0        0         0        1   \n",
              "2       0         0     1     0         0        1         1        1   \n",
              "3       1         0     0     1         0        0         1        1   \n",
              "4       1         0     0     1         0        0         1        1   \n",
              "..    ...       ...   ...   ...       ...      ...       ...      ...   \n",
              "209     0         0     1     0         1        0         1        0   \n",
              "210     0         0     1     0         0        0         0        0   \n",
              "211     0         0     1     0         0        0         0        0   \n",
              "212     1         0     1     0         0        0         1        0   \n",
              "213     1         0     1     0         0        0         1        0   \n",
              "\n",
              "     backbone  breathes  venomous  fins  legs  tail  domestic  catsize  \\\n",
              "0           1         1         0     0  0.50     0         0        1   \n",
              "1           1         1         0     0  0.50     1         0        1   \n",
              "2           1         0         0     1  0.00     1         0        0   \n",
              "3           1         1         0     0  0.50     0         0        1   \n",
              "4           1         1         0     0  0.50     1         0        1   \n",
              "..        ...       ...       ...   ...   ...   ...       ...      ...   \n",
              "209         0         1         1     0  0.75     0         0        0   \n",
              "210         0         1         0     0  0.75     0         0        0   \n",
              "211         0         1         0     0  0.00     0         0        0   \n",
              "212         0         1         1     0  1.00     0         0        0   \n",
              "213         0         1         1     0  0.75     0         0        0   \n",
              "\n",
              "     class_type  \n",
              "0             1  \n",
              "1             1  \n",
              "2             4  \n",
              "3             1  \n",
              "4             1  \n",
              "..          ...  \n",
              "209           6  \n",
              "210           7  \n",
              "211           7  \n",
              "212           7  \n",
              "213           7  \n",
              "\n",
              "[214 rows x 17 columns]"
            ],
            "text/html": [
              "\n",
              "  <div id=\"df-e07f9716-1a5b-4d77-8faa-0877f274ab52\">\n",
              "    <div class=\"colab-df-container\">\n",
              "      <div>\n",
              "<style scoped>\n",
              "    .dataframe tbody tr th:only-of-type {\n",
              "        vertical-align: middle;\n",
              "    }\n",
              "\n",
              "    .dataframe tbody tr th {\n",
              "        vertical-align: top;\n",
              "    }\n",
              "\n",
              "    .dataframe thead th {\n",
              "        text-align: right;\n",
              "    }\n",
              "</style>\n",
              "<table border=\"1\" class=\"dataframe\">\n",
              "  <thead>\n",
              "    <tr style=\"text-align: right;\">\n",
              "      <th></th>\n",
              "      <th>hair</th>\n",
              "      <th>feathers</th>\n",
              "      <th>eggs</th>\n",
              "      <th>milk</th>\n",
              "      <th>airborne</th>\n",
              "      <th>aquatic</th>\n",
              "      <th>predator</th>\n",
              "      <th>toothed</th>\n",
              "      <th>backbone</th>\n",
              "      <th>breathes</th>\n",
              "      <th>venomous</th>\n",
              "      <th>fins</th>\n",
              "      <th>legs</th>\n",
              "      <th>tail</th>\n",
              "      <th>domestic</th>\n",
              "      <th>catsize</th>\n",
              "      <th>class_type</th>\n",
              "    </tr>\n",
              "  </thead>\n",
              "  <tbody>\n",
              "    <tr>\n",
              "      <th>0</th>\n",
              "      <td>1</td>\n",
              "      <td>0</td>\n",
              "      <td>0</td>\n",
              "      <td>1</td>\n",
              "      <td>0</td>\n",
              "      <td>0</td>\n",
              "      <td>1</td>\n",
              "      <td>1</td>\n",
              "      <td>1</td>\n",
              "      <td>1</td>\n",
              "      <td>0</td>\n",
              "      <td>0</td>\n",
              "      <td>0.50</td>\n",
              "      <td>0</td>\n",
              "      <td>0</td>\n",
              "      <td>1</td>\n",
              "      <td>1</td>\n",
              "    </tr>\n",
              "    <tr>\n",
              "      <th>1</th>\n",
              "      <td>1</td>\n",
              "      <td>0</td>\n",
              "      <td>0</td>\n",
              "      <td>1</td>\n",
              "      <td>0</td>\n",
              "      <td>0</td>\n",
              "      <td>0</td>\n",
              "      <td>1</td>\n",
              "      <td>1</td>\n",
              "      <td>1</td>\n",
              "      <td>0</td>\n",
              "      <td>0</td>\n",
              "      <td>0.50</td>\n",
              "      <td>1</td>\n",
              "      <td>0</td>\n",
              "      <td>1</td>\n",
              "      <td>1</td>\n",
              "    </tr>\n",
              "    <tr>\n",
              "      <th>2</th>\n",
              "      <td>0</td>\n",
              "      <td>0</td>\n",
              "      <td>1</td>\n",
              "      <td>0</td>\n",
              "      <td>0</td>\n",
              "      <td>1</td>\n",
              "      <td>1</td>\n",
              "      <td>1</td>\n",
              "      <td>1</td>\n",
              "      <td>0</td>\n",
              "      <td>0</td>\n",
              "      <td>1</td>\n",
              "      <td>0.00</td>\n",
              "      <td>1</td>\n",
              "      <td>0</td>\n",
              "      <td>0</td>\n",
              "      <td>4</td>\n",
              "    </tr>\n",
              "    <tr>\n",
              "      <th>3</th>\n",
              "      <td>1</td>\n",
              "      <td>0</td>\n",
              "      <td>0</td>\n",
              "      <td>1</td>\n",
              "      <td>0</td>\n",
              "      <td>0</td>\n",
              "      <td>1</td>\n",
              "      <td>1</td>\n",
              "      <td>1</td>\n",
              "      <td>1</td>\n",
              "      <td>0</td>\n",
              "      <td>0</td>\n",
              "      <td>0.50</td>\n",
              "      <td>0</td>\n",
              "      <td>0</td>\n",
              "      <td>1</td>\n",
              "      <td>1</td>\n",
              "    </tr>\n",
              "    <tr>\n",
              "      <th>4</th>\n",
              "      <td>1</td>\n",
              "      <td>0</td>\n",
              "      <td>0</td>\n",
              "      <td>1</td>\n",
              "      <td>0</td>\n",
              "      <td>0</td>\n",
              "      <td>1</td>\n",
              "      <td>1</td>\n",
              "      <td>1</td>\n",
              "      <td>1</td>\n",
              "      <td>0</td>\n",
              "      <td>0</td>\n",
              "      <td>0.50</td>\n",
              "      <td>1</td>\n",
              "      <td>0</td>\n",
              "      <td>1</td>\n",
              "      <td>1</td>\n",
              "    </tr>\n",
              "    <tr>\n",
              "      <th>...</th>\n",
              "      <td>...</td>\n",
              "      <td>...</td>\n",
              "      <td>...</td>\n",
              "      <td>...</td>\n",
              "      <td>...</td>\n",
              "      <td>...</td>\n",
              "      <td>...</td>\n",
              "      <td>...</td>\n",
              "      <td>...</td>\n",
              "      <td>...</td>\n",
              "      <td>...</td>\n",
              "      <td>...</td>\n",
              "      <td>...</td>\n",
              "      <td>...</td>\n",
              "      <td>...</td>\n",
              "      <td>...</td>\n",
              "      <td>...</td>\n",
              "    </tr>\n",
              "    <tr>\n",
              "      <th>209</th>\n",
              "      <td>0</td>\n",
              "      <td>0</td>\n",
              "      <td>1</td>\n",
              "      <td>0</td>\n",
              "      <td>1</td>\n",
              "      <td>0</td>\n",
              "      <td>1</td>\n",
              "      <td>0</td>\n",
              "      <td>0</td>\n",
              "      <td>1</td>\n",
              "      <td>1</td>\n",
              "      <td>0</td>\n",
              "      <td>0.75</td>\n",
              "      <td>0</td>\n",
              "      <td>0</td>\n",
              "      <td>0</td>\n",
              "      <td>6</td>\n",
              "    </tr>\n",
              "    <tr>\n",
              "      <th>210</th>\n",
              "      <td>0</td>\n",
              "      <td>0</td>\n",
              "      <td>1</td>\n",
              "      <td>0</td>\n",
              "      <td>0</td>\n",
              "      <td>0</td>\n",
              "      <td>0</td>\n",
              "      <td>0</td>\n",
              "      <td>0</td>\n",
              "      <td>1</td>\n",
              "      <td>0</td>\n",
              "      <td>0</td>\n",
              "      <td>0.75</td>\n",
              "      <td>0</td>\n",
              "      <td>0</td>\n",
              "      <td>0</td>\n",
              "      <td>7</td>\n",
              "    </tr>\n",
              "    <tr>\n",
              "      <th>211</th>\n",
              "      <td>0</td>\n",
              "      <td>0</td>\n",
              "      <td>1</td>\n",
              "      <td>0</td>\n",
              "      <td>0</td>\n",
              "      <td>0</td>\n",
              "      <td>0</td>\n",
              "      <td>0</td>\n",
              "      <td>0</td>\n",
              "      <td>1</td>\n",
              "      <td>0</td>\n",
              "      <td>0</td>\n",
              "      <td>0.00</td>\n",
              "      <td>0</td>\n",
              "      <td>0</td>\n",
              "      <td>0</td>\n",
              "      <td>7</td>\n",
              "    </tr>\n",
              "    <tr>\n",
              "      <th>212</th>\n",
              "      <td>1</td>\n",
              "      <td>0</td>\n",
              "      <td>1</td>\n",
              "      <td>0</td>\n",
              "      <td>0</td>\n",
              "      <td>0</td>\n",
              "      <td>1</td>\n",
              "      <td>0</td>\n",
              "      <td>0</td>\n",
              "      <td>1</td>\n",
              "      <td>1</td>\n",
              "      <td>0</td>\n",
              "      <td>1.00</td>\n",
              "      <td>0</td>\n",
              "      <td>0</td>\n",
              "      <td>0</td>\n",
              "      <td>7</td>\n",
              "    </tr>\n",
              "    <tr>\n",
              "      <th>213</th>\n",
              "      <td>1</td>\n",
              "      <td>0</td>\n",
              "      <td>1</td>\n",
              "      <td>0</td>\n",
              "      <td>0</td>\n",
              "      <td>0</td>\n",
              "      <td>1</td>\n",
              "      <td>0</td>\n",
              "      <td>0</td>\n",
              "      <td>1</td>\n",
              "      <td>1</td>\n",
              "      <td>0</td>\n",
              "      <td>0.75</td>\n",
              "      <td>0</td>\n",
              "      <td>0</td>\n",
              "      <td>0</td>\n",
              "      <td>7</td>\n",
              "    </tr>\n",
              "  </tbody>\n",
              "</table>\n",
              "<p>214 rows × 17 columns</p>\n",
              "</div>\n",
              "      <button class=\"colab-df-convert\" onclick=\"convertToInteractive('df-e07f9716-1a5b-4d77-8faa-0877f274ab52')\"\n",
              "              title=\"Convert this dataframe to an interactive table.\"\n",
              "              style=\"display:none;\">\n",
              "        \n",
              "  <svg xmlns=\"http://www.w3.org/2000/svg\" height=\"24px\"viewBox=\"0 0 24 24\"\n",
              "       width=\"24px\">\n",
              "    <path d=\"M0 0h24v24H0V0z\" fill=\"none\"/>\n",
              "    <path d=\"M18.56 5.44l.94 2.06.94-2.06 2.06-.94-2.06-.94-.94-2.06-.94 2.06-2.06.94zm-11 1L8.5 8.5l.94-2.06 2.06-.94-2.06-.94L8.5 2.5l-.94 2.06-2.06.94zm10 10l.94 2.06.94-2.06 2.06-.94-2.06-.94-.94-2.06-.94 2.06-2.06.94z\"/><path d=\"M17.41 7.96l-1.37-1.37c-.4-.4-.92-.59-1.43-.59-.52 0-1.04.2-1.43.59L10.3 9.45l-7.72 7.72c-.78.78-.78 2.05 0 2.83L4 21.41c.39.39.9.59 1.41.59.51 0 1.02-.2 1.41-.59l7.78-7.78 2.81-2.81c.8-.78.8-2.07 0-2.86zM5.41 20L4 18.59l7.72-7.72 1.47 1.35L5.41 20z\"/>\n",
              "  </svg>\n",
              "      </button>\n",
              "      \n",
              "  <style>\n",
              "    .colab-df-container {\n",
              "      display:flex;\n",
              "      flex-wrap:wrap;\n",
              "      gap: 12px;\n",
              "    }\n",
              "\n",
              "    .colab-df-convert {\n",
              "      background-color: #E8F0FE;\n",
              "      border: none;\n",
              "      border-radius: 50%;\n",
              "      cursor: pointer;\n",
              "      display: none;\n",
              "      fill: #1967D2;\n",
              "      height: 32px;\n",
              "      padding: 0 0 0 0;\n",
              "      width: 32px;\n",
              "    }\n",
              "\n",
              "    .colab-df-convert:hover {\n",
              "      background-color: #E2EBFA;\n",
              "      box-shadow: 0px 1px 2px rgba(60, 64, 67, 0.3), 0px 1px 3px 1px rgba(60, 64, 67, 0.15);\n",
              "      fill: #174EA6;\n",
              "    }\n",
              "\n",
              "    [theme=dark] .colab-df-convert {\n",
              "      background-color: #3B4455;\n",
              "      fill: #D2E3FC;\n",
              "    }\n",
              "\n",
              "    [theme=dark] .colab-df-convert:hover {\n",
              "      background-color: #434B5C;\n",
              "      box-shadow: 0px 1px 3px 1px rgba(0, 0, 0, 0.15);\n",
              "      filter: drop-shadow(0px 1px 2px rgba(0, 0, 0, 0.3));\n",
              "      fill: #FFFFFF;\n",
              "    }\n",
              "  </style>\n",
              "\n",
              "      <script>\n",
              "        const buttonEl =\n",
              "          document.querySelector('#df-e07f9716-1a5b-4d77-8faa-0877f274ab52 button.colab-df-convert');\n",
              "        buttonEl.style.display =\n",
              "          google.colab.kernel.accessAllowed ? 'block' : 'none';\n",
              "\n",
              "        async function convertToInteractive(key) {\n",
              "          const element = document.querySelector('#df-e07f9716-1a5b-4d77-8faa-0877f274ab52');\n",
              "          const dataTable =\n",
              "            await google.colab.kernel.invokeFunction('convertToInteractive',\n",
              "                                                     [key], {});\n",
              "          if (!dataTable) return;\n",
              "\n",
              "          const docLinkHtml = 'Like what you see? Visit the ' +\n",
              "            '<a target=\"_blank\" href=https://colab.research.google.com/notebooks/data_table.ipynb>data table notebook</a>'\n",
              "            + ' to learn more about interactive tables.';\n",
              "          element.innerHTML = '';\n",
              "          dataTable['output_type'] = 'display_data';\n",
              "          await google.colab.output.renderOutput(dataTable, element);\n",
              "          const docLink = document.createElement('div');\n",
              "          docLink.innerHTML = docLinkHtml;\n",
              "          element.appendChild(docLink);\n",
              "        }\n",
              "      </script>\n",
              "    </div>\n",
              "  </div>\n",
              "  "
            ]
          },
          "metadata": {},
          "execution_count": 3
        }
      ]
    },
    {
      "cell_type": "code",
      "source": [
        "# create zoo array\n",
        "zoo_array = np.array(zoo_df.iloc[:, 1:])\n",
        "\n",
        "# check shape\n",
        "print(f'Zoo array Shape: {zoo_array.shape}', '\\n')\n",
        "\n",
        "zoo_array"
      ],
      "metadata": {
        "colab": {
          "base_uri": "https://localhost:8080/"
        },
        "id": "hvwOK1tH7VJq",
        "outputId": "ec339686-8831-4ae8-e69e-2f2d91bf79e1"
      },
      "execution_count": 4,
      "outputs": [
        {
          "output_type": "stream",
          "name": "stdout",
          "text": [
            "Zoo array Shape: (214, 17) \n",
            "\n"
          ]
        },
        {
          "output_type": "execute_result",
          "data": {
            "text/plain": [
              "array([[1., 0., 0., ..., 0., 1., 1.],\n",
              "       [1., 0., 0., ..., 0., 1., 1.],\n",
              "       [0., 0., 1., ..., 0., 0., 4.],\n",
              "       ...,\n",
              "       [0., 0., 1., ..., 0., 0., 7.],\n",
              "       [1., 0., 1., ..., 0., 0., 7.],\n",
              "       [1., 0., 1., ..., 0., 0., 7.]])"
            ]
          },
          "metadata": {},
          "execution_count": 4
        }
      ]
    },
    {
      "cell_type": "markdown",
      "source": [
        "![purple-divider](https://user-images.githubusercontent.com/7065401/52071927-c1cd7100-2562-11e9-908a-dde91ba14e59.png)"
      ],
      "metadata": {
        "id": "uDsPA9EB8jd1"
      }
    },
    {
      "cell_type": "markdown",
      "source": [
        "## Train Test Split\n",
        "\n",
        "- We are going to Shuffle Randomly the Zoo array and we are going to split it in the following way:\n",
        "\n",
        "  - Train ⟶ 70% of data ⟶ 150 examples\n",
        "  - Test ⟶ 30% of data ⟶ 64 examples"
      ],
      "metadata": {
        "id": "r7_NDnXn8j7y"
      }
    },
    {
      "cell_type": "code",
      "source": [
        "# shuffle randomly\n",
        "np.random.shuffle(zoo_array)\n",
        "\n",
        "zoo_array"
      ],
      "metadata": {
        "colab": {
          "base_uri": "https://localhost:8080/"
        },
        "id": "E0nDQ3pt9RIa",
        "outputId": "370ba6e3-53cb-4f5a-faad-942b94903ba8"
      },
      "execution_count": 5,
      "outputs": [
        {
          "output_type": "execute_result",
          "data": {
            "text/plain": [
              "array([[0., 0., 1., ..., 0., 1., 4.],\n",
              "       [0., 1., 1., ..., 0., 0., 2.],\n",
              "       [0., 1., 1., ..., 0., 0., 2.],\n",
              "       ...,\n",
              "       [1., 0., 0., ..., 1., 0., 1.],\n",
              "       [0., 0., 1., ..., 0., 1., 4.],\n",
              "       [1., 0., 0., ..., 0., 1., 1.]])"
            ]
          },
          "metadata": {},
          "execution_count": 5
        }
      ]
    },
    {
      "cell_type": "markdown",
      "source": [
        "![green-divider](https://user-images.githubusercontent.com/7065401/52071924-c003ad80-2562-11e9-8297-1c6595f8a7ff.png)"
      ],
      "metadata": {
        "id": "xdnJ5Imw9KM5"
      }
    },
    {
      "cell_type": "markdown",
      "source": [
        "### $X$ Inputs"
      ],
      "metadata": {
        "id": "zdM3NlF49Kpg"
      }
    },
    {
      "cell_type": "code",
      "source": [
        "# X inputs array\n",
        "X = zoo_array[:, 0:16]\n",
        "\n",
        "# check shape\n",
        "print(f'X Shape: {X.shape}', '\\n')\n",
        "\n",
        "X"
      ],
      "metadata": {
        "colab": {
          "base_uri": "https://localhost:8080/"
        },
        "id": "p7TApYNJ9b9c",
        "outputId": "7ea6d290-2fe9-4798-f355-e3ff98524070"
      },
      "execution_count": 6,
      "outputs": [
        {
          "output_type": "stream",
          "name": "stdout",
          "text": [
            "X Shape: (214, 16) \n",
            "\n"
          ]
        },
        {
          "output_type": "execute_result",
          "data": {
            "text/plain": [
              "array([[0., 0., 1., ..., 1., 0., 1.],\n",
              "       [0., 1., 1., ..., 1., 0., 0.],\n",
              "       [0., 1., 1., ..., 1., 0., 0.],\n",
              "       ...,\n",
              "       [1., 0., 0., ..., 1., 1., 0.],\n",
              "       [0., 0., 1., ..., 1., 0., 1.],\n",
              "       [1., 0., 0., ..., 1., 0., 1.]])"
            ]
          },
          "metadata": {},
          "execution_count": 6
        }
      ]
    },
    {
      "cell_type": "code",
      "source": [
        "# X_train >> 70% of data\n",
        "X_train = X[:150, :]\n",
        "\n",
        "# check shape\n",
        "print(f'X_train Shape: {X_train.shape}', '\\n')\n",
        "\n",
        "X_train"
      ],
      "metadata": {
        "colab": {
          "base_uri": "https://localhost:8080/"
        },
        "id": "AiUvfl6z-Dea",
        "outputId": "02e9199d-3019-4909-80f4-f47736a60b6b"
      },
      "execution_count": 7,
      "outputs": [
        {
          "output_type": "stream",
          "name": "stdout",
          "text": [
            "X_train Shape: (150, 16) \n",
            "\n"
          ]
        },
        {
          "output_type": "execute_result",
          "data": {
            "text/plain": [
              "array([[0., 0., 1., ..., 1., 0., 1.],\n",
              "       [0., 1., 1., ..., 1., 0., 0.],\n",
              "       [0., 1., 1., ..., 1., 0., 0.],\n",
              "       ...,\n",
              "       [0., 0., 1., ..., 0., 0., 0.],\n",
              "       [0., 0., 0., ..., 1., 0., 0.],\n",
              "       [0., 0., 1., ..., 0., 0., 0.]])"
            ]
          },
          "metadata": {},
          "execution_count": 7
        }
      ]
    },
    {
      "cell_type": "code",
      "source": [
        "# X_test >> 30% of data\n",
        "X_test =  X[150: , :]\n",
        "\n",
        "# check shape\n",
        "print(f'X_test Shape: {X_test.shape}', '\\n')\n",
        "\n",
        "X_test"
      ],
      "metadata": {
        "colab": {
          "base_uri": "https://localhost:8080/"
        },
        "id": "6dlzYnD_-Zm6",
        "outputId": "d46c0329-38db-47ec-bc9e-97f03ee111cc"
      },
      "execution_count": 8,
      "outputs": [
        {
          "output_type": "stream",
          "name": "stdout",
          "text": [
            "X_test Shape: (64, 16) \n",
            "\n"
          ]
        },
        {
          "output_type": "execute_result",
          "data": {
            "text/plain": [
              "array([[0., 0., 1., ..., 1., 0., 1.],\n",
              "       [0., 0., 1., ..., 0., 0., 0.],\n",
              "       [0., 1., 1., ..., 1., 0., 0.],\n",
              "       ...,\n",
              "       [1., 0., 0., ..., 1., 1., 0.],\n",
              "       [0., 0., 1., ..., 1., 0., 1.],\n",
              "       [1., 0., 0., ..., 1., 0., 1.]])"
            ]
          },
          "metadata": {},
          "execution_count": 8
        }
      ]
    },
    {
      "cell_type": "markdown",
      "source": [
        "![green-divider](https://user-images.githubusercontent.com/7065401/52071924-c003ad80-2562-11e9-8297-1c6595f8a7ff.png)"
      ],
      "metadata": {
        "id": "5BFMw8q_-phh"
      }
    },
    {
      "cell_type": "markdown",
      "source": [
        "### $X$ Transpose\n",
        "\n",
        "- Inputs $X$ need to be Transposed so they can be fed to the Neural Network"
      ],
      "metadata": {
        "id": "ITUAYPQx-qKg"
      }
    },
    {
      "cell_type": "code",
      "source": [
        "# X_train Transpose\n",
        "X_train_T = X_train.T \n",
        "\n",
        "# check shape\n",
        "print(f'X_train Transpose Shape: {X_train_T.shape}', '\\n')\n",
        "\n",
        "X_train_T"
      ],
      "metadata": {
        "colab": {
          "base_uri": "https://localhost:8080/"
        },
        "id": "7_MFOm_5-3Ox",
        "outputId": "37ca025d-3b36-4bfe-832e-4e8e50507dd5"
      },
      "execution_count": 9,
      "outputs": [
        {
          "output_type": "stream",
          "name": "stdout",
          "text": [
            "X_train Transpose Shape: (16, 150) \n",
            "\n"
          ]
        },
        {
          "output_type": "execute_result",
          "data": {
            "text/plain": [
              "array([[0., 0., 0., ..., 0., 0., 0.],\n",
              "       [0., 1., 1., ..., 0., 0., 0.],\n",
              "       [1., 1., 1., ..., 1., 0., 1.],\n",
              "       ...,\n",
              "       [1., 1., 1., ..., 0., 1., 0.],\n",
              "       [0., 0., 0., ..., 0., 0., 0.],\n",
              "       [1., 0., 0., ..., 0., 0., 0.]])"
            ]
          },
          "metadata": {},
          "execution_count": 9
        }
      ]
    },
    {
      "cell_type": "code",
      "source": [
        "# X_test Transpose\n",
        "X_test_T = X_test.T\n",
        "\n",
        "# check shape\n",
        "print(f'X_test Transpose Shape: {X_test_T.shape}', '\\n')\n",
        "\n",
        "X_test_T"
      ],
      "metadata": {
        "colab": {
          "base_uri": "https://localhost:8080/"
        },
        "id": "BHp9wGM8_LRT",
        "outputId": "c5fca81e-85cc-4464-cf9b-149806e94988"
      },
      "execution_count": 10,
      "outputs": [
        {
          "output_type": "stream",
          "name": "stdout",
          "text": [
            "X_test Transpose Shape: (16, 64) \n",
            "\n"
          ]
        },
        {
          "output_type": "execute_result",
          "data": {
            "text/plain": [
              "array([[0., 0., 0., ..., 1., 0., 1.],\n",
              "       [0., 0., 1., ..., 0., 0., 0.],\n",
              "       [1., 1., 1., ..., 0., 1., 0.],\n",
              "       ...,\n",
              "       [1., 0., 1., ..., 1., 1., 1.],\n",
              "       [0., 0., 0., ..., 1., 0., 0.],\n",
              "       [1., 0., 0., ..., 0., 1., 1.]])"
            ]
          },
          "metadata": {},
          "execution_count": 10
        }
      ]
    },
    {
      "cell_type": "markdown",
      "source": [
        "![green-divider](https://user-images.githubusercontent.com/7065401/52071924-c003ad80-2562-11e9-8297-1c6595f8a7ff.png)"
      ],
      "metadata": {
        "id": "bEElxU7r_fWL"
      }
    },
    {
      "cell_type": "markdown",
      "source": [
        "### $Y$ Labels\n",
        "\n",
        "- The Labels in which each animal is classified are the following:\n",
        "\n",
        "  - $1 ⟶$ Mammal\n",
        "  - $2 ⟶$ Bird\n",
        "  - $3 ⟶$ Reptile\n",
        "  - $4 ⟶$ Fish\n",
        "  - $5 ⟶$ Amphibian\n",
        "  - $6 ⟶$ Bug\n",
        "  - $7 ⟶$ Invertebrate"
      ],
      "metadata": {
        "id": "G92lR-V1_frV"
      }
    },
    {
      "cell_type": "code",
      "source": [
        "# Y labels array\n",
        "Y = zoo_array[:, -1].astype(int)\n",
        "\n",
        "# check shape\n",
        "print(f'Y Shape: {Y.shape}', '\\n')\n",
        "\n",
        "Y"
      ],
      "metadata": {
        "colab": {
          "base_uri": "https://localhost:8080/"
        },
        "id": "p4GGPMc0ADGn",
        "outputId": "d57d06c0-4419-4532-92ea-a3278d1b7a0a"
      },
      "execution_count": 11,
      "outputs": [
        {
          "output_type": "stream",
          "name": "stdout",
          "text": [
            "Y Shape: (214,) \n",
            "\n"
          ]
        },
        {
          "output_type": "execute_result",
          "data": {
            "text/plain": [
              "array([4, 2, 2, 1, 7, 6, 7, 6, 3, 4, 1, 2, 6, 4, 2, 5, 3, 6, 1, 1, 4, 1,\n",
              "       6, 2, 4, 1, 3, 3, 1, 2, 6, 2, 1, 4, 2, 6, 2, 3, 1, 4, 7, 2, 3, 4,\n",
              "       7, 3, 2, 5, 1, 4, 2, 1, 3, 3, 1, 5, 4, 3, 5, 3, 7, 2, 7, 5, 5, 3,\n",
              "       5, 3, 2, 5, 1, 4, 7, 7, 3, 2, 2, 2, 2, 4, 1, 1, 1, 7, 3, 4, 1, 5,\n",
              "       1, 1, 1, 2, 1, 4, 6, 4, 1, 6, 6, 1, 3, 1, 2, 1, 2, 1, 1, 1, 3, 5,\n",
              "       4, 4, 6, 5, 1, 4, 7, 1, 1, 2, 1, 4, 2, 6, 5, 2, 1, 7, 7, 2, 1, 5,\n",
              "       3, 6, 2, 1, 4, 6, 7, 1, 1, 2, 1, 1, 1, 1, 6, 5, 1, 6, 4, 7, 2, 3,\n",
              "       1, 4, 6, 1, 7, 7, 6, 1, 5, 2, 2, 4, 1, 3, 4, 6, 2, 7, 1, 3, 1, 6,\n",
              "       1, 6, 6, 2, 3, 3, 1, 6, 2, 4, 4, 2, 1, 1, 2, 1, 4, 2, 3, 7, 7, 1,\n",
              "       6, 6, 5, 1, 2, 2, 2, 7, 1, 1, 1, 3, 2, 1, 4, 1])"
            ]
          },
          "metadata": {},
          "execution_count": 11
        }
      ]
    },
    {
      "cell_type": "code",
      "source": [
        "# Y_train >> 70% of data\n",
        "Y_train = Y[:150]\n",
        "\n",
        "# check shape\n",
        "print(f'Y_train Shape: {Y_train.shape}', '\\n')\n",
        "\n",
        "Y_train"
      ],
      "metadata": {
        "colab": {
          "base_uri": "https://localhost:8080/"
        },
        "id": "XX4pwjylAT_C",
        "outputId": "c5522285-f12b-43db-b4b9-15f1aa40eb66"
      },
      "execution_count": 12,
      "outputs": [
        {
          "output_type": "stream",
          "name": "stdout",
          "text": [
            "Y_train Shape: (150,) \n",
            "\n"
          ]
        },
        {
          "output_type": "execute_result",
          "data": {
            "text/plain": [
              "array([4, 2, 2, 1, 7, 6, 7, 6, 3, 4, 1, 2, 6, 4, 2, 5, 3, 6, 1, 1, 4, 1,\n",
              "       6, 2, 4, 1, 3, 3, 1, 2, 6, 2, 1, 4, 2, 6, 2, 3, 1, 4, 7, 2, 3, 4,\n",
              "       7, 3, 2, 5, 1, 4, 2, 1, 3, 3, 1, 5, 4, 3, 5, 3, 7, 2, 7, 5, 5, 3,\n",
              "       5, 3, 2, 5, 1, 4, 7, 7, 3, 2, 2, 2, 2, 4, 1, 1, 1, 7, 3, 4, 1, 5,\n",
              "       1, 1, 1, 2, 1, 4, 6, 4, 1, 6, 6, 1, 3, 1, 2, 1, 2, 1, 1, 1, 3, 5,\n",
              "       4, 4, 6, 5, 1, 4, 7, 1, 1, 2, 1, 4, 2, 6, 5, 2, 1, 7, 7, 2, 1, 5,\n",
              "       3, 6, 2, 1, 4, 6, 7, 1, 1, 2, 1, 1, 1, 1, 6, 5, 1, 6])"
            ]
          },
          "metadata": {},
          "execution_count": 12
        }
      ]
    },
    {
      "cell_type": "code",
      "source": [
        "# Y_test >> 30% of data\n",
        "Y_test = Y[150:]\n",
        "\n",
        "# check shape\n",
        "print(f'Y_test Shape: {Y_test.shape}', '\\n')\n",
        "\n",
        "Y_test"
      ],
      "metadata": {
        "colab": {
          "base_uri": "https://localhost:8080/"
        },
        "id": "2esD1i8yAk4b",
        "outputId": "58e08f2d-d769-4b69-93b0-bd9203a14354"
      },
      "execution_count": 13,
      "outputs": [
        {
          "output_type": "stream",
          "name": "stdout",
          "text": [
            "Y_test Shape: (64,) \n",
            "\n"
          ]
        },
        {
          "output_type": "execute_result",
          "data": {
            "text/plain": [
              "array([4, 7, 2, 3, 1, 4, 6, 1, 7, 7, 6, 1, 5, 2, 2, 4, 1, 3, 4, 6, 2, 7,\n",
              "       1, 3, 1, 6, 1, 6, 6, 2, 3, 3, 1, 6, 2, 4, 4, 2, 1, 1, 2, 1, 4, 2,\n",
              "       3, 7, 7, 1, 6, 6, 5, 1, 2, 2, 2, 7, 1, 1, 1, 3, 2, 1, 4, 1])"
            ]
          },
          "metadata": {},
          "execution_count": 13
        }
      ]
    },
    {
      "cell_type": "markdown",
      "source": [
        "![green-divider](https://user-images.githubusercontent.com/7065401/52071924-c003ad80-2562-11e9-8297-1c6595f8a7ff.png)"
      ],
      "metadata": {
        "id": "B26PAtNFA-ub"
      }
    },
    {
      "cell_type": "markdown",
      "source": [
        "### One Hot Encode $Y$\n",
        "\n",
        "- We need to One Hot Encode $Y$ so it can be used in the Neural Network\n",
        "\n",
        "  - For example if $y_i ⟶ 3$, Reptile, then:\n",
        "\n",
        "    - $y = [0, 0, 1, 0, 0, 0, 0]$"
      ],
      "metadata": {
        "id": "eTXJ6DkBA_rD"
      }
    },
    {
      "cell_type": "code",
      "source": [
        "# create zeros array of shape >> Y.size x 6\n",
        "hot_array = np.zeros((Y_train.size, 7))\n",
        "\n",
        "# check shape\n",
        "print(f'hot_array Shape: {hot_array.shape}', '\\n')\n",
        "\n",
        "# check first 10 cols\n",
        "hot_array[:10, :]"
      ],
      "metadata": {
        "colab": {
          "base_uri": "https://localhost:8080/"
        },
        "id": "cRDwl66-BoEM",
        "outputId": "68b2539d-2279-40d4-dbab-4af6c8b09864"
      },
      "execution_count": 14,
      "outputs": [
        {
          "output_type": "stream",
          "name": "stdout",
          "text": [
            "hot_array Shape: (150, 7) \n",
            "\n"
          ]
        },
        {
          "output_type": "execute_result",
          "data": {
            "text/plain": [
              "array([[0., 0., 0., 0., 0., 0., 0.],\n",
              "       [0., 0., 0., 0., 0., 0., 0.],\n",
              "       [0., 0., 0., 0., 0., 0., 0.],\n",
              "       [0., 0., 0., 0., 0., 0., 0.],\n",
              "       [0., 0., 0., 0., 0., 0., 0.],\n",
              "       [0., 0., 0., 0., 0., 0., 0.],\n",
              "       [0., 0., 0., 0., 0., 0., 0.],\n",
              "       [0., 0., 0., 0., 0., 0., 0.],\n",
              "       [0., 0., 0., 0., 0., 0., 0.],\n",
              "       [0., 0., 0., 0., 0., 0., 0.]])"
            ]
          },
          "metadata": {},
          "execution_count": 14
        }
      ]
    },
    {
      "cell_type": "code",
      "source": [
        "# for each row >> place a 1 at position y - 1\n",
        "hot_array[np.arange(Y_train.size), Y_train - 1] = 1\n",
        "\n",
        "# check shape\n",
        "print(f'hot_array Shape: {hot_array.shape}', '\\n')\n",
        "\n",
        "# check first 10 cols \n",
        "print(hot_array[:10, :], '\\n')\n",
        "\n",
        "# first 10 labels\n",
        "print('First 10 labels:')\n",
        "print(Y_train[:10])"
      ],
      "metadata": {
        "colab": {
          "base_uri": "https://localhost:8080/"
        },
        "id": "rLo7UaO9DZ2Z",
        "outputId": "b5d8b824-7b99-4d7e-ade4-5101bfd22f46"
      },
      "execution_count": 15,
      "outputs": [
        {
          "output_type": "stream",
          "name": "stdout",
          "text": [
            "hot_array Shape: (150, 7) \n",
            "\n",
            "[[0. 0. 0. 1. 0. 0. 0.]\n",
            " [0. 1. 0. 0. 0. 0. 0.]\n",
            " [0. 1. 0. 0. 0. 0. 0.]\n",
            " [1. 0. 0. 0. 0. 0. 0.]\n",
            " [0. 0. 0. 0. 0. 0. 1.]\n",
            " [0. 0. 0. 0. 0. 1. 0.]\n",
            " [0. 0. 0. 0. 0. 0. 1.]\n",
            " [0. 0. 0. 0. 0. 1. 0.]\n",
            " [0. 0. 1. 0. 0. 0. 0.]\n",
            " [0. 0. 0. 1. 0. 0. 0.]] \n",
            "\n",
            "First 10 labels:\n",
            "[4 2 2 1 7 6 7 6 3 4]\n"
          ]
        }
      ]
    },
    {
      "cell_type": "code",
      "source": [
        "# create function to one hot encode Y\n",
        "def one_hot_Y(y):\n",
        "\n",
        "  # zeros array of shape >> y.size x 7\n",
        "  y_hot_array = np.zeros((y.size, 7))\n",
        "  # for each row >> place 1 at position y - 1\n",
        "  y_hot_array[np.arange(y.size), y - 1] = 1\n",
        "\n",
        "  return y_hot_array"
      ],
      "metadata": {
        "id": "NjT6aAKfFLN3"
      },
      "execution_count": 16,
      "outputs": []
    },
    {
      "cell_type": "code",
      "source": [
        "# test function\n",
        "y_hot_test = one_hot_Y(Y_train)\n",
        "\n",
        "# check shape\n",
        "print(f'y_hot_test Shape: {y_hot_test.shape}', '\\n')\n",
        "\n",
        "# check first 10 cols\n",
        "y_hot_test[:10, :]"
      ],
      "metadata": {
        "colab": {
          "base_uri": "https://localhost:8080/"
        },
        "id": "6dh76d6nF5Jg",
        "outputId": "74fc4e37-a1a9-42cb-d20d-d6f11b50474b"
      },
      "execution_count": 17,
      "outputs": [
        {
          "output_type": "stream",
          "name": "stdout",
          "text": [
            "y_hot_test Shape: (150, 7) \n",
            "\n"
          ]
        },
        {
          "output_type": "execute_result",
          "data": {
            "text/plain": [
              "array([[0., 0., 0., 1., 0., 0., 0.],\n",
              "       [0., 1., 0., 0., 0., 0., 0.],\n",
              "       [0., 1., 0., 0., 0., 0., 0.],\n",
              "       [1., 0., 0., 0., 0., 0., 0.],\n",
              "       [0., 0., 0., 0., 0., 0., 1.],\n",
              "       [0., 0., 0., 0., 0., 1., 0.],\n",
              "       [0., 0., 0., 0., 0., 0., 1.],\n",
              "       [0., 0., 0., 0., 0., 1., 0.],\n",
              "       [0., 0., 1., 0., 0., 0., 0.],\n",
              "       [0., 0., 0., 1., 0., 0., 0.]])"
            ]
          },
          "metadata": {},
          "execution_count": 17
        }
      ]
    },
    {
      "cell_type": "markdown",
      "source": [
        "![purple-divider](https://user-images.githubusercontent.com/7065401/52071927-c1cd7100-2562-11e9-908a-dde91ba14e59.png)"
      ],
      "metadata": {
        "id": "iGeQ2xBaGfVl"
      }
    },
    {
      "cell_type": "markdown",
      "source": [
        "## Neural Network Model\n",
        "\n",
        "- Neural Network Architecture:\n",
        "\n",
        "  <br>\n",
        "\n",
        "  ![image.png](data:image/png;base64,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)\n",
        "\n",
        "  <br>"
      ],
      "metadata": {
        "id": "xoybNm3KGl-1"
      }
    },
    {
      "cell_type": "markdown",
      "source": [
        "![green-divider](https://user-images.githubusercontent.com/7065401/52071924-c003ad80-2562-11e9-8297-1c6595f8a7ff.png)"
      ],
      "metadata": {
        "id": "rRojFC95-bvk"
      }
    },
    {
      "cell_type": "markdown",
      "source": [
        "### Forward Propagation\n",
        "\n",
        "- We Forward Propagate the Neural Network from Left to Right, with Random Values for $\\vec{w}$ and $b$, to get the Model's Predictions"
      ],
      "metadata": {
        "id": "Eu7CiG5B-cEU"
      }
    },
    {
      "cell_type": "markdown",
      "source": [
        "![green-divider](https://user-images.githubusercontent.com/7065401/52071924-c003ad80-2562-11e9-8297-1c6595f8a7ff.png)"
      ],
      "metadata": {
        "id": "hAI1EOgQAo8U"
      }
    },
    {
      "cell_type": "markdown",
      "source": [
        "#### First Hidden Layer\n",
        "\n",
        "<br>\n",
        "\n",
        "- $A^{[0]} ⟶$ Inputs\n",
        "  - $A^{[0]} ⟶ (16 \\times m)$\n",
        "\n",
        "<br>\n",
        "\n",
        "- $\\vec{w^{[1]}} ⟶$ Initialized Randomly\n",
        "  - $\\vec{w^{[1]}} ⟶ (12 \\times 16)$\n",
        "\n",
        "<br>\n",
        "\n",
        "- $b^{[1]} ⟶$ Initialized Randomly\n",
        "  - $b^{[1]} ⟶ (12 \\times 1)$\n",
        "\n",
        "<br>\n",
        "\n",
        "$$ Z^{[1]}_{(12 \\times 1)} =  \\vec{w}^{[1]}_{(12 \\times 16)} \\times A^{[0]}_{(16 \\times m)} + b^{[1]}_{(12 \\times 1)}$$\n",
        "\n"
      ],
      "metadata": {
        "id": "5eCts3qu-q58"
      }
    },
    {
      "cell_type": "code",
      "source": [
        "# set random seed\n",
        "random_state = np.random.RandomState(27)"
      ],
      "metadata": {
        "id": "K6evbc0bAxXt"
      },
      "execution_count": 18,
      "outputs": []
    },
    {
      "cell_type": "markdown",
      "source": [
        "![green-divider](https://user-images.githubusercontent.com/7065401/52071924-c003ad80-2562-11e9-8297-1c6595f8a7ff.png)"
      ],
      "metadata": {
        "id": "92I6K91OBCX8"
      }
    },
    {
      "cell_type": "markdown",
      "source": [
        "<br>\n",
        "\n",
        "- $\\vec{w}^{[1]}$"
      ],
      "metadata": {
        "id": "iTA0Ktt3BCtt"
      }
    },
    {
      "cell_type": "code",
      "source": [
        "# initialize W_1 with random values\n",
        "W_1 = random_state.rand(12, 16) - 0.5\n",
        "\n",
        "# check shape\n",
        "print(f'W_1 Shape: {W_1.shape}', '\\n')\n",
        "\n",
        "# check first 5 cols\n",
        "W_1[:, 0:5]"
      ],
      "metadata": {
        "colab": {
          "base_uri": "https://localhost:8080/"
        },
        "id": "y0lLFdvgBHKt",
        "outputId": "4d50c04e-73c7-49cb-d5c8-89dceb7d2e7b"
      },
      "execution_count": 23,
      "outputs": [
        {
          "output_type": "stream",
          "name": "stdout",
          "text": [
            "W_1 Shape: (12, 16) \n",
            "\n"
          ]
        },
        {
          "output_type": "execute_result",
          "data": {
            "text/plain": [
              "array([[ 0.08897386,  0.12739036, -0.31377291, -0.24168097, -0.37300282],\n",
              "       [ 0.1085899 , -0.06262944, -0.03970719,  0.30246658, -0.42934957],\n",
              "       [-0.37963134, -0.14394856, -0.01140697, -0.115783  , -0.3860572 ],\n",
              "       [-0.47572065,  0.46846057, -0.33198899, -0.13813258,  0.19214788],\n",
              "       [ 0.12485732, -0.12075192,  0.0823146 , -0.08177066, -0.06379741],\n",
              "       [-0.23538387,  0.2459889 , -0.02233516,  0.33568512,  0.07572281],\n",
              "       [-0.10648489,  0.10090082,  0.06664172,  0.43407596,  0.44700406],\n",
              "       [ 0.08533142, -0.39180802, -0.08531564, -0.10443904,  0.47647091],\n",
              "       [ 0.3413513 ,  0.37764856,  0.38513474,  0.4578241 ,  0.32199592],\n",
              "       [ 0.42064909,  0.06394916,  0.17170506,  0.42909812,  0.02012511],\n",
              "       [ 0.23623487, -0.02366497, -0.37418924,  0.07097365, -0.06996852],\n",
              "       [ 0.41165613, -0.17641604,  0.08069667,  0.18934142, -0.30184017]])"
            ]
          },
          "metadata": {},
          "execution_count": 23
        }
      ]
    },
    {
      "cell_type": "markdown",
      "source": [
        "<br>\n",
        "\n",
        "- $b^{[1]}$"
      ],
      "metadata": {
        "id": "TYRMArEKBchQ"
      }
    },
    {
      "cell_type": "code",
      "source": [
        "# initialize b_1 with random values\n",
        "b_1 = random_state.rand(12, 1) - 0.5\n",
        "\n",
        "# check shape\n",
        "print(f'b Shape: {b.shape}', '\\n')\n",
        "\n",
        "b_1"
      ],
      "metadata": {
        "colab": {
          "base_uri": "https://localhost:8080/"
        },
        "id": "L-PNduOrBfqr",
        "outputId": "a2234938-3bc1-460a-9d08-3d5ae0fdb01a"
      },
      "execution_count": 22,
      "outputs": [
        {
          "output_type": "stream",
          "name": "stdout",
          "text": [
            "b Shape: (12, 1) \n",
            "\n"
          ]
        },
        {
          "output_type": "execute_result",
          "data": {
            "text/plain": [
              "array([[ 0.15132626],\n",
              "       [ 0.4369486 ],\n",
              "       [-0.09350399],\n",
              "       [-0.09856538],\n",
              "       [ 0.37307308],\n",
              "       [-0.4808551 ],\n",
              "       [ 0.35938553],\n",
              "       [ 0.31219428],\n",
              "       [-0.18909547],\n",
              "       [ 0.09961981],\n",
              "       [-0.16938909],\n",
              "       [-0.44086588]])"
            ]
          },
          "metadata": {},
          "execution_count": 22
        }
      ]
    },
    {
      "cell_type": "markdown",
      "source": [
        "<br>\n",
        "\n",
        "- $Z^{[1]}$"
      ],
      "metadata": {
        "id": "_FDqHnQ_BxiM"
      }
    },
    {
      "cell_type": "code",
      "source": [
        "# calculate Z_1\n",
        "Z_1 = np.dot(W_1, X_train_T) + b_1\n",
        "\n",
        "# check shape\n",
        "print(f'Z_1 Shape: {Z_1.shape}', '\\n')\n",
        "\n",
        "# check first 5 cols\n",
        "Z_1[:, 0:5]"
      ],
      "metadata": {
        "colab": {
          "base_uri": "https://localhost:8080/"
        },
        "id": "RIy5i_EdB0NV",
        "outputId": "63ad1d26-8530-4ffe-df58-afc089b21daf"
      },
      "execution_count": 25,
      "outputs": [
        {
          "output_type": "stream",
          "name": "stdout",
          "text": [
            "Z_1 Shape: (12, 150) \n",
            "\n"
          ]
        },
        {
          "output_type": "execute_result",
          "data": {
            "text/plain": [
              "array([[-0.46213032, -0.07090058, -0.24815564,  0.29851996, -0.0374397 ],\n",
              "       [ 0.17997328, -0.18968826, -0.2301939 ,  0.02495223, -0.06896899],\n",
              "       [-0.85786823, -0.52133237, -0.13715408, -0.32255329, -0.31386957],\n",
              "       [-1.12690072,  0.35199233,  0.08265542, -1.19481405, -0.01225663],\n",
              "       [ 0.00556418, -1.08034797, -1.0246627 , -0.63602891, -0.16994583],\n",
              "       [-0.61071968,  0.28312303, -0.10527544,  0.40456415, -0.41795023],\n",
              "       [ 0.61865462,  0.96216574,  0.78677341,  0.56706058,  0.71702169],\n",
              "       [-0.01020995,  0.24782611, -0.07659832,  0.77595604, -0.69989255],\n",
              "       [-0.3514765 ,  1.00733095,  0.55011305,  0.24244492,  0.68542498],\n",
              "       [-0.28867225, -0.70257428,  0.22380494,  0.7461782 ,  0.45076838],\n",
              "       [-1.35163004, -1.01704688, -0.41792045,  0.32170663, -0.75652618],\n",
              "       [ 0.11298829, -0.80343348, -0.9014425 , -0.01457354, -0.66232663]])"
            ]
          },
          "metadata": {},
          "execution_count": 25
        }
      ]
    },
    {
      "cell_type": "markdown",
      "source": [
        "![green-divider](https://user-images.githubusercontent.com/7065401/52071924-c003ad80-2562-11e9-8297-1c6595f8a7ff.png)"
      ],
      "metadata": {
        "id": "eqjoVz6NCW_E"
      }
    },
    {
      "cell_type": "markdown",
      "source": [
        "#### Activation Function of Layer 1\n",
        "\n",
        "- We need to apply an Activation Function to each Layer, else each Node will just be a Linear Combination of the previuos Layer\n",
        "\n",
        "  - We are going to use **ReLU** *(Rectified Linear Unit)* as an Activation Function\n",
        "    \n",
        "  <br>\n",
        "\n",
        "  - $ReLU(Z) = max(0, Z)$\n",
        "    - ReLU is a NONLINEAR Function for inputs less than 0\n",
        "    - ReLU is a Linear Function for inputs greater than 0\n",
        "\n",
        "  <br>\n",
        "\n",
        "  ![image.png](data:image/png;base64,iVBORw0KGgoAAAANSUhEUgAAAusAAAHICAYAAAD3KaQ4AAAgAElEQVR4XuydB7xU1bX/18ylF6UpoiCCFTv2gorYldhLYkmsMcaY5KWZ9vJP8l5eelPfiymKvRdUrLEXVBSxF5BqwUJHOnfmv77rsO89d5h7zxmZuQx31nw+93PhzplTfmftM9/922uvncnrS/zlCrgCroAr4Aq4Aq6AK+AKuAJVp0DGYb3q7omfkCvgCrgCroAr4Aq4Aq6AK2AKOKx7ILgCroAr4Aq4Aq6AK+AKuAJVqoDDepXeGD8tV8AVcAVcAVfAFXAFXAFXwGHdY8AVcAVcAVfAFXAFXAFXwBWoUgUc1qv0xvhpuQKugCvgCrgCroAr4Aq4Ag7rHgOugCvgCrgCroAr4Aq4Aq5AlSrgsF6lN8ZPyxVwBVwBV8AVcAVcAVfAFXBY9xhwBVwBV8AVcAVcAVfAFXAFqlQBh/UqvTF+Wq6AK1BbCrA+XSaTkebWqQvv8XttvtaV81ybGrX2scM94bjVHj+trY0fzxVoCwo4rLeFu+jX4Aq4Am1KgULgWtuAHsRNgsJ4hyK+bZu6OVV+McVgPR4/fl+q/Ab66bkCRRRwWPewcAVqUIHwhd6Sk5skS6kA2ZzjF45T6Bwnbc/n0px/Wke6FE1KufY0+42fYy6XM0n4zd/jP5UGrVJcc7YNP5xvNpu1806rd1J8fd730+jd0r7jMVXKff6855vmc0n3pbANhRgK9yPEUKXjJ821+DaugCtQugIO66Vr5p9wBWpWgUJntVpgppw3ZG0BDYAF8M6bN08mT54sH330kXTu3Fn69+8vm266qXTq1MkAPkBxOa857b4CnHMOy5cvl1dffVWmTp0qffr0ka233tp+t2/f3iA+AGLafft2n1+BeFzMnTtXpk2bJh9//LHFysCBA2XQoEHSoUOHJh3Az380/6Qr4Aq0tgIO662tuB/PFagCBQrdR77s6+vrZeXKlQ1uaQCuuro64addu3b25R93fEsB20KnnOPxwz7ZP7+bS7Pg7xw3QAnbxt3C4CCG7dgvr3DOSecZzk0Po+chel55/UEL4Di6/nB+4Vhpb2MxrcO1BG25lnBt7733nvz73/+WV155RXr27Cl77bWX/fTo0aOJPmmPX8p2cQcXDePnzrmGF+f72WefyU033SRPPPGEbLXVVvKFL3zBftOpCO702uhYFOod4ixcT+hwxM+ROAmxUu3Oeogdfof4id8XQP3pp5+Wl19+2QB93333lQMPPFC6dOnS0LbXxn0pJQ59W1fAFWiqgMO6R4QrUIMKhGFyvrSBmNdee01eeOEFmTlzpjmm/A1o6dChvQJjL3N2t9tuB9lss4H2NyBWEx5sm/Bqbqg+wE94n2MDehMnTpR33nlHunfvLnvuuadstNFGTZzjcI58HrcQF3fOnDmy4YZ9zSncYIMN7FziQ/6LFi0yV/rNN9+Ujh07yu67727n3pIjvfp5Z+Stt96WsWOfltmzZ8uWW24pQ4cOlQEDBhgc6RQ+ve4o5SP+au76AzyiNef3wQcf2rUvWDBfBg8eLDvuuKOBVOgEzZo1SyZMmGCOddeuXWXIkCHmWnfr1u1zO+tJ9ybcx6AT5/nuu+/K+++/b50U3P3NNtvM7lU4z2XLlhmov/7667LxxhvbPeQ3gBhPhSmWqpSUKpP2fIs13XhsEzec31tvvSWffPKJLFmypOH8Q+eUDtHOO+9s97hv374G7fF9fJ7Hw+c5/5ZSXXiP+4DmH3zwgbXXhQsXyrbbbivbb799E9ec63zjjTdkypQpNspB/BBjYWQm3OvWvi+fR0f/jCvgCkQKOKx7JLgCNahA3B0HAK699lr517/+ZcPnACLAUleX1TSMrgqJXQ3WDjhguBxyyGEKv5sojJGb3DRHGRkbHWq1qHnArIL58BvnOperN+C4554xcvfdd9m+v/nNbxowAVDBwY2nXEyaNEmuv/56hdxJBh4jRozQzsN2eq6RW8iLz3766afy4IMPym233WZwe+GFF8p+++2X6Eg3uq0iixcvk5tvvlUuueRP8uGHH8gee+wp55//NTnooBGWlhK5702rtsQ7JIUjCCG8gK25c+fJuHEv6LXfLdOnT5PDDz9cTj/9dINgXqHzBFSuWLHC/g/80vEoHNUI+hY6yfH/x4EsXGM83OOpKsHdD52j+++/XzssYy0Whg0bZu4sYBvOk/0B9cQP26ANcFiYGhU/buN7dPRWn3NQTLv49TTGVPT5YiMm8dim43bdddfJQw89ZGkhbB/Fdp2NInHuxN/RRx8tI0eOtI4Z1xCH9XjHorn4DpomnX/zoEynN5oDEG9HhW1o8eLF8tJLL8nVV18tjMCcdtppcsIJJxiIh/sSrotON8cjdng/PjIUjhE/38JYiHceCmMsfo7xa2ps51EalL9cAVegPAo4rJdHR9+LK7BOKRD/8gUM//znP8vf//53uwZSLshz7dyZL/gO6lRPMrDcZJNN5MgjRyq47WP/DlBTmL7SnBABooCJGTPekxtuuN4AHHf5//2//2fObCGsh33hjP7v//6vOoZvKjzvYSkXOKF0JMK1sH9GBm6//XYZNWqUrLfeevLTn/5UDj300BZhPQ4sAM60adO143Kl/PWvfzJgJg/7Zz/7uUF1z57r6zmSftDUWS8GjcV0IB/9mWfGGkBOnPiOfPGLX7SOCkC1Nl+F0DZ//nzr8Dz88MPWWaBTAcyGTkU5zjU6ZgTdpbwK4b3ws/H3cdX/7//+T5566ik79y222MLcf/QO6THrr7++dRTpBOKsx9N9SjmvtNsWO/+08bN06VJ57rnnNDb/aiMfxM4555xT0jyGpGMl6dvcdX7ez6XVzbdzBWpZAYf1Wr77fu01q0D8ixV39NJLL5Fbb71Nc463ljPP/IqC8M4KaR3NRSb/ldxkgB2gOeaYY8ytDi5zgC1cStJbgtvK34GiLl26GigBfRwXqMYVBAZvvfVW6xj88Ic/lF133bVJmkf8HN9++2254oorhN9Dh+5i8LjTTjs1cdbZL+7p3XffbZ0Ajvm9733PXPiWACXuopL28tRTT8tdd422vPFPP/3Ezv+CCy6Ur371PB1VGGAxE3cpw74B/Xnz5uv1f6apRMv0WiIXF1cTl59UFzoT//73w3aOuPYHHHCAnHTSSdKrVy/Th9QedKUDxQ/gyOfoGOGqkvrAv+mIsH2hW8pnSP3g70AonwVKuS98lnvE/0O+M8dCJ84vOPd0pkjB4RyBXK6BdKJ99tmnAXRx2Pks58T95ly6du2m9ztKgeHF9X/22UJ7H8hkv+T/d+rUUY/HMbvo9bWzbdGQjhH74xzDHAmuh/Pmfa6F645GfnDww0hOU+AvhHVGjBiZ2XXX3eSwww7TlKKt7JrCdlw3moYOE+fLMdmG6wxxy3VxDdH1LNPPRKMJfI59cc8XL16y6jqjORVcDz/8G42Zd8BnVo+frGmEXmwfpaJF1YDQi3uJvqS4/PvfD1l8E+u0xeOOO860Ic569+5j57Ns2VLbX/T5TvZ+/JicJ8ciLtAdvTmv6Dhdm4yIcS503oibjh2ZjyCr7utiu3fsv3v39fQnui+FL3fYa/Zrxi+8jAo4rJdRTN+VK7CuKBAHGuAAWL/jjjsVxneSr33ta+Zak+rBa9Kkd+WWW26Wxx9/XL/IO6urfYyceOJJ+sW+nuWukw6zZMlyzT9/S/Pex1m+OFCB+wx8DhmyrYLeMO0IbKlf5nUGB6TB3HHH7Qrrtyusbyo/+MEPZJdddinqrPNlT277qFFXKqy/oy7oUIN1cnULnXUqqNx7773q2t9gYPed73xHhg8fnuisB3gF6uhAMDlv/vwFCtcfGpwNH36gfOlLX1Lg28X2C9zEIZ9/v/76m/LYY4/q79csHYfrZFvy6xmtIL/43XcnyzXXXC1PPvmkQSkjFPzweVxf0hrITyfnmLxkQJpODNuMGzfOPterV2/rgLB9ly6dm5zH888/ryk29xgY4oSjEfcXNxbwRneuBwgG6hjV4NwY1dhwww0VNElRet+Oc9ddd8n48eNt/9xHfsL1sG9yoUnJePbZsQrx/S1VhjkN7Jd79vHHn+o5P2fbkPvOcYHGjTfup3E21I7bv//GDaCO1qQIMYrSu3dvm8NAGgtzKdCSyaukJAU9oqozTAAmTpvOnSBuOQec9SuvvFI7mtM1BvddNQl2y2abKVqhE7n4uOyAMHMewogPIyOkBjHnoE+fDTRmh+o1D7LzoJ0QNx99NNOgF4jF/aaDyWuHHXaQ/fff3zqbtJ14+sjSpcut3Ywb97zu5x3V7hO9b4usE9G//wBNPztU434Xnbfxio6A/U1HZ56xc2IeAfeNe7TTTjtbSswmm2xq+5g48S3rDBF3tOfQGZk3b4Ee6w07FvNAuCbOlXhiMiodMzqP8QnP9913n7XprbfeRjsv7WzyM9dFvDBSwWjX3nvvY1owQbulOSLryjPSz9MVqCYFHNar6W74ubgCraRAIaxfcslfDda3335HhfXzLS0A2AYo3nvvfX3vNnnggQfMLT366C/IGWd8RV3C9RucxokTJyvgPGZwB6ji7IWKE0DPwQcfosBxiMEZcA+Y3XLLrQ3OOrCe5KwXwjoufzxnPTjrwGoc1sm1Luasx1M/wvtA6j/+8Q9zVoGrJUuWKpREk1X33XeYHHHEkbLNNls3wDr6AL6TJk3WvOgHDdYB4pCbD5ySE33wwQebMz1t2lT55z+vUNh6ykCHFBsAGBgFfi+66CLLm6bDQQoK7wNgjCKQQ37VVVeZw0rHgevaaKO+DRU+li9fobnMV1lKE4BJahEAvWDBAh3FuN1GC2bNmmMwxTnTWQDqudekCu25514K5L0VbGfYqMLo0aNtoituMucYHHg6E3QqgMAbb7zRtN5++x3k3HPPld1229W0+uyzRToiM1Y7DqMVDN+yuKmry5hbTG72FltsaZ2+4cMPUHBl0mq9Qfq1115nccZ144Tj6ALACxcuMIAE2EeMONjmD0Sgb1hu+4znS8dhnREZ5mKg/8iRUcWaYvnufB5wBe5JCeM+/OpXvzJ90ACnnZER8sWffPIp6+gA81wz8fP0089oTN+inaxXpV+/fnYcRmroMHAddFLoMBx22BEKxLuapgD3okWLrRNKB+HFF8fpPfpUXfHl+rPE3mdfjL6MGHGIavGKpWfRcaOTAqgTY5zfXnvto6NiZ9kEbNri008/obDfwe4tDjzOOU76s88+q+8/qffl9VWdgqUqV870Jc4Y7aFTROeM0QM6jr/+9a/13F60NkFszZz5sT4XZuh1zbN7sM022+hz4Rhr53369LT2Ee+MtNJjzQ/jCrRZBRzW2+yt9QtzBZpXYPU0mEvlzjuB9R0s3QOnLHzZvvDCeIWoq83NA7xPPPFE+wE2cEsB9EceedTcNkAN53Dw4EEGUS+++II5zXzusMMOV+CNUilwwG+++eYmsI6zHnfk4ueIs37llaTBNDrrzcH6mDFjLE0gOOvNwXpQJxyTtAFg629/+5ulPwCkpC0A1i+9NEGvYSM59dRTzdUG3Hhxjjjgt99+pzz//LMGgUOGbGedns6dO9hk1SVLFuvowQADIToBnN+9995nUEYHBTgCuDgWYEjaAXn3dBwApuOPP97uB+AMGOO67r33XuYSsz2vFSuW2zwAUj4AaPb7i1/8wuCKYz700L8N9LiuAQP6G9xOmjRF/zbe7gUOLUDHiEU0SvC6OeuAHZ0uOhK49MAhrjH/x4299NJL9T7eouexk3z96xcqMO5pnQAc4NGj7zJHv3fvDWxy8qBBA60jwwgN7j1xAuziTrNPoBBI5trR48gjj1QHfmeLKaB3woSXzBGms3Deeecb6EeTMqMJv+EVjxvuDfMXSOvB+T3qqKN0YvK2zTYMqg3985//tPkRwPbvf/97c6XpTOFyf/jhh5aO9fjjT8jmm29u7WCPPXa3WAe2+ezzzz9nDjP3Z9tth1gbwYnHxWa0Zv/995Mvf/nL1hlAK+4LzjXvk0a09dZDbN9UOpozZ55us0S1307PY1ftTMxVfW7TtnqH7Yt0NDohpOrQxhjFAsgfeOB+S19DuyOOOKIhVYZjcI4vvTTeRnz22IOSoD2tg42206dTM39D7SCeqJB/iLah7vZ3Oi13332P3v8NVPeDDOb79etr6Wy0/WnTptj5nXLKydoR2c3iLJ5m5M9iV8AVWDMFHNbXTD//tCuwTioQBxpcVgCVSY+4pyHFAnDI57MGES+88Lw5wUDjEUccrm7ibubUMTSO20sFFob2R448WqHvaEtj4PXaa28okN9soAnAnHjiCQYX5FVff/115q6Tsx7SYFqC9eCsA3nkHu+ww/aWXxuuhc8CnsAwwJqUBhN31nEwSdXgWsjPxzUm3x1owkW94oor1aGeZ5P5gHhAlc8DRsDl3/9+ueUxA59HH32swRUpPzieH3wwU7etX5VmslIB9nnrqEydOsUAGUea6wjXTsk9Ok44mTjMADRwjsuP64zDTmfhi188VY499mjTGeeZiat33jlaHeo3LfXnggsuMFeWTghpIJzf5ptvYbnivJYsWWZVUtCV9B/u2/e//30DLUAQJ54OAyBIh4LzAKrDedIJ+NOf/qR636P3ghGZCywu3ntvus1/YKSBUZTDDz9Sz/UUPZeNzNnnHHHcyZkePnyEnHzySZZe8c47bxskc+10CtAaJ5ySmQAvIz+XXPJnc+e/+c1v6+dOUaiPUm54FXPWSS0B1ok/0mo4TzorIQ8dHdEYcOaYHAdnndEV0kL+67/+y+ZpBGed+LrmmmsNhIFd7h+pUVwn6TN8bvz4Fy1V6+tf/7qOfgy3WGF0Ckf+xhtvsI7Rj3/8Y0s5QUPawLXXXmOdIiZwH374YepUb6udA9LLlljnjFEuzo9tSHW6/PLL7Z6effbZ1oEMefNoQOrNgw8+oNuNszZKW8Fdx+1G2//938s0lhfKV77yFTnrrLOsrXJfnn76SesQv/PORI3h47SS0tetk8l9+eMf/2j3jc4jcXfaaaerPoOsM3HzzTfpNdxkKTekR9EhQrvw8pz1dfIrwk+6yhRwWK+yG+Kn4wq0hgJxWMfdw5EFAHA++UIGHnnhWjJxrnv3buqakvN7tILIjurGkbfdzmo547qRt4wTet55X7UvavYPWAAFQBuQsnDhZwYIDOkDRddcc4052WlhPTjrAdYLnXUg7pNPPjZYx4Gm40HOejFnnfOLa0CaAi4yoE7aBbnFfBawevPNtw3aXnnlZXMOSVUBcAB80ivQDmBhVAII22233RuqxQAqoZ43zix64DaTF98crOMC33HHHTZiwXFIocFBBaLJl/7LX/6sQDZFUx7ONiBs1y6zag4A7v5zNiGRdATuBx2WaPLjcrsfTAAkv5q/AW/vv/+R7W/06DssL/9//ud/1KHdwGCdspq4xZw3GgJ8uP9xWCflBr2BYM4FcOW8L7vsUktrGTZsf5vfMHToTquAUqyiD/MVmChJZ4LymnQGcJ+Bf1zmvffe2zpwjEagIecKpP73f/+3gS+Veaik07fvhk2qEkUx21g2lH0C6zjNTP4NZQzZH9vxf0Z0AF5y6IFy3P0A67/85S9sHkfIWWdSZzFY55DAOjFKBwHtiROAPlr4q06vebTq+ys9ZnuNk/9UsD3CQPzSSy+zDu3uu++hnZBv6TXv0AS+Q/zgtHMfX3jhRTtH4oSOHucenwQLrNPmnn/+BavoBDyTDkVHg/ZGB41RItLdiK1QspFru+yyyyz9ifz3b33rm5a/jrP+hz/80dJ80IrO6gEH7G+xxfnQcWGy+Pvvv2cjOccdd7xt52kwrfEk92PUigIO67Vyp/06XYGYAnGgwXllaPwf//inLTrEJEGgjC9bIPbjjz8yd/Coo45WOPiqurMDG8oXAl6//OUvFeoeN8c8Wimx86oa4XX2ZQ48AGBMmPve976vaTZftb/jYuMwp4H1eDUYQAJ3n99hgimwhHvNpMYxY+7WUYKoGsx3v/vdZqvBBGDnOmfMmGGAT4oG+8Qhx0HEHWfS4e9+9wdNXRmjx9zRHF8gEoglXQRYB2rJyQfW6eyElVnjQcdxSDcYO/ZZc+PJXwekcEdxdwMQ0gHAAWViJbB+0EEHWeeBf0+ZMll+85vfaG784+rqHq96flcd4w0tleLyy/9m1wHYA4vkEYdJhVwDTiw/QFtUcaWd/l5u8EZaxMEHH6R57r8wN5U4IA0GPQBBjg/YAdchvx9XmBKCVI0B1r/xjW9YFSHceDpw5H+ff/75Bm/Mb+BFusrixUs1Hu41Fx04BspxZIkTYP2xxx6z1I2gJdsA10Dw7373O5tszLyJE0882WI1DqqFsB5NTB6lqRqP2DUzMkCefqgGw2dJ78EhJ92Fjunf//4Paw+MqhQ66wAtI1CAK8cmT3vXXYdaTj7QynoF3D/mGZx33nnWjsJ9ffLJp1Xfn1ku+ne/+31NbzrOOii41sx1IKXmxz/+6aocfnL7o9ECfoLmzD+gsxcmzZ5xxhmWUhNGmIKzTtoTHTecdWrIMyLGCBlxxwgSaVInn3yypTOFWOWzaMUPMUyc48rT6eK+8HnmbNBhZSQC7dCUVCNG1khjYn4GbYfOljvr/pXjCpRPAYf18mnpe3IF1hkFCtNgAKcbb7zJ8snJkQ6rIpJbDGgzpD5kyDYG2nzxh6XZX3nldZt8RloD5dtIdeBLnxxfXkAWkD5z5kfmgv7whz8yZ44OAmkBaWEd6CJXGCDAvQPmSLloTIPJWweC47DgEGkwgFIxZz2e/hJuGPn2AAmuOjnIJ5xwvE3YA8iZAMjIwOjRd5pDCliGKiEAzKhRV1luPpMeL7romwY6Aa7QIlSN4d+zZs223H9gHFgHqoGiOKzHnXXcdGCdtBb+zeqmgCSTaMndPvtsJnXuZq7uH/7wO9OVaj7AJ3nfZIiQPsN50qGgMgsTAxnlCMDKiqr19Ss1peYY60yRAkSOeDFYJz6KO+vbq7P+TYXAnQ2M6cDRQaCzhFaUASW/PMA06Ty//e1vLc3jRz/6kW1DKg458FwLLj6fRctQqQcoJIecWGCEB9gcNGgzu0fxCcTx2CZegE86VZQlBSK33HKLBsBntIEYQn86d3RASAui48p2//Vf/23xFoCbtK+rr75Gwfwpc80jWKfkaL2lIRF36Iv+dMK4Z8FZB+aBdSbffutb39JrGGkr5TKyQWUWUkt+/OOfWN56HHTjnUrOD1inLZAv3jys46xHaTDAOudIWhWuOaNa0WTbkdZRjrRj3YC8dUToRNOhYd/EJyNAf/zjn6ztFepOvNFm6PDRmWLyKfeSUQqH9XXm68BPdB1QwGF9HbhJfoquQLkVKJxgetlll6jrxvD3TpaWwIRBXriawDpQjcsecpeZfIdrS7lCUgUeffRhdXK318l7Q/RTOXUoI1gHhsi3Jf2CahhMMuUYOLeATYD1iy++2IbOm8tZx4EkbQZgwzEmf5rqJbj4EWwwybLeKpnce+895vbiRLNoDCkAcZjjvOIAjcuPgww8ksJBiUlSWYCxqOb5Yqu+MX78BOt44KB/5zv/YRMkARQW3QGgcJ6/+93vKWD2aQDMeLoNWnzyyacNsD5jxnTrdARYD3nRwHrIWadCB6MV/PBvcuS5H8A6oDRs2H42cRIYv+KKf1lqwo9//CO7TxwbuAOCSVUB1kiBYT/cD2AdR/iVV17VNJr3dATiQDt/HGbuD2CHy82oCs46cxkoIRl31v/yl7+Y1qQkXXjhN2yy6KOPPmrpKpwraR1RHfBwn6Ja5cA6jjLOLPf+2GOPNWedTiNQy/UCtBwvgDIdKpx1Ku+QX0+uO2lKLcF6mGCK200cAJtAeHMvOjF0IpnDEWCd+QchLunEMD/hkUces84SHYYA60899YzFM1oyYhLywRud9SetQg+wTFzSOSKdiU7iM888rRV+TjVY79w5qtsez/UOaWUhXQugBtZJBwKqgevwmShn/UGLWe5dlFe/q+Xtk17FfBE63HTKqWgTro3jce38MAJByhpO+rvvTrJ7Rawzh+CUU05SyB9kE2DpbLFf5lHQRmkz3G/277Be7qe276+WFXBYr+W779deswrEYR0H9JJLqLN+h7qq22uqyzkGzuTW4iSTl86X/6OPPmKTTAHMU045xb7QAQMABMglLeFLX/qipTyEofsA7CHvGKgIVTXIc+UH4Lr44h9aiklzsA6YMIQPFHPcKIf6EKs5HiCFhV6Y3AfMAnakMeBuci3FnNcA7VT44DOks7z22uuWhkBlDUYKAFpgi5QOUiBwtqlJ/otf/Nw6HpwXIAMMA4M/+9nPDID4TEhhCMfh/0AwKRRcN4tMUTGkMF0CsOReANeANZCMs07nA0AHmnAyqWnPIjWkA9GJIO1h8ODNDQQBSa6ZfVGGEfgH3EeOPMrSLVjoCTeViYW4tHRwdtllZ1ucapdddm1w1oH1MMGU+44DHXfWgXU6DqTB0MkD1sn9//Of/2TVaY499jg7HikjoZwfelNZ5KabbjDI/Na3vm0doDisc83f/va3baQndGLokNChop45bjGwDhy2BOuhzjodoGhy9JE2QhRGFeL3iM7UihUrzTmnlOlGG22s9/mX2hnazf7OcdgPefpUgyE//ytfOdNAmJEJFtMC1sndxrU+88wzm4yYPPnkE9pWfm6dGDoiwDmlIP/4xz+r/nfrCMrBOsH3B5aGVJjvHTQPpRcZXSHliQ7BGWd8uUlnCB2557QVOpucC046NeuZK0FbZV4JbQNNQkeA2GLeCp1oYpg5CKRU4aj/4Q9/sHQYOjvMORk8mE5SB4tH9kfnC1inLQPrtBGH9Zr9evELr4ACDusVENV36QpUuwKFsM6EwNtuu0Nd6yEKIF+2VJDg1uE8M1xPasCTTz5uJfN+8pOfGkgBXiyoBNTttBOTz05XaN276PLnpJO0a4fT3s4mRB0k8KUAACAASURBVAKsADj5rxdf/CPtKGzTrGxMeCSNg9SMt99+y1ITorreuzV8BpAmZ5iOBbCD0w04AHS8AgABPgHSgNwXXxzfkPKRz2estN8mm1DeMEphCaMDlLUjxQMA+s53vquwc5bth8l+AC8ge9FF37DJnTjc4cWkUnKh0ZMccSCKdAPy8KmOQ+oMznN40TkC1klZicM6/wZcgW6An5rqOMd0SsgVpoNAKUfc3rBQDrDKvgBqOjk45wB7eLEI0V//eomC5hMGdD/84cUG/3RO6MBwvRyTzkIo1xk+CziGjkpYTIuyfVwXCz+RztKv38Z6D06wYzJJmetnBdfbbrtV4XGSwv1uFm90qPgcsIizDqz/x3/8h+XIB2caWI+c9UZYT3LWuX7SYADVsIIpKV5xpz/emeKeU8nmd7/7jd1b7jPXTb1xdGAEBljnXChHSUcLWF+5coXdk5tuAtZnGCAXc9Z//vOfW917ro10MHQmjeq6666xe3baaV/W+BlhlWvCK6weGiYLEz+cA+lAjGbQDnC5wys468x5CKUb0ZNRDCaY4pzzonPFJF22YYSFiaR0UuiIjBhxkHWWttlmK+vA/uEPv9dnAHMFjjY9Nt8cWO9osE6cFsK6O+vV/g3g57euKeCwvq7dMT9fV6AMChSmweCQUi+bfGXSMnDGgEvyWKOqLosMpK6+epQtRgNssEgQMMviPYAdAL7llltbjnW0cBApD3kd9l+iKTRzbbIm9deBfBxFHLwot7yn5sKfb/WZ+fKvr48qtQAQlObr06e3OcG42AA+NabJgSavHIjkPDkPHGecQ2CFVI7g8MVXY0S6KDUFeBftbMy01VlZhIjcbq6J0oucP6k85N7TwQCGGO6nUzNhwsvWEfj61y+w0YBnn33O8nxxXUnxYbXWaHJnBwXrxepef2JLsTOZj3N9/fU3DJiAWdJtSGOgAgtuL5BGXjSdGBxq3HRcZ2CLf4eOxquvvm6gTBURctOpl73nnntYlQ4qeHAcIJcUGFx4nH9g87jjTtT7M9wAjYVtmNjIPqZMifLnI2d9l4bFc/gs7jwdHiYbUkYRp51ccjpxTDClM8B1f+1rX9dz2N0AlI4VOf7sd4cddrLjbrXVYHOD77zzLlv8Z5NNNjanlvKGQHlIKWKCKvpSRpI0mOCskxvNxNWJEyfZvWVhKOKpJWc91BUnJqgNzjXS0SuE9ZCuxARYFgwiHYdzJ/eaUopcP7FJp5S5HcQv94S2QtwSJ5T4pL4/6U2kngDy8bkIfPYnP/mJwTrXxn0HoOkA3HrrLTYSwWJRxCDnSFWf2bPnatrKLNsPnQzy63G4cbqpDHTEEUcp4J9qHSFSXogRYvrBB++3icwB1uk8ECdoy7wAOka0nWOOOdYqw1ApZ8KEF61CD6lAxx9/glWZoe0xSvXrX/9KjzuxQffNN0f3DpYGg7NO+2Gf6ITz7jnrZXhI+y5cgZgCDuseDq5ADSpQ6KyTXnDDDTcaEJx//tesrjcLooQX6S8s5PPPf16u0PyBAtYBVpIPB40KJyyc9PjjLI4y3aAToGPSHZM+ceBYGZO8ZmCSIXZSSgAbhvMBH9IomOwGmAHrwA//7t9/EwWsww0sOnfuYhM5cdcBXo5DabrgmAMOuM64zOQMM4SPWxkWMGpahzuaVEcd+F//+n8UnJ80cCat4dBDDzawKXwBQf/4x9+t3jewRyoQLjZOO24wYEu1FrTq0qWb7p8JlVlLq6HzwzkBu59+Osvc2xtvvF5BbJ5OyhtgwAnokIPMOZO2gqsNfAHJAHsc/JgUSuoS5wMc44bjsh511JE2kZcOFvcYV/a1197UTs4t6uhH8Mb+OWdWukQTFn169dXXDJB/+tOfGuyjPVVDSKdgpAJgp9MDpONmk77Db+4f95HjkzYBrDNy8tFHH+vnHrIKOsQHQEi5T0YZPvpopsbW+pZORVoKnT8gGRf8b3+73HLemZPAxFPuZViQCChkoScWxgIIcaa32GJz045X0/sb3T1Ak/xzUjSYXMo6AJQe5f4WywtnH1TMwSl++OFHDbxx1ek0MHkyTKgEbukcnXLKF20Uik4UFXrohJHeRDUYJvqiV+hscD+pfMP94tqAdTqwaEWZRUB66tR3LWaIdVJriGmqExH/5Jhz70ilYv4GiyOx0imTunnRhqi8A9ATi4yC0Q7RmfPh7xyLjhudNKo81dW1t1Sq6HmQ13vcw+7lgQeOWLXwVUdzztGd0TX2c/rpZ2innEWbWPQrms/ByA2dCNo2bj2jNF66sQa/WPySK6aAw3rFpPUduwLVq0A8FQQAoWwhX/DkPOMKbrfddgakIV0E6MY5Y7EVHGZAHpfy8MOPsFzkOXPm28JJVMlgxVJcdhbh4QVkklqy337725c44ANw4MjjypLKwXEaS/BR2x1YX6GANNAcVIbf2c+iRZ8pWL5urjMQQaUK0jGAU0CGXG2OwYRIHHxexaHM8M5qqOOiTpo00WAVpxHXMNThjpfNoyMAUHHeuN840EyMJP83uMm8x/UwERHIpMIIaT5UikGraMJkzip1UNucmtmzZ8+ySYdoTi4zrioVY0h3IPUB0Aegw4JEnBPuLEBJWgP3hcmu55xzrqYg7WtwGd1frjGrHYIFes4ROLPADdcBrDJBl2ugKg358XTUmFTICAB64pzjZuOact2kGXGPGH2hU4GbzvVyHkAaWvBZOgK8WFzn4YcpIfj8qnhYaiMiG23U19KXDjnkMIsLJiCTJjR58hSbrEp80QkEZkMZTO4HwE3JwmnTZqirPVw7VYeZOw+sF851CHnYjCwwUZZRGfTFteZ+4VoXzmMI/+e+MUpCOghOM44/eqEV10m8UdFl0KDNbHIv18zEXUZcqOdOaUwm+KJHvHQjGtNx4PPoR8Ub9IyqBM1T6H3O0pG4n3RwuE9cN50iOi+MJoQOGykuoUrTzJkfGjSzyBLVgQYO3EzPZbyV46SjisvN+UQLeYnl1FO55pFHHrbODHM96BAQp4xykN7DMYkBfkKt+qlTp1mngc4jnWh0Z2QAfYhXOjm0OUbWiOHQ9tiHv1wBV2DNFHBYXzP9/NOuwDqpQOOwf9acP5xT8s+By/79B9gk0fgkPC4SoMQF54fP4xLzpR4BrSgUzrE0B5xT4JVJeby6du1i0EUeOGkeOHx0EIAavuABX770I3cvo4AgBrQ4i8Aqq1uSlw1s8AIu6AwAYLNmfWpQyTlw7qRT4MZynADawWVumrOeNZglzeDtt9+0oX+cfSZChtVJ49U4OC5pJUD4hx9+YI417jBueFgoiPfINwee2B/bA4VMgsWVHTBgU9OCF84sDizXwL64fkCMnHMmtwJr6ALM8Xcc9mi0Isqh556hH1DJcXG9WWqetIUAnSHVJ1rZ9WNz/XFTSUvC0UUnfrgXjHSgNTpzPeFFp4DY4D7xb/bNuQDs3FPOEQeetBvigc8CmLyWLVuh9+l9y+Gmc0bnjdQg0p6iY29qlU94MQqDZix4RBxxzYAx9yJcMzqRzsLcB4AfMKRjEGCwcE4C+wV40ZjY5dw4Z+IkqoQTaRle8TbB/aA9kOuOzuyb2OK8iFFiE4BHizA/gWvkM7jh3EPuefye0dkBfOkMcG3sj1EIQJ9RHu4jTj73Aq2Ja7TkvIlNPsP1cp68T1vjh+OyLXpsvz0LlvXQv822H66Pc+Z8Qnvm81wT10Y74loZcUGbMP8hdFb5PLqzLR0U9kNVJ9pwiEPeJ17phKAJbS+knsUn8K6TD0o/aVegShRwWK+SG+Gn4Qq0tgKNUNe0TBznEX+P/xeCa3SuIfe7cdGW5q4hgGN838nXG8F74fkUP5emewtpPuGv8c9E12ZXtZrrHge31T8TnUt8m+a1iVZ/jY6zSq1V5fgKnf7CfRZeXzxlqaXPrn6c6B5xnfHzSHMP4scsvE9xbYuda+gktaRNMU2a2765a24ufpPiOhyn2H5burbm4rU5rQrPo7kRnlULrjbTxhpjJ42ezd3bdO05XWwXjkgUntfn0bA5bf3vroArECngsO6R4ArUoALFwKEYdBTLAw4OOABY+H4hJAdp41AXh7nmto/fksLc1/CZpGOlhfrmrrsYbAUYigNKmuspdg3Fzr+lcy7sPMTPpdj5hA5J6FQld2Aaexbxayo8TnNwFlzUQjBs6TrjaUbx+1qoV/wcCmM3vo/mOgHxzzSncTEILaZZmo5Mc+cf/2wYkeI+lRLTLW3bXAczKXYK22lz2xe242KxEY+PYh2iGnzc+iW7AmusgMP6GkvoO3AF1k0FCqGq8CoKHdIkOE4D3uGLPO22hdCe9nMtubvFoKzYcYqBT0vgmebcCiG4lMgphNLmzqXxvhpK4cms+p3uaMUAOt0no62KdfCKfT7NcZK2SQPqSceOv5/UJkrRIR7rzd33pOsr1iabA+Skc0t7rDTtPukeF7svSefn77sCrkDzCjise3S4Aq6AK+AKuAKugCvgCrgCVaqAw3qV3hg/LVfAFXAFXAFXwBVwBVwBV8Bh3WPAFXAFXAFXwBVwBVwBV8AVqFIFHNYrdGPKnftYodP03boCroAr4Aq4Aq6AK1CTCqwr8ysc1ssYnvGZ/vw7/HCIwgk5LVV9SHtKzU2Ua64iQNr9ruvbuS6r38HCqgzxyYm1HC8t6VLYbsvRZteVtuW6FL9Trsua6xJvV+tKe1iT82xpQnstP3vRtLXbU3PH4z6En2qtYOSwviat0D/rCrgCroAr4Aq4Aq6AK+AKVFABh/Uyiht31lkVkBXpWEEv9NTCSoplPGSTXa1ew5eybbX9KnSQ16R0XltQMly/69L0bsbjwttRozauS/FW77qUpktbeHaW6xriz5cwypCm7Gu5jl+N+1kb7QnNWcWYVYZ79uzZsPqyO+vVGCFlPiduPC+gnCW6b775ZnnxxRdtKeewJHXYphxD6vGgYmlzlrHm2ARfHMrKcawyS1XR3cV1QRO0YflsltsOHaZqbZCVEiZcb4gLlqvnBz3at2/vuugwKBoFXdAJXcKy67UeL/HnC+2o1nWh3fAsRxdihpfHS5RKECCIZ2/QBb14r5zff5V6VpZ7v/FnB9dfqEuIpVp7xqBz3MgM7Ql9KvX8jR+P48yZM8fY7Mgjj5TDDjtMunfvbjHKPam2lzvrZbwj8R7zSy+9JD/72c9k7Nixss0228igQYMsCMr5sIo37s8++0z4AdTXX399A1Per+UHALfWdYkCvPChuGjRIhv1IU569OhhoFGL8VKoy+LFi2XBggUGo+hCe3JdcrJkyRKZP3++6cLzBQOilnUJBkjQhf+jS6dOnWpWF54zoRPHyPK8efMMuoIuvF/O778yfnVXdFdxowRdaEf8jecL8RKez7X8XR1vT8QNsIw+5X7OBI2J02XLlsmECROEe3LeeefJRRddJL1793ZYr2hrqJKdx2F9/Pjx8qtf/Uo+/PBDOfnkk2Xo0KFlf4jHh84++eQT+eijj6Rbt27Sv3//hiCvNVc9PPhCSKDLxx9/LF26dJEBAwa4LioMMTFr1iyZOXOmfVkQL507d67Jjl08XtCF1DXaLF8S6ELcFA5bV8njpuKnEX++8AX6wQcfWKcOXbp27dqkE1jxk6miA8TjIegCXPB84flb6/FCOwJIiRf+vckmm5h76bpkzCB5//33TQt0oSNTq7qEJt3a7Ynj0V6B9TvuuEPGjRsnxxxzjMF6nz59Gkbiq+iRY6fiznoZ70g86F5++WW59NJLbe/f/va3ZYcddijjkVbfFcM5PARo/AMHDqzosdalnc+dO1fee+89+7LYbLPN1qVTr+i58mWKLsAooz612KkrJjBfpjNmzDBY33zzzV2XVSIxEjN9+nSD9cGDB5uD6i+xEQdSHvnyRxf08ZcYCE2ZMsXaD7owQuUvsRQYdGGEgeducNZdm0gBRjZpTzxfeP4y8lvJ1zXXXCO333677LPPPnLOOecYrHsaTCUVr5J9F4N1/gas77jjjhXpQYdhHRzBQlivZQALutCJAUrJRePhaD1U/QKp1VfQBUcQKMUhpRMThq9rVZugCykwQClfosRLSCerdV3oxMRhPaRN1boudGICXBAvYdi+1nWhEzN16lR71gYorcU0j/A9E66dlAt04f/oUssjmvHv4KBPa7WnwGrAOu46sH7uued6GkytgFEc1smFwlln8tHXv/512XPPPcsO6/HjMeQIlOKs42QAG/QQa/FLI64LKQ3owvA0PXUejq5LxlKmgPXgrAPttfplGo+XTz/91OAL6KIdeVpD1LlFlzis0/nlVYsxE48XTBLgi84u8cLz13XJWL765MmTLXZ47tZyuke8jaAL8cJ3EPFCFRJPg4mq1hErmGuMPFSyPYU0mOXLl8uoUaPknnvukWHDhhmsu7NeYVoPjSEEfTzXMu6khpnq4Xd4qMZPL8BtfNu0p1/MWScgvvGNb1QU1jku+ccB1oPDU6sucjwOgHU6MkBX6MS4Lnkhl99hPWrZ8Xghlx8odVhvqgtQ6rDeNF7CHAeH9dV1If0wngbDZMFahdLmYJ0RTSY01qou8VGH8J3cGp3foDcpScD6mDFjGmDdJ5impd11fLtisE5AXHjhhRWFdWQLDjIORq0PO8Y7a+hCelCA9VoedozrwqRbh/WmkMH/goPssN4I6+gSOjEhZx1nvVYhI8lZd10y4rDeCDPxeIg763xP9+rVq2bbUVpYL3d7Cp2n4Kw7rLcieAfxSTkhV45JCtwIXnzpAmqkhcQXJWIYiu34aayT28FyeDt37hRLHyG/OZ8qncRhvRVveguHclgvLo7DerIuDuurQ0ZzsB5GJWot1S4J1l0Xh/X4k6Y5Z91hvfmRqmyWCaaVSStzWF+LnBZm79KbpwoLpXhwDYFwhprIR9ptt90a8pWB9k8/nSMvvPC81dmcPXuWnT2llHbffQ/ZaaehmmPXreRZwQ7razEIYod2WE+GUnfWi0Opw3p6WC+341UdT4/ks0iCddfFYb0Q1vk/nVp31pu2L83gXTXvxRQyFiOtrF075oBUZq6Dw3ryM65iWwTxyU2+77777GfSpEk2pL3xxhvLGWecIWeffbYV2Qfsly5dplD/qowefacC+zj9/xL7+/rr95ADDhguI0ceLUOGbGUBk8mwklXpznqYYBrSYPbaa6+yD3cV5mbHc9Y93SN6CBSmwYS62bXmBga3L/wuhPUwkbLWdSmEdU/3iNoRaTAYIFTHYe5HWJE57hpW7AFfZTuOwzi6xHPW+Y5xZ71xomAo3VjLEynjbQRDMUwwxVn3nPXo+QK0U6RtwYI58u67VBEC1gcZs5W7PYX7QXlRctbvvfdez1lvrWdsEB8AeeaZZ2TixIm2CiEuOwD/hS98wconMtOX0kmA/NNPj5Xx41/UWcdZ2WKLLaz+6aRJ71q6DGV89t57b13kor/Wh+1YFNbDMeMurjvrrXXHWz5OMWc9lG70TkyknTvr7qwntdZ4OyqWs17uL9Gk86mW95OcddfFnfVCZz2YIO6sF2vFEayT8bBw4WzlsKm6UQTrlaiuVMxZ32+//bx0Y2s8YEMaDEvLUxUlvB544AG5//77Zdddd5VvfetbBuv0bO+++2557rnnrPb2gQceaJM/yXF/4okn5amnnjKAHzFihP2wTZoi+fEvNo5Ph+GPf/yjLQ5BNRjScEKQlMu9jH9pFE4wDfV+OZdyHa817mU5jhHXJVTJ4T7iCLouoRTfJ1qicLqVbkSX0Imp9XiJO+uUnPMVTKN4CVUaWNxmiy3QpWtDCdRafr6EEoWUmsP0YYQqlIatJV2ALUagw/ODRddC6UZ0iY9Qke5QS0tdRM5xtGom6xWgCzFSmyUtiZFoHiC/VQZ9RSWm1UdVfpullcom6/Olneqztf5mInv0fjnaU5zT6uvr5corr7TSjfvuu6+cd955Xme9HADW0j4CBJOjjkNOxQKc9ZtvvtlSYoYOHWqwzpATTvtll11mueoHH3yonHrqqZoqs5Ht/p13JstVV43S98bLQQeNsNSZXr16a0DVr7ZiX3POemiUcVinGszuu+9uxyj3sHHYX6ibHarB8KVa7mNV+j6Wc//x0RaG74Oz7ouWRClds2ZRT3y6TqhmBdOoLn+txkuhU0qd9U6dqLMe1eWPv1/OGK32fcWvOwzf82wFvtClEs+zatckXHMcSilRCIihCwUKXJeMff+iC6/QiantdhR1UDAU47BOOlmt6tLY1vMK6hl5/fW8lof9RLMZJuuzt4PC+jb6nKHz29gJLMfzITAavEgaDOYt8xp9BdNyqJtyH4WO6g033CCPPPKIgfI3v/lNg3UeIL/4xS8UzN+Rr371AjnttFMV7slNz2ivd7GB/O2336ywfrB85zvfkY022qiosx7cdn7TAEkrwJXj35zHu+++a7lQOC1A/x577GH7oTcXHvQpL6vZzeK9RJwvamfzZcE51zKUFurCfQEumL9Qy52YePtg8QnipWPHTtKv30YO69rKeAYApbRl4qRfv34O66t0wUFGF3LW0YURB4fSrOAgf/zxRza3iXbE876WdQFI0QJdMJB4ES9AKd9/5fruW9Pvztb8fASHGUv1wFknXvhb374bmS61ButRfnpen7GMONSpJl2UxzrLo49SOneBbL31x5rtUK/FQbrr87e9xk204ng0GrNmq48HrTEdqAR44403yuOPPy7Dhw83TvM66xVuGcERjD8MSH+Iw3pw1oHon/zkJwbr3/ve9w3Ww7DlypU5+fOf/yRXXz1KXfdD5Ec/+pE9aIqlwcTdfJxb0mrGjx9vCxPh7uMs4OLjKpx88smyyy67GKiTFlOuB1bc3SfwKFtJEHbt2k1/t1s1cSPd5NgK36JW3X3cIV60KNKFycJ8kYZl0mvRRY5f8+LFUYlT4Ktbt66uy6px+SVLlgpLXpPW0L27x0sYemauD7oAYugSOr213o6WLVuuumDQiOkSTJJa0yWkwQClAFWIl0iXrjb3iyYWuaS1lwYT0jgiXRarBnn7Pgpz4monXgD0jD5fc2oQ5ZSTOqmjvpGmIG8gL75Yp39bKfvtt0x/5kv//p+qPosN6PP5rAF+OWCde8FIMsYqrjpZFocccoicddZZVvc+TdpzqwLNqoNlNEiiMYY28Ir3UAHlm266aTVnncmlP/7xjw3WL774B5oGc1rD8H99/UrNM/+TDo1cabD+05/+tFlnPQ7r5Iu/8sor8tprr1nOPMMrON2kwgwcOFC+9KUvWSoOsA7IlxPWw20j8Pjhy6J79/VttKB2HgBNgzce0p99tsi+TIFSUoQCrJcj/21dazJxXYD1hQsXqC7tVZf1XBdzbjLWgVmwYKHBeo8ejfFSrja7LsVMPF7o8OIKAuvoAqzzqsVnTPx7Bl2IF0B0vfXWt/SpWtYlrPwNlLouUWuPt5FIlwXWueO5G9IPa+H5Ehx1YqRdu5wal/XyxhuddAXRDeSxx3ppWct2st12y5W9FmtaygItpb1QnzPLFJ6zZYd1OAnz4c4779ROwot6zIMd1lvzyyn+EAWgg7NOCkpIgwHWg7P+gx/8QJ310wyiCaD6+pz86U9/tDwmelpAfXPOejwNhsmpgDJf9Djn7OuNN96Q6667ziDoq1/9qk1i5TPlHAqMPwQYoqajQG99wIBN7UuD92v1yzTAOLowHMuw/aabokuUm13rupAaRLygx4ABAxomUta6LnSy6ejjeG266QBLK/N4ESFtCl0YseP5Ekp91nK8hLQpVkimKEH//gMa0hpqTZfgrAcHmbQpdOH/VFWjIxPaUS0662HEAVB///33bIShf//+VpqwrT9fQlnGKEUqSoFZvjyjZmZeU4VFS2h30Fz19pr2klFHfYEWBHlfdtwxp8/fvvr91MU6NuVqT2E/mDF0nK699lp58MEHtWT3AZaz7mkwFSb2eDpI+DewTj5SYc46kzv+8z//U95++x3NSf+upcGE2cbLl9fLX//6F72BV5mzfvHFFxusA/Pc3PgrfsxiLi2T1H77299aCka8Gky5e9DhPOITTFn5C8e0XAFe4dtXkd2Haw8lCskNpOpJLTvrcZdn1qzZOsF0qsEoVQk8lz9y1oFS5rUwx4EUNq8e1LiYC89O4mTLLbesKUew8AEVN4WAL3Rhgim6ePWgKF5C1RO0Q5fQ6S33919FvjzKvNN4vODmkoqLaVdYJaetj/aGHA6AXT00uesukVtuETU28wrqIkcdldH5hbM0M2CSQnN7/b4eot/XkVlSzrgJbMA9wJgdPXq0VYM599xzrWKgp8GUuQEU213ctaYu8PXXXy8PP/ywTe6kIgsLM9Db/81vfqN5Uq9pesrpcvrpp1tOHa+PP54ll19+uTz00AMK6wfZZzbccMPEmxeCKR5Ub775pua//9lKQgLrTHItd9DF4au50o18icSHs1vhNlTFIUKDbK50Y63rwuTS6dNXL91Yi7rE2yXPDTraQLqXbmz8kmTEAV3o7KKLVz1pnJBM5w4zB12oOlWLaTCN+eiRLvHSjegSn0gZJltWxRdFK5xE3DQLVXJgFcyj4KyXE0Zb4ZJSH4K4iJzxyFVnjrEO6mqOumjmg+hq86KAnJcTThD9yag5OltHwqeoQdpOq5RFJT/L3Z7C/QjVYLx0Y+rbueYbFnO5SUm5+uqrrc46Be8vuOACG7pleO7KK6+Q559/Xlcp3U5OOulE/T3EgHzcuBfltttutVUvgfUTTzyxoTEV9nrjxwxXEP/SZ0GmSy+91HLUgX7SYMoN63EIL4R1L8UX3ZXCFUx9UaRIF18UqfG5E29HhSuYhnSPtvpl2tLTN65LsUWReCaGyflr/hRfd/YQf46H+vPAOvDFvBjXxRdFikcz8RJMkFpcFCk46ujw0UdZBfWc3HGH6Jo2eR2JyuuilXldZT6r8/rqFNJn6aJI0zSdmM5vtChSudtThqUnjgAAIABJREFUYDeMVJz1MWPGGCPirHsaTIWfw2HYAjBmmIkfKrTcoRHx9NNPy0477WR54+Qss82ECS8brM+ZM0uH6LZW5313c8DHjh2rbuMM2+6AA/aXnXfeuWFYM80QlcN6hW90yt0XdmIYTQG64ov/pLmfKQ+3zmwW18Vh3WE9KXCTYL3c5kPS+VTL+0mw7ro4rBfCeujs1wasNy58tKpapwH3J5/kdSKp6Po3Eah36lQvhx+eky9+UXRCaTv9PyU/52ia0DQrdck6F8B6udtTMVinzrrDeis8YYP4uD9AOCUUySOkQsvUqVNlgw36aDDsZyuZ7rjjztZ7YqLpo48+YvmplK5jH7jxW221jQbQ4brtUAsUqoikzWFyWG+Fm53iEA7rxUVyWE/WxZ314p2YYs46W8aH+FM0zTaxSRKsuy4O64WwHsyh2oD1KO0lekWlo5csycuTT4pmO+TVyaaYh8jIkfVa27xezdKMpihTapq4ma3sNm1VWlk0UlXu9uSwvhYfw0F8JlkyofRJjQqcdfLDqM7C+0wcoNb58OEH6nDLrpZT9/DDD2lP7zEtszjLzn6TTTaRAw882Mr49O/fzz4Xhq/SOLEO62sxCGKHdlhPhlJ31otDqcO6w3rSU8xhveXnS6iSgxHGv2shN7ulmIl3aNs+rFNpLeSnA+o5rboiWh4xq9XxREsl5hXIRRedzGn1lZwccURG579EddRx06O0MuaAtGtIK3NYj6KrTdRZD8436S8sSkTaA/8OsM1EAh4aADspLv36bWwVXth2+vRpVnaRV48ePa0uOtDeoUNUTQVYT/tyWE+rVGW3c1h3WC8lwuLx4rDusJ4UOw7rDutJMRJ/v+3DepT20nidOYNvkRXKXcs17Tiv8wTby623dtC5Unmdv7dU5/HVy6GH1mkBD9YlYNvIgZ81a45VKYvPAXFYb0OwHoIkPETjX77hRlvPRIMh7pCH2rDxh2/hkrZhkQd31kt5PK3dbR3WHdZLiUCH9eR48TSY1TsxfCcUm2BabrgoJZbX5rbx79G5ap+6sx7djbYP6026Jg0pMPX1K9QMXSZXXSVyxRUddF2PDjoPMKeTSZdrFb4Vmp6MIRrBOrXXW6s9eRrM2nxKlHjssJJW80vXfr5lbd1ZL/FGVGhzh/Vk+PI0mNXhi7+4s15cF4d1h/Wkx7XDevPP3bacsx7dd4zQKAWGSaV1dfUK6nldRT6nsJ7VdW0ysu22Wfnyl/Ny3HF5rfSSW5W10Lh+jcN6yy2sTaTBFDrrSQ+VNO+X4qiH/Tmsp1G28ts4rDuslxJl7qwnx4vDusN6UptyWK9NWFc8N3c8KuOal5Ur82p61OvqpFn5+9+zWvCjTmum53Vdm7ycempGS2VHOkWZDtFq4hHst85IlTvrSS25Bt53WK+Om+ywngxf7qy7s57UWuPtyGHdYT1tvPgE06ZKtdU0mHjFF2A7l2OOX73WUs/JAw/gqmfk2Wez0qtXnRxzjOiaNqLFPTJWW53KL2E6YGvPAXFYT2rJNfC+w3p13GSHdYf1UiLRnfXkeHFYd1hPalPurNemsx456tEk0blzc1oSOyfXXptXUM9o0Y6MHHlkVmE9K7vtltcy2eTwR4564cud9ZZbWJtIg0l6iLTW+w7rraV0y8dxWE+GL3fW3VlPaq3urLfcjloLLpLuU7W877BeO7De6KpHE2hx1hcuzOsilCx6lJfHH89L+/Z5K8140kkZnVialfXWi6rEhMmkQS131tO1YIf1dDql2sphPZVMFd/IYd1hvZQgc2c9OV7cWXdnPalNOazXDqzjoudyjQ65lkeXceNEbruNxY8yuiJ8XvbbL8pR33//jHTvHhZK4jPRv6PKewH2oxz21qiu5GkwSS25Bt53WK+Om+ywngxf7qy7s57UWt1Zd2c9KUbi7zust31YjzvqXC3AvWhRTh31rNxyS04XpcwrqIvstZfI8ceLjBiR0XVtsgrn0SRU8tTjoO6wnr6FubOeXqvELR3WEyVqlQ0c1h3WSwk0d9aT48WddXfWk9qUw3rbhvU4ZEeTSTO6oGReXn89rwseZeTuu0U++SSvk0hFHfW8HHZYRleCjyaSNn42ctab6+S5s958K3NYT3oClfC+w3oJYlVwU4f1ZPhyZ92d9aQm6M66O+tJMeLOerJCbakaDNcSVXLJaYnGjLz2Wl7uvDMvo0eLrggvWpYxq3XUM3L00TnZcsvISQfsozKN1dGePA0mOWbb/BYO69Vxix3WHdZLiUR31pPjxZ11d9aT2pQ7623TWW86mTS6Ru71e+/hpufkhhvy8uqrOdlsM9Fa6llNf8kqqIt06BDPU48gvxiw+wTTpJYVve/OejqdUm3lsJ5Kpopv5LCeDF/urLuzntQQ3VmvDicw6T5Vy/sO620T1lfhuU0oZWIpbvmHH4rcd58YqDOxtE+fnJxwQk7TX7JW+aWuLspTDyUdmwP1AP4Goz7BtMWm7LBexiedw3oZxVyDXTmsO6yXEj7urCfHizvrq3fuWgsuSonltbmtw3pbg/XIDQfQKc0Y5Z3nZMGCrNVSv+KKvDz2WFY6dcqrm14vZ56Zl1124f+AOikwUanGCMSbj0x31tO1Wof1dDql2sphPZVMFd/IYT0ZvtxZXx2++Munn34q06dPl44dO8rgwYN1EY9uq+oIR85PLb3cWW+5HTmsN9XHYb1twXqYFKprHjUsYkSJxmefFbnxRpEHH8Q5z8khh9TLV74icsABWencuU4deGqpR1qkeWY6rKf7VnFYT6dTqq0c1lPJVPGNHNYd1ksJMnfWk+PFnfXVO3cO6w7raZ4z6+YE02iFUYA9QPvChRlb7IjVSR99FKc9L4ceukzOOGO5gno7NTY6KqjXGahHsJ7O3HBYTxNFnrOeTqWUWzmspxSqwps5rCfDlzvrq8MXf3FnvbguDusO60mPbXfWm3/uBod53rx5MnXqVIXanAwaNEh69epVZSN3pL4E0A4rjlIjPSfPPJOVf/1L5I478rJkSUYOPjgj5523XH8v19VJ2+k1dVBIB9YbVypNA+wO60ktK3rfnfV0OqXaymE9lUwV38hh3WG9lCBzZz05XhzWHdaT2pTDeluA9XANrFCqyxhZ6cV6mTgxJ1ddVacTSrM6uTQnu+8uctZZWTnmmLz07RutZgqYF9ZUT4oZ3ndYT6OSw3o6lVJu5bCeUqgKb+awngxf7qwXd5DdWS+ui8O6w3rSY9thfd2H9ShlB0AH1PNSX5+zWuq33ZbRFUpF3n8/K7vtJnLKKSJHHilarpEJpPGyjFFN9VJeDuvp1HJnPZ1OqbZyWE8lU8U3clh3WC8lyNxZT44Xh3WH9aQ25bC+7sJ6qKWeyUSOevRaKe++m9Mc9axcf32dgrpoWca8nH12VkaOzEi/fjlbxTS8GvPUo+oxaV8O6+mUclhPp1OqrRzWU8lU8Y0c1pPhy5311eGLv7izXlwXh3WH9aQHt8P6ugvr4cypjU65RfLOp07N6eqkwLrIG2+004WOMrroUd5cdf7NC8gn9SX6N4selQbq0eeiyaytNWE7TPhdvny5jBo1SsaMGSPDhg2Tc889V3r37m3zCbLhopKCvhXfd1gvo9gO62UUcw125bDusF5K+LiznhwvDusO60ltymF93YT1iJVDLfVogunHH4vccw+gnpMJE0Q23TQrxx2X0YWPsrLttnmtpR7qrjdec4nZLw0fdFhPalnR+w7r6XRKtZXDeiqZKr6Rw3oyfLmzvjp88Rd31ovr4rDusJ704HZYX/dgPSrLGE0QDa74zJk5Lc2Y1Rz1nIwdm5MuXchPz6qjnpE99xQFdUNH277U/PRiCjmsJ7Ush/V0CpWwlcN6CWJVcFOHdYf1UsLLnfXkeHFYd1hPalMO6+sWrIf66cFZB7znzMnLE0/k5aabqKku0r59Xg48UOTkk/Oy114Z6dOH1UlZDCla+CjsIyk2WnrfYT2deu6sp9Mp1VYO66lkqvhGDuvJ8OXOujvrSQ0x3o4c1h3W08YL0Dd37lyZMmWKOa+sBNyjR48qqyeedDXlez/kSLPH6qqzHlVxiVJgRBYsEBk3Li+3356Xhx4SmT8/Y4B+6qkihx2Wl549cdOj7ZlYWg5Q57gO6+lizWE9nU6ptnJYTyVTxTdyWHdYLyXI3FlPjheHdYf1pDblznrz7ajaFkUK1V+iCaI5WbYsq7npOS3RmJe7787LrFkiQ4dmLPXl0EOzMnDg6hNHP2+OeqFKDutJLSt632E9nU6ptnJYTyVTxTdyWE+GL3fWV4cv/uI568V1cVh3WE96cDusrxuw3pinTr66yIoVeZk0KSN33SVy6638Oydbb52X007LykknZWXjjaOa67jwUanG0iu+tBQ7DutJLcthPZ1CJWzlsF6CWBXc1GHdYb2U8HJnPTleHNYd1pPalMN69cN6APUo/SXKPZ86NS+jR+fluusyugCSyOab57REY72ceGJGttmmnQF6LteY+mIub/oy6klh42kwiQo5rKeUKP1mDuvptarklg7ryfDlzro760lt0HPWW25HrVUXOuk+Vcv7DuvVCuuNZRnDpNCQBqNTC+T++/NyxRV5efrprGywAXXU83LWWStlyJA6adeuDjRvcNPLCelBLXfW07VgT4NJp1OqrRzWU8lU8Y0c1h3WSwkyd9aT48WddXfWk9qUw3q1wnpj1ZbGmuoiM2eKPPJIXm64AVAXWX/9jBx/fN4WPtplF5GOHXHUs6tSX1jWdNXqR0mBUOL7DuvpBHNYT6dTqq0c1lPJVPGNHNaT4cuddXfWkxqiO+vurCfFSPx9h/Vqg/Vijjp/y2m1njr597+Do56R7t0pz5iTM8/Myw47ZKSuLqs/wVEH0stTU72YQg7r6VqZw3o6nVJt5bCeSqaKb+Sw7rBeSpC5s54cL+6su7Oe1KYc1qsL1kOqSyaT07zwqD56NrtMFi/OyZNPttPUlw5W+YXXyJEiF1wgst9+eenQASceRz1cTxkT1ItI5LCe1LKi9x3W0+mUaiuH9VQyVXwjh/Vk+HJnfXX44i9eDaa4Lg7rDutJD26H9eqC9VC1hfsSTSzNKagvkRdfrNfJpB0V1DvIwoUZ2X9/HPWM1lLPaD38qOoL8zFYoTT6N9dV3gowcaUc1pNalsN6OoVK2MphvQSxKripw7rDeinh5c56crw4rDusJ7Uph/XqgfUA542OOiUac/LssysV1EXLNGYV3OsU1DNy+umiq5RmpG/fkNsegXp8YmnSvV+T9x3W06nnzno6nVJt5bCeSqaKb+Swngxf7qy7s57UED1nveV25NVgmurjsF49sM6ZUG4R4KZG+vLl9fL22zm58sqs3HxznS16NGxYXs4+W+SoozLSq1cE6mzf6KhXzk13Zz3p6bv6+w7rpWvW7Ccc1sso5hrsymHdYb2U8HFnPTle3Fl3Zz2pTTmsr31YD3nq0Zk0wvYbb6yU22/PyY03ZmX69Kxsv31GFz0SOeYYkUGDMlbrPFr0KJ76knTHy/O+O+vpdHRYT6dTqq0c1lPJVPGNHNaT4cud9dXhi794znpxXRzWHdaTHtwO62sf1gOg46rjkK9cmbESjbfemtMSjTl56y3R1UkztjLpscdmZYst8tK+Pa56Y+pLJWqptxQ7DutJLSt632E9nU6ptnJYTyVTxTdyWHdYLyXI3FlPjheHdYf1pDblsL52Yb2pq8655GXatIw8+KBo6ktOXnklp4seUfklY6uTDh2a1VrqUaUYwJ60rrXxclhPp7rDejqdUm3lsJ5Kpopv5LCeDF/urBd3kN1Zd2c96QHV2nCRdD7V8r7D+tqD9WhCaZSnDnTze/bsvDz0UMYWPRo/Pi99+ogcemgE67vumtFFkML5RhVfwj5aO55auz1xPDRavny5jBo1SsaMGaP5+8Pk3HPPld69e6t2lLiszAJQa6Ktw/qaqFfwWYf1Moq5BrtyWHdYLyV83FlPjhd31t1ZT2pTDuutD+uNtdSBbfLNIxAF1J9+Oi+33CK2OmnnznkrzXjssRGor7dedYC6+f+rLqK1Jmw7rCe15Bp432G9Om6yw3oyfLmz7s56UmuNtyOHdYf1tPECdM2dO1emTJli4Dh48GCt392jCZQl7astvR/gkGuaN2+eTJ061dzbQYMGaRWWXp9bl7gTHp8gunRpRsaOzetkUpz1aJLpQQfl5Utfysgee0SO+uqVX9ae4g7r6bR3Zz2dTqm2clhPJVPFN3JYd1gvJcjcWU+OF4d1h/WkNuXO+tpw1iMYj8A9L0uWiLzxRkZuuy2nix6Jdpryss8+GTn1VJGDD24E9dUXPUq6u5V732E9nbYO6+l0SrWVw3oqmSq+kcN6Mny5s+7OelJDdGe95XbUWsP2SfepWt53WG8tWA+A3vibnHNA/bXXRCE9L/fck5MPPsjLLruIlWg87LCs9OuXXeWoR/ntjauTrt0IclhPp7/DejqdUm3lsJ5Kpopv5LDusF5KkLmznhwv7qy7s57UphzWWwPWGwE9nq++YkVeXn01I3fcITJ6tMj77+dkp53q5eST81ZLfcCAOj05YD2rkydDBZikO9o67zusp9O55mE95JPFv7Dj0uGexHPOWpLVYT1d0FV6K4f1ZPhyZ92d9aR26M66O+tJMRJ/32G9NWCdY0TAHq1QyiujJRpzctNNebnuuoy8805Gtt02L2eeWS9HH53XOQMsdhSBeqjOuLbKNBZTyGE9XSurWViPA3g0OSMEflPhotyuCNitWbRQi9RhPV3QVXorh3WH9VJizJ315HhxZ331zp2nwTSNG4f1SsM6nBKPw5zySE5d9KymvWTlmmvyMmFCTjbdNC9f/KLIGWeIbL45zIKrHpVnjPBl7dRTb+6Z7LCe7tuqJmG9ENSTepnurKcLpmrZymE9Gb7cWV8dvviL11kvrovDusN60vPdYb2SsB656VpJXX+yUl+fl7q6ZTJnznKdTNperryyoy56lNF0l5W64NEyXaFUZPvtO0i7du0actMb89TDvpLuaOu877CeTueahHWkCQHC78WLF8snn3wis2Z9KosWLdZGUCddu3bRskp9ZMMNN5QuXTo3qNlSWow76+mCrtJbOaw7rJcSY+6sJ8eLw7rDelKbclivBKw3VnuJ0l/CKyeffbZMHnlkpVx6aZ08/ngnZZU6rfqyUieULpEddsgox3TSjduZ+x6BerRSqTvrvihSUluumvdD2gt5XAsXLpDXX39Dnn/+ef39ugL7LOnQoYOCek/ZZptt5YADDpTtthuif2ufuLKVw3p13GKH9WT4cme9uIPszro760lPsdZ2ApPOp1red1gvP6w3TiKNQF3Ls9sE0SVLcvLEE3n5179E7r8/ykk/9tisrsKZ11rq9boIEtvWWdougN5Y+aW6UmDixmlrpZWFTAlfwbRanhwtnAcLEoQled9++21dbvYeLXn0mv6NmdJR4M+dO0fd9e6y//7DdUGBEbLJJv2kU6dODfnrxVJnHNar4+Y7rDuslxKJ7qwnx4s76+6sJ7Uph/Xyw3qYTJrPk/4SgfeSJfXywgt5ueqqrNx+e52sWJHRGur1OqE0I4cckpFu3UJZxshBTpvGm3R/K/V+a3d+HdYrdScrsN/oZoksW7ZSHnzw3xr0V1hQn3rq6bLVVptr8K/Qvz8g48a9qDlgm8rhhx8mu+++m/Tp08fOhs8D9IUvh/UK3KzPsUuH9WT4cmfdnfWkphVvR8VgPf68S9pXW3o/CS5cF1/BNB7v8XgoZQXTyFWPctSBdRz1ZcvyMn58Tm69NaMlGrOaCZCRvfaCXQB1kf798+qoR0UxotSXMKm0+tJfgkat3Z4c1tehp3EIjqVLl2u5o1vk//7vMg3y/vLXv16qM6k3tiu5++675Oqrr1F3vascddRIddj3l4026pvaWZ8wYYLmkl1q4H/hhRdqg9orVUWZUmQMIwRcz4cffijvvfeeLiW8vi1j3FnHwaq9R13KtZaybbi/QZf3339f3YZutux1ly5dXBeNl0JYRx+Pl/xqE0y7d+9e9nZbSiyvzW3j7agQ1tdbb70G4yJpgv7avIZKHDsOF+jC8vHMc+L50qNHD9dFKXHOnDkyZcoU+75El549e9Z0OwptZO7cuRYvfHfzPd27d+8WdQnlGfEGSX2ZMKFebrklr6kvjP5nddGjjBx/fEYXPcorw5AZEEF5lPoSqtdVL6gH85PfaNQa7Sl8zy1btkxGjRqlmRVjZL/99tMUonPtfnBvipmxlXiWlLLPmpxg2nizliuUj5Errvinprh0losu+pYG/44G2HfddZdO3nhEnfUBCutH6QIDOzU8iIPA8ZKO1gcmoWxV0L3xxhvyl7/8pQHW99hjj7I/rOLO18yZM5vAeseOHWsevrgX6BKHdVKZah1K0YUJ1TNmzLDOC18a3omJWnWAUtoPkEFnvdadUnQBvqZNmybt27c3XejchS/aWoZ14AsoDbDunZgIunCQ47COiVTL7Si0kfnz5zfAeujctaRLGMVXJNFFj3Jy4431yiZioL7rrqKLHmU0TZcqMIz2k/ISnPRSMHDtbhu/fp4z8c5vJdpT+P6H8wKsDxs2zGF97YZB8aOH4Kivz2mu+uvmor/55hvqRndRB6CHPVSYaAbADB8+3H423HADLYPUvgH0kr6gCLjf/va3snTpUu0EXKQNS1tWBV8fffSRTJ8+3ToUPAT4UvWXmIOMLjT6zbXorOvSCKXEKDCKLsCpv4DS2QoZU21+yhZbbGG//QUcRFBK+9lyyy1t5M5fIsDX5MmTzYlDF9qTv0QWLFhguvBCl9C5q1VtAkR/9tln8u6775qxx/MlwGgxXaLP5NXwE13oiJVJ85qjntNOc1aLX2TllFNEXXXRbIC2oyrtCX0oOYk+lWxP3IMrr7zSjNl9991XzjvvPHfWqyWU4k509O+Mwdxjjz2qOeoPaZ3Sl+3hS6AwbLfLLkPluOOOl3322cdKOYaSRwHUo0mqOVm5cqUOUS2xH3pr/P2tt96yQOAhfv7558uee+5p25bTXYhfD9dBKgzD9ptq6w3OOtondSyq5f6U6zziuuAgowsdr4EDBxp8lfMelOucW2M/hcP3H3zwvo0oES8hbaqW4yWqRjBLR2I+sIpQxEsYcXBd5qgu75kuxIuPODQ6yIxQ8ZwnXmo1bSrKr47mgvE9yfcoutCmiBegtPG5HOVT18orcnKDLgtsBDyfr1ddBlraavz7KvquDi45Tnk7g/MxYzJaT11k4sScFrtYKUceGa1OuvPOlGgMizaum7rGv5cwBdCHkSriptztKRyL9ko1mGuvvVZTiu63NJhzzjnH5iV6GkwVtcxww8gHmzhxot0sqsIALj16rK83cYUGzAyb1AGojxgxwhpWBOzRKwxP1dfXC642ZR8BdOAQeAeeSYUhF/7UU081Z51tgflyffGH4Rx+L1y40H74Mu3Ro6eVmuTvtZjysboun5kjSDlOfte6LsQfDs/8+QtMD0aTiBvXBV0Wreqw11mHPXR6a7kdES+LFy/S1Ib59iXK6F3o9Na2Lhlbo4OUDyCL747Quas1XQKsR6kYGTWuIl0A954917dRayA0ysFeN6Hy8yJMxApRigqG3rx5C3RXOWtHQZd4RyabrdfnsigrdFbzYEOt/NLdYH3cONHnUb3On5srI0fOlqFDl+mIRVZ5I7tK13XTmGtsK7Sn6DkDTK+//nplb0/hWHzfLVq0SO68804r233wwQdrNZ0z3Vn/vEFe7s+FBhF6ugsXLtLFBJ6QBx64T4O+u676dYqu+jXEYP2uu+42x52bSj4TPa9NNx1gQRTvCQLmpFmMHTtWG9UL1iukxwY4A/FbbbWV5pWdbDnv9NiY1FAJWOchQMoNowJdunTVxs7KZbUN6+gcjXgsNcjo1q3rqhXdXBdiZfHiJQ0LgHknJrL6aJ8sjEY7p3PunZiosgTxEumSMVfddSFeMhYvAAYVO7p27VyznbumsC72HUi88OrWrYt+H3W0lI5ahfWoOktGdVmmhkCkS/R8If0w+j4KnZh27eptouiHH3aTF1/sr3Pneqrxl9EOsshuu9Wrefip8sSHaj4tVaDP2k/EFNU9kbQ5novDemN7ip4zHTtWxkRiJBlGu+eee3TS7gSdoHuYwXqvXr3cWS83eH+e/cUngPIwmT59hsL649ogXtA8783l7LPPttx0Xi+9NEHuvfc+zdN8VzbbbJD2ZEfqkNNOTWYJ0/hwy8nPYxIj6RYM//EiH5gJqgxzEQS77767bctPOWE96MDEjNmzZ1tPlFVXw5dpraXAoEd8WJFhNXTBCezbt6/rYg/1aAIY8zLQhXjxCcmRLvPno8ssG3EgXjxtKnrC8IwjXpi307fvhqvSpqy11WyaHfHCFz6jqXTuiBeev+EZVGvP3vhoAroQL7x4vtT6hOQQC7i5xAtaBV0K02AA9YUL8/Lssx009aW7Ln7UwTrJBx0kmqee1/TcpZoeslCNlpUK/6TiRtVfqm1l0rSMFjc/G9tTnT1nKtGeOB7Pd4y8m2++WfV9wrInzjrrLHfW0960Sm8XDwqGL99++x15+OF/WwrLdttt12Q28KRJE+Whh8hjf80A/phjjlbg3mM1Z725c2afVIOhU0DpRnLW48cvx7XGG3m8dCMTTB2+IoVDlRy+LJhI6dVgIl34wmBEiIehl7RsXMabajBUPaH9EC+emx3FCx3eUA0GXWodvtAEAAslChm5Q5dKVK8ox3dFa+wj/v2GGcAE06h04+aWIlTu77/WuKZyHCPeicHMY6I2xmFhScvgrDP4/uKLomWl8zrCj7FSL3vvvVK+8pWsOsB1CpTR6H5b6QzG46I12lPQLlSDwV1ngimlGz1nvRwRX4Z9xIOCYd1Jkyape36vPPPMM7L11lvLN77xTU116W8NM5O3AAAgAElEQVTu93PPPauTTh9UqPlUhgwZIoceeqjOwN6mwVkv1lDi+2dG8+9//3vrvVENBme93A+r+P6A0hkzpquTH1WDcWc9+jIlFQldundfz3TxTkykC67XtGlTLWXKOzERrEcTTGfrqNgUjZOoGoxPvG2EUnTBkdpiiy2tkxfWeWgr0JD2K6YQSqdMiarBoAudGNclmmAawbro82VL7cTU9noFUd561kZiJk+mGky+oRpMPF+dv0+enJHrrssbrE+dmtHUl5xOfqxXwzCjMEnKS53+tE1Yj0p+0p7qTJ9KtKcA63AepRu9GkzaJ18rbhdPg+FGASyPPfa4Tt64xyZ+7rvvfprysqk9YMhjmjZtuk0s3X///WTHHXe0XhcNLv4wjrvb8Yf4K6+8IpdccklDnfVKOut8WX7wwQcNddYdShvhK4w4uLPemB5EvISSlu6sN9UljDi4s95UlzDiAKy7s974fGkNJ7AVvyLX6FDx779Q6pNnDfHiddajOTHFnXWd8aAMTu2Jt9/Oax51xkB98uS8GoQZOe20nJZozCubkPLCwkdRxRgm8raF19p01qnY54siVWEUhaAIvwF0HHCqwTz//Dgb0qQRMPTNQ6Zfv35y4IEHG6xvsEEvzRFr13BVSc76yy+/3GQF00rCOtcTXxRps8028xVMuZOrVnalIwOs++I/EWSgC7DOZGhgnXjxFUwjXeKLIhEv5S4dVoWPxWZPKf68RBdK8QHr6OLpHo0rLpIeRBoMuvgKppEucVhHF1/BNAJrdCFecrl6i5eePVnBlJLOlGUUufXWvP6IcklWtt02J1/+ct5AvV+/jLnNYQSwrTrrwRSoZHsKzjqTWa+66iqDdV8UqUq/mbhZYViKCR9vvvmmVXKh9CIl7QCYDTbYQIdhtrJc88GDB63KVc/Zg6i5Yd94D7E1YR2Z4znrPAQ8NzsKPnSJr2Aa0hpqbeg+QHpoksB6fAXTkJtd67ow2kYuf1jBNHRiGr8kq/ShVoHTio8ahi9R0usYufNOTDxtamrDCqa17iCHdhKH9TQrdVYgfKtml6unTZGzntfFouj09rTJoTNn5uSWW+rkn//Ma+UXMRf9rLPycvrp5LbDK3X6k9VtYZCo+ktbecX1idIQK9ueAqwzn9BXMK3SKIoHRQB24IQeFrlkgDulGOnV8aUE2PFlHcraBVBvbnKHw3p13Pg4ZDisN96TuC4O68V1cVgvrksYceBZGGA9dABrrYOXBBeuS1Nn3WG9sSzjvHlzFUanmVm41VaMaPZS9qjX0f2cXH55O61MIppum5MTT8xqFTnRCnR5W/Qo6gRFP1HVl3W3+kshJbR2e3JYrw5OS3UW4WbFg6SlDxZCvjvrqWReaxs5rBeX3mE9WReHdYf1pAdXa8NF0vlUy/txXdxZb9qOAmTPncsEyik68p0zWJ8/v7eWj86pw5tTUK9Tp11sIqkuzaKj+hk1DBuhnH2QLhPtq+28Wrs9OayvY7FTCOxJpw+gN+eoh8+6s56kYuu877CeDKXurBeHUod1h/Wkp1Rrw0XS+VTL+w7rLT13qd6S1fUK5mvO+ru6XsFKnd+wma5KuoFccUVGy0TnDNRPOCGreeoZXZ00p6Ae1VDHRWcCKhNK1+V66s3FaWu3J4f1anlilHAeaYE9DahzWIf1EsSv4KYO6w7rpYRXPF4c1h3Wk2KnteEi6Xyq5X2H9eJ3Ilq1lYovrAQ8V+dQTdKSwjn9vZncd9+GOsExq+ux5OSII0RTXzIyfDirm0rDYkcRf7Q9R72YyVksZz2wVbnS7RzWq+WJsRbPw2F9LYofO7TDusN6KZHosJ4cL56zvnonprEuf9MJceWGi1JieW1u67C+uvpAdmN+eV7nxC3UghYz5Mknc/LUUxvrei49dS2WrOyzT05LNNYpqOe1uEUjnLe1lJdi8dnanV+H9bX5lKiSYzusV8eNcFhPhi9PgynuILuz7s560lOsteEi6Xyq5X2H9aIoaq44PzjrCxcukwceWKB11HMK6t3Uae+ka7hk5JRTRI46KiP9+7OPKPWlXE5ytcRHc+fR2u3JYb3aI6IVzs9hvRVETnEIh3WH9RRh0rCJO+vJ8eLOujvrSW3KYb2pQpGrziunP1ld9IiyjDmt7Z2XO+7Ia831OtlpJ5HjjsvL4YdndBX1rOayR9u21cmkRbszq4RqrZEqh/WkllwD7zusV8dNdlhPhi931leHL/7iznpxXRzWHdaTnu4O6/EYiXLMyVfnty6Yrgsd5bVEY0brqWfk9dfzsskmGS3RmNdJpaIrlcqqCaVMJm3bOeqFceTOelLLit7PqFAN/b90H/GtmlPAYb06YsNh3WG9lEh0Zz05XhzWHdaT2pTDepTuYmBlZRYbF19k0aMxY/IK6ll55ZWM9O6dMzf92GMzWqJRdBG2pmUZayFXPcSTw3pSy3JYT6dQCVs5rJcgVgU3dVhPhi931os7yO6su7Oe9GhqbbhIOp9qed9hPd52ArTnZc6cjE0ovf76vDz2mOiCi3mt/JKRM87IyK67ZnRhpAD5GXXV285iR2njsrXbk6fBpL0zbXg7h/XquLkO6w7rpUSiO+vJ8eLOujvrSW2q1mG9MUcBRz2qiT5rlsjYsSK33y66+FFeK78slV12WSinn56Ro4/uLuuv30lTZXDigXQtpr7KlU/Sui2977Ce7m56Gkw6nVJt5bCeSqaKb+Swngxf7qy7s57UEOPtyGHdYT1tvDBRsHZWMI2c8KgOOpDemAozZ45oxZeMVX55/PFo2dGdd54j++03Qw48MKNVYAZq+ktP/UzOKr/USvWXwjhyWE9qWatGaTxnPZ1QabZyWE+jUuW3cVh3WC8lytxZT44Xh3WH9aQ25c56KNGYl0WLMuqo5zX1ReTuu0Xrq2c0Rz2v5Rk/lk03nSJ9+2Zk4MAtpUuX3iZrBPsAe5LKbe99h/V099Sd9XQ6pdrKYT2VTBXfyGE9Gb7cWXdnPakhurPecjtqrVJzSfepWt6vRViPrjmqix4WQKLyy+uvZ+Saa/Jy8815Xa00WpX0/PNFhg2bLQsWTNMVS0WhfbD07Nm7ycrn1XIvW/M8HNbTqe2wnk6nVFs5rKeSqeIbOaw7rJcSZO6sJ8eLO+vurCe1qdqDdUA9gvVcDld8hf28+y7lGTvK1VdnZOLEeq2lvkIuvFBk5MgOujrpfJk8eboujpSTwYMHS69epMFEJWQ8DSYjs2fPlqlTK7sisE8wTWrJNfC+w3p13GSH9WT4cmfdnfWk1urOujvrSTESf792YL0xTz0seAS053LL5YMPlspdd9XJtdd2kldfbafu+Uo566yl+iOy4YaddILpQpk0abrWXV9psN6zZy+HdV8UKVUzc2c9lUzpNnJYT6dTpbdyWHdYLyXG3FlPjhd31t1ZT2pTtQLrjbXUAfSopnomUy/vvbdSRo8mTz2roF6noJ6Vk0/O689K2X578tLbq6O+QJ33afrvehk0yJ11YsrTYJJaVvS+w3o6nVJt5bCeSqaKb+Swngxf7qy7s57UEN1Zd2c9KUZq21lXUrdKMDmZN69e7rlH5B//qLMKMJtsAqSLlWjcfvuM1NVFSi1YMF+mTJmqkJ+TzTYbpIsjubPusJ6ulTmsp9Mp1VYO66lkqvhGDusO66UEmTvryfHizro760ltqhac9chVB9KzBunZbE4++YTSjHmdUFonTzyR1QovGfnCF0ROPTUv++yTkU6d9BOa057VMuqUtJw2DVjPq7O+meas+wRTh/WklhW977CeTqdUWzmsp5Kp4hs5rCfDlzvrq8MXf/EVTIvr4rDusJ704G7rsB4mJuKKhwown32W01VJ83LddXldpTQrnTtn5OCDs3LCCSJ77SW66BGVYkIddWB9/ipYzymsD1JYd2fdYT2pZTmsp1OohK0c1ksQq4KbOqw7rJcSXu6sJ8eLw7rDelKbasuwHtVBj+qhc53ZbEbzz/Pywgt5ufHGvDzwQN6quRx6aEaOPz4re+yR0xQX3Hf+3ljpZd68eVbtBOB3WI8iymE9qWU5rKdTqIStHNZLEKuCmzqsJ8OXO+vurCc1Qc9Zb7kdeZ31pvq0VVgPjjq/w+TSFStEXnlFtI66yJgx5KLndGXSjJxxRkZ/i6y3XgT3wYHnN/93WF+9TTmsJz2JHdbTKVTCVg7rJYhVwU0d1h3WSwkvd9aT48WddXfWk9pUW4T1po466SxZWbYsJ++8k7eVSe+6S+TDDzOy447RhNLDDmNyadacc7aN3PjIdeflsO6wntSOmnvfc9Y/r3JFPuewXkYx12BXDuvJ8OXOujvrSU3MnXV31pNiJP5+W4R1ri+6rmiV0qVLRRc6ysv99+et+svkyRnZaqu8nHSSyJFHZrTCS+Sg8yJVJqxq6rDefCS5s56ulTmsp9Mp1VYO66lkqvhGDusO66UEmTvryfHizvrqnTtPg2kaN20N1gNohxz1lStF3nwzL/feC6jnFdSzMmBARo49VvQnL0OGUPElgvoI7kOeuzvrLT2PHdbTfVs5rKfTKdVWDuupZKr4Rg7ryfDlzvrq8MVfvBpMcV0c1h3Wkx7cbQnWQ/pLtOhRVKrxgw9ymvoSTSh96SXRdBeRE0+s05+MbLddXjp2zFhJxkJg9zSYliPHYT2pZUXvO6yn0ynVVg7rqWSq+EYO6w7rpQSZO+vJ8eKw7rCe1KbaCqyvXvlFZOZMkUcfFbnhBpGxY/PSrVu9HH10Xhc9qpNdd81Khw7UUg9VXyJnPaTDOKw7rCe1nTTvO6ynUSnlNg7rKYWq8GYO68nw5c66O+tJzdBz1ltuR54G01SftgDrjaAegDsnixdn5JFH8nLllSIPPxytRnr00fVy5pk5raXOIkhMKGUyaWO6S1wZh3WH9aRnbZr3HdbTqJRyG4f1lEJVeDOHdYf1UkLMnfXkeHFn3Z31pDa1bsN64yTSKFc9yj3/7DOR8eMzcu21pMDktBKMyPDheTnnnLwcdFBGHfYA6rjqlHaMKsA4rCdFy9prT6HztHz5chk1apSW3hwjw4YNk3PPPVdr4/e2Sj5ZlputspfDehlviMN6GcVcg105rCfDlzvr7qwnNTF31t1ZT4qRQig1zFVanTt3rkyZMsX+PXjwYOnRo0eTxW9K2W/lt41APVR9idz1vCxalLGUl5tuEl30SPT/OTnggOVaS32ljBjRTlcf7aCfId0l+ok76A7r6e+a56yn08phPZ1OqbZyWE8lU8U3clh3WC8lyNxZT44Xd9bXnhNYSiyvzW3XTWe9EdQBbiaI4qjX14tOIs3IFVfk5fbb8zJ/flYOPDAvZ521VA4/fKWCenvdtuOqWuo46o056oX3wNNgWo5Kh/V0rdZhPZ1OqbZyWE8lU8U3clhPhi931t1ZT2qI7qy7s54UI+u6s95YB5166lwNeec5LcsomvqSlauuysj06TnZaaeMpklQprFeq8DkVqW7kPISHHXSJhpLNrqznj5yHNbTaeWwnk6nVFs5rKeSqeIbOaw7rJcSZO6sJ8eLO+vurCe1qXXXWQ+gDoTnbdEjFjwC1idNysjWW4t86Usixx+fkc03j1QgLz1anRRHvTikB73cWXdnPantpHnfYT2NSim3cVhPKVSFN3NYT4Yvd9ZXhy/+4nXWi+visO6wnvTYXtdgPcpNj1xyLbyo/66XqVNF66hnNE89I++8I7LttqLlGbNa/UV0ddK8tG/PhNKolnqoHJNGF1/BtHmV3FlPiqBVHUQVygZ//LXmCjisr7mG5diDw7rDeilx5M56crw4rDusJ7WpdQnWGxc9AryjK5sxY6VWBqFEY5288kpGBg6MHPXTThPZZpsozSVeSz2q+tJ0xdJiGrmz3nLkOKwntSyH9XQKlbCVw3oJYlVwU4f1ZPhyZ311+OIv7qwX18Vh3WE96ZG9rsB6qPZCCksE0iKzZ+fl3ntzcs01ORk3LiN9++KmZ+WkkzIydGheOnVi0aNoEmlS2kuhTg7rDutJbSfN+54Gk0allNs4rKcUqsKbOaw7rJcSYu6sJ8eLw7rDelKbWhdgPQ7q0YTQvHbQs/L003m5/vqcPP54Tjp2zMgRR2Tl1FMzssceorXUGx30aEJplK+e9uWw7rCeNlZa2s5hvRwqrtqHw3oZxVyDXTmsJ8OXO+vurCc1Ma8G03I78hVMm+pT7bDeuDop5x2VW1y4MK+gLpaj/thj5K/ndIGcjJxwAosfZWSDDaJ8dpFosaNSQd2OZO59RPfz5s3TvPiptvDOoEGDtARkryquP5/0hCjP+54Gk05Hh/V0OqXaymE9lUwV38hh3WG9lCBzZz05XtxZX71z57C+7sB6HNRp7+SpL1gg8vLL1FHPaK46qTAie+8d5amPGCGy0UYidXVRqkwpE0oLW5PDestPY4f1dN9WDuvpdEq1lcN6KpkqvpHDejJ8ubO+OnzxF89ZL66Lw7rDetKDu1qd9cIc9Ww2L0uXZuW113Jy550id9+dlw8/zGvllzrLUR85MqeVX6JZp/FV50tJfYlr5bDusJ7UdtK877CeRqWU2zispxSqwps5rDuslxJi7qwnx4vDusN6UpuqRlhffTJp5v+z9yZQUlVZuv++kckg8ygzgoyKogjIJCoODCooTjiUJYplV2lZ3au6u6ped79/d7/Vb/WqwRqkurrrKeKEAyqKgExOOACCAgqCMg8yz1Mm5BD3v79z8mScjIzMcyPyRmQksWOtlDTjRsSNfc8593e+8529qaTEp+3bAelI0xil9et96tXLp3vuyaM779RZYOrXx4ZSwLo720uQuIgNpuooibLuakH6eYH1YHEKdJTAeqAwpf0ggXU3fImynlhBFmU9cVwE1gXWXQN3NsK68abb6vbOnVGaP99jUPfpiy98trtEWVH3adKkPLr88rwKHnPznVNV1fF6UdZFWXf1nSDPC6wHiVLAYwTWAwYqzYcJrAusJ9PERFl3txeBdYF1V5/KHljXFUX1+Zh/taXl+HGfFiwgmjbN5w2lEWrRghjUS+nhh0upX798Ou88FD0yirrrGwd7XmBdYD1YS6n+KIH1MKJY9h4C6yEGswZvJbDuhi9R1kVZd3Uxux8JrAusB20vsHwcPXqUtm7dqrKgXHjhhQzFLWol6wmqjeIBUD90iOiTT6KcojFC773nU34+0fjxPlcojdI11xD/fx6DOrK+oJppJKXML4liJLAusO7qO0GeF1gPEqWAxwisBwxUmg8TWBdYT6aJibLubi8C6wLrrj6VHco6UjLiTLXX3IAyUjS+/z7R889rRb1ePeKNpKU0ZYrP1hfkUseGUr2pNFaZ1PWNgz0vsC6wHqylVH+UwHoYUSx7D4H1EINZg7cSWHfDlyjrleELfxHPeuK4CKwLrLuG5NqHdW170XnRPVbJkXKxhAoLo7RsWT4980yEZs8mzgQDUCf68Y99TtHoqyJIWlFHhVLkWtc51cN6CKwLrIfRlnIe1k1HsgEvSGDN7m77WIH1IJFL/zEC6wLrybQyUdbd7UVgXWDd1adqG9a1oq5tL9qrXsKZX85wLnVYXxrSzJn1OZe6z1VJo/TIIxEF7K1aacAHnFcsehQerQusC6y7+k6Q53MS1u2bsy4fHKswFiRoVR0jsF6T6IX3WoF1N3yJsl4ZvvAXUdYTx0VgXWDdNULXFqxrSAds61+wQRS/nz1bSuvWFTOo+5xPvR4dOJBPQ4YQp2j0aOxYoi5dAOm6kik87alUJ3XFRE0fpIJptWGy281hrkyFCq95eXlqr0Pz5s3Va8NiNPu9ioqKaPr06VwQay5Xrb2KJ3CPUOvWrVV12YidYD/IRc7AMTkJ63ZcTSMoKcFyWSEvkZ2h0tJSdcHyeQdKw4YNeZmsAXvc6pWXDNYDQ+WZt8B6BlpsgI8QWBdYD9BMyg8RZd3dXgTWBdZdfaq2YN2cl+/D/gLfOQC8hL791mePukcvvxyhvXs9GjrUp4ceitBNN3nUrh02kUKo08Aeu6cbK43r2wZ/XmC9+lgJrAdrSzkJ65UtLx7t2LGTfW1L6bvvvqWTJ0/yrPwstWzZkjefXE5XXHEFderUkeGdKyWULbMlmnkJrAdrdOk+SmDdDV+irFeGL/xFlPXEcUkE6/Z4l+4+nU3v74ILiUtms8EYZR1xhyDKWhtnoimmWbM8euGFCN/TI9S3r0c//CHyqXvUvbtW0c0m1ETCW5jtzW4Px44dU8oxxMDufCKtWrWqlSw5YX6/mr5XpvuTmTyJsl7TK5eB15vGgX8xGz906AgtXbqM86++Sxs2bKCiorOssJ+ltm3Pp1GjRtGYMaO5s/elRo0alS/HuJT11atX09SpU6m4uJgef/xxntUPDb1T2t9jz549tGvXLrVshEHgvPPOC3XpKAOXJbSPiI/L999/z7v9m6hlNfsahvaBdeSN7LjYsI64NG7cWNoLjwc2rPfo0UO1m1yHL3x/wPrOnTvVaiPaS7NmzVSrD3N5uo50owrtAXGxl+2RolDi4tGRI0cqpG6E8JWOfqTf0878AhU9Sm++6dNLL8EGAziP0O23R+iOO4jv4z5XJ0VaRoC9Xh1Pl/3FtGe7jyClpQ3rsF2kIy51pS+ZvqKmTrzSkYn+ZK4HBFnYYObNmyc2mGxtMJjVmvRMBw7spxUrVtLKlau4oRzkfLDNqEOHDirPar16Dahjx05cirgHde7ciYGmUYWvZPzudqc0jW7NmjUK1mGveeyxx9grNyT0Tml38t27dxOgFLDerVs3Zd/JxRtpfOfHJAZxAYwCMmQSowdFA+uIByZ3Aus6LgcOHFBQWp/rjaO9CKzHbqLbuUY74oL20rRpU4FSbi8GSjGJQVzS4bHN1vto/HklssFgBRpxSVeedfRZZH3R4plPfBukDz4g5VNfvjzKq+PIpR7h6qQeDRpEfF80nvbMRdW+Dx8/frwCrKdrEpO5b1fzT7LbDfoTJjNoN+n2rENIffbZZ5VnfeTIkeJZr/mlDOcd7A4DWNdQHaGvvvqKyw6/zIraIbr66pFcHOFaLj/cTnnUi4pK+adYDQINGtTjn/qqEcVvQDCNLfa+Hm3atImefPJJZaeBsj548ODQYd1WcPbu3VuurF94YXc+//o5C+t2XPbt26fiArhA5wds5Ookxo4LFAzAF1YaEBeZ3GkoxQYnxAX7VKCsm8mdmYSHMxrVjXdJBF/oPz179pS4lCmBgK8tW7aoDXGIi5n05np7OXHihIoL+hTiks5Jr/Gd86WghQt9eu01j8U34jHf5/t5hCZORAYYUtVKoaKnW0mvbhJz6tQpFRewAsYXrFCJsh7bM5CJ/mTu/9ibCGX9nXfeEWU9O29JpmiC7rQffPAR/fd//xdDXD3627/9GdtVhlU67dJSwD2WzXTRBPOoLpPMxo0bFaxjwypg/UoeLdLRKU3Ds20wAqWx5fm9ewHrO8thHRAmsO4puwegFKtFF17YQ2C9DL7MJAbtRKA0dhM1ihdEDMQFkzx78pedY316zireg4xKnbg3GCiVuHgE6EJc8EBcIJaEe//T9hc9lhNXTPV5hdynV18l+ugjT+VOv+46ogkTiO+9HnvDdVvINKjHtwXsh7NhHSsx4cYlPW0+ne8a358QH6xUGRti2P3J3P/hejCwPmLECKWst2nTRrLBpPNiB3lvc4HQWY0CXlJSSosWLaa//vUvqnE8+OCDnM6pKwN2oVJg4SeDJQbqmg3o+N2o65idFRQUKPjBjf706dPq0O+++47mzJmjFIUpU6YoZR2vsdX3IOdd3TGmkeMYfD5+oOzgnA2U4rl0b6Cp6fcI+/V2XHBNEBdcQ8TFKMi5HpfDh4+w5WO/iodp47l607Dby7FjR5VFCJvJO3bsUL7HIdfbCzbGYZUqP7+eigvGmbBvomGPA+l6P7ufAEqxqhmJ5HE/ap+z9iCT49zYSxEXtBfce9q3b1+2xyFWXTS1okM6zaLO3oL0eri31ecNpY05l3o93lDq0/z5xPfgUhbdCunOO8/Q8OE+gzo86touY3Kqp6ttJHpfWxwCrO/bt1edC8ZdUda1sGbG11i7iaSlP5nPwkoYhNSXX36ZBdsP1N7Ehx9+WFI3ZrJjVPVZGq71hpKSEkAzMWSf5hLE77G/7UX2Hh6lAQMuV8uZ+/btV/9ecskldMMNo+nSS/spmNdedwwWsdzsmJ3B47pixQr64osvlD8aXigsA+J3qAqTJk1SWWUA9rDFhHXjtwcBTBhOny5QKwRNmjTl881TnSAXVeT4uBQUFLItKF9NnHAdcz0uuFEWFJxRE0uJS8VNkhjAERf0f7QXKMm53l4wXpm4AEoRF4wzEhfi8byI28spBYFNm5q45N7GWwPruMfid2TagOUDY03jxk2UhRSPmgGzgXVO0MiVSZEcori4Fd+vO7Oa3pQWL/aJtyjxHrMzNHr0frbAHOSJQgl/Zj7f8/U10bCfWSIx9yN87tmzxSou+JtuLw34ZHLzPm2ugn2/jvWnCMencdk4E15/Mp8F8Q7XYTaXtEUykNGjR9PkyZNVdh7Js57Z/lHp09Cx4VHHvyUlvho0Dh48wBlg5tHrr7+uPOuA886dO6slPNhKsNQ7YsRIXk4bRV27dmZ1NrbBFBcdS5+AdRyLC/7111+r3/E3eF+xnHPBBRfQvffeq9I/4u8YxMKGdZwLJh6nTgG+6qtNTgLrekTGBAadElCq4yKwjpsG4nLypI4L1B2BUn0Tx8TuxIlT3E4iqr1IXHQ/Qg0KtBeMec2bNyvf+5HLYgBEG8TlxImTKi7NmjUtX9HMtbjEwzomd2gveOi4NFSKeM1hHaDu8WS6lMf1KK9gN6fPPutIS5Y05pVCny66yKebbz7LCR0O8QrQET62lCeaWlnXinyGSR0oXlYUCe0FcUF7AaAjLg0b6qxtudZebECz45Pu/mQ+CyvKEGXefgb7/iYAACAASURBVPttJbLecMMNnIP/IYH1WuZ09fH6Iumd4KZzwMv8+uszeYPpq2qwveeee2jcuHHq+eXLl9Pnn3+u4A6ZXLBbGF5ws8HUKOyYhUEtx/KWyc+O55AC8pVXXlGvf/TRR9V74Fio62HBuh1XZLHAciy8gZhwGBtMLg4C9ndGXLAci4lX165dJS5lshImk5hYYtDq0qVL+YbBXG4vCA3sQbt371EbymGJM6k+czsuOm82VgoxeUE/krjoFdZjx45zXHap+wLiYjZS5lp7idlgdFywsoyN/XggLsazrm0INVG3UW3UZ9HL56JHxJsD89luWp/330To4oujbH3x2ace5b6LlXSW0xmKS0q02p9pRT1eOUZcwAiIC+LQuXMXNfEVWNfZfHR/OqbGmXT1J9MvsXIKbnvxxRd5RWYxr8JcIzaYbAD12Dnomb3xcMPu8irvSHnhhefZq9SKfvnLX9GNN96oDjee8y+/XKWyw9zBSVqHDRtWvsnU5QNH+qFf//rXSnl54oknOG3UoLRsJDGND0C6c+cO7vwt1KTCKIKu88yu6xPO2egbgp2icAffLJrlfDYYOy56I+U2hq7GaiNPLm+8teOiN1JuVUogLGyyx0H3I50feqsaV3r27CXZYMrGF72RckvZBtNekg2mLC6xbDDE40svZfmw+1kqI33ZsK6gGyka33yT2HPsc0Y3j1ewS+mBB0rottuQSz1P7SHQk4LaUdPjlWNzP9LZYDYrDknPxttUIlu7r7HbRaw/pS+7kmEmiKfYYAp1HRtMf/SjH4ln3QTHXBTTcO3/t5tLdVlWUm9Wsd3jxsKCJe9Zs2bT00//lQsgtab//b//P/anX6I+AjftDz/8kDes8I4VfkB1v463lxsbhYFg+zvYjQ7K+h/+8Ify1I3pyAZjfx5UdXjnsXSP1I3wwuWaumMrGaaN6UmMzgYDKM3l1I12ezHZYKCQIi6SujGWuhETbckGU3Hjl2SDsSQfSwyAEoisJ3l5Ee5HOkUhHrk49trji526EeNLTbPBxEDd59UvjwvZEOfI9nn126Pzz4/S3Xf7bGOIUu/enrKAGvUe9hdTdTx1dqjZK+22YGeDAazLBtOK40wm+pO5HnA5IM+6nboxZ7PB2I00HtTNgGagygYtG4TDUob1MpgGdq2u60Yyf/4Ceuqpp9Ry1L/8y79Q//791akA8t577z36+OOPGWQacAW0O5QVBssn9qBUFaybokimgmk6iiLZMYyvYCrwpVuUKYpkKphKUSQdF7uCqRRF0isxeNgVTKUoUiwuWInZsWOHUtYRF8CXLkijN93n0sMe/2EnsyuYQiyRuOiVGExiEAu0l9SKIkEZRzIIpEyGreUs2yR8ZX158cV67FP3eWWwmO67r4R++EMUPaqnQB3HRyJRvk/jdbE2XFtt1IiD+BcwalcwxYbGmq441Nb3CutzM92fDJdi/6BUMI27ilVBOw7DYA+gxb9IC4YNb+aRDoXdNAxzTiu5egIuGJanbr75ZrUcgnMBbCPDCzaD9O3bl1X1a6lPnz5qea0q1cRudJmAdXuiILAea3TxcYEHTmA9pmAIrFccoOz2IrCeuB8lgvVchQwXXEhcagrrOmuLAW0IbYBvrIQvWVLKlcHr86p3A2YFj22rZ7g+ShHnUs/j1TCkWI7VQjFpJMOCylTfx24PAuuVo5jp/hQP66hgetVVV+V2BVMTFMAvMqEgrzkAHBlLkG0BkI4Z+J49u3lnbiG1a9eeN6N0KUvXg0JEetNB2A871zluzkuXLlU7gvE7lCOo51AeUQxpwIArGNSv513mfXjJqonKKFNVah+B9bCvVGrvJ7CeOG52XERZTwylAuvBYR1HViVcpNZz68arXHAhcakJrBuPuVbEkRACoH7mTJSWLUMRG2LrKtTzPBo71qP77y+lMWNKWIzBfbmeuj9DjbehvbZbld1HBNaTh/Ww+5PAeoIeYaAWOcCxCefkyQJOp9RRpUFEwLArGpCMDRcA8y5dLmAo7kfdu1/AtpQm5ZtBwwZ2W13HaWPC8Nlnn7EPbp5Kt4gcwjrrQTeeuY/hncIjy4td6DyysU2q9tcWWK/tYVF/vsC6wHoyLVGUdXd7SaSsh30TTeaa1eaxAuvVtxezITkVG4zJKmM+AeANUF+71mdQj3D2tghzBLEl1Wcl1OP82B5bbGL507W91WR+CV/oS6XdCaxXH7VM9yeB9WpgHf7vN998g9XqgzwLHsNWk2GsqpcQlh+QlB6blzp1Qh7z83izyPlqI+egQQPLiw8hjU86HnaRI2zQXL9+vVLXsVkI2SDgJ+vevQdX0jpf2V9cyfIF1tNxlZJ/T4F1N3yJsh6LkcC6u70IrFduL4DSRJ51mcSkpqzH9pVpRR17zIqLS2ndOp8h3aeZM/M5C0yEq4ET1y7xafx4CHyxyqTAhNpM0VjVnUpgXWA9eYqp/AqPG1LadmBgty0sJdhQ8bvfPcl2l+/pxz/+iQJ2DHLPPfccLVq0SKXL6devnzoOKvddd93F+VLvrJR5JYwvHK+8xmbwWjGPfxjffPxxidR+gfWwrlDN3kdg3Q1fAusC665eZvcjgXWB9aDtJRVl3UA2ihaaAkYoSbJxYwmDOtEbbxDn387jBBAeTZzo8f4yom7diBmhIqDr+3Ltp2u0YyWwLrDu6jtBnk8rrMOnjlSHgPDf/OY3XLRnD/3kJ4+pBPRr165VaRGhqg/mqTJ2jMOG8uWXX3LmldtV6Ve8Fo+wbTDxgQnLdymwHqTJpf8YgXWB9WRamSjr7vYisC6w7upT9v0vmWwwMVA34I16KB7bZKOcA5votdd8hnafEz14nKIxwmIfcY5yA+rZkUu9utgIrAusu/pOkOfTCuu2sv7b3/5Wpf667777OBdqH06JuETlv77iiit4o8hYVRFv2rRptHDhQq5ANoGmTJmS9pzY9uDiWmAIkplGYD1Ik0v/MQLrbvgSZV2UdVdPFGW9+n4kNpiK8UkV1qGEQ03H62FlKS72WODzOXUyNpMSff01cbVPX1UnvfPOPM5njzSO2hpr8k9ko/3FREdgXWDdNdYGeT7tsI5OhdR5Tz31J/rmm29o6NDhKo0e0iI2btxIFRsaNWoUp2Uq4OJET9MHH3ygYP2hhx5KO6wHCVAyxwisJxOt9B0rsC6wnkzrEmXd3V5EWRdl3dWnUoF14zw1sA2v+o4dvip6xNvZmBl8tsn6NG4c8Yq7RwMHIpucPhMtoMWA3XV+tfW8wLrAehhtL62wbjZkwuqyYMECBvSVnL6xWOU0P378BF12WX/lT4dfHSr7K6+8ooAeSvvdd9+dNs96GIFL9B4C6+mKbHLvK7Duhi9R1ivDF/4iqRsTx0VgXWDdNQqnAut4T12kUCvrnIuC3n+fmAWIli/3OV0yMaj7LOoRp1H2+P9jqZPrAqjj+wmsC6y7+k6Q50OFddMoTac1/w87DAb7r776SqVqBCi0a9dOJaIfMGCASouINI4fffSROg4e9uHDh5dXC023Zz1IoIIcI7AeJErpP0ZgXWA9mVYmyrq7vQisC6y7+lSysB5T1WFr8Xii7LM91ufMccT/AnI93t/m0aRJxBnifF6Rx+bR2AbSNJRgcX3FlJ4XWBdYT6nhxL0oVFh3nVBhYSFt2rRJbSrt0KEDp0XsrqwueKD0K1I8njlzhlq2bKkyxMBCE9bmT9e5hfG8wHoYUaz5ewisu+FLlPXK8IW/iLKeOC4C6wLrrpE5KKxr4NapGbGRVFcnjdDnn/v08stRevddnxgV6OqrUfTI45zqERb3dIYXXc3UdSbZ9bzAusB6GC0yVFi3lXVYXc6ePatypwPIAeGnT59WUI7jkOkFP/jd/MA2g7/B0964cePypTFR1t3wtWfPHrU60bx5czUJatiwYZ2a6ITRmM17CKy724vAusC6q8/JBtPq+5FsMK0Yn6CwrhVx4zfXYI5NpG+84XH2lyivvEfZmx5lUI/QrbfmUZs2tpVEK+t1hQnwTQXWBdZdY22Q50OFdeNRLy4u5oqgn9LmzZvp0ksv5d3bPVVKxuXLlxMsMQBx/Ivj8K/p5Pi9ffv2PJMeyX72y8o7ZF3pmKKsB2ly6T9GYF1gPZlWJjYYd3sRZV2UdVefCgrrNqjj3o60jDNmRFlVj3Clc4/v/VF6+OESTjThcbHEfLbDmhooSNPoOovse15gXWA9jFYZKqybRgn1fBbnXFq9enU5eKP40Rtc2QDqOjzqeADu1RybeyDAHTYZ5Fu/9957uYzwaPGsO65wPJSKsq4DJrDuhi9R1ivDF/4iNpjEcRFYF1h3AUcwWNdpGgHdJSU+rwZ7XMncp+efh7ru86qwz4p6lH7wA2KRD5tJ8xQfeB5YAbbY7M/+Eh8ngXWBdVffCfJ8qLBulHUUQ1qz5mtO2biLixf0pI4dO3DJ4LW8ufRLZYdp0KBBucXFwHpJCZT2IrXxdMiQISpDjFHURVl3w5fYYBJDBuKC1KGwVmEiCFtWXdoHEaQTBz3GnsQIrAusu9qN2GCqH3fFBlMxPm5Y19VJtaCic6nPnh2lmTMjXCSRqGvXYs4OV8SZ4Dzq06c+p2jMU8dh86l+b1HWXX22Lj5vtxtUtkcRzby8PHW/hq3XCHBhcaAtKk+fPp0ni3NVspNHHnlE7ZU0HJttsQwV1m3P+tmzRexPL2Ywr6862+nTBQzqheUAjoAgZRM2i3heRP0grSP+3ozzNeHHPMK6SOkOvthg0h3hYO8vyrp7ciewLrDu6k0C6wLrrjZiP58I1gHYPXpcSC1atCjfm4aNpfv3R1TBo2nTorRqlUddukRYTS/mFI2FdPHFEd67hj1XqGBedyHdxEaU9epbkcB6sF4WKqxX9ZFQ2lH0CA/41TFrwkTZ97G0pWfOeGCp9fjx4wrUJRuM+wKKDcYNpaKsJ4ZSgXWBddcII7AusO5qI9XB+pYtW9W9vXv3CznDW4sycS7Kwl2UFi+O0P/8T4QWLUIudZ/uuMPjquVEgwYVs6IOJT2vrEopYB3pXzS018WHwLrAehjtNlRYt5V1nJxZTjh58iStXLmS9u7dyzPoLnTJJZcoGAfEIz0jssZ8991G3oT6hYL6K6+8kjvtIKukcN3opKKsh9Eka/4eoqy7JzEC6wLrrp4msC6w7mojVcH6kSNH2c6wVT3ds2cPBvIWIAI6dqyUUzR6rKh79N57nto8Onas9qgjRSNrecwNxpde9zK/JIqXwLrAejL9qKpjQ4X1+A9Bdheo6ID0GTNm0NKlS9mX1pVuuukmBeRYGsPG0nXr1tP8+fM4g8xnyluMDabjx4+XDaaOKyzKuhtKRVlPDKUC6wLrrhuIwLrAuquNVAXrR48e4cwugPUI9e7dnZNKtGRRrpQBPUrPPRehhQs9Tuns0c03+wrUr7zSY38y8q5rFd2stifz+dl6rMC6wHoYbTMjsA57y4IFC2jJko+Vct69ezfq27cvtWrVijtwkerU69evp5MnT/DGkj480x5Lw4YNU8p6tpr9q5pB4+/w2K9Zs4amTp2qJiOPP/642jRrK+9hXDyBdYH1ZNqRbDB1txfJBpN4EiPZYCrHRTaYVuxP9v0Nyjru640aRahXr+68it6Cvekl9MwzPr31Vh7vX/NozBifUzT6dMMNUNQ9da/X+9NsRb3u2l9MdATWBdaTuU/XirJu77o9ceIkW1020Ycfvk9ffbVGedNhf8nLy1d+NuRiHzZsKF1xxRUK4uFtlwqmwRo5jpJsMIkhQ5T1xHERZT1xXATWBdZdN9ZMb4hznU+2PF9xg+lh2r59K9/HI1yt/EKuXN6SXnyxlNM3l9KJExEaOjRC993n0Y03+lxbJWZz1Yp63Qd0+5oIrAfjmExNfiUbTDXXwwTn7NkSTtX0Nr300gvKn75nz14F5EOGDKVJkybxctj9ysuOh93As2Uwcp2HeNZdEcrM8+JZdyvIAusC667eKDaY6vtRpuDCdZ2y5Xlkd4MwjricOnWYdu7czLVTPF5N70kffdSSXnvNZ7U9SgMGeAzqEbbAIAuMtrwg4QQyw6kMjfyoi8WPqroOAusC62H00bTaYEwjLS0t4WWvIs53vYc+/fQTWrbsM55pb1JednTOvn370LXXjqJRo65VedkbNmzIqZvyRVl3XGGxwbihVJR1UdZdA6Xdj0RZF2U9aHsRWLfbipLYyv7g8f3+GN/jt7O9NcKW0K708cct+P993rMWpYkTifekeXTRRR5nfjFFks6NzaSJ2o7AusC6a0wJ8nxaYd34zbHZZMmST2jFipU84z6p1PPWrdswlNfnJbGTDO37+d+jCtIvuaQfDR8+gnOtXqxm6OJZr/oyCqwLrAfp5OYY8ay724vAusC6q0+JDaaqfoSiR7puSkHBGU4ocZzmzSMW6JpxZpiGdP75gHSfCx8RFz302M+O+zvU+LpZ7MjVTuxx19SKOXbsmCr6A67p3r27svyGvZct6Hlly3GZ7k9ig0lw5U02GNhdnntuOnfaT6lz5868sWQMDRx4JbVt24rh/TQr7cs57+pCnnlvpG7dunFnvpuuv/56UdZFWU9pPBEbjBtKxQaTGEoF1gXWXYNOpuHCdT61/byxrmgIwtl47Ff36fXXS+nNNz3auNFnKPVo9GiP86lHeG+az5WktU9d22a0/eVcsr7Y10SUdVHWw+ijGVHWTTaYLVs2cxqnvjRixAgF7SY90759+9Wm09WrV1FpaZSuueYalQ1GF0/SM++68BDPenZcJYF1gfVkWqLYYNztRbLBVJ7EiA0mBtm2Qn7smE+ffEIs0CGXus9Wl1LO8Ea8Jy2iUjS2aoUUjVDT8WNsMMn02Lp1rMC6wHoYLTatsG4aaWFhocpWUlR0ljp16qxyqZvZtM6pmkdHjhxh5X2pOu6yyy5VedgF1oM1chwl2WASK4LiWU8cF1HWRVl33UBkg2n1k5hch3WjhqOd+D4qkftsf/F4pZxo5swop2v2OB2zT1ddVUr33080blyE861HyjaR4r6vf68jWpyru1T5vMB6MI7JVH8SG0zZ9TCB0B1Yq+LwZ8ESg86JjaPxj1OnCrkw0lqehS8m+Nuvu+46ZZUBrOulMlHWEzV38ay7FUGBdYF1111WlHV3PxJlXZR1HQGdVjFmeUHFUQ3q+PvXX/v0/PM+p2j06MABj0U3n6ZMKSlL0Yj7uVktx/GRcx7UVcQsd4B41iuPNZm2lQmsxzXKqjZNlJSUEFS9AwcO8KbSE5za6Qz/fohTOm2mzZs3cVniZjRhwgTu3DeKsu6gDIF1N2QIrAusC6y7IuDuRwLrAuvxrQSquE656HP2F+I9Z8QFj3x6+WWiLVuKuMDhGVbUfXrggYZse62nqpNq4c1YW+uGCJda76nYXmSDadVRFFgP1sJCt8HYAGlmlfgbPG1Q2Hft+p5TOa1if/pq+uabb+jw4cOcBaYRdezYnosjtOdqZ73Z0z5cVTJFA8drocjXhYd41rPjKoln3Q1fYoNJPImRDaaJ4yKwLrAOyDabSfW9PRYTLkCu8qi//jo2l3pc5PA4r45/r9I0XnllZ2rQoBnf/7FKrkEdtpk6smBe45uaKOvVh1BgPVgTCxXW7aADzAsLC+jQocMqnzoywhw6dITV9OOcAeYE51z/nj7/fAWnMdrCedb78i7xO7hYwkDOw9qVZ+Gd2NvWtHz5SGwwbvgSz3piyBBlXZR111AoNhj3+CKwnuuwbqqKMnGzfQX3dzbAMHCX0I4deWx7yaNnnvG4SjlxEgmi2247wkkiNnIqZuLCR32ofv1W6ngN6XpjKWwzufAQWBdYD6OdhwrrJic6GidsLt9++6362bBhA9tctvJS2Rlq06Yt51i9WOVaX7FiBS1fvpwGDx5EP//533Pe0Qt553g+z8Ib1Lm0jWYVAf9iMFqzZg1NnTqViouL6fHHH+cqrUNCz6cqNhg3ZAisC6y7BkqBdXc/EljPdVjX3mvz0ABaRPv2naV3383nzC/ncV71CK+O+1yd1OPNpEc4kcQW/iG64IKe1Lhxi7jqpLkB6oYLxAZT9SgsyrrrDqWfDxXWTdAB7YsWLeLZ9hvsQ9+sih0Bzrt27cLLYz1VwaPzuULC4sWL1TGDBg2kX/7yV+oYG/iNDUaUdffNVJR1UdZdXd6+2YoNJnF7ERtM4rgIrOc2rJsNpcbKogW5Ypo/v4RmzMhj0a0+103x2Pbi0T33eHyvP8rPbyPeokYXXnghtWgBWNewX1fu567xNOjzoqyLsh60rVR3XFpgHWrytGnT6L/+678IN79BgwbRtddey4WQtM2lZcuWvCxWn2bNmsU7x5+nyy+/nH7xi18wwLfjDh1VqroB9brUucWzHkaTrPl7iGfdPbkTWBdYd/U0ux8JrOcurOv0irCwINUi9pBFOWtbKS1c6NHTT3usqCN3Oil/+oMPRjj1sser6EfYu65hHSvmuOcLrBNJNpjKo44o666ROE3KOiAbGV/mcZ3hN998U/nVUVIXP23atKF27dqpmXb79h1oyZKP6O23Z7O3bSj94z/+Y0JlPdjXyI6jBNaz6zrgbMQGkxhKBdYF1l29VWC9+klvpvJCu65TOp+vmEtdZ345eTJKH31UqooeLVhQj62rRLfc4tMPf0gsynksxCG/+lHODrNFAX6PHqKsiw2m6lYqsB6sB4eqrMPCYholIGnjxo2c/WWX8qvDt75v3z5q1KiRssF07tyFc6uvoy+++IJ3iw+mJ554grp166ZUddhmkI+9rs3EBdaDNbp0HyXKuijrybQx8ay724so67mnrBv7Bv7VijoUc+KiR1FeES9lqyt87Pl09dVEkyYR/+uxIIe/eZxIArC+Vb1GbDCxKuyirIuynsy9yT42VFi3YRVFkLChFI0T4L59+3b1L/4fNpnjx0/Q2rVfcYfezFVNO6m86oB4AHtv3k4OFd486orHTWA91WYY7usE1t3wJcq6KOuuXifKuijrdi71wkKPUy779OqrPs2ZE+WK5B5dc41Ht9/u0ciRxDZWneEF9+sjR44qkU5gXYoiBR1nMrVSZSahRUVFNH36dJo7dy5X2b2KHnnkkQruDtd5Z/r5UGHdnHy8Ig7FHX8DvCNLDFR25Fhfv34DF0jax7aZYlbcG6tAIY0jwL1///5KZTcbTjMdmFQ+T2A9laiF/xqBdYH1ZFqVKOvu9iLKem4p63ovKBR1XcSotNTnlXCPZs70afZsnz3rxPZVT2V+gaLeti1SOSJ/OqwyGta3bduqwF2UdVHWqxuPxQYT7G4VKqzHQ7p9E8TpmE2j2HQKSwxU9sLCQs6/fpCzxmxVG1JQwXT8+PE0atSo8mJIoqy7b6aSDSaxUiqe9cRxEWVdlHXXLUKU9dxU1o1PXedSj7CYFuWKpD4rkB4XPfL5Pk2cP92nu+7y+F7tsaUVG09NDnV9nz/KNA9lXWBdlPWg44wo69VHKlRYtz/K9rvZirsuiKArk6q5O/9bUFDAxRQ20ZdffklnzxZy3vXB6icvL6+8MJLrgmfD86KsZ8NVqJgPWGBdYN3VKkVZd4sBoqznhrJubyg133jHDoC6z2mWfV4Vh1Lu0Z13+nTTTahU6qkNpuZ1RpQTWK/YXmSDadWjsCjrrjuUfj5UWE8E6KbzVgXv+DugvKBAK+zwESHNE37EBlP9RYy3e2Azb/PmzTlVVne1SdfEPFhTOHeOEhuMG75EWU88iZE864njIrB+7sN6DNT1d4VafvhwhD780KeXXvK5iKHPVlWPq5N6rKr7XNzQ43u3tsloGI3lURdYF1gPShQC68EiFSqsJ/pI+0LE22Lij7ftLjbciw3GDV9ig0kMGaKsJ46LwLrAuusWITaY6sfdTC3bu65TTZ/X1xkr3vCox95t/36izz4jpah/9JHP+8p8mjAhT9lfLrvM56qkHu8p06Buv1ZsMBWviC2aSTaYyq1VYD1YDw4V1m3ANptKoZqj85q0jga8XRBfVwDdDrPYYII1unQfJcq6e3InsC6w7uqHAuu5AOsa1O3NpNhUevhwlOugRLhWCv4FkEdpzBgUPcqjIUM8atBAbz6Ngboo61X1J4H16kcagXXXSKyfDxXWTeYWpG1cv3497d69W6VlRIaXemxsswf/+AqliVR3c0xdAXeB9WCNLt1HCawLrCfTxsSz7m4vYoOpPLmr+8q6BnWjrONfZHIpLPTLrC8ezZ+PIoelNG5cKU2ejFzqedSkCbK06Y2kcL/E+9xFWRdlPZXxN1P9yUyecjp1o7npIY/6O++8w0tnH9EFF1xAY8eO4U0pPZSPGj70oF5qgfVgM1IcJTaYxEqp2GASx0WUdVHWXTdUUdbPZWXdBnUN3KhOylvGaNUqohdeIK4uTpyCkTgHdZQefTTK93HibG35DOoRZXvR92dAu46TLVaJZ73i+CIbTKsebURZd43EaVDWDYSXlJTQ++9/wIUT5qgUjZ07d+TNKJfQwIGDOOVTPy5HXD/Q2QWF+kBvloGDRFnPQJADfIQo626lVGBdYN3VlQTWz1VYj4E6oDsahUJeyl+2iDOyeTRjRn2aNSvCoB7l6uLFdP/9pXTzzfnUrh2ys+FHg73vA9oTrzgIrAusu8YX87zAerBIhW6DMTPI3bv30NKlS2nhwoWcb3ULtW/fnmfoI2no0OGc7qmbssVAZbcfehkuQvn5+SpDjCjr1V/EeCiVbDAVFR78nyjriaFUYF1g3XWLEFg/F2HdBnWtqOM6+34R7diBio4ePf98Qy5WWI/v1SXsUT+jLDDt2yO7WD2+J+OerQsgxdtTRVmvur2Isi7Kumu8dT0fKqzrTq+BG+r63r17ae3adVytdD1XLt2vdo6fd9551LFjB+rSpTO1adNGHQ+PO/6FfaZJkybUtWtXBfd4mPdzfZFseF6U9Wy4CpJnvaqrYMOXwLrAuqu3Cqyfa7Ceah+7IAAAIABJREFUGNShkm/fXsxqeik9/XQeffttPq+A59FDD0XpjjuK+X6M12HPWR7f29VdmX8qCm3mXo1/xbNesd3YDgHJBlO5T4my7hqJ9fOhwrrdYfE7IBzQfuLEKc7RupJ97G/RypUrOQVUIxo0aBAr7D1Ulhgcg2PPnDnDZYvb0vDhw6l///7lM3fZYFr9TQPPimc9MXyJsp44LgLrAuuuW4TA+rkG66aaZkxRx/33yBGfZs/26Zln8vg+7TGcE1tf8ONRnz5606mGcPVfBeux3yv3I4F1gXXX2GI/L7AeLFqhwrqZQdqDvNmE8umnS3mJ7Wm2xSxSNpehQ4dS7969FaxjVy6AHbDeoUMHuvHGG9krd2VGK5gmOnc7hEEsOaKsB2t06T5KPOvuyZ3AusC6qx8KrJ87sK7zp2vINtaXSCTKdpcovfce0YsvEn3yST5vII3QxIk+3XsvsaDm8Uq48bTHNpJW1W7EBlN1exEbTNWjjcC6ayTWz4cK62o44JHAgO3p06c5feMe9qxvp40bv6XvvvuW/38vDwhNOZ1jH7bDdFSwDlUd/549e5ZatWrFG1EH8oy+T3nmmHhve7CvlvmjBNYzH/NEnyiwLrCeTEu024tUME08iZHUjYkV5MOHD9O2bduUsHThhReqCtL2fTCZdpj+Y6NqUyg852jzBw5EOUVjlF591eP9ZR41bRqhG26IqKJHV14Z5fs0sr3ogkexFI0mn7q1s7TsxAXWBdZTacMC68GiFiqs2571goICWrfuG1bSF/AO89WctrEBZ4S5mCH9IuVJB7AjlSMepoAS/kWmmJYtW/LA0TSpNI/Bvm7lo+IV9USWG/uY6iw5AuupXoVwXyewLrCeTIsSWHe3F4H1ugvrsaqkGtahqB875tO8eaX02ms+LV+ex9VIiTeSRui224gGD/b4HgzhTedghw3GTtFYVd8SWBdYT2bcNccKrAeLWqiwbhdF+vLLL2nBggWcs3WVUs4vuugiuvbaUWx/GcbqeYtgZ8dH2ZszAr8o4IH2e5tzP3DgAG3evJlOnjypVH7kice/sO64zkVgPWDg03yYwLobvsQGUxm+8BdR1hPHRWC9bsK6hmxjZVFeGAZ1os8/9+m556K0eHGUVwUiNHp0hH7wA4/3i3kspCFRBI6sWPTINWwLrAusu9pIoucF1oNFLVRYNzALD/qrr76qCiMBdMdwnWLAert27dT/B/F/Bzv9mh9lGopZFfjwww/VuWNp89JLL+Xd8Hco/3yDBg3UCkB1lhyB9ZpfjzDeQWBdYD2ZdiTKuru9JIJ1e7xLJt51/VgXXGRbXLRHXXvOUZ300089euMNnxYtilJBgc8CmsfWF+L7tEfnn4+ihUaBT+5KCaxX34/APZINpnKMMt2fbE6dPn06zZ07l9OKX0WPPPIItW7d2sl5yfWK8I4OFdYBs2iQSMH4/vvv0erVa9j20ldtGIWtBQ/7wtg3yURfKd1QbwAdnwO/PFT1t7lsG2B948aNdPnll9Njjz3Gy4PjVMrJZJT11atX09SpU1UsHn/8cbWhNuxB3J5oxGeDCXK+4TWj7Hqn+Lh8//33KiUoPKXIROS6jtn1bcI7Gzsu8co64iNx8Ssp6xi3wu634V3R9L6T3V7iYb1Zs2bl43ldydYVVrTs9oC42J71Fi30qnE29CVjf8G5wMpy+rTP1lSfrS8eFyz0iU9dbSK9+26fverEq8jxSrqdBcYdPTsuR7j06datWxUPYNyFtTWX+5HpIygWhfYCVurevbuCw1yNi2lRme5Ppm+C+QDr8+bNyz1YN0FAQzx+/DjP2gvYC9dYgbpprEaZru3BzIA6GgzODbC7fPlyZdvZtGkTF4jYoXK9P/jgg3TTTTcpf719zuZ3e8Jhw/+6devoT3/6UzmsQ50Pu1Pa7xcP61gJqO0Yu4f39BxRMS576fvvdylYR6pQiYtu7/v3H6CdO3eoyQtuGjKJ0XEBfG3fvl21E0AGxq+w+216Wn347xp/E8WYiGJ2iAv6U7ZAafjfvPp3jIdSG9azbRJjbDBFRR7XO/FZRfRZkPK47xP17Emc+cXj1WOAOrEdRn9vuyppMrG144L7/5YtW8phHRtvc7kfGf5BXAysox9hcpercUkE65jkpbs/GS6CkApYnzNnDo0cOTK3lPWqOnYiyE1mEAj7WHtSgU4ET/2KFSuUbQcZbJDrHTcmpJK8/fbbudTyzZVg3XVOaHC//vWvedmxkJ544gmVVz4dndJ8l3379qlzRufHIICbqsA6oHS/igtuooB1iUsMStFGAaMyidFeXowFRhHE5Lwn04yZpJvnXf3+XHreHq9M+Xj0n169epWvNOZ6XAyUQoRCXLJpcmesLyhGuH27p3Kpz5wZpQ0bInyPgPXFp1tv9TiFMvGerJhVJtU2bLcX7PnC3i88EBezcpfr7eXUqVMqLhA0EZdcXrlLBOvoT4gP9ghi/E1Hf7L5D7AON8WIESMUrKNQp8vunGr/qOnrQrXB2GpzPJim29ISJBD2OZnfcWFgk3iPk80uXbqUPXvn08UXX8xpJr+jXbt2KVV9woQJlWww9nfFDA1LKoB75IvHd92wYQMXmXhG/f6Tn/xEwToexioU5HyDHGPDOtR1dP6uXS9gZbB+2U5+eBA1jOTKw77O+/fv41WTvarTY7OwUdZxc83luGAjJdr9eec14rh0LW/fuR4XpOJDv2/QoKFqL40aaftbrkMGJjGIC26iZiUGMclFQcBuD/Ag72SZGv2mW7dutbriYO6xuq1yjdEIKoMT7duXRx98UJ9eeYVo2bJSFi5K+J5WSg884NFll+VVUNJRoTSV2wU+D5MC008AXRBJcE6Iiw2lJrtMLt2PjLKOSQziAg7A+JLLKw6JYD3d/QnXwcA49la+8MILNH/+fLr66qtpypQpueNZryudz9hVMMBCkV68eDGtWbNGpY285JJL1CbYZcuWqU4Fv7qBdTMQ2a+HKg/1dv369Vym+Vvle8ff8L5r166lTp060X333adyx5sCUGHd+O0b5YkTJ7hS7AkFo/AHGgU5V2+mZnDUcTmp4tG6dSuJS9ka98mTp5RVrV69fNXe0fZNu85FD7L5zqdOnVZxQYYMxMVM7nK5HyE2UASPHTuuoLRVq5blKw65HBdkS4HVE6sOiEvLli3KJ721ERfzmZ4X4faLNMin+LqVcOaX82nWrK60ZEk+n2cR+3P3sf3lKA0ZEmGIrsciE7LF6JWlVB+xokvwvXu8olzAq1ScdoYfaC9mD5We6GhvfK48YtcF7aVQtRcUqGrZslW5GFAb7SVb4h/77unvT+azMK7DRfHmm29y//icrr/+enr44YfVmJ8Tynq2XPyqzsMoIuaCQQVHismZM2eqKqrIWtO/f3+lIGHTwd69exWowwZjYCbec4/3gMcVqjysNFBZoLTj5gaIR5XWu3ir/YABAxTEQ4EPG9bxfWC3wQ+Ur8aNm/C/eTmvCCLOOi5nVDygrpsUnGFdg2xv8/b52SsJWAXCjUO3l0YSlzI18syZszyIF6giN4iLmfTmcnsxG/AxkcH416RJ47K4ICq6CF4uPfT9Q+chLypCeznN/x+Li4pKWXHATMYFyjaU8fz8iLrXYNK5fn0xK4ddGUj68nMN2JtbyGkad/L96AADNPH5wy6p86nX5DrasI7vjPsp2gvihHEX908Tl1yEdfOddVwKVL8xcUFqTW1Zyq1+ZPpGJvuTaeeYPGKVA351JAMB+02ePFlgPZMDVnWfhRmTuekCsrGZ7NNPP+Uqbh8qBfyBBx5QBZuwyfS1115TKjk861DX7TzrtrKO9zRLN7t371a/429Q5fG+mKlhk+rgwYPVAIrPDevGbw+wWKbGDxohrDyilOqBDyoG4oKZNOIiSqmOC9opLB/16yMubUUpLbtRHj9+guNykPt7fRUXWxHMtZtp/ModxktMYtCPzIbkmkJettwbkjkPWynFyh3igraBuBiPbe3ERU8iAOtHj0b53naGlcMoK+rNedxry5ZOj+69t5iLE55g+0Uh34+IVXWthAMeAZSpPgysG4sLxCrEBQ/sAdMbkqHg57ayjgkMLIhIj4m4GHtQ7bSXVK92uK9L1J8gCiA+Yfcn81kQYbAqBqH2448/plGjRillPWdSN4Z7CcN/N+MXx+AENeTrr79WXnXYVTp27KiWQjDgwhLz/vvvK1vJddddR+PHj1cQjxs3GpH9Pgbc7bPF++M9TTYYpH9E6kZ7shDGt7OVUvjV4UGGBw6eUsl6oiOM1RHEBYMi4hKf1SeM61BX3sNuL6b4j2SDiaWTxXXUKQqRDaahZIOxzMsmSwNuctiQLNlgYhuS0529Isj4EgMeYkEIVUmJnn2W2P7is5Lr0dixHv3N30RZVY9y20baF62mQ1UPS9A14wvufxAD7NSNuezNtkFcssFUbs12u8lUNhhwHFY5TJ71nNtgGmRQqc1jbFjBYLJkyRJ699131TIIVG8AO2ZyJqcw7CzwsGOT6ejRo9XNG8pSolmwDe0YrLCj+Xe/+53adPrTn/40rdlg0PAApbDgYFDs0eNCVldyNxsM2hiuh9mTgLggG0yuZ8mx4wJYh33LZIMxKzG5ph6bmOBftBesNgC+TDYYM+nF87kWGzNeIi42rCOLhWTJ0e0Bgg5SFJpsMGbFIdPtRUM3lHWfIZlo2rQIvfSST7zYS1dc4dGPfuSzT93nbBeAdGN7CfdubEMXLAaICx7ZliUn3G/tfjc7LhAJTTYYZDuRbDAVa++gP9nZYNLRnwy/QTwFrM+ePTv38qy7m23tHmF3GjQKQDo2F6AAEm7SRvnGc1Bj4S8HrMOzHg/rZjC2JwD2+3/11Vf01FNPKdsLiiJlIs86oBSpG0VZj2UlMPnnMSgC1kVZ15CBDdBoL4B1ZGswy425BqQ2rOO7m0kM2gn6kaSc0+3FrMSYPOt2kbtcazP2OI/7Bia9EHHQXiCWmDaVibho77z2PJeW+rwqFOWlfY9mzIjwpJO4Cjdx0SOdT717d213ifmjw80SVpWyjrjkcj5xW9yzK5jmerEoQ4OZ7k/mekie9drl8Wo/3cA4VBBcKEA5Og9muwBzqOv4G7K6fPLJJ+o52GBuvfVWZYPBLM/YYMxGU/sD7UaHicCf//xntdSSqQqmmGBAQcbgKBVM9U0MsI69BIBRqWCqb86IC/ZjANbRTuziP5kAjGwbIky/xb+AUsQFKw3G7mH362w793Sejx0XQKldFElgXU9iEBfYPQDraC+ZgnUN3FHuyzoFbSRSwqKTz+kZI1yBO8ITCJ9B3aP77ye65RaP0wT6fI5Q1PV5Q4GviUc9UbuLtzMYGwziIrAe2ytkiiJBJJEKphWV9Uz0JwPrOV3BNJ03jjDe2x5MEllZ8BlQwlHJ9OWXX1bZXO69914F63Yxnapea78/fO9Tp04tr2A6ZMiQ0LOz2Kp+fAVTUZB1izFefiikgFKZxOi4oG0DSo1nXZR1HRejIJsKpqKs67gYa6CtrOf6JMbAuu1Zz4Q32xQ70vFH3mifbZDFyp/+zDP5vF8qQn37+nzvwk+EJxGAcw32UOK1Gp96pdKq7sV2ezBFtBCjXK/UGb/iYGAdohoSUORqPzLtKF5ZT3d/Mvxme9avuuoqqWAaBmSn6z3iLSwYWOAxRzaYt956S924J06cqLLBxKdudCkLAuvpumru942fxGDFQWC94kZKgfVYO7Lbi8B64rgkgnUcWZVw4e6ldfcIF1ykKy52ekRtfYGijirNPlffLmWPepS++CKPOnTI4yxmRHfe6XMqYo+tfyhYFFPUw9xUal9FgfXEbdruI7YNRmBdxyvT/UlgvQ6MvfHKevxAo4s5FCq/+rp165Q9Bp71fv36lSvrpsJjIruAKOvZ0QgE1qu+aZhnBNYF1l291e5HAuuV20tVynq6YN2kV7QV9cOHPfroo1KuxOizddNnUYI4e1keF+LzOF0wMagb60v6FPVECqko6xXbi+EFgfXKo47Aumsk1s97HKhwd5kE+9ysO8rMtuBrhxUGCjt+x3I4fqqD9ESDlSjrtXeJBdYF1pNpfaKsu9uLwHrtwnrsLm3SLfq8v8rnWh4e1wQhzmymM8Fccw0UdeJ/PfZDmzTDsL+Em6YxUYsRZV2U9WTG3UTcZLJxYQ8I7FPp2AMiynoqV+kce40o69lxQQXW3fAlyroo667eKsp69f0o08q6LiikFfKTJ32uvu0zqHtcoZRULvVhw4gVdeICLz61axfLn47zTIdHPT46AusC664xxTXJE1ivOoKirJfFxsy2qlpo0ANe9SWZBdZT6arhv0ZgXWA9mVYlyrq7vYiyXnvKuvGqa496hDOXwZvuqw2lAPUDBzzO/BKhO+7wOPNLlDOX6Y2kBuwzAer4LIF1gfVkxl1R1pOLlsB6cvGq9miB9RCDWYO3Elh3w5co66Ksu7qYKOu1r6wb0NYbRKOcXjjCRWN8euMNn15/3effo3TRRZ7K+jJ+PDKvEKdo1NlesPnUJTC52kAyzwusC6wn014E1pOLlsB6cvESWA8xXul6K4F1gfVk2pYo6+72Isp65pX1iikaidMAk6pOunChhvUNG3xq3z6qMr/cc08e9e4dKculHmWwj5Qr68n0hZocK7AusJ5K+5ENpsGiJrAeLE6BjhJlPVCY0n6QwLobvkRZF2Xd1RFFWa8NZV3nTteKuFbI8f8lJVEudBShefOi9PbbPudS96lTJ5/V9Kiyv1xyST6nF8aGUv262ihuJrAusO4aUxI9L7AeLGoC68HiFOgogfVAYUr7QQLrAuvJNDJR1t3tRZT1TCjrBtRjaRa1ncXn6rFEc+cSzZhBtHq1T126RDnrC358BvUIpxZGJVNT9AiZX2K+9WT6Qk2OFVgXWE+l/QisB4uawHqwOAU6SmA9UJjSfpDAuhu+RFkXZd3VEUVZz6SyHq+oa3Wd95PSsWNE775LNG2aT59+StS0KWwvUZo8uZQ3luZxamEo6qbokalOWrbD1HWRQ3xeYF1gPZXmJLAeLGoC68HiFOgogfVAYUr7QQLrAuvJNDJR1t3tRZT19Cvr2vqiVXHfjzKoF3MudaLFi/NYUY8oZf2880rptttKaMqUCA0ZEmFQz2NQh4qufeqZyvySqMUIrAusJzPummMF1oNFTWA9WJwCHSWwHihMaT9IYN0NX6Ksi7Lu6oiirGdKWQegG+uLLl5EVMopGgto2TKiqVMb0Acf1KeCgijddNNZeuyxYho5Mp8aNWqowN5+mJSN8Lln+iGwLrCeSpsTWA8WNYH1YHEKdJTAeqAwpf0ggXWB9WQamSjr7vYiynq6lHVtfyGKlinqsL74VFRUQitXFtELL8CnXo83mNaj4cOJHn20iG6+uYStMPmsqNdXedfxWna2J9Pk03KswLrAeioNS2A9WNQE1oPFKdBRAuuBwpT2gwTW3fAlynpl+MJfDh48yJv5drC9oIEqd92kSZMKxV7S3niz6ANEWa++H4VVwdTEWavrPqdoLKXvvoNHnThFo6eKHqE66UMPeQzqRG3barC31XOtqGdeTbcjJLAusJ7K8CWwHixqAuvB4hToKIH1QGFK+0EC6wLryTQyUdbd7UWU9cqTu5rCuqlMCtCOFT2Kcv50pGeM0Isv5tG2bR5dfrlP991HnPnF4ywwOFZDuRLVs+ghsC6wnkpzFFgPFjWB9WBxCnSUwHqgMKX9IIF1N3yJsl4ZvvAXUdYTx0VgPXxY57wt/KZ6QymsLFEm9m3bojRrFqqTerRpUx716OGpokcTJnjUty9Rfr7J9qLPR+dTN1aatA+t1X6AwLrAeiotUGA9WNQE1oPFKdBRAuuBwpT2gwTWBdaTaWSirLvbi8B6eLCuFXV7Q6lWyXfsiHKKRp9eftmn9es9tmF5NHGix5tKNaizMwuvUnBeG0WPXH1KYF1g3dVGEj0vsB4sagLrweIU6CiB9UBhSvtBAutu+BJlvTJ84S+irCeOi8B6OLBufOmAbl1tVMP3wYM+LVrkMagTbyz1qUMHUpVJoar37q1BXWeJianoscwvaR9SA32AwLrAeqCGEneQwHqwqAmsB4tToKME1gOFKe0HCawLrCfTyERZd7cXgfVwYB3vYpR15FJHbvRjx6Jc7MinV17x6OOPiRo29GncOBQ+8mjw4AjVrw+LTERliantTaTV9SuBdYH1ZMZdc6zAerCoCawHi1OgowTWA4Up7QcJrLvhS5T1xAqyKOuirLsGqFThIgbpWlHH+xw+DCWdeEOpT++9Byj36LrriCZN8ujKKz1q2dJsPsVZxbK9ZJuqrich2t+D73b06FHaunWr+h1ZlVq0aJHTWZWMbekYl6Pdtm2b2p/QvXt3atWqVc7GRWDdNdJUfF5gPbl4VXu0wHqIwazBWwmsC6wn03xEWXe3F1HWK09ikskGY4oemawvyIt++LBPn38epXfe8ejDD306fZpo6FCP7r2X6PrrPWrWzCtX07MRzuNbjcC6KOvJjLsC68lFS2A9uXgJrIcYr3S9lcC6G75EWRdl3dX/7H4ksF4zWNdZX7Sajs2kBQVaUZ85M0rz5vl08iTRkCERBnUo6x516qRVdkwIkHsdr812YBdYF1h3jSmJnk91pSqVz8Jr8HnoV0VFRTR9+nSaO3cuXXXVVfTII49Q69at1aqHLjaWXQ+B9RCvhyjrIQazBm8lsC6wnkzzEWXd3V4E1lODdZNLHRYWAwlnz/qcS92jt97SaRq3bo3SZZcR/eAHEc6lHqE2bXSmGLwGPvW6AOoGgtRZiw2mQocy1x1/FBtM5bFGYD3Y3UpgPVicAh0lsB4oTGk/SGDdDV+irFeGL/xFPOuJ4yKwnhqsm1eZzC9QyTdu9FVl0hkziDZv9qlPnyg98ECUbrstQj17RhTsaruM9qhnu6JuvqMo61WPu+JZr/q2L7AeDIkE1oPFKdBRAuuBwpT2gwTWBdaTaWSirLvbi8B68rBeMap66X3fPmKPepSefdajFStQkdSn+++P0oMPRhnUYXXhqkesqHuezhRTlx4C6wLrqbRXgfVgURNYDxanQEcJrAcKU9oPElh3w5co64kVZFHWRVl3DVBuuIB1BXAeUWkajQ1i1y6fFixA0SOAuk9t25ZwHvUS5VMfMKAe1asHRR3KujmD7Pep27ESWBdYd/WdRM+7+1OsD6Xy/vGvEc96GFGs4+8hsJ4dF1BgXWA9mZYoyrq7vYiyHlxZj/nUdU51WF8OHfJozhyfFXWfli2LqKJHd91VRPfdV0j9++dzLvXz+APy+AeQj8+KpWlMpi3X5rEC6wLrqbQ/gfVgURNlPVicAh0lsB4oTGk/SGDdDV+irIuy7uqIdj8SWA8O6wBuZHLBv5FIlAoLfXr/fY/++78j9O67Phc9It5I6nH2iRLOAFPC/x/h4+urLDE6awx+MdVNXVcpe54XWBdYT6U1CqwHi5rAerA4BTpKYD1QmNJ+kMC6wHoyjUyUdXd7EVivGtZR/CcvL5+L/3QvK/4TVRlcsKn07NlSWrWK6JlnoKxHqKTEoxtuiNLkyR5de61HTZrwTlLOuR5T00VZT6bv1oVjJRtM9VdJYD1YKxZYDxanQEcJrAcKU9oPElh3w5co66KsuzqiKOvV96OqiiIB0iORUjpzxqdPPiH2qENRR15nXxU7+sEPPBoxgtizbqqT1i1velXtRpR1UdZdY0qi5wXWg0VNYD1YnAIdJbAeKExpP0hgXWA9mUYmyrq7vYiyXrWyvn37drWZtGfPHtS0aTO1obSoqITWrvVZUY/Qm29GuOgRih1FacoUj0aPhqIOm4zO+KKLHplUjfxLHfSrIzoC6wLryYy75liB9WBRE1gPFqdARwmsBwpT2g8SWHfDlyjroqy7OqIo68GU9e3btyno7t27B0N4c2ArW19KuTopfvJo//4IDRxInKLRo5tvJurcWW88xQ986nWl6FHQ9iJFkSpGSmww1bccgXVXz9LPC6wHi1OgowTWA4Up7QcJrAusJ9PIRFl3txdR1itP7gClhw4dJijr2CQKWM/La0Y7dvj0yitRevXVKFcnJbr00ghNmhShW27x2NeuS5lrJb3sJlz3Er8kbDCirIuynsy4K8p6ctESWE8uXtUeLbAeYjBr8FYC6274EmVdlHVXFxNlPbiy3qRJhC644ELas6c5zZ3r02uv+bRhA1GnTkS33ko0caLH0O5xikadKUZXtKx7GV+qazMC6wLrrjEl0fOirAeLmsB6sDgFOkpgPVCY0n6QwLrAejKNTJR1d3sRZT2xsn706CHauXMLq+V5DOI9aPnyljRjhk+ff+7T+ed7NH48ceEjny67TPvUjSUiVvgomZaa3ccKrAusp9JCBdaDRU1gPVicAh0lsB4oTGk/SGDdDV+irIuy7uqIoqy7lHWiU6eOstVlG+3dG6Fdu7pzPvXmnAFGbxK97jqPq5NGOfNLhDeemgJJ2v6iCyfFrDCua1EXnhdYF1hPpZ0KrAeLmsB6sDgFOkpgPVCY0n6QwLrAejKNTJR1d3sRZd2e3CE3Oh4RLnh0mrO+HKHPPiNaurQVK+rnUXGxT9dc47FP3aOrriJW2O0Ujcj8cm6kaoxvNQLrAuvJjLvmWIH1YFETWA8Wp0BHCawHClPaDxJYd8OXKOs2fJXJnPyngwcP8gbBHdSgQQPeDHghWxeaVEhJl/bGm0UfIMp6xYth1HBdZVSr4ocP+/TeeyU0a5bPwJ5PBQU+DR7s0wMPRGjcOI9atUI1UpOiMaauZ9FlDu1UBNYF1lNpTALrwaImsB4sToGOElgPFKa0HySwLrCeTCMTZd3dXnJXWdeWFu0113HSG0Txm09ffeXRs88S51L3ad8+j668spirk0YZ1POoS5e88sBiQ6mdASaZ9llXjhVYF1hPpa0KrAeLmsB6sDgFOkpgPVAffcrkAAAgAElEQVSY0n6QwLobvkRZj8VIYN3dXnIX1u12Yn73qbTU45SNRG+/7dPzz/u0fr1HF19MXJ20lO65J8qgDkUdBY/wE2VQx79pH/pq9QME1gXWU2mAAuvBoiawHixOgY4SWA8UprQfJLDuhi+BdYF1V0cUG4y2Rxn7i/aaa6V982ZfWV9ef92jNWs8Vejo0UdLOUVjlPr2xXERpcDrokemOqkr4nX7eYF1gfVUWrDAerCoCawHi1OgowTWA4Up7QcJrAusJ9PIRFl3t5fcU9aN/UX7zaNR/D8KGvmc9cWj2bMj9P/+n8+bS4upTZuzdMcdRD//eT0ujFRPKerRaISPhaJucqon0yLr5rEC6wLrqbRcgfVgURNYDxanQEcJrAcKU9oPElh3w5co66KsuzpirivrxqcOZRy/RyJneUNpMc2f34CmT29AH33k8wbko3Tjjbvphz/0aOzYLpxrvWm5oq7jq4sf6X/P7YfAusB6Ki1cYD1Y1ATWg8Up0FEC64HClPaDBNYF1pNpZKKsu9tLrinr8aAO3/mxY0W0eHExvfRSA86l3pDOO484h/p+Gj36W7r66nzq0eMiystrVQbnAHT41HMD1NGCBNYF1pMZd82xAuvBoiawHixOgY4SWA8UprQfJLDuhi9R1mMxElh3t5dcgnXtMdebQn0fNhifTp6McsGjqMr88vHH+dS4cYQmTCBW1Q9xHvXN1K5dhLp27UMNGzZXHnX8wK+eC4p6Iug6ehTForZy7DyVArVFixY5nQIVccDj2LFjtG3bNl59iVL37t05tWernI2LwHpyKCSwnly8qj1aYD3EYNbgrQTW3fAlsC6w7upiuWiDMekV8d3N76dPl9Ly5VG2vng0dy7SMXqcmtGnKVMi1K/fYbbGbOfsMBEFpc2aNWcQA+wj1eO5b32x25Ao66Ksu8aURM+Lsh4sajkH67GGEdvlHyxU+qjqBmCB9WQimb5jBdYF1pNpXaKsu9tLLijrGs51hVEo6hGWxouKorRypc/Wl1J65x2PTp+OcFVSj1M0enTDDR571A/Tzp3buGppHsN6d2rePLcVZHOPFGW9ohggynrVI7LAerC7Vc7BemzpRVegC/LQ/kX3wQLrQaKZ/mME1t3wJcq6KOuunpiryrreTEp09izRunVEM2f69MYbpVz0iGjQII/uvz9C48d71L69x/aYQ7RlyzYOZR7bGnqw3aO5CmvQe4brGtSl50VZr3rcFVgXWK9pX84pWLdvPmBv/H9JSSmrIsXqBz4y/C0vL48Vk/pUr1499Xv8oypwF1ivaXMM5/UC6wLrybQkUdbd7eVcV9ZjudQB6h7bWogLHUXprbeQppFox44obyAlzqNODOrEBZCwedRjD/Jhzrm+Td0nYINp3lx71pEBJojAk0w7zfZjBdYF1lNpo6KsB4taTsE6QgIgxwMD6ZkzhVyFbjvnyl3H6sgWOnXqlHq+WbOmPDD35AH5YrUJpFGjRuVqCZZGq3oIrAdrdOk+SmDdDV+irMdiJLDubi/nMqwbbzpyqUPEwS1i+3af5sxB0SNiGPeoZ0+fbr6Z+MejPn2IN5LCKuOxX/2w2jCYnx+DdYXqAVdj0z0WZvL9BdYF1lNpbwLrwaKWU7CuNw3pqnR4HD9+nL788kve5f8+rV69mpc0T6q/Qx1p374DXXZZf7r22mvpoosuUiq7PQAnUk0E1oM1unQfJbDuhi+BdYF1Vz/MBRtMbEOpqTRKXPTIp4ULo2x9gQ0G1Ul9uvVWoltu8fhe4PG9QAM9FPhDhw4z2FdU1gXWPRLPesXxRWwwVY82AuuukVg/n1OwDtXcdBr8fuzYcdq0aTN98806HnQPUoMGDRSUFxWVcgnpVVRQcJoLXYzhgfpWrlLXVsG69jMmVtcF1oM1unQfJbAusJ5MGxNl3d1eoKxjFRL2QNg9mjZtWudTztmgriPg8z2B6MMPfZoxw6fPPvOoZUuPbS8+3XMP0SWXANT15lPcR/BjlPWKNhgtCIkNRlI3mombaQ+SurHyWOOCdfv5ZMb1qo41omtRURFneJrOGZ7m8qbxq+iRRx6h1q1bK3dFdQ6KMM4hlffISVjHIAqvekFBIavppxnOC7nARUPOnduYlzPz1d/+53/+hwtgLKRhw4bS5MmTuYx0nwr+9WxS1tH49u7dy4rQLrUq0K1bN/4+5+XkUqw9OCIue/bsod27d3OlwSbllqZcXKKOjwuUdbQXWLzQXhAfiYvPk/ZD7E/eoSbusMCdC1Cayo0hvr0gLjt37lRiBuLSrFkzjbd13O6hQUBXGT1yxKcVKyJsfSml997D3iWPCx55DOoeXXkl8f3B4xu5tsoY+DKTGMA64oJ84udCXFJpM1XZYBCXli1b1vnJXSoxiW8LWHHApFfyrMeiabebTPQnM2ad5R3kzz33nMB6qg07na8zyjhAG78D2PFvXl5EQbp5lJSU0DPPTOONRW+zV7EnD9b3sCXmMgabxmqgrkpdtxsdbDVTp05VG1cff/xxGjp0aOiDlb1SACA1sA7lq2HDhnX+RppqW4hX1hEXwGgP3iEmkxgdVcA6oBSwjvaCiWpdB68w2suBAwfKYR3txUxiDJyl+hl18XXxNhhABmAdcanrkxizCRSgju959KhHn3/u06xZHos0pZwJJkqjRvkqRePIkRFuByB0DfVGqDHKOor/ANYRF73BVJT1I0eOlBdFQlxyvSiSGT+grKO94N6NcVeKIlWsfIuVqnT3J1tZf5arnEFZHzlypCjr2XaTMhfKvhGZ2a957syZswzrT7NvcQF7FPvRXXfdzcUvLqoENAb6zXe0B+nNmzfTb3/7W97EeoaeeOIJTvk1KC2DuDnnfZxXbOfOHSrPLwaBeI99tl2HdJ6PfR20N3sHw0UzFRcs4+c6lKLdagVjm5qA4mYKJVni4rG6eoQ3DG7leDRUE3Uz6c1lWEd7gSKIuGBc6dmzV/mkt67GBaILMr4g2dfp0x4tW+ZzikaiefOIx2yia67x6YEHfLr6ao+BCkAB24setezxBfuetm7dopbNERcz6a2rcanJuGzH5cSJEyppA2LWo0cvHn/1yl2uxwVJLLZs2axWaDC+1PVJb03aSyJuivWnPBWfdPQnc5/DhAk2mNmc7klsMGFcyRDfIxGMGIXFPIcbE+DuL3/5Cy1duowLX4xhG8yD1KlTBx54kK6ramXdPtUNGzbQ73//e1ZoztJPf/pTXka9Mq0wBLsHlqmh7AC+AKXyIGUPQlwwKBoolbgQQUGGUgpl3aw4SFyIDh48qOKCyQtuFiYTVK7HRnuzAev1y2+idTkmxq/Oi6icDcynF15ALnWMFyh65NOjj5bSTTcR233yLCW98jfWGykB6xouMM7Ig9j7f6wM1pFJp2e5bSrXY2MmMQBFs+KQ6zGxv38m+xMcFFDW58yZQyNGjFDKeps2bcSzni0NMl5Zt9Vx/L5nz15atGghLViwQMH1HXfcxVkAbuGbdkM1G0YGAFshQKdDBwQsQ93G73hgKWfRokVqkHrooYdo8ODBrOSUqp+w1AV7dQCKINRSwEW7du1EQS5rcOj8iAvgq0OHDhIXjovOD31MATuUY7QXUdZjcQGwQ0Fu3769KOtl/QjjGtpLfj7i0q5MWVc6cx3aSKmrk0JNb9CgmMfiCANlU75ZN+EKpR5P0op49e0EW18K6PbbiT3o+byvKcLjPlR1422vqKwjgxjGfdhg0F7sNL+5uMHUfGfEZf/+A0rcwvgCO5lqLXV8j0MqHGN/59OnT3N72a/igH6Uyza7RMp6JvoTYo/xvbCwkF599VVasmSJyvr38MMPywbTVBp4ul9jQ7v+HcufJTR//jz2Lc5ir3kRL4VeSzfeeAMP2hcqX7utvpsdw/CkQ7ldtmwZffHFF+p3/A03N6i6vXv3prvvvpsGDBigQB1KezpgvaCgQFlu4L1v3LiJyvub68uOiDM6ZGEh4pKnBkbcVHM9LrihIi7YYK3bSyP1b67HBe0F/fP06QLVTpo00RvOJS7Em/B1XLC6iLjgZleX4EuvoCKLSx5f21I+/0Ien/NYlOnK1pdOnBUMk5DjnPlrG40bd5i6dEFBvIaqimk8YJr7BcAf7QVZwxAX9COzoplrUGoXgsJ3R6YN3V6wMRftpX75qjS8/wEKgqcbATL2/nr80N8ZcTl16rT6bN1eGqiJoF7pcVdJz9hJZ/CDqu5PjTk+4Y4zpl9i7xosSbDArFmzhjeSj1aJRLCHQLLBZPDiuz4qHtThN0S+3FWrVvNmgznKywuP+e0sr/Tu3UsNNDao43f84HVYSoGy8vXXX3MKyG/Uxj38DWourDBdunShe++9lwYOHKhgHZ01TFg3KwNoeJiV4maBzTzGs+6Kxbn4vH197bjAImQ86+fi93Z9JxsgcMM4efKEUkpRIl3iolfMMIE5ceI4g1q+iotZccg1+LJBHN8dkzsIEBjz0I+Ml78uxQUshDlGJFLKY/xZ3pOUzz719iywtOWMSPkM6gW8ivo92xNO8FidzyCux/3EsK43nEIkQXsBrDdv3qzcy1+X4uIaN4I+r++J6EdaJNGrzJ6KC9pLXZrcBf3OQY4zcUEsEJfjxxEXFF9sodoLVqdysb2Y2MW+e/r7k/ksjOtY5YAwu3LlSrY736BgXVI3BmnRGTrGBjk9eESVor5s2XJeDp3Nastu3kzaT820Lr30Uu5MqF6ql3rNzNdW2jALg5KOQRs/+B0PgPrzzz+vFLpHH32UhgwZomZsYap0djYYTBKg5MMziQmCgYywJgYZujyhfIyJMd4MS/eIC5anu3btKrYG3D65LcPqAesWbqKIi8mSk8vtxWy8RWYlTF4uuOAC1W7C7LOhNPAMvYn9vWGz+/7775UIgPaSjo1f6fpaRlVnTFeq+vHjUXr7bWK/ah6naqzP+5HyaNIkj+67z+fqpEV87Ut4rNb2l0SAaccFdjKspmKcx7gL22MutpeYsq5GEFVwEHEBvHfp0rVCXHJRWdeiOeJyQvWjaLRU9aNczh5kw7q578C2iuxtWAnv3Dn8/mT6JkQHCKcvvPACT9oXqmwwU6ZMEc96ugbhZN83kaIO5XX9+g2crus9VsfXqM0wd955J11++eUJl6WCzoDhWf/Nb36jZtI/+9nPlLKezgfUfaTig6pussGk8/PqynvrLDk71c0CG3rM8n1dOf90nafZSAnoko23sSibIjeYxJhsMOm6BnXpfU1FSvSfXr10Npi6+GCGpE8/JZo2jbhyNbzrqEyqM78MH+7x/2tlOKgjAVCKrCe4+SMu6E/yIKWqIy54IC7Gs57rsQFvIFMchDbZeFu5NaA/IT6wH5psMOlqM7gG2GAKKww2mP7oRz8SZT1dwU7lfe1lTdhVoIC/+eYsrlb3qVKjr7vuOhozZowq4oAHbtq4MeE5DMjxG1JtFRcX38wQ169fT3/84x/V7A151k02GPN8Kuce/xr7s+2iSChCIRsGdbQQFygZuFlI/nmdOg0PrDhgEmPyrEv+eR0XuygSJjGirOu4QFm386wbKA0qXoQx3qXyHub8dCIAnz7+2KfXXvO4SqnHQODxxjKP9xQR36xRrVR7h/UYXfWn2cq5mcSYPOsmG0y2xyWVWLpeE7/iAMEK90v0o1xdcUDM7LaASYydZz2X88+b9pTp/mSuB1wQUsHU1atr6Xkb1DF4Q0VD1pe//vWvapMBlqWuuOIKtfyN5wEwUAX69++vqjzixm1gPVE5WrvRZbIoEj4XlgZTFAmwLvClB0nExYZ1A1+5uJnHtE/8q/PPa1hHe5EKprq9YMXBVDDF5C6X8yDb7cVMYqCsIy7ZWsE0HrbNZrFjx0o560MpvfIKgD2ihJfrr/do4sQIK+pRXv7WGwB1PvXYhsBEtyp7nEdctm3bpmwwiItUMNU2O7soEuIiFUz17E/XK9hWXsEUHulctE3Z/SrT/cnAOjaHG1iXoki1BOVVfaytfGOzJ1RX+JXeZgMjOhBSb2GwxXOwr8BPNnDgIOVn6tfv4grqgAvWAf92BVN41sPulLayHg/rUsFUt4J4WJdJjI5LPKxLBVMdl3hYz+XUavb4Eg/r2TuJ0aBtzh2LnTyUszc9yqXFo5ztC88D1CNcmRrVSam86JFR1F0WGHscN7YpA+u57EFOpJAC3M0kJuz7X5bhRZWnE7/iYMO6VDCtXMHUnvymoz8ZWIfrQZT1LO1F9s0Hv8M/hqVdNA5sDgXgYtBFCkQskeD/AfBQ3M8//3zld7ZLTcd/TbtTCqzXXiOIn8TYyrrAusB6Vf1WYL1iZFywjqOzye5hVHV9Xsj6guqkUU6pG2GrY5Qzffm8muqzJRGbST0aOzbCtRew6R9pebX1RavrwW0wiWA92+KSqZFYYD1xpO0+gg3JAuuJxxmwVSb6k8B6pkaEED7HXKxkbzSu4wXWQ7g4IbyFwHrVNw3zjCjrsRjZ7UWU9cRxSaSsZyOUonCdzjbiqxzpvHWIPepE77yD1SSfM3z5nEDA431JUHxJFUjSirrJ/OLeXOpS1rMxLiEMq863EFgXWHc2kgQHZLo/CayncpUy/Bq7UdjAHvQ04jeXxr9OYD1oJNN7nMC6wHoyLUxg3d1esh3WY6o6NvlHeGU0St9+6/OeJI9zKRP/TrwXyaO77vK5fobHmSY8TtGoK5oaNV1Du7vlZBou3GeUHUcIrAusp9ISM92fBNZTuUq19JqqQN2G8fhTM89VtzFRYL2WLmjcxwqsu+FLlPVYjATW3e0l22Ed3wCqOqwv8Knv3Omz7YW46FGUi9Wh5L3HRY8idNttHqfljXK2LORRh1UmBuxBR69Mw0XQ86rt4wTWBdZTaYOZ7k8C66lcpXPsNQLr2XFBBdbd8CWwLrDu6q12P8pWWLd96vg+KHJ38GCEUzP69PLLUfrkE58zHfl0881EP/xhHg0Y4PFeJPuba2U9mUem4SKZc6vNYwXWBdZTaX+Z7k8C66lcpXPsNQLr2XFBBdYF1pNpiaKsu9tLtsK6PnNfVRuFSs45A1Sxoxde8Om994hzqfs0blwp3X8/ceaXPAZ3XZnU86L8wzJ8Co9Mw0UKp1grLxFYF1hPpeFluj8JrKdylc6x1wisZ8cFFVh3w5co67EYCay720v2wLpJzQh/uSliBGnc5yxePq1eHeF0bFF66y1kgiEucudzZcJS/pcY1LGbVO8ojUR0FphkVXU1NSiT8zOVvSI7RlX3WdQFWLf7uvlGtrW1KotsVd8+qD3WfEZY2WBc38N9tbLniEz3J4H17Ln2tXYmAuu1FvoKHyyw7oYvgXWBdVdvzVYbjE6tqKHd+M5Pn/Y4RSOqkxLXzUC5e5+uuSZKP/gB0Q03+NS2rcf1M1AMKeZ5SbUwWqbhwnWdsuX5bIR1+5zMRMt13eNfU1V87eOqe42BQ7xPWLCe6JzsiYbrO2ZLm6mNya/AejZd/Vo6F4H1Wgp83McKrAusJ9MSRVl3t5fsUNa1km4qjeqbLnHmFyjqHhc9Is6n7nP1TK2oP/polG680eMqtAB0bXnBBlT9SNKoboVIYL369gJQRKXOrVu3qpSY2VAUye7jKIaDuioobIi6G6ifYj9wLJ4rKSlRNVdQ6RKFEnX7iaj6K/jJz89XlUjxHV2JJ8JS1g1o4nzwHfBdGjRooCpR49xMxV57gpDMWFgbx2a6Pwms18ZVzrLPFFjPjgsisO6GL1HWYzESWHe3l+yAdZynKWIEUAcoRWnzZo896nn07LM+7d5NdMklPj3+uMcpGn0uZofsMNruYiBfoXqZMp/KiJVpuEjlHGvjNdmsrMcAPEqff/45ffzxR9S6dWue1F2nJhMAXfv8AcEoXvTVV1/Rpk2bVMXn0tIoVzhvTn369OXCWoOpR48eCvTt8UO3rYoTwTCVdQPjJ06cpA8+eF+dX8+ePdX3QAHH8qloKv6u2mg0/JmZ7k8C67V0obPpYwXWs+NqCKy74UtgXWDd1VvtfpQNsG7OR1vGobJHGc599qdDVY/Qhg0ede8eVdVJ77nHY5gC0AOctKfdFEvS31uUddf1T/Z5+/53hJc3ALt4AIZbtmxZAcqSfe9UjwfcGoDG7wcPHqWnn36ac+/PpIsvvpj+7u/+jgYNGqSOMeeP6uVbtmylhQsXMNR/TDt27OCVgmM86StVKnbPnr3YYnU1XXvtKOrXrx81btyo/PWA/vhHVbDerVs3NWGw4+b6nlDUUWX94MHD9Je//BevJL1Offv2pUce+RENHTqUV5GallcVritWGIF111UvG7E4UGrok0fNIyCwXvMYhvEOAuuJo2jHRWA9FiNR1t3tJRtgHaq6Vsm1or51qwb1V1/1VKXSXr1Q9IhowgSPAYZY9YSnXedet4G9pmNMpuGipucb5PUGKBPhgL2JsrrjzOdUZ4OxwdU+r/iNmlV9TqINna5jDaxjzFu27HN644036LvvNjBwX0M/+clPlEJu7CywvWzevJkWLVpEc+bMob1791LHjp2oS5cuwHn1//v27eOCWvVo2LARPCm8R0Fyfn5elZaYeFiHPQifh881kxij/NsxSfS9zN9OnDjBNQRe57b/CtvAimn06NFcQ+A2XlW6RMF6ovcL0g5q45hM9ydR1mvjKmfZZwqsZ8cFEVh3w5fAusC6q7dmi7Iek5OMZx0KaSmrisTWlzy2AkSoWzefJk3yWVWPqOqk+flQVI2qXjPbS3ycMg0XrusU9Hn7vGOrFDGtziixGvb0uxo3he3LNjCI5+NVYXOcUdahNPfq1Ut5qqtTkOPfv+K5VDxH+zkD4vY5mb/Zkwc8v2bN1/Tii8/R119/ze2lO0/qJij7SJMmjcu/78GDh2j27Ld5o/JrvFKzQVlMbr11Ag0ZMlSl+ty0aSMtXryYK+Mu4O/UmPdF/I1Stdu2bVVupYlX1+3vjQ2m27dv52Pz+L17KO+7Od/4CumJvpOBcPjoYc+ZP3+BmlhA3Z88eTKNHz++koc+2xX2TPcngfWgI8Y5fJzAenZcXIF1gfVkWqLdXg4ePKiWvbHcjeX7Jk2aJLVMncznZvuxtQ3rxu6iYQO51KGSe3TggM8WhRIGL6KlS/PYSoDqpB7dfbfPXmKPVU9dxVQDoLa/hPnINFyEee6pvpfdFqqDP6NQmw2mANfevXurfuR6JJpMJPqseOg38JXo/Y3HG8/Nn7+Qfv/73/IG5KN0xx138s9EVrd7sq0kX1mqcK5r126gP/7xSQbgBQzg57NaPZF/JjBY91ZtEIr28uUr6Mknf8fwv4ozDd2o1PnBgweXq+TVedYRF4wvsLJAWcckJtGkp6qJjfk7vhc2wC5dupzP9w/KcjR58oM0ZcoUat68eflGU1fMs+H5TPcngfVsuOq1fA4C67V8Aco+XmBdYD2Zliiw7m4vtWODMTnVDXD7dPy4R0uWlPKG0qgqftSokUc33RRhO0KEgckvy/yivw/sLyZ7TDLtwXVspuHCdT5Bn7fPG3YPTEwPHz6sMp3AjtGiRQs6efIEK787FJTWq5evPNDt2nWgTp06ceaUhmriiud27dqlNl1C4UVWlDZt2iirSNu2bdXpHD9+nH3fW5RFo1WrVupv+Cz8HZCJSVf9+g34PRvxa1tT586dK4CrUZBxPEAUrwWEXnDBBepcAbvmgbncsWM4px0KxKFW4/2w4dJsHC0oKOQ28yL96U9/5Nc3p5///O9pzJixSlWHYo73QBw++GAJ/d//+x+0ceO3dMstt9DDDz9MV1xxBZ9r/XIAPnDgEL/Pn9iC8rI6l0mT7lbwj8k9Holg3fwdyvq3336r4ofNqR06dFBxO593QiOO9lhUVFTMx+1U1hs8165dO3U8vp+Jz+bNW+k///M/2Vu/hMaOHaMmDljJQHzMeYiyXrGHCKwHHTHO4eME1rPj4gqsu+FLbDCxGAmsu9tLpmG9ovUF1Ul17vTPPvPYqxvl6qQ+p63zacQIj2HJo+uv9xj6tKIe20gKZT38MamuwrrZbAmAPXDgAH344Yf06aefKoDGRsl+/S6hPXv2KJvH1q1bFEy2a3c+e7KHMQjeRP37X8oxP0srV67k+L9HX375JaFdAAyxWXPcuHE0atQoBeenuSIVvNkYZ/D+sH5888036l88B/ht3LixmiDAZw07ymWXXab+ps9TXztYPV555RV1noDvW2+9la6++moFt4BrnWIR7eITtkW9ofzmUPJx3PDhwxXYFhYW8vtsZsvUdHr99dfo8ssvo3//9/9DAwcOLANwbZfCJlJYYJ566imehJxR9pYHHnhATUDsjao4/zfZg/UiL+3s3v09V8a9mu0wj6qNqolUfmNnwbkiFojbu+/OZ2V+NbfZthy3ser7d+zYsYKVZtu2HfTSSy+xkr+Uv3s7NblAfHE+5rsfOHCQpk79M82d+46aLNx7773Ki49jTDtNtOk1/F6R+jtmuj8JrKd+rc6ZVwqsZ8elFFh3w5fAusC6q7fWlg0mlks9lle9sNCnVat8tZl0zhxPgfuQIQB1XfSoQwePodHO+uL6dqk/n2m4SP1MKyuKRuGFsvvqq6+qzZawZUDd7d+/PwNyngJ1qO4Ay1OnTiqldsKE2xTcHj9+VEH3d999x2C/V+VTx7FQ3YcMGcIK8x0KKKE4A8y/+OILWrduHavjAPcD/PoTDNfFZUq1zyBdoNRtqNfjxt3Ek6+rGPZblsMxVPXnOIE+gB15xbGREt7sESNGKLUZ0Lpjxy6uWvuc8qMXFxcxqN/GxbB+oM4Xdjac4yeffKrAd9WqVTyxu45+9atfKbg10It/cb6vvfYqv89LasLxj//4D6yujy9XvI1CDfj/7LPPlK/9o48+UtlYfv7znyvgrgrWTdwB+jiHt7jELrzmUNoHDRpM999/H8P4GGrWrJmKz/HjJxXQ//nPU5VPHjF98EF87+Hq3Mzn4LshNoc6hGoAACAASURBVK+//rpaxbjxxht5lWkSn9NFdca+l+n+JLAe1ohSh99HYD07Lp7AusB6Mi1RlHV3e8mUsl4R1JF6McKFaaIMfD6rnsSgTrRzJ7K9IPOLxxDpM3QZBd2kakyP/cVEKdNwkUxbru5Y+7x3c0L6mTNnKuAEfANE+/Tpw1aiK1VqQmxY/Pbb7xhGP1DZT7DRsnPnLgzMpxUAd+/enbp27cpKewlv2PyK1d9lbEE5wukMr6XHHntMwTRU+g8++EDB+pkzhayGt+P9BW1UISKdfvCg2sS5atUXSqEfOfIa+tnP/pahf7DanwBl/dSpUwr4AaN6U2cjnqBNYnB9UE0wDh8+xNC7mKZNe5aV6jW8CjCErSD4/OEKfAH0+K5vvz2b3nlntpqAYAUA9hZYZYydBHaetWvX0owZMzit4yzegNqN/vVf/1VBsoE7+1jkN8dkB8fiff7pn/6Z7VjjnLAO0P/uu40cszUqR/rHH3+iVjkwCXn88cfV6gK+MyYDM2a8rCYDsCBNnvywWi1o3bqFmuiYc4IlCXEBsAPqBw4cRD/+8Y9VhhrzEBtM5UkrYoJc+tOnT+dVibl01VVX8UrKIyqVpr3PIay+F8b7eHzRJXVjGJHk9xBYDymQNXwbgXU3fImyLsq6q5tlWlmvCOp6cygcEWx9ZijyGS599hL7DI7Em0kjalNpr16+StGI18IHrc85PfaXcwnW4YOGlQPACWiENx1gigwpAwZcodRbWEreemuWgkGMFwBlWDWGDx/Gx17HtpmLOd6eyq4C8J87d46yqvzDP/wDF6S6XcE7JgJQk+E3h5LdqRO86Q2V3ePw4SPKHw/gfe656coC8/d//w98be/m82miQBuPkydP8kbKpfTXv/6VJwXLlW0GsD1y5Ei1KjBt2jTev/C++mwo6kinCBsIvPF4D3jEn332Wd7rsIRtPbDSTFBZU2ClMRtiAdGw90B9R8rGiy66iK0y/64sN3Y/MJCH7wVAxmQHXvJ//ud/Ue8bRFmHgn/q1Gm1UjCbZ6BvvPG6WokALCL+8Ne/8srLKi6IOTa5Iia9e/cqf3993hFl8cF5I4Uj7EvIcoP4jx59Y3k/EFgXWHeN9Tn3vMB6dlxygXWB9WRaoijr7vaSOWUd1hcN6iUlHn3/vc/+aFI+9ZUrffb4+gyCxN7cCENbHsNYxWwv6fCox0fnXFDWAeuwwMB3DZiF3xqbE6+//nqVuQV+dVg04BUHlEIhh6J+880305133sm+78sZqJsp9RsgP2fOXHrmmaeVcg2QnjhxorJlQL3EpkiAOB5QzGHzQAz1j6fU49///klW4nczlE5SwH3RRX2VAm9gGp8Bdf2112YqJXrYsKHKdgL1Hn8HtOIzYcMBzJsNoVDwYTt58sknacWKFep7Aubh64Zf3hQZwoQCE4IXXniBMw0tVB5+wDomBPYD4AsVfj0n9gcgI9c5ssb86lf/i9vlbYE867D24PxatWqrViSmT3+WVxjWq5UNxB8bb999d55S4AHdDzzwICvul1bYWBqzchSrSRUmDQD85s1b0C9/+b9UBhttC9ObNrIZ2DPdn8QGk8zd8Rw9VmA9Oy6swLobvkRZF2Xd1Vszr6zHQB2KOoumrBZq+8uqVVEGEZ8tDFG1oXTAgHyGl0h5OkfXdwnz+UzDRVjnbp83IBfKOpRkwOPYsWPZyvFPyn9tjgNsr12L3OQvMti/ybaS5mxxeVzBbps2rcpBuqSkVGUj+cMf/qDAH6r6xIm3MfBjE6lW448dO84K/tcMoN+y4n6YIb5YWWEA5Dt3fs+e8o/Vpk7tub6HYXxYedpUgCagHT75N96YpZRoZK2Blx5ZbfBdtP3jbxSM2+lWoeBDjf+P//gPtbETNh1sGoXtATYZY3kw1hMD6wD+f/u3f1PHJ1LWcS5YTcBEplWrNvSLX/ySJzETnco6JkDYeIuNr1DBkcVm/vx5anMs3hMrAk2aNGVb0EGl/Jvc6aYyqbHimHPC+e/a9b26Ps8++wzHvAF77X/BFrE7eXKF7DLZDepo25nuTwLrYY0odfh9BNaz4+IJrAusJ9MSRVl3t5f0KOvagQl1FTmsjaIOtZb3P7IX2WfFkJSi3rr1/9/eeYBJWWTrv2bIihJExEwGXcWMIoIZUUBMmHXXuOsacNW96//urvduuG5wg+uuOWcxBxQVFEUQFREDOUkGyTkz8z+/83Fmapqe6Z6hu+cbur7nGQenv/7CW6eq3vPWOaeKJNmvSHcoPfLIQlEfC+X8qOReqXpYmVav+rm5JhdVf9Ky3/SfmzhuyDqKLP8+44wzhOT9UksjmhKLgjxu3FiNneZcQkhuu+1Xol6fVabKDmQahfhvf/ubGzPma00UReHeaacGQqY3aLgHyjHnTJ48WcNatmwpUvWenT9XrlylijzxwoTi8F3CT1C+TYGHdOM8jB79tajkd6nyjCoOiSXOm/KJ55xzbkmZSN4BIotDMHLkSCXeKOynnHKKxrtTKQaybsQNss55OCaE/VSkrLNaALFG5Uddb9JkN1WzzzuvfGXdlG0SQmfM+F5DWFq3bqPJtTgbxE4//PDDWqaRVYiDDz5YS0eedVZfcUraqzJuz2r/jvrNFmm/+Zqw+uijj+h5N910s+IR1XCP+lhQ1suKMyFmPVOjSg29TiDr8Wi4QNZTk6+grJcdvO3/wqZIyXHJPFm3Guqlu4tGmx5Ro9tJKEKxe/JJJ+UFC0R9dUKEtogiulmqhtQSEoKiDlEplPMp8ydfyuGxo5B1wmAg4dg8SZf9+/dXsm6kENV64sQJoh4P0JKHLVrspbHZvXqdXqKqR0TQuc8//1w3Cho9eoyq4xBnQj1ILh016gsNG4G0E6ZBWAxEsl69uhpTPmvWTIl7/07vC0kngZQwFeK4DWtTlClVSI1ziCljGMmdF198sZYshLRz2LmmmhPeQrIosfk4JZdffrlsntVZFXg7h2cjkRWyTsIhKwy///3vNQzGQnF8J4Y4fZJRwW/PPSNc+vbtk5ayzkoGjgYrA40a7QqCqtLfeeed+ow4EawuXHPNNfpOFrvvk+7SOa5YCP4PGvtOGBIOzc9+dp1Ul7lErr2LKuuGRw67SKVulev+FJT1SjXPjnlyIOvxaNdA1gNZr4wlBmU9tb1klqyXbnYE0YsUQhLmtgihKxDiV+geeojKL1QEKRaCVSw7MxYLcXJC3GsJeTJFPXruXKuGuSYXlbHlis71n3vOnDmawMgPiaCEwVDFhSooRmZQ1ombjuKhn9da37/5zR1C7E/b5jaEmqCsU5EFsk5SJLHp77zzjnv77Xe0igz1yCHj1GRHNYfM169fT0kyyaOo1ZB0YtYtptyvb047k5z5yCOPaGw55Sc7duwgjlw//aEOfDKyjmIO8abaC2TdyjpaTXc/Dv2ZZ54WAh5Vg7njjjvKlGM00kt8PO9LCNGgQYN0J9Jf//rXiqFh5wPk404YDGUscUwh6xBzKuWQ6Puvf92j+OGkQLaJ/Udhh6ybw2C2Hl0zWo0iht/IOg7Wtdf+VBzbSzWp18cjU3aU6evkuj8Fsp7pFqyB1wtkPR6NFsh6avIVlPVSjAJZT20vmSXrkdoXEXUrs0jS4QYJoygQdbO+/NSS+tibhfhtdDfcUCSxw7VFCa0rDxqp6KWJpFnY9SjFMJZrcpGpUdV/bguDIXyC3UEhmiSYUpKxVFnfqGEr1B6HTLJB0q9//VtV1v0+w79HjvxMlXWUYTbvQaknrpzkTxJIKQd5/fU3CgmnjnpTIek7aRvWrVtHyTrKNwQYMk+cNrHikE3/PoTLoJI/9tijWvkEFZkYb2qK9+sXhcE0aRKFtnBYGAzVUtjlEyKME4AST2lDiwOHAJfWWR+g6jrOxK233qrVWQjX8Uk4KvzQoR+55557VkNniG+/9dZb5JmjMo+Jh/9dyDoOB2E9VMeBiFNZBuLPSgftwnORwEsYDMm8tImRbp61NAwmutf8+QtKyDrv8fOf3yDveJFW1PHbPFN2lOnr5Lo/BbKe6RasgdcLZD0ejRbIemryFch6IOupeqvfjzJL1i1W3Zbo2Y10k4RKbBRSWCikpb6ERtSSmt9FEgqwXpIVtwhxY7v3elqeERWeePWItJetBpPqnTLxea7JRSae2chehFmBkkJCOFDWjaxT5ztRWZ840SfrLVRB7t37jG1IKaSViiuQ9Z49TxdF+sSSe4wdO07Ie2/3hz/8Qa4f1TY3wsSzUHEG5ZuYciPrFrNuivKmTZs1xOaVV16UmPL3dCdVYr6JfycGnPrwN9zQX2LRO2uIjb9bK9dF9ferweAMQMj9EBeI9JtvvqlhNhDya665WiuxNG++7Q6mL730shDsp7WCTffux+sOpmzsVErMS8uHJirrlmBKnXjaAZJOnDzhSKjqrDiw8kFiLjXTqa9OyI5P2M0mLMGUtiQ0COfn1lv/S6rq9NN/W3tnyoaycZ1c96dA1rPRijXsmoGsx6PBAlkPZL0ylhiU9dT2kimyHgmPUZx5RNr4N5U+ioX8kFBKucZaUu2lQBTWAiGGm4W08B1CX0pj04OyXhkLj85NVNYhib6yThiMr6wTBlOWrEf1xJORdRRvyDqx56j03bt30yozVDmZMmWa7oD6u99B1vfauuFRpGYTg/7GG69rrfRZs2aVVGuBrPvVWmbPnre19vjLumkQZLtbtxNU+X/66ce1NvnFF1+iJNXivHlfEkxxIO655x6pOPOJlkckJp5wGBR+ngGHAaWbuuxDhw6T2PE/aqw+mxxdccWVWmGGspVRfHstjZW/++67Jc58gCTFNpXrXagVcFDKjQjy2xwG/s31uQ+bGIELijorB9R+5925JhtJofzjgBDDzrtRD56VBsJhcELsWnYfVhcmT56iqx/E0Ddp0lhXP6j57hP1XIeKVcY6A1lPD62wKVJ6OKV1ViDracGU9ZMCWU9NvoKyXopRIOup7SVTZH0rbdTNjqLwgyJRRjcLqSuQjXEKhSQVSExzgVTsKBYSVCi7ZJYq56UEPetDSIU3yDW5yNTb+s9tMeuJZL2ssk7VE19Zj8h6sjAYQlgisv6t1AY/TWO9FyyglvsrooiP0o2WqFLSrdtxWs6Rg2f45JPhStZR5gk34XuQaci6hcGgeA8a9L7Eqj8kxHSSlF3sJjkMV6maPn78BPef/9wjmyIN0eRYyjKSnEnZQ6uhDul94oknNHSGEBPqsXMPf1MkI7bjxk0UYn+3KN3vqMrdp8+Zej4knxjxFSsIxRmpdeGjVYQo1v/II49Q50JdUTHu5cuXCSmfoTuzch2coGbNmmmpSZwSVHTGYGLNeS42Ybrpppv0/fkOcfk4UyjqhMLwvOwiaysBRtaJn2fFAKI+RDYkYLXh//2/27XqDe9vTkKmbCgb18l1fwrKejZasYZdM5D1eDRYIOupyVcg64Gsp+qtmQ6DKQ3njcJYCGGZP79I1N0tQjacEL1asoV8gaiUBVK+z4ma6ESBjGLaqRJTWjM696EvPla5Jhep2indzxOVdeLJIeuQQ2LMCYNJpqxTnpAEU3bqJMG0T59tw2BQ1u+66y6NC4fA9unTV+umv/3220JG31eFu0ePHppkSgUXDhJKhw//RBVvkkW5PmS1n9TnhKxDclHRhw0bJpWBnpTY96GyA+q+7qc/vU4V9CZNGinhHTjwbVHXnxIFf4p+jyoqVHtBiYasUhqRRNDXX39dzycB9qc//anY2r5llHCcR0g01WBIqqWSDXiceWYfuV4XtUGIP6QYgk3d+Wuv/Zk6Ds2aNSlpBlYkCP1B7SYEh/hzEkZR/GkDwmCGDeO9h6mTAqlmh1JyBnA4eGeuTxItVXaoTMPzshpAUqyp5Pym5CWEH7LObq7Up+c6Rx11VJlQo3RtpDrOy3V/CmS9Olo5ZvcMZD0eDRLIeiDrlbHEoKyntpftUdaNpEPOKbnIb1RyKSktimixkJIiITVOwl0KhOQVCDkqUKJOyUZ/U5egrFfGqrc917dzVG0IHqSUtiXcgoRKKptEZMZpjfQJEyaIKv2UkOEnpRrMnrK50J/EmTpzmwRTCDcbD5HM2atXbyGnlyqx/Oabr5WQk0RJyFPz5nuook0YCJspcR/INMSYgzrrVGsh5r1Bg51UqUdlfu21VyUUpb7ucHrFFVdJHfQDxJa2aOgKJJWkUJI0iWXv3ftMucYlSljZfIjQk9Gjv5TPn3UjRoxwRx99tNaUJzHU1GfuDfmlMsv06d8rISd+3ZyIvffeR88lRp2Ezl133UWftV+/C+Q+R2q9eMPXdkP9xz/+oWEuqNzE+uNAoIRD0MH0vfcG6TvjKBHqQplIcCG0ZcGCBeo0PPDAA/p+ODFXXHGFbuZE+I4p7MuWLZVzHpRk1+fUOSEcByWedrQjziEwPGMg6+n16xAGkx5OaZ0VyHpaMGX9pEDWU5OvoKyXYhTIemp72R6yHl09KjPHb8jD0qVFoh4WClmkkkixEJBiJemo6rLTuxAPwgmiSi8omnE6ck0uMvXuico6SjOElNKNpjb7ddZRiKdMmaoVXV566UUh2S1kp87bReHtUUKw7JqEYpCYibJ+0kknS+nGs5TQovzOmzdfa61/8cXn+m9UdoglijEx2vz/hx9+qLHcxIejrHfteqyQ42Jx5j7Q6i/sjIpqTAz5McccXRK/TY1ySkRCrh977DG9R6tWrfU8iCsVUbZs2azXfuKJJzUWHLUcxwQCzL2NqBtxhJRz/vvvv6+qPko4mxlBorHd/fdvKRVveqjSTfgK8eylpDNSu3FQ7r33PnFCR2tVl9tvv11LNYI1JBzVnFKSqO6sBLAaYdVpjIjjKFHSkvNxfFDfcWQIVbJKNySoUumGtjz88CM0KZYNn9hgyk+yzZQNZeM6ue5PQVnPRivWsGsGsh6PBgtkPTX5CmQ9kPVUvTUTYTCRqm5hKxFRX7myWMr0FYuyWyAkq1hilYtFXSyQWOMCUT0LRA0t0lrqRuwjMpXqaXP3ea7JRabezK9ZThIjajeEkMon7du3VyWa0JMokbJAyOkWIZdLlFTys/PODZVcd+jQvoQImmqLAo1qzQ6cqLokWxIGQ1IwxByl+LvvvhWleo6q4RBcYrC5J59zfYgnGyYdckgnyVXYT+9vmyqtWbNW/07JRdvZ1EoYEurCdwkZ4Z3q1Kmr50WhMA3UsVi9mqTNl9x9992n97766qtlBaCXln70dwc14g4xp8Qi9582bZqGz/DcDWS5h3fj+sSxW1lHI4DUTweDoUOH6u6m/Bungbh2FHEq71DKknKV4ExoDAo97801zLZ4JxT60aNHa0lL2oiVANR3woVwKHBUiJv//e9/p3H0F110iVTEuV6ciX0UA3umoKyX7UGBrGdqRKnB1wlkPR6NF8h6IOuVscSgrKe2l6oo61EICwq5lVh0QpqcEJViCWsokiQ+wg4KJM64WFRDJ0v8BUJoCkqqhcSVZNRUsu7bOf+GkPLDvyGd/KA0WxgM7UcCMMq1qcoQXSOovtVAHjdu3KiEls+JuyaRkuuh1qMMo9Rzjh3Rpkj19Rw+47v8m79DVjk4377DvfnMJ9f2ThBfO5e/1a1bT69tTh7fIVQHpZrngmwT+oOzYMq4X7+c+3NNe2bez0gezwBp51kTdzflHSD4Awe+Jc7Lp/rehKWcK0kYhLjgJLFKAJ7E7hMSxP0Tbd3uxXkkpXJ/cOWduA6rBQsXLtbY9oceelDU/JXiEFyv4TT161OyMfJu49qHfNvJdX8KZL0ys+MOem4g6/Fo2EDWU5OvoKyXYhTIemp7qSxZN6Jeqqw7IRRONj0qloS4YonXdaLaFoj6WSAl95w7+eRiSdIr3fAlqqduMevxGFfsKXJNLuL19uU/jZEgzkDJnjhxkhJaVHtIa6YOu0/i72TX90NBIOkko1LTHNWf8BSqx/j11v0dQlMRXf99zSai8o8fakLuokVLxL6P0vscdthhSpyjuvAzlHQTzpK44VIqjOyeOBEo7lSMQX1H7b/yyqs01t/f7dR/xlTXrq7Pc92fAlmvrpaO0X0DWY9HYwSynpp8BbIeyHqq3ur3o8qSdSPaEWkvksS6QonfLZJNeIqlQkixEvVDDimU+OQCidctkrCH5IHpcQp/qelk3W/P8tq+VLWOHKVkh52T+Jk//1FukVhvzoVI+ruRpiLBqewyUVkv73kiG4xCrzhQqMePH6+7sVK9hrrm/fv3182HMkFquQ9KOAo+1WdQwKl+c8QRh6uCbtVbwIWDcCF/F9VU723vg+oP6acKDD84RKeccqoS9WS7naZz3eo8J5D19NAPCabp4ZTWWYGspwVT1k8KZD2Q9coYWVDWU9tLZci6qemWULppU7EkKhZq6MvLLxdJ+btiSSItkGS5QqlhXSDxuk4URivRGCWh2jJ+ZdoxV+fmmlzk6r229z4+LiRSkqTJAVknFt7/fHvvle73uad/X0guyjrJo5RuJJmV2HkUbsh0FK9f+Yxm+x6/iZ+n2g7hMoS6EKvO9TnMieE8iDWJoPaM6dzX7rN8+QpNPP3ss0+F9LfXXWNbttxXw3N8ZT1dnKrzvFz3p6CsV2drx+TegazHoyECWU9NvoKyXopRIOup7SVdsl42Tj0i4NOnF0vVESeKppMEwGKJYd4iyaTFEstbSyqCUI2jVP20J4mjom7PlmtyEY9RNfVT+LhQPcVX1i0plKtsr7Ke+knKnuH3b/49ffo0Ccf6Wgn0j6T0EIQ6im8vqLLCbgTQiLfdEwJun3F9cCEMxsg6RL4yToxda9WqNVJ55xtxDGaJM9ROqsp0kveRTQm2HrnGuLJt4p+f6/4UyPr2tNYO8t1A1uPRkIGspyZfgawHsp6qt/r9KDVZj0ozUkO9tK66k+oXzr31VrGU1XMSelAg4QDFEqNeJDuUbpFYZpIJSWikPGOMyr2kACbX5CJVO8Xl8ziSdSNmfiIoiago3PyNSjTE0xOyUhmFuyLMfeLOefy/qebclxWHqpJ1U9ZJ+l2+fJUk1a6XUJpdtUSl//z2DHGxjVR4mRNHtRzwIbTHwqcMw0w5IIGs1wSryPIzBrKeZYDTvHwg64Gsp2kqelpQ1lPbS8VkXadakNxaSz2KU1+woFDK1BVJTeliqVfthBQVub59i9zllxdLLehaWtavuJjfUi7GRaEHcVbUDaVA1iu2F1OQ46isGyn0+3xizHtVSGEiQfcRyiRZLyXhpU5xstaoyjtUZszM5Lm57k+BrGey9WrotQJZj0fDBbKemnwFZb0Uo0DWU9tLcrJuhMEU9SiMgJDfpUujii+yS7xsEONcw4ZOSuVtkDj1jZJwV0f+v37CpkdBWY/H6Fn1p4ijsr7t2/grP7mxOV/l3l5lPVnr1CQVvbznNycqKOvl97+QYFr1sWmbbwaynkEwt+NSgaynJl+BrAeynqqLpRcGU1QSg0w99cJCKr8Ui6JeKNugF0jllyIJdSnQ3UmvumqD1FTfJHWl6wpRp7Z0pMAXFxfWCEU9KOsVW0ycybr/bL5d2xv56nqmVelMkvXyFPzKlJxM1e9z/XlQ1tNDPJD19HBK66xA1tOCKesnBbIeyHpljCwo66ntJZmyXopbVL2luBjiXSSJb8XukUdqyY6RlJgrkl0vnewYWSBb2jupCsI5KPGEv3DfeFd+iYMSWBlbrs5z40zWqxsXI9PZUNar890yce9A1tNDMZD19HBK66xA1tOCKesnBbKemnwFZT0o66k6YmplPVLFo9AXdnssdlOnbpENYZx77rlassNioexK6nTTo1NPLXAtWpTomF4iahRCE+dSjYk45ZpcpGqnuHweyHr5424g6+Vbaa77U4hZj8uIUY3PEch6NYLv3TqQ9UDWK2OJQVlPbS+mrNeuXUfqOrcu2cyFSi7RtvSbtX76a68VSy31AilPV0ti0wtkV8UC16NHsdSTLhRCH5HyqGIMv4OyXhk7jfu5gawHsl4VGw1kPT3UgrKeHk5pnRXIelowZf2kQNZTk6+grAdlPVVHLE9Zb9Wqtdt1110k7jyqj75lS7FsLb/Fvf76FtmhtMDNnFkoZRkLpZZ6gTvrLCd11Z2cG9XXLkvUUz1BPD/PNbmIJwrbPlUg64GsV8VWc92fgrJelVbawb4TyHo8GjSQ9UDWK2OJQVlPbS+JynrDhrtsrevs3OzZqOlbJPSlWNT1AtehQ6HsDFmoSaVt2xZJDeuoLCPKeqmiXpkWite5uSYX8Xr78p8mkPVA1qtiq7nuT4GsV6WVqvk71mj+ZJ3qkSrKFA9kPRV6ufk8kPXU5Cso60FZT9Ubyyrri0QxnymbldRx7dq1kdKLEVmfObNASjQWuwEDtrivvip2zZqhphe6Cy4ocIccUiCVYIpLVHXuVxPqqKeLC3NBLkrNpXqeuHweyHog61WxxUDW00Mtb8NgEol6Jso1BbKentFl+6xA1gNZr4yNBWW9YnsBn8WLlyhZr18fst5Kfu8qfyt2gwY5SSgtdqNGOQmNKXannebcOec417lzgfx/gRf+UpkWife5uSYX8UZjW6c3bpsiVTd+xjV4jlANZtvWyHV/Csp6dfeISty/Koq6XT6+yvpcWY6e7Ro1auSIKa1fv74qX5lwQioBbSxO3ZaszxYlsKFsX9zGNWjQIOAirRQp6zN1u23shS23g704t2jRQiWl9erVU3vBbvzJJBYGnqOHKKusLxZcZggeddVe1q7dxY0YUSyhL0VSU50E00J34okF7pJLirUCTJMm0QZJUUJplIS6I6jqQJ9rcpGj5t7u2wRlPSjrVTGiXPenQNar0krV+B0ajJ9C2W5v48ZNsjX2fPf999/rsmbdunXd7rvv7vbcc0/XvHlz/X+frJdHgKtLWWcinDdvnkfWWwpZb8C0kpdkPUp8iwjCvHlz3Zw5c7eS9VZC1ncKuAgwEVmfvZWstywhDTXaDQAAIABJREFUpfno3Pn2smhRFO4RkfVWJVVP6P/5ho1P1lesWCjjy/diL3VFEGjrxo3b1T37LMr6FinZ6Nyxx9Zy559f4E4+ucjtsQflHKP+x26mOxJRD2S9/Ek7kPVA1qtC6QJZTw+1vAuDMcMw72rz5s1KWj7++GP3wQdDpE7wVJ2g27dv544++hhRiY6Tagb7S6xmLUXUdjpLNnHnkqxHk2FESjkgpSjrjRs3ci1bthayEZR1cFmwIHJidtmloSiCbdSJCQoyCvIPSkpR1lu3bi1OTFDWcW6XLFkkZQcjst6mTRvBJyjrVHBZvXqxiBkzhJjXEVW9jRsyZFf30kvF4ghvlhKNzl12WS13xhlRLfVoTOI/pcp6etNRzTgrFbnI95WYEAZT1o59ewhhMNv28Vz3p6Cs14Bx1hqpiDpicqCqz58/373zziD36aefqqqOEkQS1bp162TiaeH69j1T1KKTldSkGoT9z8eMGeP+/e9/u02bNrnrr7/eHXPMMSm/X1kIo9WBSL1atGiOmzt3piw/N3b77ddGLhUp6zVps5HKvn9550Muoq3PnVu6dI6Q9VkSP9tQnJh28pVIWc9vXArcihXzNKxh550Jg2krBCsipfmmHkcOeKm9rFr1g66wNWiAst5ObChKpCwloJmy0vhex+qfW2lG/n/+/JUSl77QTZpU202fvocbNmwn+V3sDjxwk7v0UidJpbXEjgh9QVUv0rF1Rz38cZ4qOdgLYg5Ob+PGjfW187Ev+bgsXbpU7GO6jifg0qRJk4zPfzXFvnxbWLZsmdoLHKRVq1ay/8BueYuLtV+u+5O1xwZZEnz88cfd22+/raLs1Vdfre1B28Rx/MpbZd0G1M8++8zdf//9kvixwvXu3dt1795dtsheI/WCX5Gl3u9ct27dpLLBBW6fffYpITJGaExlT2Z0Y8eOdXfffXcJWe/cuXMWOiWk08I95ovKNVtI6a5CSltJubT8DYMpXb4vFidmvpD1Oaqsg0udOvkbBuOHNSxZQhjMLHVCW7YkbCp/yXopLgVu2bIolr9u3fo6mTZoEJH1iNRvXcaqKSyhis9ZGrZSLLHoOLwFbsyYze7DDze6L74okP5UR4SNWiIKFMvYWKQ7lELUxT1WB3lHPxJJqU/WGX8DWS/QREqfrJNLlW/9yOcFNnasWLGiDFnPZycmGW/Cyct2fzKyjpAKWX/rrbeU5wWyHqORO1Kio4kX72n16tXu3XffdY899ph6VLfffruUGztEJqgiKUU2QDyugRq73qtXL3f44Ye7pk2blgzEqTwvDO4vf/mLW79+vbvhhhvckUcemdHBKppQo8lUnHVxLJa7KVOWCsnYye27725CMuropiWW4BWjZsjqo0TNG7Ux775w4Qr5WSp41Hd7791MyGnABVwWL14pIULgUtfttRe4kJexY9TBroyBJdrL0qWrREVeLE5dHelHuwsu9bbikl9kHdJdWMgKTLGMLc6NHFngvvnGid04Kc/oJEzQyQTnJPTFibpeGpeeD/6MTzpXrlypoZMo6+3atUtrBbYy9lmTzvVxWbVqleICSQUXS2DPJ6c3GRlds2aN4gL/aNu2bV7nxCTDJxf9yY+wgPu98cYbrmvXru6aa64JynpcBhw6iHm4eFXEMr/33nuiGH2oKtrPf/5zjU/nvE8++URi2D8QVWmpTEYHupNOOsl17NhRl0f8QYl/E/e+ceNG/eHfnDNOZriHH35Yz73uuuuklFmkrG+/uhARqih5FKJe4L77rrYbPrxI7rlZ7l9LDK6WxNwWKlnfETYhqYz9mBMTJZgWiEO2WX/YmKVRo9oBl624rFmzxa1cuUlxadw44GL2snZthEutWuBCP6q1tR/lF1mvXZuxslAUdMYVJ6sNRYLDZhkfi5Wkn3iiEwGjSJLwC8SGapWMSfkw3vhjOGENUf35WrpCRb5TUNYjZR1cmG/BhRWH7Z/7KjMTxOdcPwwGMgoucIz992+pOWb5iksiWUdEWr48+/3J2gO+9tRTT0kY9DuqrF911VUiRDQLYTBx6Dp+p0DxnjhxkpQd+9CNHTtOlKL2spx7saive4tavUX+NlYI8HAl3TQgITJHHXVUCdnnWpByyPnChQvlWhNl977JEnaxSP+2YMEC9/XXX4tquZeUM7tElXWui5NQdXUhilHHqGvXFkldjlmzGso77OaGDt1J4kkLnDjuEtJQLJ8zuUZl0/LtiAgDeQlshW7OVYFMqDg4RXnnwJQOioYLjhw1sCNnrnZtcIlsK7/tpVDspbTkIDtuRrtu5hcuUR4M710o45UTEaJISMVyUUgXuEMPXecOO6yeCBi1pepL1JfWr4+qv5jDs6PbkE++UEoh7Dg2TZs2FmU9StTOt5h1W6EyMWzt2rUidIGLE1yabK3CZWUv82teMlsAizVr1oq9LFf7IASGFYdoRTM/84V8xxYboj9B2KP+1KRkpSpT+Nh1qPDHvV555RVHKDR5iVdeeaVGT4SY9RgwRj9mlwTSCRMmqoI+deoUXarr16+fkmtI9ZQpk+WzT2VXvtGiCuwiW2efqUmiKCg+6Yd84ymToPrFF19oHDB/YxmQ8ng4Aeeff75McofqdUlq2D6yHrHvunW36HPMnt1Elqj3luSvnXXbb/FBVA2keE00geYhW9fBLyIPhDRt2bJZ/l1LFcCIUARcSnEp3IpL5NTku70wUG/evEVxoK9H4W5mTzt+X/L7DUS8QYNCGROLXYcOc2XZfpyopKtFvNhNBAFyPxAECCmMHJx8sR3/XVHnIKZgBfGqV69OXpN1QqewIcOFuYq8GMgRY29+hmZGfYMf5v+1a9fpmBLhYmF2+dN/Eqmg3582bNgoxT2sP+0k/aluVvoT+60QBv3mm29KeN83rkePHu4nP/lJIOsx4On6CD7JZoCdMGGCqOcj3LRpU5WsnyNb76GsM2FPmTJVP/vyy1GanAhZ79KlSwlZN2UdAm5LfhB1Ekj4G/8eNmyYes8YAao8ijufZYKs16oVVbRZubKBlG3cVVT9dVINZrkQr3qieO0ug0A0aeTLBOrbmO+U0TYoX5Ti2313auYHXJg0V6xYqdWPGAybNdtd8Qn24tTJXrJksfSjOpqvYpuLVb3PxmX0S+85jKxDqiDisreahNVBROfJWDJBQsk2y94T+8o4uKuIEvmpCPr9BHuhIgxKIPbSsGF+K+tG1iFC4MLByjSbi+UzWQcXVnoNF2zIcPHV5fR66Y51Vi77k92LnCQ4ILmJRFAQ5nzFFVeEmPW4mJZP4giDQVkfNuxjDWHp0KGDKuAWBjNp0iT5bLiEsozRcoh9+vRRZT1ZzDrXheDzY8Ywfvz4ktKNxMJnphpMlDAa3SNClQkVVWfRonlbq8E0ksQ4qp7kb+nGUiWUhLi54sTM0cliv/1al1SDycfSjYYLdrNs2QKxl6gazH77tRInJn+rwfj2smwZm//MFJJaT2JK2a8g/0o32nht4yUhMStWRDuYopCysyvhHpFKmn+rVL7ogxAwY8YMnRfIe8r32GyzB0QScOEAl3yvBmO4ELM+ffr3MmdHpRsp9enbU1y4Ui6fI7E/+dVgyAHJND7G0YiAeOKJJ9zAgQO1dGOIWc9lq6e4l9/okHWyskki/eqrr3QDFBTwfffdV5fBIekffzxMVXcI/Omnn66hLFYFJplibfXb+WzatGnurrvuKlMNZvs9aEssteX4aBkar3358tlCvqiz3kSet438vb7GIeczKcWhWbkSsj5LE7/23bet4NIg4CIq4Jo1bBZFnfWdtS5/cXH+borkh7msXfuD7tSJor7//m2l/5gTo9NtjEazXDxKaYL66tVLZLycKSsOdWWsbKvVlTI9iebijTJxD/+9IV+M9cwLoRpMqfPGigO4cIRqMKW4hGow2/bAxP4EL6tdu7ZWy0lnf5vK9mkj6/A1qsEQChOqwVQWxSyf71eDISSFmPJ33x0kjfWGENx93S233KKknXjewYOH6GfEO6Ooky283377JVXWE5UoyDpxUP6mSJlR1hMBsoRTNi2JdupEwWATCupEh7CGCBfqzxPKhCJYr17YwRQrWrgwqicedjAtDY+DtC9evEhzUMIOpj4uTkODwKVOndraj1ip2n7xIcsDfpYu75OLXNSFztJrZPyyyRRS2xQp35X1UGe9fHPLdX/ylXXIOsp6qLOe8eFg+y5II/mhMCTBDB482N13332qpPXvf7M74YTjJZZpvSyPPCmfvSfhMe3dueeeq+UbITY2QSWrs+4bXS52MI12GLRNkUrJeqtWLUX5yl9SWhaXuULW5yq5aN2aTW7yd1OkUlyK1VGdNWu22jT2Aj756tz59kI1JyPr2Es2lmG3bxTL3bdtPCOO3ZwYYj0RA8LmP1H4T9jBtNQeE0lX2ME0wsYfV8MOphUr67noT9YeYQfT3M0lVbqTEXbzdCnNSNwS4S7t23fUWupkJH/++ecS17vU9ex5mjvvvPO22RY4WRiMP1hRttFX1o8++uiMLxv7jse8eXNLlPVWrYi1lcwwrcWeb0v3ZRXBefMiZT0i623y2onx7SUi65Gyjr3YpiX5bi+LFi30yHqkIOd7uAcDLZNopKxHZD04MRFZJ0nbj7HNdwUZWwEXSKlP1vM5NtsfP4jlx15Y5SdmnVKB+Tq+GIHz3z8X/cnIOmItO5hazHrYwbRKlDo7X7JG8gk7MYeUXPzggw/d6NFfqoJEWbLddmvqDj64kySW9nJHHHFUSQkhG4ySPWH1knVfWW9VUsUi38lXRNajBFNIRj6vOGxL1qMEUyaNQNajHl1WWW8dyPrWgS4ZWU9UDbMzasfvqqnIRcAlkHXfan1lPZD1ipX1ZGQ90/0pkPX4jalJnyiRsHMSmxSQZDp8+CeiBkxT4tK2bTvZ/OMw16lTJ1XV7bBqMPFT1gNZT/TU+f9A1ku7QSDryQcpH5dA1pPbSyDr2+JSnrKeaXJRQ6bWMgpxUNbL2ovxhUDWA1mvan8ukIkqSlXOo8Mn7HQilqTI0qZGOlVi2Axlp50aCGlvqEqsvxESMJWnVgdlPR5GVDY8KCjryZyYKAwmKOtGrAyjQNYDWU81igVlvWKnN4TBlMUnKOsV96hc96egrKca4WL2eSJhr+jx/M6W6jwj87mPWQ/KejJSGpT1oKynGnqCsl4x+eLTELO+bT8KMevbklKb/4KyntxegrK+7ViTiqxnOqY/kPVUM2IMP/cJe6LC5ivoDMrpGEwyZZ0khhtuuMFlM8GU+86fP99LMG2lpecqWgWIYXNk7JGsHfgNWZ8716rBtNZY/oBLsZRuXBiU9a0W59uLkVL6DzkOIcE0StgmljQxwdTGzHzLi0lFLgIuIWbdn8zKU9Zbtmy5TeGKjE2CNehCue5Pdj82RQoJpjXIUDL5qL7RWelG6rmzg2k2yTqTJYTUr7MOKfXrymfyPeN+Lb8dIOvgYgmmJFQGXArcggULAllPIOv0I5yY0tKNgaybY2vhQX41mEBKk1eDCbgEsp4OWUcMYBPDdITAuM+52/N81UHWyT1ESLU66+xgSjWYZs2aKT9IVpp7e94xE9/Ny5j1TACX7BrJlHX+1r9/f3fIIYdkvFMmGrmR9f33378krj7fVC9/hcSWqa0aDFVPDI98x4XlWD9m3fIy8h0X8lbAxZR1dtLL18nUf2+qZoELZJ1+VLdu3RKnN99sxsdl9erVbsaMGZrXBPnCbkwMyGdc1q5dqyUKwQB7sSpc+biqib3wAwEkJ85KN6KsWxWufMTFOFSu+5O/kvrUU0+51157zR177LFK1ikmEsh6thhyjK6bjKzzeL/4xS/cQQcdlNUnhXxBSqnzu++++2b1XjXp4pAvnBg2cWEH2nBECLAdOOSLyYJJIxwRAiSao6yzMgX5CkeEwLp165SUQtbZ5TnfiGh5dgD58sk6pD0cTlVLn6xjN+FwjpV26s/DFRh3LVw1YBMhkOv+9PTTT7tXXnnFdenSJZD1fDJCn6yPHj3a3XnnnbpT5AUXXCC12o/QDurHr20vNnY/rkNCD/G2hHk0b95cla9M3mt7nzWX30/EhXhbyBe4MDgGXJzDucNewGX33XcPdfnFQCGgOHeEfKCot2jRogQX7DffCKrfj3DuCBEClz322CPvlVKzB1YcsBdUU3Dxd7nOR3uxd2bFAXvhYNwlDJEjH8de/50RA8AF9RZc8nlzMeMEiSt42e5PtsqBQ/nSSy+5zz77TPbT6aO5hYTBbNmyRVfK4naEMJgMtog/uVG3/Y477nAjR450Bx54oKpRdNBMDlZ2LX6jfPGDgoFaGsIaooYFEyvHCS4W1pBvE6lNlGbuYMJSNXgEXKKdfulHbEENLpAvcKE/5XMYjOHCxAbR8HHJd/KFXRgu4AQhNQU5k+N8BqeorF7Kf2dwgbCDC/0I8Sjf7YX3N3sBK8PF+lg+zkm+TeSqP/lk/csvv9Rx7dprr3U33XRTCIPJ6ggRo4tDxjmY0FjqevbZZ92oUaNUzbVEEjsnEx3TJ+uENLAcy33at29fonzl66RhyhchMCzHomB07NhRla9Mr3DEyATLfZREOyDxdtq0aAOwDh06lFQ9yTd7sfe1CZOqSlOnTtX+g72Y8pWvuJhBoQZOnjxZxzLshXC7fO1HNsbz/qiA4ILTi700btw4r3GhH/HDqh248G/mI2KBzV5sbK4J42YmntEfY1gBnzhxomJhuIBRJnlBJp45V9cwIcQ2m6Q/TZkyRcXGbPQnawuuTzUY7scY37dvX3fGGWfov0PMeq5avxrv4yvrKHRU3GBZnb/bskomVTpLZOL3oEGD3LvvvqsDwIUXXqhL+MTH2eBZjbDk/NaGC1gPHjzYDRw40JF0e/HFF7t99tlHl7nyccLwnbuPP/7Yvf76627PPfd0l1xyieKT77hgE8OHD3evvvqqLoeCC3Hr+Y4LYwhLxSwZQ9LpR+3atctrUmrjB8rciy++qOFS4HLAAQfkPS4QL/YZeeGFF1S4uuiii9zBBx9cQkjzcey1eXjcuHHuueee0zGF8NhDDz20ZOUu33AxVd0IAhj5/YnxF8KeSVHAd5zgCbQDAgTjfdOmTWO98h7CYLJAJatDhXvjjTfck08+6Q4//HBdziGhMhxOHZhHHnlEQ5FI9GXlIRzOffTRR+6+++5TMnrbbbfpYBUO50aMGOH+/e9/u7333tv913/9l8Yhh8PpCuG//vUvVUixl5DEHlnFN9984+6++24l69gLlU/C4dz48ePd3//+dxWpsBdEpHA4XbW76667VEi75ZZb3I9+9KMAi4cATh79iRVw+lMuix9UB2+rTOMHsl4ZtFKc66vm5g0m/i2Dt9NLmYFRfogyRHjqN954o3qJcTe+TGPhXw+vmYnirbfe0o0P8NApoUlST77iYjYJLqw4PPjgg0oucGJQ2AMutRwrDvfee6/ba6+93K233qorMZlcDcumzWf62v57o6zfc889StYhGdhNwKXAUUgAXCDrv/zlL13btm0DLqKQfvfdd+6f//ynKuv0I1txwEYzEQKaaVvP5vX8fjJhwgTFhRCMm2++OSslnbP5Ltm4to8PyjpiCWGI2I2t4GXabswG/Xvb6kdc58FA1rNgfX64QRYuX3JJuw9LOc8//7x75plnlKxDSvOdfBlILN0/8cQTStYhpSiCce2M2bQVc+zsHjgxDz30kJIun3zl20Tq48K7E072wAMPaP/J5mSR7bbOxPX9fjJkyBB1Yoyss1LliwWZuF9NuYaPy7Bhw9x//vMfJevYSzb206iJuODcsRIDWWfcPfLII4MTI+MLhSeMrLMCTn3vfO1HZtfJ+pOR9U6dOuXEbmpCkm8g6zVlJEzynKaUoiK//PLLbsCAAQ7j/tnPfhbIuuAFLoQHkejLMiw7yQayHq3GEB7EigPLjNdff73+Dk6Mc5DSRx99VHM+KOWV70qp2QQrDjh3rNhhLyil+UoybNyFiH766ae6QgVZx16Izc7nFQfeHVwIm7r//vv139jLYYcdlte4mDJM2BROL8r6dddd5zp37py3m2j5ZN3shjBExhnIOv2J/WnytT8lUr5A1ms4WefxIaUffvihe//995VcnHvuuaqAZXrpqKZAZZ2b35AMiCkbIvXr1y/vw2CsDRkU3377bSWl4ELYRz6TdXv3zz//3L355pvaf84///wS5y4f+1Li8jQJyVRLAJcQBhP1pG+//VZ3QKQ0IQmDlOjNV3LhvzeJlGw2A1k/77zzShIF870fUSGH1V5i1pmn/Zj1fFzV9Fc2+TfODP0J55dxJp/7UyDrNYVxpvGcftUTykERD8cGNySZUvM3riWI0ni17TrFL4PF4MjEgSIILiTeBlwKtGzj2LFjlXyxYZeVnMvHCcP6EUZHmU/ibUlwAhfL/chXkmFODKVhmUiZROlHlpCcjw6er6yzazRJceSBYC/kxJg95Vtf8nGhNOyYMWM0Ph17QRQIuBTqJomEwoAFqw2IJPmKSzJl3foTpVDpT/CZfMfHcArK+nbRwsx9uTJx7hZf5S9Ds8Mgm1BQhojyaok7cKWKyUr3/qmukzlEKr5SRc/rEwg2PAAblC+IOoOAT7zSfe+SDrN185w4T8TlvZP/dzaLYvdF8MBebPMflDD/SAefCAt2541v8lgqezGbYEMkcAEHHBj6k79/gt/nTEmsyFLj0l8SnzGddvXPYRMtytAaLvQnqw9dXl+I67sna6908PDJhb0zuLAbMP+PveDMGGlNNUbUFHzSxcbO470YXwwXxhdw8ftOsjbw57VU2OVqninvPulikvjOlHQGF75PZTLGl1S4xHHuSff9fRsvb7z052vshnGG7xk+fn/ybaQiG4q7/VTFfgNZrwpqWf6Ob9SJBm5G6GczJw5y/k6p5Z2fjJDZoOH/9gcKn+RmGYK0L2/4VEScjICmUgFtUCjv5j6Wqa6V9gtk+MRkg2giNvx/IilPRhz8dywP50T7yvDrZOVyFdlMRYN84mc11V4q267J+pbZS3n9js9r4oRZ0djrj3+pSENF41FN7DM2J6RyUP2x1u+89s7m+CZ27JpuL6lwSdUXapK9pDt++O+cap62TZGS2YXvzJR/Hcab6Ns1xQmu7OQWyHplEcvS+YkkK53OnUjYy3s0fyAoz5CjczD46Heyo+wzlnaOLEFS4WX9Z0mFVXmOSeIgkO514krU7T0r+3xmH4mDayIhqRifSFn3CU112EVFfSDRqa3o+YqKinXwT/bOVcE3XdvKNmbJnLmKnq2889PBIJGAxAWDRIx9+0/nvWzcSNZW6b5jVcevbNtHReN+Ze6dbM5JNTbUFHtJRh7TaffynN50cI2bvaTzPGXP0dYv91Urcvq3hxulg21NOSeQ9Zi0lMVRY5gbN250S5cudWzxvWTJEg1vIYaWcnJs1kI4R+LgQHY5WzwTK0hcHMtJLMuSCLb33vvIMmS0nJ+oYPieKp9t2LDRzZ07182ZM1vDR/jbLrvsqgmaxNfVqVNbl/DME05nkMoGxIYX78378sw8L2UsrXPbM7IEC25UgiHcw580fNzBfMaMGYL9MrkGu5wWyPXY5WyzYk7yrl8Ss7revSI8/fYknAMbYktlbMiP5SdWnXchJhDbMkUskbBbW2MX8+bNddOnT9dlXOyJ7+611976m7CIONhFedhYO2Mf2Mn8+fPVbszGsQsqEOyxRwu1dd7P7CjRwbVrgQP2Qr/DRgoKCvU72CQ5I2w4RZ32uCmpPGNpu27QvkOsfnntav0l2YSKjRFnym7N2Bh2RF8jMYzwh5qSH2JjI23HmIt90G8Yi3lvbIN4dMZAlucJM/Tt3WyF67CMDyb0PcIeOBcb4DfjCBttcS2uWRPwsWfkvbB3cKEfWb8AI+yduYa+gw34eSDWJzmf/oa9gS//5iCenbHV8kMM12zMG5m6pj//gAc5Hcwf1s68A+cwLjLW0t421voOIeeAA/M2mDBvE5po1wFXvgtGjNNxsBcbP3hGbGL27Nn67ISc8r7MK+yITT/xFfPly1cITjN13KVfcC6YcG7TphTEKEpK6H2RBUFo2bJlOg8xH2GH8Jy99tpT7ruX2mGyVeNMtXt1XieQ9epE37u334Hp9N9++52jMsU333ztSJKkw59yyimuT58+rkOHDtvE0tJhPvnkEy0lNmnSJJ14IacnnniiO/nkU3TyrFu3TpmKH0Yi/AFg+vQZ7r333pNrfaydCsNv0WJPd8IJJ7gePU6Ta+69tdpBPJR1BghwouQeEwmDgA0mTLx8ziTQu3dvd9ZZZ+kA4r+vjzvXYWMpEnV33nlnHRy5HnHMbM5Adnq3bt1KJqnEQSEOpmTvxnNjB1TDYaMJ2hKywA/PTalGavx27ny0EMq9dYLwHRdfPQLH77+fIRWHPtCqQzNnzlTS0b59O3fMMV1c9+7d9Xq+M5iuQpkrzOx5IBZTpkzRHVxpbyYZ3h2HrmHDXTQZrkeP06U0YXvBqaBcB5e+QyUQdg0mwRByz/e5PvYCaaHaw6mnnqqYx2WSTWzXadOmu6FDP3QffPCBTroQbNq1S5dj1daZSBPb1cgUE+UXX3yh4wXJypAWSwzr1auXO+qoo7QP+SQ/zg4uz4bzQWLk0KFDtX35f44mTRpr+Vf6CzXD/epJvjMH2WL8oHIO4zFVP6gshA1AziG0Xbp0kX5zTI3ZuM76Don62DsbQUX9paHaO2MsTin2ftppp22zZbvZPr/BFnuhz2AvHJS7ZF475pijVRgqJfrVO8ekEkVod96d8ZX9GegDjK3YvDl9YEfFF8YB2hzSbX2Qcxmnmd/Z94KxlbGD5G3EA+LZ6X987+ijj9bvxmFc9ccDbIJ3x9ZxULFznvWiiy7SspSWI7Z+/UYZK0ZJ2w+SfvWNvifvx34NPXueoe/YsGFZZyRRUWe1c9mypYL3aK3wNnr0l4rzrF6CAAAgAElEQVQzYy3JunAU9jmIi1OT6bktkPVMI1rF6/mGySBG5YVvvvlOBrUxQsBHSKdeLwNhT/fjH/9YJwubBOnwDJh0FkplzZgxUwdSwllQhSFVRx55lJLV1q2jXQd95cImUiZeFOXPPvtcOtS7Ui1kaonRr1+/QR2E009nAj7CS2AlVKD8pa0qQpHW12wCoNOD1ciRI3WwYPDjYBCFfPCDo3PhhRcqdnjyHPbcPu6U7PvTn/4kys88ec/O6piALRMwgyYYkqFuRxzJurUniW9WhpAJkvZF8cBZ4d1RPw8//AgZ3Dqp0ucrhbyfPyBjU4MGvaPXQx2pVatQVWSw33vvvbQ0G04hSkmy1Zu0GjTLJ1k7gwv2AhmbOnWakKlN+u6QKiaCFi32knc52XXtGk2slnjrr0jZtSC4f/zj/6lTxGTRpk1rvQ64QOZ69uzpjjvuuFg5d2XbdYaW72QSXbFi+dak9EK3fv06deDOOeecbdrV3p33XLDgByGlr6mjTD9B4WLyZBJmE7Lu3bspLhCwOKulhgnPiGr31Vdf65g7ffo0XTGpXbuOkLBaOqY0b767jIOnKzEwUuCvnKCS0k+o1T98+HC1ITaqY0ymfyCggAmkArzi4MSl6nrW5jj+f/zjH5WUMna0bdtG2xt75z2xdxw8c079uYHxhxULSOk777xTIqJgRxA6xJBu3Y6T8fVIHaMie2FuqZ75JRUm/vwDHmAD6eadEXqYM9gYCgUY8nrVVVeJaHayzj++88p5VIdhzwtKL1vVMhwhcGGcxlawGUh8HOzFf36cLsYQxlTmX+ZbVhT797/JnXlmXx0/eceZM2frODFs2MeykrBS52T6Cv3iuOO6qxDZrl0bdWjtMCfYxg6uM2zYJ4oTK4Eo8bVr15XxitWrQnf88d3VYaSP+Ss71cVRUtlQZT8PZL2yiGXpfN9jZmnJlsT4jXHiweKhM4FGE+AuJQbJEjREHcWides2qiAzqaAM8XcM95prrtHB1D8wYuv8LGGzkQWd4YcfFmiHQxkz9Qw1lU7QvfvxMlAftnWisgE1S6BUcFnDi+fj2VHAIGLWSVlWZAAdP368Ohc9evRQdQPnJRlZ529sLPWvf90tHn4jweunssHUj+R6m+WnWAcVBlJw9weT3L95xXc0XJhAWWWBlLJSQ3vi5DH4c0CoeBcIh1UkMFz8wZi/QUrZqAJChv2hPi9dulw3nJo4cbwMtCfrqgMhMYn2FRd8DBfCeVDWZ86cIe++s5CMPVQNg0hAsihp2aRJU1l16KIKqJW0THRw6Tv0t7vu+qv0kWKZjK+WSbmzTMRFJcvf2Au2Fxd7SWzXwYMHu4cffkj7+DnnnCuk8jAJ6Vmq7TplykSdQC+44Hxx5vaUV4gcc8MBQWH06K9koh6o4R6Q165duyoJ47oQEAj7FVdcoYo0uODg+X0vTrbBsyBurFq1Rse/JUsWa85Cw4Y7S/+oL/+/VDade1FIyRgdRy677DIdDxPtnRVNlGdqabPSB4aMu1YNxRRpCF1iZaq44JH4HNZ3IFt//etfRBDZ5K688mrtI4QLWrgHJJv+4h/2XcYLFFXsBVxY1cPBh6yzyoXYgkKKvdiulZG9VJ8gVFF7JM4/zNmQScOC+ejpp59W1RnVmI2hIN3W5tYPIKwQXeyFFRmce1YZGJu5B/aCrUDeE0M4q8tefOeW8B/ECnPGcMQYS2lHiDMOKtwBMZF+wcH8wZjA3+EczCu0OWMI85SNU76gxhjNmMNuwewRwlx21lln6/g6fPingvNAdWYuvfRSdY7AKm7hh9vbXoGsby+CGfq+7zFjvCjEkCiIKIovhInJ4YwzzlDDtnrhfI5ySidhEGQiueiiS6WD19f/v/POO7UzsSzF5jcMpv6yvHUMOsLzzz+vBK9du/ba0Q499BAdfEaNGu1effUVjcs74YTuQswuUEKDZ2sTcIZgyNhl8PBRK/htS2SEAlkpvmQVYiDrbDXfpk17d8cdvxViC0mpWYdNIpAmJkDUHf7GhIHqZaShorcyW2QAZtJ59dVXdRdY7O+///u/dZVl3boNOsEMGvS2qsjYJWpbo0aRM8QRp5UHe6dIQV8uE8QGHdzNUaHPffHFl9LPhoijPE9s5lCdDIgXtSNxNQayzpbqTZvu7n7zm98IOW0Xa2Mp264rxDl9xT333LMSmtFa25W44TVr1ku7DpBl5kEa2tCr1xlK4v06/NgTauKQIR/obxwexgTGC46XX37J/fvf/5HvNHG/+tWvlNRZjHOcbMIaqxSXIiWi0WoL4QwNSib8tWvXy06lD+hKAqTr8ssv1/ANG09s5QWybuMxBI7zIGA1+fDJ+t133y1zT2P361//RsSjjhW+lq9uojpjL2PGfKV20a/fuUKqjtHvE9Lw97//TVcvbrvtv2QOO1mdu+Ligq3qes1DD4Hk/vsfULJ+yiknCVm/oUzNcN7IYvjZ1wF1GmEO0SNRVIvb22MP/jyDMIQzAT9gzmXPF1ayWXGFNBMqx/wBiWfVsnfvXiIANNdQ3UGD3tX2b9CgnnIUxEA7TBjgNys4CJaQdVYrfvKTnygxh8t8/fV37rHHHpVxfYmo6yfIPU7QlXA/tDNuGFbleQJZrwpqKb6TqGAl/n+yr/vKOp/z/xginjc7emHQkCVCMVhWNc8bQo7i8fXX36gKhFqBwRJDS+dnOZbJA5WQOFI8VyMofqwliR//+Mc/VS0777x+Osk0bhwRL9S2Rx551A0c+KZ0puPczTffrIl4RUVbdIDdnsP3ou3fqfDysfKXuPxBBO+biYW/0bFRuBKX2AxnuwarEPfcc4+QuN3djTf+QibjaDJCHYDk+qqIvXM2l9jsPSuDi00CrDJA1ll2hHB37HiA2gAEDMIULcvXKyl35b+P3Q8CSwgMahhL+qzsXH311aqA4UyCMbbHoNup08GC8alK+LKNzfbgwrNBIjgs9Ic2BC/6EHGjOHi8D6sIFidquPo2w4pXRDLquJtu6i8xmoRIFcsEFdmLKWF+/8imvaTqh9autF3Urm+pKsW70q7YBjhE7TpY7GaVfnbyyaeKA9+2ZILG4WHFhtAoYlFZgTvppBPl+/squfroo6E6lpAMdsMNNwn5OqmMylWdGJQ39trfo4pGpWquYYYo8vTTTym5aN++oxKRgw8+SMdc394h6MQwQ+oJp2PM5Ycxl/GDMSjZHhip2q46P7f+hmD0t7/9TVcab7yxvwgAnRUrxpF69erqOFkevohAiE7gc9hhRyiBJc8FLMDrL3/5s4wjq9zPf/5zneNq1y5dhYmbvfhjgD9XRTg5CQtap3Pu88+/oCt1Z57ZR1YirtAVGv+7vBd2Zbt2Tp06VfrRSe7ss89W8gs2rHz69hIXLPyVBRsbcTrgG4SoXHLJJSr4MQbCXf7973vk/XdSu+nevavaDfPQqFFf6Wr2Dz/Ml7a/Tt79nG3i8rkXzg+kn1wQnAOub/lA06d/r2LlhAnjZe7eTXOounY9rkSYigtm29uHA1nfXgSz9H0bBFBIIZF46JD1vn37qrJj4RgoWxjwzJmzRPFsr4aK8g5ZYHka9ZMlaUgUAwGEi4HAJzwY8/ffT3e/+93vdeBABYDgRjGDTrzazaoSPProwxpXiKpCOAXLxihQcTiMgPEsDIBg8sgjj2g89m233aZLYxyJMX8+8ec7TBqLFi3V99x3X6ro1FcH56CDDtLfickriU5WHLDgGSBUTJBvvfWm7MgZJT5hPygOYHLAAQdKcs9B4pBFy62mYviTCbY3YcJETSydOHGSErco3GUvzaEYO3a8OgMs3xIC07fvmbqK4TtgccEj2XOYzVgYDAM+ORskYrNMT4wpS/s+GfPxQYX/v//7oyg9M+X8rmof9evXVYxRXelzcdpJ2FfDUL9wtCZNmizOfydVxnFMIOtjx47TEDJW5OgDLMsz5tiBbUG8+GnUqLEqgRD2pk2j6g9ffjnK3Xff/Ur2L7jgAk1wx/G3yhBxVNcT7cNsGBuBLC1c+IOOgUOHfiRK+fESBnOpkM19lID5eQAWs/7EE4+rs8yqBdiwMgE5ZRzyK6bUFCyYIwhXwd4nT56qCcjEmderV0ffh/GR/zcRyR8XwQfHlnkMh6Vnz9OE6B+rxApsTTFFXDr77HN1lW633RqrEOSPS3EfS2hLVpAg6IyZn38+Sp0zVqdOP71nklXoAiGea5TYk7hLojc5M126HKNJyYzXJGkyrvh5ANVNPv22tX/TxvCMxx57TGPXUb1xOiDriI1//etfZWWhufv97/8g483BMj9t0XeaPHma+9///R8Zaya4W265WUj4ZWXmaBMUuebIkZ9pmG6dOrX02qxYgTnVhT79lFXkkcJVNmo4Xq9evcvwnDjbTrrPFsh6ukhV4jzf20bFQk3AG0w0cvNI7XwMGzJIjBr/xpgtDIEldzrvmWeeWULW+R7eLOEbDHRMqJB1YkVROQhtgYCSBMKAShgEgyohNIlknaWl//mf/9Fzb775FxJz9pOSc+iI9913r05WXOOOO+5QFS4TyS4+sePfTHbgxbJXIj7Wce3vrB7svHNDHRBN9UYNRqEgkWnYsGFCSg9w1113nVbD8Y/EkAY+g6A88MCDSlAhHlyfCYP4fxJLiakj1s5KsdlzVMI0KnWq30bggi3wfqlxiVYBwAFyQVzgokUL9W+0PT8HH9xJlxxx3nbeuUGZ0o12X+45fvxEiTccpkuPKInkQ5CoynNMnjxFYxFZ2iakhAGUWMJEclupl07jZH+CwKHAXlLhwmUt/hN7MdWba0E+sXtiTBn4qXDDSswBB3RU20p0Puz+4Hr//ffrZEvsJH2XsDBICKtfxx8f4cu9/BJm1TXZlm3XCdo/cNIZN2hXnDhr148/HqaVqJo3p12jPAWzO/omYw5kvXnzPeS7ffVziBrvCR5PPPGExn2fdNLJQtZPUmfOT9ZNo5lzdorfz/ybWrujlEZL+U/JUv88XXm86KKL5X1Lk+EMG0t4J76dFQYOnCDGYzDo2vVYXeFiLPeV6OqyiXRANny++mqM2Pt9qoQzhuCI8tzkZmBD2DtCUeKKEvMEjvCAAQN0bsPWCMvjGoylOI6PP/6YCk5c49RTe8h8FeETVzHEcPPnev7GWPLJJ8PVMVmzZrU6Z8wbHTp0VPErcd7FOSavipA05vhNmzZo9TVWYrAbvg8pxdHjb/b96rYXe29/LKbfW+gpyjcrk9gCWPz5z3/S98LZY+6xxGIcG0IIx48f52699VZZ0f9xmTaP8uqKNcTmiy8+VzGFVRwEBLDBfuA5OEZUsGOOxJE8++yzShzH6sYqnT6WzjmBrKeDUiXPMcUOIyGJAgUL9QCvm8kskShiuHyH0BKqc3TqdIjWDaVzYnwYO8qET9ZtoCSJ9MUXX5RlpIUaZwtZjxSPemrETKio5ZBrOj3kAWKROGjQaYys33ILZP0KXcbmPH7ff/9/3L333l9C1i3jenuVIV/dhAQQYw2JoNSgxYH65I/n4TyWXlEcjjjicB0IIdecT1wcpJtrQDbp0KxGEHucONAlDrQzZszSslCLFy9UxQhyu2BBVJmHGEqWbilfadVTbILO1mDgxxhDFlC2SJz1bci3pQiXuooLyu4uuzSSOL4Vsry8VLBYoTYGJixTMkmQjIxNEGvMJGr3M5ywvQkTJkmoxCf6nYMO+pFiCVnnXlOmTFWy/tVXo1WBZnBGCUokt5XsPilP93EhaYmQDJSXinBh0th//5aaHI0Dh3PB+fQ93oMKSKxeoWiRPAhh33XXiHz67+M7jPPmzZcJZLTY6jzdfwBFnpCxb775VmL612o1FFRC+h73z4RzmxKcCk7w23X8+Aka2kSiLbZCu2LXiAuUc6T/oJQ1a9ZUlrPPU2fVj/tnzCERFUKBkwZZx4aiGNKv3TPPPKMre9gXKxSIBXFPqCwdExn3irTtWT0cOfJzET1e1hygDh0OEKJwptj5URrywHfMRrANciHmz1+kDv/s2bM0QR2SRoIqfQgllTGLfAgrd7q9Y+j22ERF3010YubP/0Ec/y+1vnXdupG9L1myTJ06nBTampAf7N2vDMV1Bg4cqGQdh87IOv/GXljBQVlmriS/gZUYSlyaM5Ot8TWTuNkYwbj43HMvaAw1OFx99TVaQY2+YWNH9DuKWef8hQsXKwbY15YtGxUTKrNhLytXrlCBDfLJPBcn58VfUWIcNSedMEJfWcexZ8WaeeMPf/ijOnRwId4T3vHb3/5aRMdx7pe//KWG3/rvCEYk8BOmizgCYUd0sdKwjCnwHBxIxizCZVgVZUzyRclMtnV1XSuQ9Swg70/uJNZAtiEVGLQRCr/j0mExfDYvQnFgGYyldIwScoWxJyrrVtXEKr4QH4nyiTJB7VIGOiZLlHUmXSYGPqPj21Kl/wxM0L/73f/qRNu//y80DCZKII0qxtx7732aYIWy/tvf/lYHokyEwfhYoerh2JBsg8JpZN0Ga3teiGaDBjsp6YIQ4dzsvnszPR8PnFrpqBU/+tFBquoxODBYRo5HNLnaUUpQCffZKJPtZg3tYYLlvDlz5mlyDIMESisePeTG8E+8XibNyQYtixFmtYAJzbchn6yDCzYDLgxYHTseqPH3DRpEChUHBBySBs4Mcscd11WSvaj4sYd+7tsE4USQuo8++lhLeVoctynrUR33YVrlgZJkDJB+actsTbK+moNjhkOK8p8MF9oXtapOnXqyKtJBl0iPPPKIkveF5A8cyCoMNbG3KB7EWmLfiU6HvY/ZDOFhJCRy31q1sCvCJRa7F154Ua43VPrc/roSBiaWoGkYZ9JO0r2W4caYApnE+WOyxFnD0YqU9Q0a8hS167eaPAq5MmXd1EOSjsEdp4c+wTsiAoARKy0PP/yIlkFkUkVdJ6GsJiR8+Q48jst0iYd99dXXhLAPl9W5tuq4gBeJ1NEut1GooI0DjImbN9PXGDujJElOWbhwkYYDkNAbheb9UmztWB1DfScz3bbM5XkV2fvixUtULCKEw8QkVtes/CLPyfdxhDmPlSqcHeY47MWUdapNzZ49R6t2EVa1555R2dTqdnBT4ewrzLQjpW1ZgX7uuWdknOm8NXG7dYmNROMrNoFtRJtHQUbNXihVyTXJA3rrrYGaJwFmrHYTPlTRzsqpnjXTn/t9BfLtK+tG1uEhkbL+563K+v8pTymrrP9W481vueWWpGSdd8bxRcgjtIxrIi7AlbAfhD0U9xEjhmsILA5f375BWc90e++Q1/ONmAmLCRGD8j1RnwjYrpuQaJQqYoKtzioTq5VltMGQJXY+54AwoVqgDrJ0SGgDZATSxj2p8AJZh8CzYQWVPKxGu0/MrHLMmDFfS9nCa7UmOeoJB5U/HnzwQR04unXr6m6//XZd0s10gik44JVDvOh0icTGnpfzmPhZfiV2HqLIgMbnLKf9/e//EEWczPqLJFnpDCVKFalXFZHKNWvWqvOAekvG+nHHddNlbNvcIpvkyyelhgtku7wVB8OFiZL2YTXBr2hhnQ18X3jhBSFkH8lqzOEaJuRvfmP3pRQZziarOoRb4ehdcsnF6lRaQiaEDwUIJYwsfxyZbCvrPi44dfQvQmEqwoVBHTvg2Vu0AJeddTWKEB/6F5Nsjx49ZUI8VVcmUi3BRxxt2xrQ1PwdPHiIYPaekjRsBcWRvpvMWczlAGjtYu1qmxnhzLJsjRNGjfUxY6I69Di+YEHMLStyvvMI+WLcqV+/gSa1M3HiMIMzsaP/+tc9Wv/4xz++QnA9Rccjy4HJlhNXVSx9BdlIN2P1uHETtCoOzgfOOSsEhEdV5Hgleze7Pjbx5z//RckaZJ045mjXxnhVTjIcI3vBxqPfW/2SMjBTCpUqL++//67OB6xIIejg7PrXIXEb4QhcKYCAU4zTwjiOU/jPf/5DHd1LL71MxxESd32Rpqptm+3v2ZzOfRgTp037Xoj6cyKIDNO5mGIMhMX5q+1ln2lbXK3M6fDhI2Tfjzt1D4QbbrhZRJXzpA+VOobZfrfyru/zG38shqwTs56orOPU//3vf9ddSn/zm98KPzm8hKyPGzdRavf/Qeb8qVqbnfAyH1Ob8ylPDVHHjvjcNihkvEFwQVBikyTmeeyP5FMEumzOz7nGPyjrWUDcN+aqTkzWCVCbWW5GVYVQoYAxuZoaQ6w6oQhUcOBcJpNevfpootucOXOlusm/dDCEqKN84gj4RMTuw9ImigAbpJxwwkmaQLXPPnspOuxq+uSTT0lnGaGlG6nZTrJIJlSP7SV2PtasUNCheeeNGzfJAHej4lEaK0gIkk1A0aBnKweJE6Z9xmRE1QuUaHCDfKHOQmzsqGobpzI9e4ZU56XzuU8UGfiYUKiHjS1RA5gwBZ+02BIt9oX9Qc6I1+/fv78ScxRlQkcgM9giCZYk5dokbaQnnWer7DmJz1nZ73M+y6UjRnyqgz91tTt1OkyTIVu1inBINsj79mLvF7V9FCoGoaHsH0T3nXcGKXkhLIjQNMM3qjRSPUnZ1l8ZJ2hXyBOVGliJoV0ZX6juQpvStkyErFxBriBW9n1+k7z87rvv6eod3+/Tp3dJJSCu+Y9//END1W699TYh88crFhHhi37ieFj7ssJGyMegQe/pCknjxo20QgkVJmxpPdE+fNsofcdorLHPSMamlO7GjVsUl5pA1mkqlE3sO5pzopaL3onVyC0adkjFKMbfKEb7RE1M9kkXghFx6ziAbdu2Ezz7iIB0gF6DfvjnP98poTQbRF39hYaOQVjNQYirvZTiELUxfQGFFzyWL1+m/ebcc89JShpL7SUaa/x4dutnrMb/4Q+/1xCq66+/KTZk3fpu4jhJoQFWSMg9uPLKK3RVjbYjPIXcns2bi4RXXL7Vea+noTCQ7Mcff0Li+1dJyNBV0ifOKDP2GllHtCTckvC6RYsWa5guq5bY5KRJU7TcLKJRtBlbd80ZSizTHMcxpzLPFMh6ZdDK4rm+4fNv88SJBYQsoe4ymUK4LYkHQ41ih6doLWw6NxMKSRrEmlIFhNJyqI90BDY+sbKN/kDKdVgBgJARIoHqSCk2Qik4j86GgsrS1QknHK87qcYlHqx0gt0kavoCrUcPXnjx1133M014LF3RYJKJyBV/M8LFb5YiozjCspMENbmfeeZZef8PVWVkyZ+QgGSb5WTRPNK+tO+8RDWjt2j2PJMBAx+qKjH4ECoUaSpVUN8W58Mw8Yk2xA5l5OGHH9a8gF/84laNuSUW/vnnnxOyO0TtkVJ2xFT6caZxmmR9XFgtGTXqC1ldGKCrOMcee5xOhO3bt9FQlmjyLM0t4f+3tRc2PyJUCtJiymOBhK2t1gpM7777ji77QkqIbyYWPprco4m5Og7DgN+EeNBPaFcSqCGPhHcsXrxcQzU+/niotuv55/fT8CEUUOtrYMPESKgMO30SrkD748RiLy++OECu8bzaFEvb9JfEfJ3qeP/y7plItCGUOFwkZxNjjsNCUikrVdFYEoXJ+aTVyCzODuFRxHPXrh3FJnN9xnH60SOPPKwVdKgnfvzx3WKPS+RsEEoWrQBg6769r15NtbJXhYizKc3uOj4S4sLqno27VrGDUDMcFmyB0CrmGK4PLiiyrCwT7oHqbjjH1K8rMSV/3iYvDYdkuoRORRsIdtPx1Uij2Us0z/DD7uOb9IdV7Nq1o+o3HKj0rHyxog1GKPSscMUhDMZ/Z9rJxkZCTxlPUNbhIKyQMDaQQIwwwFjLWEKYU/v27dRxw+H/7rtvNeyJ0BXGChOWrF+a88v3WTXnfPaMgbCzoj58+EgREx8rsSvIOvZnq+lxmoe2Z9wLZH170Cvnuz4xSPfy0XeiJTEION5jtDvYRA1DgGAResFyM6EslIVD6SRmFK8T5f21117XSeKoozprchy1lAkLQRXDoz3mmKO1IxAew7XpZEyoTNbcm7h1MtnHjBmtAwebI3FOtI1yoRDfo7SaQZs2UZhAppX1quJGZyRshvJNgwe/r+9GOAZKKcm2pQeEvEDjAadOnaL1cHmXqBRhlGjIFuNk8UNwo+SVJaoirly5XBTCk1RhYyv2xM1Q0m3nypxng1VlcDGiDWmiPVEdIBxMBnyGU4ZzB17UxaY9GSBxvggFocILKgeOCRMOAx6JPayszJkzW8OpsL3VqyG8o+Taq1VVZfJls5NEtaUy75vuuduDC5MgewlASN944029JStR5DbUq1dbY4ghDSjh5HnQzhBwws1Wr16lf2P1ACeIFScq7rBMjb0wMYHhp59+JirbfA1/YQJq1Sq6ThwIiN9n2bGVdmUTKNqVikns4EnpRcJhiAslhhgn3RK+CT1jHGKMIu799ddfVVGA79LnIKXjxo1XZRFHmfh/W1XwEzHTbetcnGeYQCKpLgRRhzyyrE+YHbk+KHWMB1bVBceV8+lbjJ04Y4zF9Av6Has1lDeF6HIeqivKI4IC1yKcDIXZd4xz8a6VuUckGEVzEptl0f8ZI2lb6qCDxYoVK1VNpk424k7Pnqfr3MOchN1gL8wx9CvyXnAQGTcYWyjzGtnRBM2fwX5w+myvBu5riZiVee5cnuuPRaym4YwxV15wARv8dJMV6KaCVR11YulDFEDAHgjd5AfnDseXnLMNG9bJZ5vVJhYvjpJOIb6oxRdffLHiw1Hd5NMP6aHdINEIgpSRxsHA1ukzrOazCkuoHKEqtPuMGd8rH6H9Wd3j74RsYjsk/1s+1KxZs3UeJzcEnsOYTAjoU089owIRZJx5i3Dg8eMnyc93usJHrDzhmqbIxzV5uyo2Gsh6VVDLwncibzJS3Syx78MPh4oS8ZFWkmESxGCZEFB4IO14l9FW3lEJRxQK1HU6OpMOu4yijkFEKGe0225N9VyIPxMSnY4JlSofnIuHz25gb775unSsz1WF5aA8Ip2JxKCDDjqwTCm66h44bLDknVkZIByISeQhIjYAABYBSURBVITnpWSWv6mNDfxTp07XpEJKy5G0w7lRrPFgXcFgQLFye0xWeO8s2bJszUTLpjdxjaf0lRlCgt577311QFBSaW/bSfKggw6Wdz9D2v8wXaZFUWb5ksl0/vy5StJQKAiFAFuLF8TOIPysvkBYwAMHhgRDI2NxJGWGC32LRD8UKxxZVM6WLVtpXKnZEgQN26Hf7LprI6l+8YOohy/L7zkatwwuHCivLP+jHIFTVJrQKTHv0KGdxE2epmEBlBortRedbrMwgqS+pClW9ixMtIQgMBaMGzdWK1DQrqzKoQiyzAzRhjSQeE67IhRAspgkIWSs0NBnSHyGnHFtnF8L/8EJsEpDcQ2BMdugb1BtiT5AdRIcMRwzVjRpUxw9yCc7b7KnBSFyixb9oO0JoYIksGpDWCL9hQoWfIfrQ9ZIqGS8xbYs0b901a96bKIiq4lwicK2IEo4dwMHvi32PkHb2VbR+M37E8LA5lnkPzFOQMQRS3hnxIB169brZlvMU6zqWRU0xmjOgeBFVax2iYVjm7pHlYZScu6zz74gO2zeo/b/q1/9t4yJh8pfqdNfW+d0wlFxTLAF+gVzMxhQPzyquDVdBSQO7AbMrCQmld5yJYakem9fPKKdGQPgHYwBkG8cWJxXSjSy0t+tW3flLYwhbKzIeGJkGtLes2cvDVfdY49m6hCDAeExrMK0bLmfRgTAeQhPY28PkpnpX1G1pWIdo1u1aqljM7Hq3NvG8jg4N6nwTPfzQNbTRSrL5/lhKZBkVHE6AJU2iK+1HfAwcpK1GBzZ5IiJhAMCBalHDUIJZ3CFdEBEUdrpLFQ5wYhRVokh5J5MvqhiVslh8eJlErc+Uksh4SFzP7xdVHWu06RJadnHLEOS1uWtU5JgyLszYDDI8V5gU0oUohAY3odYfjLHKYsFmYoGzU1aSxl1ngnbdo0DdyZsJhGS7PzlXRtwqtth8YEyPJgQWJakig0DKM6IfWZ11nHgqKNtf4eUknC5dOliJVsQcXBgQoGwYxNk5HM9yFrbtm10K3qIB/bl23CcMAEfe0ecXhw6CCoTaFQbnJJ7m/QcCDeKF+9OonbDhrvo6gphIZBbnBIUHVQ/7I0kMGyO98XhYQWDyZpKRNiMj0tkL9ESeHUdRtgh3rQrfZx2hYihjoEHyibkiX5h5dVQzzjoUxCwKEndqVrKd3FYsBEmW8Ym+hVKV1R7PnrhuNmEtYGvrJud806MqfQVyChjMg4v4W8QLZwYyCjnkPS3334tVUXkbyzTf/vtdzqOWP1/7gUxARf6iyW/xRkXng0yxPutWbNOiOY4XWX8/vsZW+09Utch25BK+gzCBkScOQbnh3dmLLZSwxB5xllUWLDGJrA3cGF8tSpbccfFbMcnhTi+OCOUYKY0Z4sWu2/Fr1DFNvoQP/Q7Vuh4b77POI2AhoqOjdnBOILTzDjC/GzjWHWrxb6DiUPLnED/h3NEYTFbdCUF0owoBG+Ai5AXx9iLMICYCI9BbOzSpauKYfCTKFRzg/KTb74Zo+Ex5EBE824UTjZ58iQVGcaOjRxCrg1GiAiMT7afQ3XjlOkxPpD1TCNaxev53ioGjxEyQeBh8/9GHm2yxdAZAC1Z1NQbjJnvMCBANHfZpaEuQ6H+QEq4FhMI53BwDtcww+ZzlsDxbm1jIj5nEKZcYrQ0Wba2cBVfOSNf8yda8LL6rbwXmJnKG5EkVi8gKRu103MuZAIseSe+z995b38ZjffnvMR4bH+gzsjLZOAihge/Gfh5J9rbV1VtG2vaNGp3FLQo/wFVBFyi9o4q7PDdyC42aCgI1+MaYAwu/K5JhIw2tk3KeA97P8MOwolN2Nbw9CVCowh9sb/zvvQTlFTwKGsvdbSvWH6IKcpxsRd7jtJ2Xa+OS2K7Wr/g70YimAh5LxsvwMbGKcMB3CCjNWnTH+t6/vvYuAtOVrHL7N7GXWyCcYXVNvsb4S+oyPQnG9dNiQYXs4u4E1JT1hkbiou3qA0kt/dofkhlL2Zv2IuNS9gReNQkXPxh2g8rg4Dygx0wN0djS7Rajv3QP2wstnmXa4Er8zGf+SEmNu+Aq39Ut9PrzyU8M2Oprdz6PMLa1uZO+hbn2jzN57xb9DkbPpXubWBjCvtXYBtR2dcoqdnuCdY8i+Fk85nN+XHvX5Wd7gNZryxiWTy/qpN5Ot/zJ+iKO3tptZTyXjWd+2URpjKXruhZ/M9KyXryEmTpvlP6OOYKgbL3qdzzWVKtrTokf+Z0sKncfXOPTTrvkO5TVeZaccOlbJ8orROe7N0r857lfd8mzO29VrptU9Xzcvl8PoHP5X2rhk2U55POapD/XlWxp5qFS/SGqdov1efptEkqXNO5RqbPqex7pTo/nXdM95zqdmYyjbVdL5D1bCFbyev6k3riVysyUjNMO6e82/oGXN65pg5W9Ohx7Qip3ilaEYgmnWTnpvPuNYV4WPulsonS94lCM8rDxSYl/7qJdhDHkKCKCGS63TOZXaRrK3G1l0TCXlG7VjSepG9fFTsF6bZFts6raOzN1j1rTn8pf2xIhk15faMy81QqYpetNtne6yb2h3Tm3HTv6eNa3XNweeNH4rxTuecsdQjTnYfKs790nKh0cY/TeYGsx6g1qjJp+IN+asIahTSkMvJUhD9Og2l5mCVOhr6yHoV9lB7pkq+aMMFW1oaiATVSz5Lh4g986dhXjLpTmUepLC725YrIRyqyGnd7SYVJRf0iHfIV9/f3DSQVFpm065qEi40NUQhhxSikspdUGNcsXCIsKiKu6czN6dhVHHFJ1ZaJ75Vqjk2FVarPuV8ccUqnfdM9J5D1dJEK5wUEAgIBgYBAQCAgEBAICAQEcoxAIOs5BjzcLiAQEAgIBAQCAgGBgEBAICCQLgKBrKeLVDgvIBAQCAgEBAICAYGAQEAgIJBjBAJZzzHg4XYBgYBAQGB7EKgoXrQ0bjNKqC4vP6O85K90c0DSef5Uca07eoxpOhiFcwICAYGAQDoIBLKeDkrhnIBAQCAgEHsErBSn7bpkGYHb7sKUmCTuV5yqzGflQeIT9cpVhYg9yOEBAwIBgYBAzhEIZD3nkIcbBgQCAgGBqiPgE+HSijTR7rxllfSIpLPZiH3HNgxJR1n3CXyyagypSHjic/rVc3iOoKxX3QbCNwMCAYH8QiCQ9fxq7/C2AYGAQA1HoHSX2mLZonyObm8PTz/00MNl6+09dRdEyDC7a7KN+fffT3fNmzfXLbmjbbuLlCj7ZNuINL/ZeXPWrFmyLfh4ucYm3Qa+Xbt2W3dkjHYvTnVwHSPr3G/ZsmWOrebZknyfffZxbdq00ev5O0Cmumb4PCAQEAgI5CsCgazna8uH9w4IBARqJAK+mj5ixEj3+OOPyRbea9yFF17ievQ4VbbwrqtEefbsee6JJ55wX3zxmTv22C7ukksucfvvv79+xo9Puo3A83vhwoXuvffed88995xsI77eXXzxxe788893jRs33mbHRl99B0xTy/1t09lqffbs2W7EiBFu/vz57vDDD3fHH3+8biFeUe1+/3qpVPwa2ZDhoQMCAYGAQJoIBLKeJlDhtIBAQCAgEAcESmPKi92oUWPcgw8+4KZNm+K6dz/B9et3nuvYsYNbtWqV++ijYe7FFwcI+f7B9e7dW8j8ha5Fixb6CsnIOuR9w4YNoqiPE6L+vPw8qyo737vyyivdAQcc4OrWravfT1Tm7ZrJSDVkHWV92rRp+nu//fZzHTp0UGchkPA4WFR4hoBAQCDuCASyHvcWCs8XEAgIBAQ8BHw1e8GCBe7DD4e6YcM+VoJ+wgknqLo+b95898orr7o5c2a7Aw88UP7Wwx1yyCGuQYMGJWp2sl0F16xZo6r6Sy+95KZMmezq1avnWrdu7U499VR32mmnuT322EO/j3IOkd+4caM+GdetU6eOfrZ582bHdYqKit1OO+0k16ir5/F8fMbfdt11V/0ezsH69ev1c1/x53oNGuwk6nutbdT8YAwBgYBAQCDfEAhkPd9aPLxvQCAgUKMR8ENMNm/e6ObOXSAEe7AbOPBNUc73UGI+d+4c9/77gyXspZW76KILJZ79ENewYcOSMJXEuHOLHV+8eIl79NHH3ODB77uWLffXWPcpU6ZILPze7tprr1XiD6levny5KuUTJkxQ4t6581GilndUtXzChMluyJD35F6F7sQTTxSy30bU/QVu4sSJSuKJfycOnu+NHTtWwnS+kLj675X8Q+Z33nlnd/TRx7jjjuvumjZtFOLaa7S1hocPCAQEMoFAIOuZQDFcIyAQEAgI5AgBPxmUW0J6R4/+xj377NNC0me7PffcU1TslfKz2p18cg+JNz/PNWu22zYKta+sW8z61Knfu/vuu1dCYca6c845W0k6seuQ7FtuuUVCbbprYujixYvlnl+Jg/CWW7p0ievT50x30kknyWe15W/viDI/wO2+++7uqquudp06ddIk2Ndff03j4fv06eNOP/10t2jRIvfuu++6zz//3P3www96XZR2yHqPHqe7c889R5yFZkFZz5FdhdsEBAIC8UUgkPX4tk14soBAQCAgUC4ChJlQqhE1e8mS5RKj/qF7++2Bbvz48Up4u3c/XmLV+0j4SychwoXbxKkb0Ye0Q9aXL1/hvvzyK/faa69oYulll12mSaX33nuvVnK54oor3BlnnKEVZQhdmTVrthsw4AUh4t9p0iiqO8r8V1+NkedZLGp7ZyXmOA9ffjnKPf/880rQL7jgAtetWzdNOP3oo48kIba+a9u2rajoTbdWqikUVb+1O+igA2U1YOegrIc+EBAICOQ9AoGs570JBAACAgGBmoSAXw2GGuqQ7Q0bNmqZxoceesi98cYbUhqxtbvxxptcr14RuTbl3N7TEjstWXXTpo0SkjLeffzxx0LMv5eQlvburLPO1ms//fTT7uuvv3ZHHXWUhthArIlPJ2xlxIhPlXSvWLHCrV69Sks+QrAJYTn55JM03p0E09GjR7tXX31VSPwSSYLtp2UkBw4c6D744AM955RTThFyfpDba6+9NHzGnBBJZdV/c4Rk1JpkpeFZAwIBgUwiEMh6JtEM1woIBAQCAllGwC93aGQbEjx48GD35JNPSYWYL1z79u23KuG9hADvmZTsRop6sdZoX79+ncS4D9GwFJI7CVM5/vjumvg5ZMhgN3LkZ5oYevTRR7tjjjlmaxlH6qevcGPGfCMOwmtC9D9ya9eukSTXE93ll1+uyjoJqoTkoLbjRPCc55xzjn72ySefKIGn9jpx7Fy3c+djXKtWLWW1oGBrwikkvbQkZCDsWTaucPmAQEAglggEsh7LZgkPFRAICAQEKkbA39yIRM3HH39ciPooJdsQa1TqXr16aZInoSaJ5Rq5+pYtbKBUIKr4aol5f05+npFzG+h3UNcJh5k6dZqWc+R+VJs577zzNPEUVb+wsJabOXOO++tf/yw13R/X2uk/+clP3A033KAEnO9AxseMGePeeustjVk/88wz1RmYM2eOGzp0qKr2a9eulbj6ZhIjv4/bd9/9pPxkR1HwW4lKv0vSTZyCbQQEAgIBgXxCIJD1fGrt8K4BgYBAjUYgmaoO0R0yZIgmgtapU1dCULoqEf7yyy9dly7HapKnv7OpAYBKTYgKiZ2LFi2Reu0PuUceeVCJe7t27V2jRrtqdZZ169bL5wv1axDtG2+8UQj1vvJ/lHAsluovE91//vMfqen+olxvs26gdPPNN2vFF56X63311VeqrJNIigMB4YfIE8POs1INhp/vvhur5L5Lly5yzrlK2i0RNllt9xrdmOHhAwIBgYBAmggEsp4mUOG0gEBAICAQBwSsdCOJpevWrZMQlZFK1mfPnuO6dj1WYsVP1uorzz//girT/fqdL+T3aCHfjUqIL+/B97nW5s1bRD2f7p566ikJg3lblPn6QpIPUJUcMk98+rx585RMH3nkka5///7usMMOUygmTZqkceco79OnT1flHIJ94YUXaILrLrvsosmoKP6QderCo6qz0RLXtQOCTonI559/Tq73oajqbUShv0Icj+P0GkbYE0tOxqE9wjMEBAICAYFsIxDIerYRDtcPCAQEAgIZQsAv2wiRptY54S+Q5sMOO0LKHZ6t4SfTp09zgwa9K0mj42Qjo+ayqVEPiQk/WkNk7DBlnQ2UKJ84bNgnEl++Qs878cSTlKxD5lHeCVV55ZVXVCnv27evbpDE/fkboSwtW7bUn5kzZ6p6vt9++6vCT5UYdj1F5edcyDoVYohb59okpvI5YTqQ+rfffluq0bymSapnnXWOVI3pqiUgSToNynqGjChcJiAQEKhxCASyXuOaLDxwQCAgkK8I2OZF1COfP3++EOxh7uWXX9Lwl0svvcz17HmaEnIqs0ycOMk988wzuvEQseaUTNx///1LFG3IL2EuJI+ieqOKs3kS5RlRx/1j9uzZGmaDgk4sPCQclRtVnbKOhMdQ0QXyzWZMKOlUpCEkhuoxkP0BAwYokacaTM+ePVWJ//TTT0vUe64H2ed6bdq0lefopeUb2e2Uz5LF3OerHYT3DggEBPILgUDW86u9w9sGBAICNRgBU9aJU6eeOhVVJk+erCT8rLPOUpJtFWJWrVqloS0Q6g4dOojqfq7WQofMm0pN+UWU8TfeeFNIfG0JoTlFq7LstlvTrdVYqBZTIBsfLXXDhw9X0s11IdAo4hB8fhPaQpw5avyQIR+q2l+vXm138cWXKLFnBQDVnGowvXv31mowqO0knc6dO1erzkDICY1p0aKFVKI5UZNc2RSJw6rAhGowNdh4w6MHBAICVUYgkPUqQxe+GBAICAQEcouAKeuQW0guKjRx6y1a7CnlGtvpZkimQBOmgqoOqWdzI4g6RNhixSHHnDN16lRJEp2gVWAOOKCjXqtuXeLJqW9OnXOn90AVJ3Z92bJlGsJi12nYsKGG3lAhhmsSVgOx37Rpg4TmHK7JqCjuxKRzHRyHPfbYQ5+d52M3VFYKIOJca++99xKn40ANpalTp5a+j0/Yc4t4uFtAICAQEKh+BAJZr/42CE8QEAgIBATSQsBUc35DmP3yjcmSLzmPUBcOYs/9cyxpE8Ju10EZt7/7D2R/s3sm3jfx3ij2HPyd+9rzmiNhu6bavY2Q2/n2HP597N3TAiqcFBAICAQEdiAEAlnfgRozvEpAICAQEDAEck1uM30//3qZvnawkoBAQCAgUJMQCGS9JrVWeNaAQEAgrxHwlfVkQCRTxcsDrDLnpgt6Nq7JvUOserotEM4LCAQEdkQEAlnfEVs1vFNAICAQEAgIBAQCAgGBgMAOgUAg6ztEM4aXCAgEBAICAYGAQEAgIBAQ2BERCGR9R2zV8E4BgYBAQCAgEBAICAQEAgI7BAKBrO8QzRheIiAQEAgIBAQCAgGBgEBAYEdEIJD1HbFVwzsFBAICAYGAQEAgIBAQCAjsEAgEsr5DNGN4iYBAQCAgEBAICAQEAgIBgR0RgUDWd8RWDe8UEAgIBAQCAgGBgEBAICCwQyDw/wGRHXAdFKXFPwAAAABJRU5ErkJggg==)\n",
        "\n",
        "  <br>\n"
      ],
      "metadata": {
        "id": "Xbs5Z1l6CXSk"
      }
    },
    {
      "cell_type": "code",
      "source": [
        "# A_1 >> ReLU(Z_1)\n",
        "A_1 = np.maximum(0, Z_1)\n",
        "\n",
        "# check shape\n",
        "print(f'A_1 Shape: {A_1.shape}', '\\n')\n",
        "\n",
        "# check first 5 cols\n",
        "A_1[:, 0:5]"
      ],
      "metadata": {
        "colab": {
          "base_uri": "https://localhost:8080/"
        },
        "id": "UBehvXyRDtCD",
        "outputId": "fa90744c-0da5-4bcf-8643-839d083af6ae"
      },
      "execution_count": 26,
      "outputs": [
        {
          "output_type": "stream",
          "name": "stdout",
          "text": [
            "A_1 Shape: (12, 150) \n",
            "\n"
          ]
        },
        {
          "output_type": "execute_result",
          "data": {
            "text/plain": [
              "array([[0.        , 0.        , 0.        , 0.29851996, 0.        ],\n",
              "       [0.17997328, 0.        , 0.        , 0.02495223, 0.        ],\n",
              "       [0.        , 0.        , 0.        , 0.        , 0.        ],\n",
              "       [0.        , 0.35199233, 0.08265542, 0.        , 0.        ],\n",
              "       [0.00556418, 0.        , 0.        , 0.        , 0.        ],\n",
              "       [0.        , 0.28312303, 0.        , 0.40456415, 0.        ],\n",
              "       [0.61865462, 0.96216574, 0.78677341, 0.56706058, 0.71702169],\n",
              "       [0.        , 0.24782611, 0.        , 0.77595604, 0.        ],\n",
              "       [0.        , 1.00733095, 0.55011305, 0.24244492, 0.68542498],\n",
              "       [0.        , 0.        , 0.22380494, 0.7461782 , 0.45076838],\n",
              "       [0.        , 0.        , 0.        , 0.32170663, 0.        ],\n",
              "       [0.11298829, 0.        , 0.        , 0.        , 0.        ]])"
            ]
          },
          "metadata": {},
          "execution_count": 26
        }
      ]
    },
    {
      "cell_type": "markdown",
      "source": [
        "![green-divider](https://user-images.githubusercontent.com/7065401/52071924-c003ad80-2562-11e9-8297-1c6595f8a7ff.png)"
      ],
      "metadata": {
        "id": "RYJyfQSgEOIU"
      }
    },
    {
      "cell_type": "markdown",
      "source": [
        "#### Second Hidden Layer\n",
        "\n",
        "<br>\n",
        "\n",
        "- $A^{[1]} ⟶$ Inputs of Layer 1\n",
        "  - $A^{[1]} ⟶ (12 \\times m)$\n",
        "\n",
        "<br>\n",
        "\n",
        "- $\\vec{w}^{[2]} ⟶$ Initialized Randomly\n",
        "  - $\\vec{w}^{[2]} ⟶ (10 \\times 12)$\n",
        "\n",
        "<br>\n",
        "\n",
        "- $b^{[2]} ⟶$ Initialized Randomly\n",
        "  - $b^{[2]} \\longrightarrow (10 \\times 1)$\n",
        "\n",
        "<br>\n",
        "\n",
        " $$ Z^{[2]}_{(10 \\times m)} = \\vec{w}^{[2]}_{(10 \\times 12)} \\times A^{[1]}_{(12 \\times m)} + b^{[2]}_{(10 \\times 1)}$$"
      ],
      "metadata": {
        "id": "fc5cfJ5TEOfb"
      }
    },
    {
      "cell_type": "markdown",
      "source": [
        "![green-divider](https://user-images.githubusercontent.com/7065401/52071924-c003ad80-2562-11e9-8297-1c6595f8a7ff.png)"
      ],
      "metadata": {
        "id": "ziqVUurcFNDN"
      }
    },
    {
      "cell_type": "markdown",
      "source": [
        "<br>\n",
        "\n",
        "- $\\vec{w}^{[2]}$"
      ],
      "metadata": {
        "id": "QW_dEwPGFNX7"
      }
    },
    {
      "cell_type": "code",
      "source": [
        "# Initialize W_2 with random values\n",
        "W_2 = random_state.rand(10, 12) - 0.5\n",
        "\n",
        "# check shape\n",
        "print(f'W_2 Shape: {W_2.shape}', '\\n')\n",
        "\n",
        "# check first 5 cols\n",
        "W_2[:, 0:5]"
      ],
      "metadata": {
        "colab": {
          "base_uri": "https://localhost:8080/"
        },
        "id": "5KoDQNC3FSM6",
        "outputId": "d5a65d1c-2172-4e00-af0a-40b023026dff"
      },
      "execution_count": 27,
      "outputs": [
        {
          "output_type": "stream",
          "name": "stdout",
          "text": [
            "W_2 Shape: (10, 12) \n",
            "\n"
          ]
        },
        {
          "output_type": "execute_result",
          "data": {
            "text/plain": [
              "array([[ 0.0175407 ,  0.3025109 , -0.17212676,  0.02121013, -0.2017141 ],\n",
              "       [-0.20456141,  0.4750102 , -0.49485187, -0.44462565, -0.0868438 ],\n",
              "       [-0.08315989, -0.37222339,  0.49245871, -0.43251419, -0.39495467],\n",
              "       [-0.37939189,  0.45606937, -0.12503182,  0.0521694 ,  0.48902043],\n",
              "       [-0.16992037, -0.42983264,  0.1390221 ,  0.17916406, -0.48272208],\n",
              "       [-0.44789622, -0.26622725, -0.09131388,  0.38412723,  0.10133952],\n",
              "       [ 0.3907374 ,  0.08476172, -0.34289013,  0.16936054,  0.46250159],\n",
              "       [ 0.44706136, -0.23325705, -0.02517046, -0.12242504, -0.24324096],\n",
              "       [-0.25904706,  0.16703052, -0.30324895,  0.3000657 , -0.13819479],\n",
              "       [ 0.00268173, -0.28060251,  0.2330073 ,  0.29278405,  0.01353943]])"
            ]
          },
          "metadata": {},
          "execution_count": 27
        }
      ]
    },
    {
      "cell_type": "markdown",
      "source": [
        "<br>\n",
        "\n",
        "- $b^{[2]}$"
      ],
      "metadata": {
        "id": "rIdyA1ueFm60"
      }
    },
    {
      "cell_type": "code",
      "source": [
        "# initialize b_2 with random values\n",
        "b_2 = random_state.rand(10, 1) - 0.5\n",
        "\n",
        "# check shape\n",
        "print(f'b_2 Shape: {b_2.shape}', '\\n')\n",
        "\n",
        "b_2"
      ],
      "metadata": {
        "colab": {
          "base_uri": "https://localhost:8080/"
        },
        "id": "QLsZSXvCFpEN",
        "outputId": "71a2db72-e71c-4a5d-8e80-6bb271e57fff"
      },
      "execution_count": 28,
      "outputs": [
        {
          "output_type": "stream",
          "name": "stdout",
          "text": [
            "b_2 Shape: (10, 1) \n",
            "\n"
          ]
        },
        {
          "output_type": "execute_result",
          "data": {
            "text/plain": [
              "array([[ 0.24469587],\n",
              "       [ 0.0012298 ],\n",
              "       [-0.23562615],\n",
              "       [ 0.2950387 ],\n",
              "       [-0.01343021],\n",
              "       [-0.04227804],\n",
              "       [ 0.11294082],\n",
              "       [-0.04214795],\n",
              "       [-0.19183708],\n",
              "       [-0.3920135 ]])"
            ]
          },
          "metadata": {},
          "execution_count": 28
        }
      ]
    },
    {
      "cell_type": "markdown",
      "source": [
        "<br>\n",
        "\n",
        "- $Z^{[2]}$"
      ],
      "metadata": {
        "id": "Prjavo_AF9I9"
      }
    },
    {
      "cell_type": "code",
      "source": [
        "# calculate Z_2\n",
        "Z_2 = np.dot(W_2, A_1) + b_2\n",
        "\n",
        "# check shape\n",
        "print(f'Z_2 Shape: {Z_2.shape}', '\\n')\n",
        "\n",
        "# check first 5 cols\n",
        "Z_2[:, 0:5]"
      ],
      "metadata": {
        "colab": {
          "base_uri": "https://localhost:8080/"
        },
        "id": "dVBIhs3SGAvM",
        "outputId": "5e135166-6277-4e06-f997-f1c706175efa"
      },
      "execution_count": 29,
      "outputs": [
        {
          "output_type": "stream",
          "name": "stdout",
          "text": [
            "Z_2 Shape: (10, 150) \n",
            "\n"
          ]
        },
        {
          "output_type": "execute_result",
          "data": {
            "text/plain": [
              "array([[-0.03547068, -0.12097226, -0.03660807, -0.32742231, -0.00769973],\n",
              "       [ 0.30673725,  0.13564513,  0.25441937,  0.63178664,  0.36023966],\n",
              "       [-0.48641136, -0.86790916, -0.6927635 , -0.4599529 , -0.68050403],\n",
              "       [ 0.28308826,  0.07486416,  0.10691305,  0.24193146,  0.08380829],\n",
              "       [-0.43245239, -0.36462599, -0.27136053, -0.79381962, -0.26268538],\n",
              "       [-0.10142867, -0.26828435, -0.03322724, -0.28500591,  0.03070999],\n",
              "       [ 0.170234  ,  0.0306406 ,  0.02349034,  0.20903693, -0.00593882],\n",
              "       [-0.38299166, -0.53167397, -0.49915406, -0.35060509, -0.53263818],\n",
              "       [ 0.0166286 , -0.12774925,  0.02956844, -0.47663471, -0.01970229],\n",
              "       [-0.35358007, -0.53512409, -0.49071066, -0.45916626, -0.55785952]])"
            ]
          },
          "metadata": {},
          "execution_count": 29
        }
      ]
    },
    {
      "cell_type": "markdown",
      "source": [
        "![green-divider](https://user-images.githubusercontent.com/7065401/52071924-c003ad80-2562-11e9-8297-1c6595f8a7ff.png)"
      ],
      "metadata": {
        "id": "TDjlkfVCGSsr"
      }
    },
    {
      "cell_type": "markdown",
      "source": [
        "#### Activation Function of Layer 2\n",
        "\n",
        "- $ReLU(Z^{[2]}) = max(0, Z^{[2]})$"
      ],
      "metadata": {
        "id": "2tCDoXJ_GTP9"
      }
    },
    {
      "cell_type": "code",
      "source": [
        "# calculate A_2 >> ReLU(Z_2)\n",
        "A_2 = np.maximum(0, Z_2)\n",
        "\n",
        "# check shape\n",
        "print(f'A_2 Shape: {A_2.shape}', '\\n')\n",
        "\n",
        "# check first 5 cols\n",
        "A_2[:, 0:5]"
      ],
      "metadata": {
        "colab": {
          "base_uri": "https://localhost:8080/"
        },
        "id": "Gf4fGs0WGfgr",
        "outputId": "d534ac8a-fd67-4cef-c907-84be929314ce"
      },
      "execution_count": 30,
      "outputs": [
        {
          "output_type": "stream",
          "name": "stdout",
          "text": [
            "A_2 Shape: (10, 150) \n",
            "\n"
          ]
        },
        {
          "output_type": "execute_result",
          "data": {
            "text/plain": [
              "array([[0.        , 0.        , 0.        , 0.        , 0.        ],\n",
              "       [0.30673725, 0.13564513, 0.25441937, 0.63178664, 0.36023966],\n",
              "       [0.        , 0.        , 0.        , 0.        , 0.        ],\n",
              "       [0.28308826, 0.07486416, 0.10691305, 0.24193146, 0.08380829],\n",
              "       [0.        , 0.        , 0.        , 0.        , 0.        ],\n",
              "       [0.        , 0.        , 0.        , 0.        , 0.03070999],\n",
              "       [0.170234  , 0.0306406 , 0.02349034, 0.20903693, 0.        ],\n",
              "       [0.        , 0.        , 0.        , 0.        , 0.        ],\n",
              "       [0.0166286 , 0.        , 0.02956844, 0.        , 0.        ],\n",
              "       [0.        , 0.        , 0.        , 0.        , 0.        ]])"
            ]
          },
          "metadata": {},
          "execution_count": 30
        }
      ]
    },
    {
      "cell_type": "markdown",
      "source": [
        "![green-divider](https://user-images.githubusercontent.com/7065401/52071924-c003ad80-2562-11e9-8297-1c6595f8a7ff.png)"
      ],
      "metadata": {
        "id": "2p8cRmlHGyE8"
      }
    },
    {
      "cell_type": "markdown",
      "source": [
        "#### Third Hidden Layer\n",
        "\n",
        "<br>\n",
        "\n",
        "- $A^{[2]} ⟶$ Inputs of Layer 2\n",
        "  - $A^{[2]} ⟶ (10 \\times m)$\n",
        "\n",
        "<br>\n",
        "\n",
        "- $\\vec{w}^{[3]} ⟶$ Intialized Randomly\n",
        "  - $\\vec{w}^{[3]} ⟶ (7 \\times 10)$\n",
        "\n",
        "<br>\n",
        "\n",
        "- $b^{[3]} ⟶$ Initialized Randomly\n",
        "  - $b^{[3]} ⟶ (7 \\times 1)$\n",
        "\n",
        "<br>\n",
        "\n",
        " $$ Z^{[3]}_{(7 \\times m)} = \\vec{w}^{[3]}_{(7 \\times 10)} \\times A^{[2]}_{(10 \\times m)} + b^{[3]}_{(7 \\times 1)} $$"
      ],
      "metadata": {
        "id": "8Pc5P37dGyYD"
      }
    },
    {
      "cell_type": "markdown",
      "source": [
        "![green-divider](https://user-images.githubusercontent.com/7065401/52071924-c003ad80-2562-11e9-8297-1c6595f8a7ff.png)"
      ],
      "metadata": {
        "id": "4vfW8o7zHy9t"
      }
    },
    {
      "cell_type": "markdown",
      "source": [
        "<br>\n",
        "\n",
        "- $\\vec{w}^{[3]}$"
      ],
      "metadata": {
        "id": "yu_lA1khHzVD"
      }
    },
    {
      "cell_type": "code",
      "source": [
        "# initialize W_3 with random values\n",
        "W_3 = random_state.rand(7, 10) - 0.5\n",
        "\n",
        "# check shape\n",
        "print(f'W_3 Shape: {W_3.shape}', '\\n')\n",
        "\n",
        "# check first 5 cols\n",
        "W_3[:, 0:5]"
      ],
      "metadata": {
        "colab": {
          "base_uri": "https://localhost:8080/"
        },
        "id": "AkU4JcOOH2aM",
        "outputId": "3802212c-8e9a-4143-be5e-e05ba7793494"
      },
      "execution_count": 31,
      "outputs": [
        {
          "output_type": "stream",
          "name": "stdout",
          "text": [
            "W_3 Shape: (7, 10) \n",
            "\n"
          ]
        },
        {
          "output_type": "execute_result",
          "data": {
            "text/plain": [
              "array([[ 0.20569277,  0.03852521, -0.25052498,  0.17068235,  0.09729264],\n",
              "       [-0.1000652 ,  0.31224038, -0.08982678, -0.26041822, -0.07858881],\n",
              "       [-0.14543692,  0.39774509, -0.26129527, -0.16488817,  0.3675813 ],\n",
              "       [-0.43105261,  0.13321287,  0.07739329, -0.24691222, -0.00713662],\n",
              "       [ 0.09210379,  0.18011755, -0.40902091,  0.42972956,  0.41054156],\n",
              "       [ 0.12688477,  0.40163175,  0.01634628,  0.22019698, -0.03402387],\n",
              "       [ 0.13959024, -0.07313264, -0.40262317,  0.35303578, -0.00149238]])"
            ]
          },
          "metadata": {},
          "execution_count": 31
        }
      ]
    },
    {
      "cell_type": "markdown",
      "source": [
        "<br>\n",
        "\n",
        "- $b^{[3]}$"
      ],
      "metadata": {
        "id": "aTkbDhdCIIFz"
      }
    },
    {
      "cell_type": "code",
      "source": [
        "# initialize b_3 with random values\n",
        "b_3 = random_state.rand(7, 1) - 0.5\n",
        "\n",
        "# check shape\n",
        "print(f'b_3 Shape: {b_3.shape}', '\\n')\n",
        "\n",
        "b_3"
      ],
      "metadata": {
        "colab": {
          "base_uri": "https://localhost:8080/"
        },
        "id": "_QDYJn8IINS9",
        "outputId": "5cc5597d-d30a-469c-f940-9e805d5a8585"
      },
      "execution_count": 34,
      "outputs": [
        {
          "output_type": "stream",
          "name": "stdout",
          "text": [
            "b_3 Shape: (7, 1) \n",
            "\n"
          ]
        },
        {
          "output_type": "execute_result",
          "data": {
            "text/plain": [
              "array([[ 0.00636298],\n",
              "       [ 0.06791037],\n",
              "       [-0.10609158],\n",
              "       [-0.20050534],\n",
              "       [-0.12397765],\n",
              "       [ 0.40959026],\n",
              "       [ 0.03467135]])"
            ]
          },
          "metadata": {},
          "execution_count": 34
        }
      ]
    },
    {
      "cell_type": "code",
      "source": [
        "# calculate Z_3\n",
        "Z_3 = np.dot(W_3, A_2) + b_3\n",
        "\n",
        "# check shape\n",
        "print(f'Z_3 Shape: {Z_3.shape}', '\\n')\n",
        "\n",
        "# check first 5 cols\n",
        "Z_3[:, 0:5]"
      ],
      "metadata": {
        "colab": {
          "base_uri": "https://localhost:8080/"
        },
        "id": "g2HUP4MKIaRW",
        "outputId": "e719c9fe-85ff-4f9e-ed1b-828bef344877"
      },
      "execution_count": 35,
      "outputs": [
        {
          "output_type": "stream",
          "name": "stdout",
          "text": [
            "Z_3 Shape: (7, 150) \n",
            "\n"
          ]
        },
        {
          "output_type": "execute_result",
          "data": {
            "text/plain": [
              "array([[ 0.04203715,  0.02124793,  0.01933697,  0.05071899,  0.04898713],\n",
              "       [ 0.05989681,  0.08403761,  0.12737587,  0.15625828,  0.15927313],\n",
              "       [-0.03068414, -0.0642118 , -0.02485717,  0.10716122,  0.03025172],\n",
              "       [-0.29927099, -0.21222666, -0.21397378, -0.25321193, -0.16332164],\n",
              "       [ 0.08272414, -0.06051935, -0.04168181,  0.14054885, -0.03726014],\n",
              "       [ 0.65598467,  0.4900794 ,  0.5567451 ,  0.78158927,  0.55905497],\n",
              "       [ 0.11269121,  0.05227593,  0.04474198,  0.08134751,  0.05027466]])"
            ]
          },
          "metadata": {},
          "execution_count": 35
        }
      ]
    },
    {
      "cell_type": "markdown",
      "source": [
        "![green-divider](https://user-images.githubusercontent.com/7065401/52071924-c003ad80-2562-11e9-8297-1c6595f8a7ff.png)"
      ],
      "metadata": {
        "id": "BUgM44rbJDDE"
      }
    },
    {
      "cell_type": "markdown",
      "source": [
        "#### Activation Function of Layer 3\n",
        "\n",
        "- We are going to use the SOFTMAX Function in Layer 3\n",
        "\n",
        "  - SoftMax is going to give us the probabilities of the animals being classified in each of the seven classes $[1, 2, 3, 4, 5, 6, 7]$\n",
        "\n",
        "    - The HIGHEST Probability will determine the class in which the animal is classified\n",
        "\n",
        "  <br>\n",
        "\n",
        "  $$ SoftMax(z) = \\frac{e^{z_i}}{\\sum e^{z}}  $$"
      ],
      "metadata": {
        "id": "FwRoSaevJDUk"
      }
    },
    {
      "cell_type": "code",
      "source": [
        "# create SoftMax function\n",
        "def SoftMax(z):\n",
        "  exp = np.exp(z)\n",
        "  return exp / np.sum(exp)\n"
      ],
      "metadata": {
        "id": "RBAc0TnFKPLl"
      },
      "execution_count": 36,
      "outputs": []
    },
    {
      "cell_type": "code",
      "source": [
        "# A_3 >> SoftMax(Z_3)\n",
        "A_3 = SoftMax(Z_3)\n",
        "\n",
        "# check shape\n",
        "print(f'A_3 Shape: {A_3.shape}', '\\n')\n",
        "\n",
        "# check first 5 cols\n",
        "A_3[:, 0:5]"
      ],
      "metadata": {
        "colab": {
          "base_uri": "https://localhost:8080/"
        },
        "id": "KeDqTsJqKf-8",
        "outputId": "f6733f0a-1a2f-4fa8-f444-e601bd8394df"
      },
      "execution_count": 38,
      "outputs": [
        {
          "output_type": "stream",
          "name": "stdout",
          "text": [
            "A_3 Shape: (7, 150) \n",
            "\n"
          ]
        },
        {
          "output_type": "execute_result",
          "data": {
            "text/plain": [
              "array([[0.0008733 , 0.00085533, 0.0008537 , 0.00088091, 0.00087939],\n",
              "       [0.00088903, 0.00091076, 0.0009511 , 0.00097897, 0.00098192],\n",
              "       [0.00081204, 0.00078527, 0.00081679, 0.00093206, 0.00086307],\n",
              "       [0.00062077, 0.00067723, 0.00067605, 0.00065004, 0.00071117],\n",
              "       [0.00090956, 0.00078817, 0.00080316, 0.00096371, 0.00080672],\n",
              "       [0.0016136 , 0.00136692, 0.00146116, 0.00182956, 0.00146454],\n",
              "       [0.00093723, 0.00088229, 0.00087566, 0.00090831, 0.00088052]])"
            ]
          },
          "metadata": {},
          "execution_count": 38
        }
      ]
    },
    {
      "cell_type": "code",
      "source": [
        "# check classification of the first 5 animals\n",
        "predictions_raw = np.argmax(A_3, axis=0)\n",
        "\n",
        "# add 1 to predictions since index starts at 0\n",
        "predictions_raw += 1\n",
        "\n",
        "# check first 10 predictions\n",
        "print(f'First 10 animal Predictions: {predictions_raw[:10]}', '\\n')\n",
        "\n",
        "# check y labels\n",
        "print(f'First 10 animal Labels: {Y_train[:10]}')"
      ],
      "metadata": {
        "colab": {
          "base_uri": "https://localhost:8080/"
        },
        "id": "N3ojRFEFLAIB",
        "outputId": "b1a8c911-997c-4b9d-c497-b7c3aed4360b"
      },
      "execution_count": 40,
      "outputs": [
        {
          "output_type": "stream",
          "name": "stdout",
          "text": [
            "First 10 animal Predictions: [6 6 6 6 6 6 6 6 6 6] \n",
            "\n",
            "First 10 animal Labels: [4 2 2 1 7 6 7 6 3 4]\n"
          ]
        }
      ]
    },
    {
      "cell_type": "markdown",
      "source": [
        "- Above can be seen the Prediction of the Model, after *Forward Propagating* the Neural Network with Random Values of $\\vec{w}$ and $\\vec{b}$"
      ],
      "metadata": {
        "id": "GJkyHvEUMBfw"
      }
    },
    {
      "cell_type": "markdown",
      "source": [
        "![green-divider](https://user-images.githubusercontent.com/7065401/52071924-c003ad80-2562-11e9-8297-1c6595f8a7ff.png)"
      ],
      "metadata": {
        "id": "9y64ckWeMTtA"
      }
    },
    {
      "cell_type": "markdown",
      "source": [
        "#### Forward Propagation Function"
      ],
      "metadata": {
        "id": "v6blyv7wMUET"
      }
    },
    {
      "cell_type": "markdown",
      "source": [
        "![green-divider](https://user-images.githubusercontent.com/7065401/52071924-c003ad80-2562-11e9-8297-1c6595f8a7ff.png)"
      ],
      "metadata": {
        "id": "fFWgTly4SUKt"
      }
    },
    {
      "cell_type": "markdown",
      "source": [
        "![purple-divider](https://user-images.githubusercontent.com/7065401/52071927-c1cd7100-2562-11e9-908a-dde91ba14e59.png)"
      ],
      "metadata": {
        "id": "5mPTaslmSUTe"
      }
    }
  ]
}