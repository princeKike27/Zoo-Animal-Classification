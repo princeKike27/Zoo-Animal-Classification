{
  "nbformat": 4,
  "nbformat_minor": 0,
  "metadata": {
    "colab": {
      "provenance": [],
      "authorship_tag": "ABX9TyMWGC5JvXRFYExVT2kUp+lf",
      "include_colab_link": true
    },
    "kernelspec": {
      "name": "python3",
      "display_name": "Python 3"
    },
    "language_info": {
      "name": "python"
    }
  },
  "cells": [
    {
      "cell_type": "markdown",
      "metadata": {
        "id": "view-in-github",
        "colab_type": "text"
      },
      "source": [
        "<a href=\"https://colab.research.google.com/github/princeKike27/Zoo-Animal-Classification/blob/main/Zoo_Animal_Classifcation.ipynb\" target=\"_parent\"><img src=\"https://colab.research.google.com/assets/colab-badge.svg\" alt=\"Open In Colab\"/></a>"
      ]
    },
    {
      "cell_type": "markdown",
      "source": [
        "# Zoo Animal Classification\n",
        "\n",
        "- Using NumPy I'm going to build a Neural Network that classifies animals from the Sao Paulo Zoo"
      ],
      "metadata": {
        "id": "d2x-T8JPSUE-"
      }
    },
    {
      "cell_type": "markdown",
      "source": [
        "![green-divider](https://user-images.githubusercontent.com/7065401/52071924-c003ad80-2562-11e9-8297-1c6595f8a7ff.png)"
      ],
      "metadata": {
        "id": "Y3AhR8XtUBQd"
      }
    },
    {
      "cell_type": "markdown",
      "source": [
        "## Zoo Data\n",
        "\n",
        "- The Features that are going to be used in the model are the following:\n",
        "  - *hair* ⟶ 1 if the animal has hair\n",
        "  - *feathers* ⟶ 1 if the animal has feathers\n",
        "  - *eggs* ⟶ 1 if the animal lays eggs\n",
        "  - *milk* ⟶ 1 if the animal feeds milk to its offspring\n",
        "  - *airborne* ⟶ 1 if the animal flies\n",
        "  - *aquatic* ⟶ 1 if the animal lives in water\n",
        "  - *predator* ⟶ 1 if the animal hunts other animals\n",
        "  - *toothed* ⟶ 1 if the animal has teeth\n",
        "  - *backbone* ⟶ 1 if the animal has bones\n",
        "  - *breathes* ⟶ 1 if the animal breathes\n",
        "  - *venomous* ⟶ 1 if the animal is poisonous\n",
        "  - *fins* ⟶ 1 if the animal has fins\n",
        "  - *legs* ⟶ number of legs\n",
        "  - *tail* ⟶ 1 if the animal has a tail\n",
        "  - *domestic* ⟶ 1 if it is a domestic animal\n",
        "  - *catsize*\n",
        "\n"
      ],
      "metadata": {
        "id": "kLPuJ6gKUBm_"
      }
    },
    {
      "cell_type": "code",
      "source": [
        "# import modules\n",
        "import numpy as np\n",
        "import pandas as pd\n",
        "import matplotlib.pyplot as plt\n",
        "import seaborn as sns\n",
        "\n",
        "# set plot style\n",
        "sns.set()"
      ],
      "metadata": {
        "id": "jIdPiXl5UITE"
      },
      "execution_count": 1,
      "outputs": []
    },
    {
      "cell_type": "code",
      "source": [
        "# load dataset\n",
        "zoo_df = pd.read_csv('https://raw.githubusercontent.com/princeKike27/Zoo-Animal-Classification/main/zoo.csv', sep=';')\n",
        "\n",
        "zoo_df"
      ],
      "metadata": {
        "colab": {
          "base_uri": "https://localhost:8080/",
          "height": 523
        },
        "id": "0doX2uAFUDf-",
        "outputId": "6788006c-997c-40d5-b5ac-6ed94b76bd1e"
      },
      "execution_count": 2,
      "outputs": [
        {
          "output_type": "execute_result",
          "data": {
            "text/plain": [
              "                   animal_name  hair  feathers  eggs  milk  airborne  aquatic  \\\n",
              "0                     aardvark     1         0     0     1         0        0   \n",
              "1                     antelope     1         0     0     1         0        0   \n",
              "2                         bass     0         0     1     0         0        1   \n",
              "3                         bear     1         0     0     1         0        0   \n",
              "4                         boar     1         0     0     1         0        0   \n",
              "..                         ...   ...       ...   ...   ...       ...      ...   \n",
              "209                      vespa     0         0     1     0         1        0   \n",
              "210                  bicho-pau     0         0     1     0         0        0   \n",
              "211  caracol-da-mata-atlantica     0         0     1     0         0        0   \n",
              "212              caranguejeira     1         0     1     0         0        0   \n",
              "213                sauva-limao     1         0     1     0         0        0   \n",
              "\n",
              "     predator  toothed  backbone  breathes  venomous  fins  legs  tail  \\\n",
              "0           1        1         1         1         0     0     4     0   \n",
              "1           0        1         1         1         0     0     4     1   \n",
              "2           1        1         1         0         0     1     0     1   \n",
              "3           1        1         1         1         0     0     4     0   \n",
              "4           1        1         1         1         0     0     4     1   \n",
              "..        ...      ...       ...       ...       ...   ...   ...   ...   \n",
              "209         1        0         0         1         1     0     6     0   \n",
              "210         0        0         0         1         0     0     6     0   \n",
              "211         0        0         0         1         0     0     0     0   \n",
              "212         1        0         0         1         1     0     8     0   \n",
              "213         1        0         0         1         1     0     6     0   \n",
              "\n",
              "     domestic  catsize  class_type  \n",
              "0           0        1           1  \n",
              "1           0        1           1  \n",
              "2           0        0           4  \n",
              "3           0        1           1  \n",
              "4           0        1           1  \n",
              "..        ...      ...         ...  \n",
              "209         0        0           6  \n",
              "210         0        0           7  \n",
              "211         0        0           7  \n",
              "212         0        0           7  \n",
              "213         0        0           7  \n",
              "\n",
              "[214 rows x 18 columns]"
            ],
            "text/html": [
              "\n",
              "  <div id=\"df-20842b0d-f9c4-4af0-aad1-9f0b0a182491\">\n",
              "    <div class=\"colab-df-container\">\n",
              "      <div>\n",
              "<style scoped>\n",
              "    .dataframe tbody tr th:only-of-type {\n",
              "        vertical-align: middle;\n",
              "    }\n",
              "\n",
              "    .dataframe tbody tr th {\n",
              "        vertical-align: top;\n",
              "    }\n",
              "\n",
              "    .dataframe thead th {\n",
              "        text-align: right;\n",
              "    }\n",
              "</style>\n",
              "<table border=\"1\" class=\"dataframe\">\n",
              "  <thead>\n",
              "    <tr style=\"text-align: right;\">\n",
              "      <th></th>\n",
              "      <th>animal_name</th>\n",
              "      <th>hair</th>\n",
              "      <th>feathers</th>\n",
              "      <th>eggs</th>\n",
              "      <th>milk</th>\n",
              "      <th>airborne</th>\n",
              "      <th>aquatic</th>\n",
              "      <th>predator</th>\n",
              "      <th>toothed</th>\n",
              "      <th>backbone</th>\n",
              "      <th>breathes</th>\n",
              "      <th>venomous</th>\n",
              "      <th>fins</th>\n",
              "      <th>legs</th>\n",
              "      <th>tail</th>\n",
              "      <th>domestic</th>\n",
              "      <th>catsize</th>\n",
              "      <th>class_type</th>\n",
              "    </tr>\n",
              "  </thead>\n",
              "  <tbody>\n",
              "    <tr>\n",
              "      <th>0</th>\n",
              "      <td>aardvark</td>\n",
              "      <td>1</td>\n",
              "      <td>0</td>\n",
              "      <td>0</td>\n",
              "      <td>1</td>\n",
              "      <td>0</td>\n",
              "      <td>0</td>\n",
              "      <td>1</td>\n",
              "      <td>1</td>\n",
              "      <td>1</td>\n",
              "      <td>1</td>\n",
              "      <td>0</td>\n",
              "      <td>0</td>\n",
              "      <td>4</td>\n",
              "      <td>0</td>\n",
              "      <td>0</td>\n",
              "      <td>1</td>\n",
              "      <td>1</td>\n",
              "    </tr>\n",
              "    <tr>\n",
              "      <th>1</th>\n",
              "      <td>antelope</td>\n",
              "      <td>1</td>\n",
              "      <td>0</td>\n",
              "      <td>0</td>\n",
              "      <td>1</td>\n",
              "      <td>0</td>\n",
              "      <td>0</td>\n",
              "      <td>0</td>\n",
              "      <td>1</td>\n",
              "      <td>1</td>\n",
              "      <td>1</td>\n",
              "      <td>0</td>\n",
              "      <td>0</td>\n",
              "      <td>4</td>\n",
              "      <td>1</td>\n",
              "      <td>0</td>\n",
              "      <td>1</td>\n",
              "      <td>1</td>\n",
              "    </tr>\n",
              "    <tr>\n",
              "      <th>2</th>\n",
              "      <td>bass</td>\n",
              "      <td>0</td>\n",
              "      <td>0</td>\n",
              "      <td>1</td>\n",
              "      <td>0</td>\n",
              "      <td>0</td>\n",
              "      <td>1</td>\n",
              "      <td>1</td>\n",
              "      <td>1</td>\n",
              "      <td>1</td>\n",
              "      <td>0</td>\n",
              "      <td>0</td>\n",
              "      <td>1</td>\n",
              "      <td>0</td>\n",
              "      <td>1</td>\n",
              "      <td>0</td>\n",
              "      <td>0</td>\n",
              "      <td>4</td>\n",
              "    </tr>\n",
              "    <tr>\n",
              "      <th>3</th>\n",
              "      <td>bear</td>\n",
              "      <td>1</td>\n",
              "      <td>0</td>\n",
              "      <td>0</td>\n",
              "      <td>1</td>\n",
              "      <td>0</td>\n",
              "      <td>0</td>\n",
              "      <td>1</td>\n",
              "      <td>1</td>\n",
              "      <td>1</td>\n",
              "      <td>1</td>\n",
              "      <td>0</td>\n",
              "      <td>0</td>\n",
              "      <td>4</td>\n",
              "      <td>0</td>\n",
              "      <td>0</td>\n",
              "      <td>1</td>\n",
              "      <td>1</td>\n",
              "    </tr>\n",
              "    <tr>\n",
              "      <th>4</th>\n",
              "      <td>boar</td>\n",
              "      <td>1</td>\n",
              "      <td>0</td>\n",
              "      <td>0</td>\n",
              "      <td>1</td>\n",
              "      <td>0</td>\n",
              "      <td>0</td>\n",
              "      <td>1</td>\n",
              "      <td>1</td>\n",
              "      <td>1</td>\n",
              "      <td>1</td>\n",
              "      <td>0</td>\n",
              "      <td>0</td>\n",
              "      <td>4</td>\n",
              "      <td>1</td>\n",
              "      <td>0</td>\n",
              "      <td>1</td>\n",
              "      <td>1</td>\n",
              "    </tr>\n",
              "    <tr>\n",
              "      <th>...</th>\n",
              "      <td>...</td>\n",
              "      <td>...</td>\n",
              "      <td>...</td>\n",
              "      <td>...</td>\n",
              "      <td>...</td>\n",
              "      <td>...</td>\n",
              "      <td>...</td>\n",
              "      <td>...</td>\n",
              "      <td>...</td>\n",
              "      <td>...</td>\n",
              "      <td>...</td>\n",
              "      <td>...</td>\n",
              "      <td>...</td>\n",
              "      <td>...</td>\n",
              "      <td>...</td>\n",
              "      <td>...</td>\n",
              "      <td>...</td>\n",
              "      <td>...</td>\n",
              "    </tr>\n",
              "    <tr>\n",
              "      <th>209</th>\n",
              "      <td>vespa</td>\n",
              "      <td>0</td>\n",
              "      <td>0</td>\n",
              "      <td>1</td>\n",
              "      <td>0</td>\n",
              "      <td>1</td>\n",
              "      <td>0</td>\n",
              "      <td>1</td>\n",
              "      <td>0</td>\n",
              "      <td>0</td>\n",
              "      <td>1</td>\n",
              "      <td>1</td>\n",
              "      <td>0</td>\n",
              "      <td>6</td>\n",
              "      <td>0</td>\n",
              "      <td>0</td>\n",
              "      <td>0</td>\n",
              "      <td>6</td>\n",
              "    </tr>\n",
              "    <tr>\n",
              "      <th>210</th>\n",
              "      <td>bicho-pau</td>\n",
              "      <td>0</td>\n",
              "      <td>0</td>\n",
              "      <td>1</td>\n",
              "      <td>0</td>\n",
              "      <td>0</td>\n",
              "      <td>0</td>\n",
              "      <td>0</td>\n",
              "      <td>0</td>\n",
              "      <td>0</td>\n",
              "      <td>1</td>\n",
              "      <td>0</td>\n",
              "      <td>0</td>\n",
              "      <td>6</td>\n",
              "      <td>0</td>\n",
              "      <td>0</td>\n",
              "      <td>0</td>\n",
              "      <td>7</td>\n",
              "    </tr>\n",
              "    <tr>\n",
              "      <th>211</th>\n",
              "      <td>caracol-da-mata-atlantica</td>\n",
              "      <td>0</td>\n",
              "      <td>0</td>\n",
              "      <td>1</td>\n",
              "      <td>0</td>\n",
              "      <td>0</td>\n",
              "      <td>0</td>\n",
              "      <td>0</td>\n",
              "      <td>0</td>\n",
              "      <td>0</td>\n",
              "      <td>1</td>\n",
              "      <td>0</td>\n",
              "      <td>0</td>\n",
              "      <td>0</td>\n",
              "      <td>0</td>\n",
              "      <td>0</td>\n",
              "      <td>0</td>\n",
              "      <td>7</td>\n",
              "    </tr>\n",
              "    <tr>\n",
              "      <th>212</th>\n",
              "      <td>caranguejeira</td>\n",
              "      <td>1</td>\n",
              "      <td>0</td>\n",
              "      <td>1</td>\n",
              "      <td>0</td>\n",
              "      <td>0</td>\n",
              "      <td>0</td>\n",
              "      <td>1</td>\n",
              "      <td>0</td>\n",
              "      <td>0</td>\n",
              "      <td>1</td>\n",
              "      <td>1</td>\n",
              "      <td>0</td>\n",
              "      <td>8</td>\n",
              "      <td>0</td>\n",
              "      <td>0</td>\n",
              "      <td>0</td>\n",
              "      <td>7</td>\n",
              "    </tr>\n",
              "    <tr>\n",
              "      <th>213</th>\n",
              "      <td>sauva-limao</td>\n",
              "      <td>1</td>\n",
              "      <td>0</td>\n",
              "      <td>1</td>\n",
              "      <td>0</td>\n",
              "      <td>0</td>\n",
              "      <td>0</td>\n",
              "      <td>1</td>\n",
              "      <td>0</td>\n",
              "      <td>0</td>\n",
              "      <td>1</td>\n",
              "      <td>1</td>\n",
              "      <td>0</td>\n",
              "      <td>6</td>\n",
              "      <td>0</td>\n",
              "      <td>0</td>\n",
              "      <td>0</td>\n",
              "      <td>7</td>\n",
              "    </tr>\n",
              "  </tbody>\n",
              "</table>\n",
              "<p>214 rows × 18 columns</p>\n",
              "</div>\n",
              "      <button class=\"colab-df-convert\" onclick=\"convertToInteractive('df-20842b0d-f9c4-4af0-aad1-9f0b0a182491')\"\n",
              "              title=\"Convert this dataframe to an interactive table.\"\n",
              "              style=\"display:none;\">\n",
              "        \n",
              "  <svg xmlns=\"http://www.w3.org/2000/svg\" height=\"24px\"viewBox=\"0 0 24 24\"\n",
              "       width=\"24px\">\n",
              "    <path d=\"M0 0h24v24H0V0z\" fill=\"none\"/>\n",
              "    <path d=\"M18.56 5.44l.94 2.06.94-2.06 2.06-.94-2.06-.94-.94-2.06-.94 2.06-2.06.94zm-11 1L8.5 8.5l.94-2.06 2.06-.94-2.06-.94L8.5 2.5l-.94 2.06-2.06.94zm10 10l.94 2.06.94-2.06 2.06-.94-2.06-.94-.94-2.06-.94 2.06-2.06.94z\"/><path d=\"M17.41 7.96l-1.37-1.37c-.4-.4-.92-.59-1.43-.59-.52 0-1.04.2-1.43.59L10.3 9.45l-7.72 7.72c-.78.78-.78 2.05 0 2.83L4 21.41c.39.39.9.59 1.41.59.51 0 1.02-.2 1.41-.59l7.78-7.78 2.81-2.81c.8-.78.8-2.07 0-2.86zM5.41 20L4 18.59l7.72-7.72 1.47 1.35L5.41 20z\"/>\n",
              "  </svg>\n",
              "      </button>\n",
              "      \n",
              "  <style>\n",
              "    .colab-df-container {\n",
              "      display:flex;\n",
              "      flex-wrap:wrap;\n",
              "      gap: 12px;\n",
              "    }\n",
              "\n",
              "    .colab-df-convert {\n",
              "      background-color: #E8F0FE;\n",
              "      border: none;\n",
              "      border-radius: 50%;\n",
              "      cursor: pointer;\n",
              "      display: none;\n",
              "      fill: #1967D2;\n",
              "      height: 32px;\n",
              "      padding: 0 0 0 0;\n",
              "      width: 32px;\n",
              "    }\n",
              "\n",
              "    .colab-df-convert:hover {\n",
              "      background-color: #E2EBFA;\n",
              "      box-shadow: 0px 1px 2px rgba(60, 64, 67, 0.3), 0px 1px 3px 1px rgba(60, 64, 67, 0.15);\n",
              "      fill: #174EA6;\n",
              "    }\n",
              "\n",
              "    [theme=dark] .colab-df-convert {\n",
              "      background-color: #3B4455;\n",
              "      fill: #D2E3FC;\n",
              "    }\n",
              "\n",
              "    [theme=dark] .colab-df-convert:hover {\n",
              "      background-color: #434B5C;\n",
              "      box-shadow: 0px 1px 3px 1px rgba(0, 0, 0, 0.15);\n",
              "      filter: drop-shadow(0px 1px 2px rgba(0, 0, 0, 0.3));\n",
              "      fill: #FFFFFF;\n",
              "    }\n",
              "  </style>\n",
              "\n",
              "      <script>\n",
              "        const buttonEl =\n",
              "          document.querySelector('#df-20842b0d-f9c4-4af0-aad1-9f0b0a182491 button.colab-df-convert');\n",
              "        buttonEl.style.display =\n",
              "          google.colab.kernel.accessAllowed ? 'block' : 'none';\n",
              "\n",
              "        async function convertToInteractive(key) {\n",
              "          const element = document.querySelector('#df-20842b0d-f9c4-4af0-aad1-9f0b0a182491');\n",
              "          const dataTable =\n",
              "            await google.colab.kernel.invokeFunction('convertToInteractive',\n",
              "                                                     [key], {});\n",
              "          if (!dataTable) return;\n",
              "\n",
              "          const docLinkHtml = 'Like what you see? Visit the ' +\n",
              "            '<a target=\"_blank\" href=https://colab.research.google.com/notebooks/data_table.ipynb>data table notebook</a>'\n",
              "            + ' to learn more about interactive tables.';\n",
              "          element.innerHTML = '';\n",
              "          dataTable['output_type'] = 'display_data';\n",
              "          await google.colab.output.renderOutput(dataTable, element);\n",
              "          const docLink = document.createElement('div');\n",
              "          docLink.innerHTML = docLinkHtml;\n",
              "          element.appendChild(docLink);\n",
              "        }\n",
              "      </script>\n",
              "    </div>\n",
              "  </div>\n",
              "  "
            ]
          },
          "metadata": {},
          "execution_count": 2
        }
      ]
    },
    {
      "cell_type": "code",
      "source": [
        "# standarize legs >> between 0 and 1\n",
        "zoo_df['legs'] = (zoo_df.legs - np.min(zoo_df.legs)) / (np.max(zoo_df.legs) - np.min(zoo_df.legs))\n",
        "\n",
        "zoo_df.iloc[:, 1:]"
      ],
      "metadata": {
        "colab": {
          "base_uri": "https://localhost:8080/",
          "height": 488
        },
        "id": "oL45ogqj6s6p",
        "outputId": "23aca9ca-e1ef-4413-e976-232337d8d7e3"
      },
      "execution_count": 13,
      "outputs": [
        {
          "output_type": "execute_result",
          "data": {
            "text/plain": [
              "     hair  feathers  eggs  milk  airborne  aquatic  predator  toothed  \\\n",
              "0       1         0     0     1         0        0         1        1   \n",
              "1       1         0     0     1         0        0         0        1   \n",
              "2       0         0     1     0         0        1         1        1   \n",
              "3       1         0     0     1         0        0         1        1   \n",
              "4       1         0     0     1         0        0         1        1   \n",
              "..    ...       ...   ...   ...       ...      ...       ...      ...   \n",
              "209     0         0     1     0         1        0         1        0   \n",
              "210     0         0     1     0         0        0         0        0   \n",
              "211     0         0     1     0         0        0         0        0   \n",
              "212     1         0     1     0         0        0         1        0   \n",
              "213     1         0     1     0         0        0         1        0   \n",
              "\n",
              "     backbone  breathes  venomous  fins  legs  tail  domestic  catsize  \\\n",
              "0           1         1         0     0  0.50     0         0        1   \n",
              "1           1         1         0     0  0.50     1         0        1   \n",
              "2           1         0         0     1  0.00     1         0        0   \n",
              "3           1         1         0     0  0.50     0         0        1   \n",
              "4           1         1         0     0  0.50     1         0        1   \n",
              "..        ...       ...       ...   ...   ...   ...       ...      ...   \n",
              "209         0         1         1     0  0.75     0         0        0   \n",
              "210         0         1         0     0  0.75     0         0        0   \n",
              "211         0         1         0     0  0.00     0         0        0   \n",
              "212         0         1         1     0  1.00     0         0        0   \n",
              "213         0         1         1     0  0.75     0         0        0   \n",
              "\n",
              "     class_type  \n",
              "0             1  \n",
              "1             1  \n",
              "2             4  \n",
              "3             1  \n",
              "4             1  \n",
              "..          ...  \n",
              "209           6  \n",
              "210           7  \n",
              "211           7  \n",
              "212           7  \n",
              "213           7  \n",
              "\n",
              "[214 rows x 17 columns]"
            ],
            "text/html": [
              "\n",
              "  <div id=\"df-1067b883-a0df-4dd0-b3de-0bc01bd233d3\">\n",
              "    <div class=\"colab-df-container\">\n",
              "      <div>\n",
              "<style scoped>\n",
              "    .dataframe tbody tr th:only-of-type {\n",
              "        vertical-align: middle;\n",
              "    }\n",
              "\n",
              "    .dataframe tbody tr th {\n",
              "        vertical-align: top;\n",
              "    }\n",
              "\n",
              "    .dataframe thead th {\n",
              "        text-align: right;\n",
              "    }\n",
              "</style>\n",
              "<table border=\"1\" class=\"dataframe\">\n",
              "  <thead>\n",
              "    <tr style=\"text-align: right;\">\n",
              "      <th></th>\n",
              "      <th>hair</th>\n",
              "      <th>feathers</th>\n",
              "      <th>eggs</th>\n",
              "      <th>milk</th>\n",
              "      <th>airborne</th>\n",
              "      <th>aquatic</th>\n",
              "      <th>predator</th>\n",
              "      <th>toothed</th>\n",
              "      <th>backbone</th>\n",
              "      <th>breathes</th>\n",
              "      <th>venomous</th>\n",
              "      <th>fins</th>\n",
              "      <th>legs</th>\n",
              "      <th>tail</th>\n",
              "      <th>domestic</th>\n",
              "      <th>catsize</th>\n",
              "      <th>class_type</th>\n",
              "    </tr>\n",
              "  </thead>\n",
              "  <tbody>\n",
              "    <tr>\n",
              "      <th>0</th>\n",
              "      <td>1</td>\n",
              "      <td>0</td>\n",
              "      <td>0</td>\n",
              "      <td>1</td>\n",
              "      <td>0</td>\n",
              "      <td>0</td>\n",
              "      <td>1</td>\n",
              "      <td>1</td>\n",
              "      <td>1</td>\n",
              "      <td>1</td>\n",
              "      <td>0</td>\n",
              "      <td>0</td>\n",
              "      <td>0.50</td>\n",
              "      <td>0</td>\n",
              "      <td>0</td>\n",
              "      <td>1</td>\n",
              "      <td>1</td>\n",
              "    </tr>\n",
              "    <tr>\n",
              "      <th>1</th>\n",
              "      <td>1</td>\n",
              "      <td>0</td>\n",
              "      <td>0</td>\n",
              "      <td>1</td>\n",
              "      <td>0</td>\n",
              "      <td>0</td>\n",
              "      <td>0</td>\n",
              "      <td>1</td>\n",
              "      <td>1</td>\n",
              "      <td>1</td>\n",
              "      <td>0</td>\n",
              "      <td>0</td>\n",
              "      <td>0.50</td>\n",
              "      <td>1</td>\n",
              "      <td>0</td>\n",
              "      <td>1</td>\n",
              "      <td>1</td>\n",
              "    </tr>\n",
              "    <tr>\n",
              "      <th>2</th>\n",
              "      <td>0</td>\n",
              "      <td>0</td>\n",
              "      <td>1</td>\n",
              "      <td>0</td>\n",
              "      <td>0</td>\n",
              "      <td>1</td>\n",
              "      <td>1</td>\n",
              "      <td>1</td>\n",
              "      <td>1</td>\n",
              "      <td>0</td>\n",
              "      <td>0</td>\n",
              "      <td>1</td>\n",
              "      <td>0.00</td>\n",
              "      <td>1</td>\n",
              "      <td>0</td>\n",
              "      <td>0</td>\n",
              "      <td>4</td>\n",
              "    </tr>\n",
              "    <tr>\n",
              "      <th>3</th>\n",
              "      <td>1</td>\n",
              "      <td>0</td>\n",
              "      <td>0</td>\n",
              "      <td>1</td>\n",
              "      <td>0</td>\n",
              "      <td>0</td>\n",
              "      <td>1</td>\n",
              "      <td>1</td>\n",
              "      <td>1</td>\n",
              "      <td>1</td>\n",
              "      <td>0</td>\n",
              "      <td>0</td>\n",
              "      <td>0.50</td>\n",
              "      <td>0</td>\n",
              "      <td>0</td>\n",
              "      <td>1</td>\n",
              "      <td>1</td>\n",
              "    </tr>\n",
              "    <tr>\n",
              "      <th>4</th>\n",
              "      <td>1</td>\n",
              "      <td>0</td>\n",
              "      <td>0</td>\n",
              "      <td>1</td>\n",
              "      <td>0</td>\n",
              "      <td>0</td>\n",
              "      <td>1</td>\n",
              "      <td>1</td>\n",
              "      <td>1</td>\n",
              "      <td>1</td>\n",
              "      <td>0</td>\n",
              "      <td>0</td>\n",
              "      <td>0.50</td>\n",
              "      <td>1</td>\n",
              "      <td>0</td>\n",
              "      <td>1</td>\n",
              "      <td>1</td>\n",
              "    </tr>\n",
              "    <tr>\n",
              "      <th>...</th>\n",
              "      <td>...</td>\n",
              "      <td>...</td>\n",
              "      <td>...</td>\n",
              "      <td>...</td>\n",
              "      <td>...</td>\n",
              "      <td>...</td>\n",
              "      <td>...</td>\n",
              "      <td>...</td>\n",
              "      <td>...</td>\n",
              "      <td>...</td>\n",
              "      <td>...</td>\n",
              "      <td>...</td>\n",
              "      <td>...</td>\n",
              "      <td>...</td>\n",
              "      <td>...</td>\n",
              "      <td>...</td>\n",
              "      <td>...</td>\n",
              "    </tr>\n",
              "    <tr>\n",
              "      <th>209</th>\n",
              "      <td>0</td>\n",
              "      <td>0</td>\n",
              "      <td>1</td>\n",
              "      <td>0</td>\n",
              "      <td>1</td>\n",
              "      <td>0</td>\n",
              "      <td>1</td>\n",
              "      <td>0</td>\n",
              "      <td>0</td>\n",
              "      <td>1</td>\n",
              "      <td>1</td>\n",
              "      <td>0</td>\n",
              "      <td>0.75</td>\n",
              "      <td>0</td>\n",
              "      <td>0</td>\n",
              "      <td>0</td>\n",
              "      <td>6</td>\n",
              "    </tr>\n",
              "    <tr>\n",
              "      <th>210</th>\n",
              "      <td>0</td>\n",
              "      <td>0</td>\n",
              "      <td>1</td>\n",
              "      <td>0</td>\n",
              "      <td>0</td>\n",
              "      <td>0</td>\n",
              "      <td>0</td>\n",
              "      <td>0</td>\n",
              "      <td>0</td>\n",
              "      <td>1</td>\n",
              "      <td>0</td>\n",
              "      <td>0</td>\n",
              "      <td>0.75</td>\n",
              "      <td>0</td>\n",
              "      <td>0</td>\n",
              "      <td>0</td>\n",
              "      <td>7</td>\n",
              "    </tr>\n",
              "    <tr>\n",
              "      <th>211</th>\n",
              "      <td>0</td>\n",
              "      <td>0</td>\n",
              "      <td>1</td>\n",
              "      <td>0</td>\n",
              "      <td>0</td>\n",
              "      <td>0</td>\n",
              "      <td>0</td>\n",
              "      <td>0</td>\n",
              "      <td>0</td>\n",
              "      <td>1</td>\n",
              "      <td>0</td>\n",
              "      <td>0</td>\n",
              "      <td>0.00</td>\n",
              "      <td>0</td>\n",
              "      <td>0</td>\n",
              "      <td>0</td>\n",
              "      <td>7</td>\n",
              "    </tr>\n",
              "    <tr>\n",
              "      <th>212</th>\n",
              "      <td>1</td>\n",
              "      <td>0</td>\n",
              "      <td>1</td>\n",
              "      <td>0</td>\n",
              "      <td>0</td>\n",
              "      <td>0</td>\n",
              "      <td>1</td>\n",
              "      <td>0</td>\n",
              "      <td>0</td>\n",
              "      <td>1</td>\n",
              "      <td>1</td>\n",
              "      <td>0</td>\n",
              "      <td>1.00</td>\n",
              "      <td>0</td>\n",
              "      <td>0</td>\n",
              "      <td>0</td>\n",
              "      <td>7</td>\n",
              "    </tr>\n",
              "    <tr>\n",
              "      <th>213</th>\n",
              "      <td>1</td>\n",
              "      <td>0</td>\n",
              "      <td>1</td>\n",
              "      <td>0</td>\n",
              "      <td>0</td>\n",
              "      <td>0</td>\n",
              "      <td>1</td>\n",
              "      <td>0</td>\n",
              "      <td>0</td>\n",
              "      <td>1</td>\n",
              "      <td>1</td>\n",
              "      <td>0</td>\n",
              "      <td>0.75</td>\n",
              "      <td>0</td>\n",
              "      <td>0</td>\n",
              "      <td>0</td>\n",
              "      <td>7</td>\n",
              "    </tr>\n",
              "  </tbody>\n",
              "</table>\n",
              "<p>214 rows × 17 columns</p>\n",
              "</div>\n",
              "      <button class=\"colab-df-convert\" onclick=\"convertToInteractive('df-1067b883-a0df-4dd0-b3de-0bc01bd233d3')\"\n",
              "              title=\"Convert this dataframe to an interactive table.\"\n",
              "              style=\"display:none;\">\n",
              "        \n",
              "  <svg xmlns=\"http://www.w3.org/2000/svg\" height=\"24px\"viewBox=\"0 0 24 24\"\n",
              "       width=\"24px\">\n",
              "    <path d=\"M0 0h24v24H0V0z\" fill=\"none\"/>\n",
              "    <path d=\"M18.56 5.44l.94 2.06.94-2.06 2.06-.94-2.06-.94-.94-2.06-.94 2.06-2.06.94zm-11 1L8.5 8.5l.94-2.06 2.06-.94-2.06-.94L8.5 2.5l-.94 2.06-2.06.94zm10 10l.94 2.06.94-2.06 2.06-.94-2.06-.94-.94-2.06-.94 2.06-2.06.94z\"/><path d=\"M17.41 7.96l-1.37-1.37c-.4-.4-.92-.59-1.43-.59-.52 0-1.04.2-1.43.59L10.3 9.45l-7.72 7.72c-.78.78-.78 2.05 0 2.83L4 21.41c.39.39.9.59 1.41.59.51 0 1.02-.2 1.41-.59l7.78-7.78 2.81-2.81c.8-.78.8-2.07 0-2.86zM5.41 20L4 18.59l7.72-7.72 1.47 1.35L5.41 20z\"/>\n",
              "  </svg>\n",
              "      </button>\n",
              "      \n",
              "  <style>\n",
              "    .colab-df-container {\n",
              "      display:flex;\n",
              "      flex-wrap:wrap;\n",
              "      gap: 12px;\n",
              "    }\n",
              "\n",
              "    .colab-df-convert {\n",
              "      background-color: #E8F0FE;\n",
              "      border: none;\n",
              "      border-radius: 50%;\n",
              "      cursor: pointer;\n",
              "      display: none;\n",
              "      fill: #1967D2;\n",
              "      height: 32px;\n",
              "      padding: 0 0 0 0;\n",
              "      width: 32px;\n",
              "    }\n",
              "\n",
              "    .colab-df-convert:hover {\n",
              "      background-color: #E2EBFA;\n",
              "      box-shadow: 0px 1px 2px rgba(60, 64, 67, 0.3), 0px 1px 3px 1px rgba(60, 64, 67, 0.15);\n",
              "      fill: #174EA6;\n",
              "    }\n",
              "\n",
              "    [theme=dark] .colab-df-convert {\n",
              "      background-color: #3B4455;\n",
              "      fill: #D2E3FC;\n",
              "    }\n",
              "\n",
              "    [theme=dark] .colab-df-convert:hover {\n",
              "      background-color: #434B5C;\n",
              "      box-shadow: 0px 1px 3px 1px rgba(0, 0, 0, 0.15);\n",
              "      filter: drop-shadow(0px 1px 2px rgba(0, 0, 0, 0.3));\n",
              "      fill: #FFFFFF;\n",
              "    }\n",
              "  </style>\n",
              "\n",
              "      <script>\n",
              "        const buttonEl =\n",
              "          document.querySelector('#df-1067b883-a0df-4dd0-b3de-0bc01bd233d3 button.colab-df-convert');\n",
              "        buttonEl.style.display =\n",
              "          google.colab.kernel.accessAllowed ? 'block' : 'none';\n",
              "\n",
              "        async function convertToInteractive(key) {\n",
              "          const element = document.querySelector('#df-1067b883-a0df-4dd0-b3de-0bc01bd233d3');\n",
              "          const dataTable =\n",
              "            await google.colab.kernel.invokeFunction('convertToInteractive',\n",
              "                                                     [key], {});\n",
              "          if (!dataTable) return;\n",
              "\n",
              "          const docLinkHtml = 'Like what you see? Visit the ' +\n",
              "            '<a target=\"_blank\" href=https://colab.research.google.com/notebooks/data_table.ipynb>data table notebook</a>'\n",
              "            + ' to learn more about interactive tables.';\n",
              "          element.innerHTML = '';\n",
              "          dataTable['output_type'] = 'display_data';\n",
              "          await google.colab.output.renderOutput(dataTable, element);\n",
              "          const docLink = document.createElement('div');\n",
              "          docLink.innerHTML = docLinkHtml;\n",
              "          element.appendChild(docLink);\n",
              "        }\n",
              "      </script>\n",
              "    </div>\n",
              "  </div>\n",
              "  "
            ]
          },
          "metadata": {},
          "execution_count": 13
        }
      ]
    },
    {
      "cell_type": "code",
      "source": [
        "# create zoo array\n",
        "zoo_array = np.array(zoo_df.iloc[:, 1:])\n",
        "\n",
        "# check shape\n",
        "print(f'Zoo array Shape: {zoo_array.shape}', '\\n')\n",
        "\n",
        "zoo_array"
      ],
      "metadata": {
        "colab": {
          "base_uri": "https://localhost:8080/"
        },
        "id": "hvwOK1tH7VJq",
        "outputId": "9701b6e0-6060-423a-9382-1476e8c35084"
      },
      "execution_count": 12,
      "outputs": [
        {
          "output_type": "stream",
          "name": "stdout",
          "text": [
            "Zoo array Shape: (214, 17) \n",
            "\n"
          ]
        },
        {
          "output_type": "execute_result",
          "data": {
            "text/plain": [
              "array([[1., 0., 0., ..., 0., 1., 1.],\n",
              "       [1., 0., 0., ..., 0., 1., 1.],\n",
              "       [0., 0., 1., ..., 0., 0., 4.],\n",
              "       ...,\n",
              "       [0., 0., 1., ..., 0., 0., 7.],\n",
              "       [1., 0., 1., ..., 0., 0., 7.],\n",
              "       [1., 0., 1., ..., 0., 0., 7.]])"
            ]
          },
          "metadata": {},
          "execution_count": 12
        }
      ]
    },
    {
      "cell_type": "markdown",
      "source": [
        "![purple-divider](https://user-images.githubusercontent.com/7065401/52071927-c1cd7100-2562-11e9-908a-dde91ba14e59.png)"
      ],
      "metadata": {
        "id": "uDsPA9EB8jd1"
      }
    },
    {
      "cell_type": "markdown",
      "source": [
        "## Train Test Split\n",
        "\n",
        "- We are going to Shuffle Randomly the Zoo array and we are going to split it in the following way:\n",
        "\n",
        "  - Train ⟶ 70% of data ⟶ 150 examples\n",
        "  - Test ⟶ 30% of data ⟶ 64 examples"
      ],
      "metadata": {
        "id": "r7_NDnXn8j7y"
      }
    },
    {
      "cell_type": "code",
      "source": [
        "# shuffle randomly\n",
        "np.random.shuffle(zoo_array)\n",
        "\n",
        "zoo_array"
      ],
      "metadata": {
        "colab": {
          "base_uri": "https://localhost:8080/"
        },
        "id": "E0nDQ3pt9RIa",
        "outputId": "f3d2843d-3597-4801-c9e6-9c94a7c39564"
      },
      "execution_count": 14,
      "outputs": [
        {
          "output_type": "execute_result",
          "data": {
            "text/plain": [
              "array([[0., 0., 1., ..., 0., 1., 3.],\n",
              "       [0., 0., 1., ..., 0., 0., 3.],\n",
              "       [0., 0., 1., ..., 0., 0., 4.],\n",
              "       ...,\n",
              "       [1., 0., 0., ..., 0., 1., 1.],\n",
              "       [1., 0., 1., ..., 0., 0., 6.],\n",
              "       [0., 1., 1., ..., 1., 1., 2.]])"
            ]
          },
          "metadata": {},
          "execution_count": 14
        }
      ]
    },
    {
      "cell_type": "markdown",
      "source": [
        "![green-divider](https://user-images.githubusercontent.com/7065401/52071924-c003ad80-2562-11e9-8297-1c6595f8a7ff.png)"
      ],
      "metadata": {
        "id": "xdnJ5Imw9KM5"
      }
    },
    {
      "cell_type": "markdown",
      "source": [
        "### $X$ Inputs"
      ],
      "metadata": {
        "id": "zdM3NlF49Kpg"
      }
    },
    {
      "cell_type": "code",
      "source": [
        "# X inputs array\n",
        "X = zoo_array[:, 0:16]\n",
        "\n",
        "# check shape\n",
        "print(f'X Shape: {X.shape}', '\\n')\n",
        "\n",
        "X"
      ],
      "metadata": {
        "colab": {
          "base_uri": "https://localhost:8080/"
        },
        "id": "p7TApYNJ9b9c",
        "outputId": "743ad3c1-c57d-4347-ab23-689f1d437f28"
      },
      "execution_count": 16,
      "outputs": [
        {
          "output_type": "stream",
          "name": "stdout",
          "text": [
            "X Shape: (214, 16) \n",
            "\n"
          ]
        },
        {
          "output_type": "execute_result",
          "data": {
            "text/plain": [
              "array([[0., 0., 1., ..., 1., 0., 1.],\n",
              "       [0., 0., 1., ..., 1., 0., 0.],\n",
              "       [0., 0., 1., ..., 1., 0., 0.],\n",
              "       ...,\n",
              "       [1., 0., 0., ..., 1., 0., 1.],\n",
              "       [1., 0., 1., ..., 0., 0., 0.],\n",
              "       [0., 1., 1., ..., 1., 1., 1.]])"
            ]
          },
          "metadata": {},
          "execution_count": 16
        }
      ]
    },
    {
      "cell_type": "code",
      "source": [
        "# X_train >> 70% of data\n",
        "X_train = X[:150, :]\n",
        "\n",
        "# check shape\n",
        "print(f'X_train Shape: {X_train.shape}', '\\n')\n",
        "\n",
        "X_train"
      ],
      "metadata": {
        "colab": {
          "base_uri": "https://localhost:8080/"
        },
        "id": "AiUvfl6z-Dea",
        "outputId": "288c4ff5-b5e0-4140-ac06-6cc5eb693813"
      },
      "execution_count": 17,
      "outputs": [
        {
          "output_type": "stream",
          "name": "stdout",
          "text": [
            "X_train Shape: (150, 16) \n",
            "\n"
          ]
        },
        {
          "output_type": "execute_result",
          "data": {
            "text/plain": [
              "array([[0., 0., 1., ..., 1., 0., 1.],\n",
              "       [0., 0., 1., ..., 1., 0., 0.],\n",
              "       [0., 0., 1., ..., 1., 0., 0.],\n",
              "       ...,\n",
              "       [0., 1., 1., ..., 1., 0., 1.],\n",
              "       [1., 0., 0., ..., 1., 1., 0.],\n",
              "       [1., 0., 0., ..., 1., 0., 0.]])"
            ]
          },
          "metadata": {},
          "execution_count": 17
        }
      ]
    },
    {
      "cell_type": "code",
      "source": [
        "# X_test >> 30% of data\n",
        "X_test =  X[150: , :]\n",
        "\n",
        "# check shape\n",
        "print(f'X_test Shape: {X_test.shape}', '\\n')\n",
        "\n",
        "X_test"
      ],
      "metadata": {
        "colab": {
          "base_uri": "https://localhost:8080/"
        },
        "id": "6dlzYnD_-Zm6",
        "outputId": "7229f0ed-7ed3-4779-c943-4f6fc5f2e6b8"
      },
      "execution_count": 18,
      "outputs": [
        {
          "output_type": "stream",
          "name": "stdout",
          "text": [
            "X_test Shape: (64, 16) \n",
            "\n"
          ]
        },
        {
          "output_type": "execute_result",
          "data": {
            "text/plain": [
              "array([[1., 0., 0., ..., 1., 0., 0.],\n",
              "       [0., 0., 1., ..., 0., 0., 0.],\n",
              "       [0., 0., 1., ..., 1., 0., 0.],\n",
              "       ...,\n",
              "       [1., 0., 0., ..., 1., 0., 1.],\n",
              "       [1., 0., 1., ..., 0., 0., 0.],\n",
              "       [0., 1., 1., ..., 1., 1., 1.]])"
            ]
          },
          "metadata": {},
          "execution_count": 18
        }
      ]
    },
    {
      "cell_type": "markdown",
      "source": [
        "![green-divider](https://user-images.githubusercontent.com/7065401/52071924-c003ad80-2562-11e9-8297-1c6595f8a7ff.png)"
      ],
      "metadata": {
        "id": "5BFMw8q_-phh"
      }
    },
    {
      "cell_type": "markdown",
      "source": [
        "### $X$ Transpose\n",
        "\n",
        "- Inputs $X$ need to be Transposed so they can be fed to the Neural Network"
      ],
      "metadata": {
        "id": "ITUAYPQx-qKg"
      }
    },
    {
      "cell_type": "code",
      "source": [
        "# X_train Transpose\n",
        "X_train_T = X_train.T \n",
        "\n",
        "# check shape\n",
        "print(f'X_train Transpose Shape: {X_train_T.shape}', '\\n')\n",
        "\n",
        "X_train_T"
      ],
      "metadata": {
        "colab": {
          "base_uri": "https://localhost:8080/"
        },
        "id": "7_MFOm_5-3Ox",
        "outputId": "87024a9f-baf6-4518-e84f-ff033051746e"
      },
      "execution_count": 19,
      "outputs": [
        {
          "output_type": "stream",
          "name": "stdout",
          "text": [
            "X_train Transpose Shape: (16, 150) \n",
            "\n"
          ]
        },
        {
          "output_type": "execute_result",
          "data": {
            "text/plain": [
              "array([[0., 0., 0., ..., 0., 1., 1.],\n",
              "       [0., 0., 0., ..., 1., 0., 0.],\n",
              "       [1., 1., 1., ..., 1., 0., 0.],\n",
              "       ...,\n",
              "       [1., 1., 1., ..., 1., 1., 1.],\n",
              "       [0., 0., 0., ..., 0., 1., 0.],\n",
              "       [1., 0., 0., ..., 1., 0., 0.]])"
            ]
          },
          "metadata": {},
          "execution_count": 19
        }
      ]
    },
    {
      "cell_type": "code",
      "source": [
        "# X_test Transpose\n",
        "X_test_T = X_test.T\n",
        "\n",
        "# check shape\n",
        "print(f'X_test Transpose Shape: {X_test_T.shape}', '\\n')\n",
        "\n",
        "X_test_T"
      ],
      "metadata": {
        "colab": {
          "base_uri": "https://localhost:8080/"
        },
        "id": "BHp9wGM8_LRT",
        "outputId": "73773611-6dec-45c8-d330-c3964e167ae0"
      },
      "execution_count": 20,
      "outputs": [
        {
          "output_type": "stream",
          "name": "stdout",
          "text": [
            "X_test Transpose Shape: (16, 64) \n",
            "\n"
          ]
        },
        {
          "output_type": "execute_result",
          "data": {
            "text/plain": [
              "array([[1., 0., 0., ..., 1., 1., 0.],\n",
              "       [0., 0., 0., ..., 0., 0., 1.],\n",
              "       [0., 1., 1., ..., 0., 1., 1.],\n",
              "       ...,\n",
              "       [1., 0., 1., ..., 1., 0., 1.],\n",
              "       [0., 0., 0., ..., 0., 0., 1.],\n",
              "       [0., 0., 0., ..., 1., 0., 1.]])"
            ]
          },
          "metadata": {},
          "execution_count": 20
        }
      ]
    },
    {
      "cell_type": "markdown",
      "source": [
        "![green-divider](https://user-images.githubusercontent.com/7065401/52071924-c003ad80-2562-11e9-8297-1c6595f8a7ff.png)"
      ],
      "metadata": {
        "id": "bEElxU7r_fWL"
      }
    },
    {
      "cell_type": "markdown",
      "source": [
        "### $Y$ Labels\n",
        "\n",
        "- The Labels in which each animal is classified are the following:\n",
        "\n",
        "  - $1 ⟶$ Mammal\n",
        "  - $2 ⟶$ Bird\n",
        "  - $3 ⟶$ Reptile\n",
        "  - $4 ⟶$ Fish\n",
        "  - $5 ⟶$ Amphibian\n",
        "  - $6 ⟶$ Bug\n",
        "  - $7 ⟶$ Invertebrate"
      ],
      "metadata": {
        "id": "G92lR-V1_frV"
      }
    },
    {
      "cell_type": "code",
      "source": [
        "# Y labels array\n",
        "Y = zoo_array[:, -1].astype(int)\n",
        "\n",
        "# check shape\n",
        "print(f'Y Shape: {Y.shape}', '\\n')\n",
        "\n",
        "Y"
      ],
      "metadata": {
        "colab": {
          "base_uri": "https://localhost:8080/"
        },
        "id": "p4GGPMc0ADGn",
        "outputId": "e341170d-a38f-4bc0-8189-b9439dca7a16"
      },
      "execution_count": 31,
      "outputs": [
        {
          "output_type": "stream",
          "name": "stdout",
          "text": [
            "Y Shape: (214,) \n",
            "\n"
          ]
        },
        {
          "output_type": "execute_result",
          "data": {
            "text/plain": [
              "array([3, 3, 4, 6, 2, 2, 7, 4, 2, 2, 3, 1, 3, 4, 7, 2, 1, 1, 2, 3, 4, 3,\n",
              "       4, 5, 3, 2, 1, 4, 5, 4, 1, 4, 3, 1, 6, 3, 2, 5, 2, 5, 1, 1, 3, 6,\n",
              "       2, 1, 3, 6, 7, 5, 5, 1, 7, 2, 3, 3, 5, 6, 1, 4, 2, 4, 1, 7, 3, 2,\n",
              "       2, 4, 2, 5, 5, 3, 1, 2, 2, 7, 5, 2, 6, 1, 1, 4, 1, 2, 3, 7, 1, 1,\n",
              "       4, 5, 7, 6, 3, 1, 4, 2, 7, 2, 1, 1, 1, 1, 1, 1, 1, 6, 2, 7, 4, 1,\n",
              "       2, 1, 4, 4, 3, 3, 7, 2, 2, 1, 4, 3, 1, 6, 7, 6, 2, 6, 1, 2, 7, 1,\n",
              "       6, 2, 2, 7, 2, 1, 6, 3, 5, 1, 1, 1, 1, 1, 1, 2, 1, 1, 1, 7, 4, 1,\n",
              "       1, 2, 6, 6, 3, 1, 3, 6, 2, 2, 1, 2, 6, 5, 1, 4, 1, 7, 1, 6, 1, 3,\n",
              "       5, 4, 7, 1, 7, 1, 7, 6, 7, 6, 4, 2, 2, 4, 4, 1, 1, 4, 6, 1, 6, 1,\n",
              "       6, 4, 4, 6, 1, 5, 2, 2, 1, 3, 1, 4, 5, 1, 6, 2])"
            ]
          },
          "metadata": {},
          "execution_count": 31
        }
      ]
    },
    {
      "cell_type": "code",
      "source": [
        "# Y_train >> 70% of data\n",
        "Y_train = Y[:150]\n",
        "\n",
        "# check shape\n",
        "print(f'Y_train Shape: {Y_train.shape}', '\\n')\n",
        "\n",
        "Y_train"
      ],
      "metadata": {
        "colab": {
          "base_uri": "https://localhost:8080/"
        },
        "id": "XX4pwjylAT_C",
        "outputId": "8378aeda-7c32-4f60-93b3-e48c086b8b28"
      },
      "execution_count": 32,
      "outputs": [
        {
          "output_type": "stream",
          "name": "stdout",
          "text": [
            "Y_train Shape: (150,) \n",
            "\n"
          ]
        },
        {
          "output_type": "execute_result",
          "data": {
            "text/plain": [
              "array([3, 3, 4, 6, 2, 2, 7, 4, 2, 2, 3, 1, 3, 4, 7, 2, 1, 1, 2, 3, 4, 3,\n",
              "       4, 5, 3, 2, 1, 4, 5, 4, 1, 4, 3, 1, 6, 3, 2, 5, 2, 5, 1, 1, 3, 6,\n",
              "       2, 1, 3, 6, 7, 5, 5, 1, 7, 2, 3, 3, 5, 6, 1, 4, 2, 4, 1, 7, 3, 2,\n",
              "       2, 4, 2, 5, 5, 3, 1, 2, 2, 7, 5, 2, 6, 1, 1, 4, 1, 2, 3, 7, 1, 1,\n",
              "       4, 5, 7, 6, 3, 1, 4, 2, 7, 2, 1, 1, 1, 1, 1, 1, 1, 6, 2, 7, 4, 1,\n",
              "       2, 1, 4, 4, 3, 3, 7, 2, 2, 1, 4, 3, 1, 6, 7, 6, 2, 6, 1, 2, 7, 1,\n",
              "       6, 2, 2, 7, 2, 1, 6, 3, 5, 1, 1, 1, 1, 1, 1, 2, 1, 1])"
            ]
          },
          "metadata": {},
          "execution_count": 32
        }
      ]
    },
    {
      "cell_type": "code",
      "source": [
        "# Y_test >> 30% of data\n",
        "Y_test = Y[150:]\n",
        "\n",
        "# check shape\n",
        "print(f'Y_test Shape: {Y_test.shape}', '\\n')\n",
        "\n",
        "Y_test"
      ],
      "metadata": {
        "colab": {
          "base_uri": "https://localhost:8080/"
        },
        "id": "2esD1i8yAk4b",
        "outputId": "48504316-a618-4847-fbec-f3c35903cd63"
      },
      "execution_count": 33,
      "outputs": [
        {
          "output_type": "stream",
          "name": "stdout",
          "text": [
            "Y_test Shape: (64,) \n",
            "\n"
          ]
        },
        {
          "output_type": "execute_result",
          "data": {
            "text/plain": [
              "array([1, 7, 4, 1, 1, 2, 6, 6, 3, 1, 3, 6, 2, 2, 1, 2, 6, 5, 1, 4, 1, 7,\n",
              "       1, 6, 1, 3, 5, 4, 7, 1, 7, 1, 7, 6, 7, 6, 4, 2, 2, 4, 4, 1, 1, 4,\n",
              "       6, 1, 6, 1, 6, 4, 4, 6, 1, 5, 2, 2, 1, 3, 1, 4, 5, 1, 6, 2])"
            ]
          },
          "metadata": {},
          "execution_count": 33
        }
      ]
    },
    {
      "cell_type": "markdown",
      "source": [
        "![green-divider](https://user-images.githubusercontent.com/7065401/52071924-c003ad80-2562-11e9-8297-1c6595f8a7ff.png)"
      ],
      "metadata": {
        "id": "B26PAtNFA-ub"
      }
    },
    {
      "cell_type": "markdown",
      "source": [
        "### One Hot Encode $Y$\n",
        "\n",
        "- We need to One Hot Encode $Y$ so it can be used in the Neural Network\n",
        "\n",
        "  - For example if $y_i ⟶ 3$, Reptile, then:\n",
        "\n",
        "    - $y = [0, 0, 1, 0, 0, 0, 0]$"
      ],
      "metadata": {
        "id": "eTXJ6DkBA_rD"
      }
    },
    {
      "cell_type": "code",
      "source": [
        "# create zeros array of shape >> Y.size x 6\n",
        "hot_array = np.zeros((Y_train.size, 7))\n",
        "\n",
        "# check shape\n",
        "print(f'hot_array Shape: {hot_array.shape}', '\\n')\n",
        "\n",
        "# check first 10 cols\n",
        "hot_array[:10, :]"
      ],
      "metadata": {
        "colab": {
          "base_uri": "https://localhost:8080/"
        },
        "id": "cRDwl66-BoEM",
        "outputId": "847dfef4-2ce7-4ca8-879f-6f388d853ac2"
      },
      "execution_count": 36,
      "outputs": [
        {
          "output_type": "stream",
          "name": "stdout",
          "text": [
            "hot_array Shape: (150, 7) \n",
            "\n"
          ]
        },
        {
          "output_type": "execute_result",
          "data": {
            "text/plain": [
              "array([[0., 0., 0., 0., 0., 0., 0.],\n",
              "       [0., 0., 0., 0., 0., 0., 0.],\n",
              "       [0., 0., 0., 0., 0., 0., 0.],\n",
              "       [0., 0., 0., 0., 0., 0., 0.],\n",
              "       [0., 0., 0., 0., 0., 0., 0.],\n",
              "       [0., 0., 0., 0., 0., 0., 0.],\n",
              "       [0., 0., 0., 0., 0., 0., 0.],\n",
              "       [0., 0., 0., 0., 0., 0., 0.],\n",
              "       [0., 0., 0., 0., 0., 0., 0.],\n",
              "       [0., 0., 0., 0., 0., 0., 0.]])"
            ]
          },
          "metadata": {},
          "execution_count": 36
        }
      ]
    },
    {
      "cell_type": "code",
      "source": [
        "# for each row >> place a 1 at position y - 1\n",
        "hot_array[np.arange(Y_train.size), Y_train - 1] = 1\n",
        "\n",
        "# check shape\n",
        "print(f'hot_array Shape: {hot_array.shape}', '\\n')\n",
        "\n",
        "# check first 10 cols \n",
        "print(hot_array[:10, :], '\\n')\n",
        "\n",
        "# first 10 labels\n",
        "print('First 10 labels:')\n",
        "print(Y_train[:10])"
      ],
      "metadata": {
        "colab": {
          "base_uri": "https://localhost:8080/"
        },
        "id": "rLo7UaO9DZ2Z",
        "outputId": "6ff5dca9-f42e-4f1f-bdaa-6d05e7e37763"
      },
      "execution_count": 41,
      "outputs": [
        {
          "output_type": "stream",
          "name": "stdout",
          "text": [
            "hot_array Shape: (150, 7) \n",
            "\n",
            "[[0. 0. 1. 0. 0. 0. 0.]\n",
            " [0. 0. 1. 0. 0. 0. 0.]\n",
            " [0. 0. 0. 1. 0. 0. 0.]\n",
            " [0. 0. 0. 0. 0. 1. 0.]\n",
            " [0. 1. 0. 0. 0. 0. 0.]\n",
            " [0. 1. 0. 0. 0. 0. 0.]\n",
            " [0. 0. 0. 0. 0. 0. 1.]\n",
            " [0. 0. 0. 1. 0. 0. 0.]\n",
            " [0. 1. 0. 0. 0. 0. 0.]\n",
            " [0. 1. 0. 0. 0. 0. 0.]] \n",
            "\n",
            "First 10 labels:\n",
            "[3 3 4 6 2 2 7 4 2 2]\n"
          ]
        }
      ]
    },
    {
      "cell_type": "code",
      "source": [
        "# create function to one hot encode Y\n",
        "def one_hot_Y(y):\n",
        "\n",
        "  # zeros array of shape >> y.size x 7\n",
        "  y_hot_array = np.zeros((y.size, 7))\n",
        "  # for each row >> place 1 at position y - 1\n",
        "  y_hot_array[np.arange(y.size), y - 1] = 1\n",
        "\n",
        "  return y_hot_array"
      ],
      "metadata": {
        "id": "NjT6aAKfFLN3"
      },
      "execution_count": 49,
      "outputs": []
    },
    {
      "cell_type": "code",
      "source": [
        "# test function\n",
        "y_hot_test = one_hot_Y(Y_train)\n",
        "\n",
        "# check shape\n",
        "print(f'y_hot_test Shape: {y_hot_test.shape}', '\\n')\n",
        "\n",
        "# check first 10 cols\n",
        "y_hot_test[:10, :]"
      ],
      "metadata": {
        "colab": {
          "base_uri": "https://localhost:8080/"
        },
        "id": "6dh76d6nF5Jg",
        "outputId": "4980ce5a-d69d-4b32-f17a-7b139475b05e"
      },
      "execution_count": 50,
      "outputs": [
        {
          "output_type": "stream",
          "name": "stdout",
          "text": [
            "y_hot_test Shape: (150, 7) \n",
            "\n"
          ]
        },
        {
          "output_type": "execute_result",
          "data": {
            "text/plain": [
              "array([[0., 0., 1., 0., 0., 0., 0.],\n",
              "       [0., 0., 1., 0., 0., 0., 0.],\n",
              "       [0., 0., 0., 1., 0., 0., 0.],\n",
              "       [0., 0., 0., 0., 0., 1., 0.],\n",
              "       [0., 1., 0., 0., 0., 0., 0.],\n",
              "       [0., 1., 0., 0., 0., 0., 0.],\n",
              "       [0., 0., 0., 0., 0., 0., 1.],\n",
              "       [0., 0., 0., 1., 0., 0., 0.],\n",
              "       [0., 1., 0., 0., 0., 0., 0.],\n",
              "       [0., 1., 0., 0., 0., 0., 0.]])"
            ]
          },
          "metadata": {},
          "execution_count": 50
        }
      ]
    },
    {
      "cell_type": "markdown",
      "source": [
        "![purple-divider](https://user-images.githubusercontent.com/7065401/52071927-c1cd7100-2562-11e9-908a-dde91ba14e59.png)"
      ],
      "metadata": {
        "id": "iGeQ2xBaGfVl"
      }
    },
    {
      "cell_type": "markdown",
      "source": [
        "## Neural Network Model"
      ],
      "metadata": {
        "id": "xoybNm3KGl-1"
      }
    },
    {
      "cell_type": "markdown",
      "source": [
        "![green-divider](https://user-images.githubusercontent.com/7065401/52071924-c003ad80-2562-11e9-8297-1c6595f8a7ff.png)"
      ],
      "metadata": {
        "id": "fFWgTly4SUKt"
      }
    },
    {
      "cell_type": "markdown",
      "source": [
        "![purple-divider](https://user-images.githubusercontent.com/7065401/52071927-c1cd7100-2562-11e9-908a-dde91ba14e59.png)"
      ],
      "metadata": {
        "id": "5mPTaslmSUTe"
      }
    }
  ]
}